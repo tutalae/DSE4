{
  "nbformat": 4,
  "nbformat_minor": 0,
  "metadata": {
    "colab": {
      "name": "Project-1 DSE4 Data-Analytic-Cleaned data.ipynb",
      "provenance": [],
      "authorship_tag": "ABX9TyOwk/CeLuImzkMbwdWzIpyj",
      "include_colab_link": true
    },
    "kernelspec": {
      "name": "python3",
      "display_name": "Python 3"
    },
    "language_info": {
      "name": "python"
    }
  },
  "cells": [
    {
      "cell_type": "markdown",
      "metadata": {
        "id": "view-in-github",
        "colab_type": "text"
      },
      "source": [
        "<a href=\"https://colab.research.google.com/github/tutalae/DSE4/blob/main/Project_1_DSE4_Data_Analytic_Cleaned_data_V0.ipynb\" target=\"_parent\"><img src=\"https://colab.research.google.com/assets/colab-badge.svg\" alt=\"Open In Colab\"/></a>"
      ]
    },
    {
      "cell_type": "code",
      "metadata": {
        "id": "vbdhaMIsPJpb"
      },
      "source": [
        "import pandas as pd"
      ],
      "execution_count": 1,
      "outputs": []
    },
    {
      "cell_type": "code",
      "metadata": {
        "id": "hPNgjNLOOR32"
      },
      "source": [
        "DF1 = pd.read_csv(\"https://raw.githubusercontent.com/tutalae/DSE4/main/metadata_consumer-insight-survey2019.csv\")\n",
        "DF2 = pd.read_csv(\"https://raw.githubusercontent.com/tutalae/DSE4/main/dataset_consumer-insight-survey2019.csv\")\n",
        "DF_dict = pd.read_csv(\"https://raw.githubusercontent.com/tutalae/DSE4/main/data_dictionary_consumer-insight-survey2019.csv\")"
      ],
      "execution_count": 2,
      "outputs": []
    },
    {
      "cell_type": "code",
      "metadata": {
        "colab": {
          "base_uri": "https://localhost:8080/"
        },
        "id": "ojwZiLaIb3oV",
        "outputId": "f9222130-6ae4-4277-c57b-668b214d440e"
      },
      "source": [
        "DF2.shape"
      ],
      "execution_count": 3,
      "outputs": [
        {
          "output_type": "execute_result",
          "data": {
            "text/plain": [
              "(2059, 200)"
            ]
          },
          "metadata": {
            "tags": []
          },
          "execution_count": 3
        }
      ]
    },
    {
      "cell_type": "code",
      "metadata": {
        "colab": {
          "base_uri": "https://localhost:8080/"
        },
        "id": "MacVdpn9b3fY",
        "outputId": "cb1d8b99-3c34-43eb-cb50-ff88fb995646"
      },
      "source": [
        "DF_dict.shape"
      ],
      "execution_count": 4,
      "outputs": [
        {
          "output_type": "execute_result",
          "data": {
            "text/plain": [
              "(193, 3)"
            ]
          },
          "metadata": {
            "tags": []
          },
          "execution_count": 4
        }
      ]
    },
    {
      "cell_type": "code",
      "metadata": {
        "colab": {
          "base_uri": "https://localhost:8080/"
        },
        "id": "jAIs247KcYRs",
        "outputId": "4deb3d77-2b11-4a65-f5bd-9bd57458e333"
      },
      "source": [
        "DF_dictT= DF_dict.copy().T\n",
        "DF_dictT.shape"
      ],
      "execution_count": 5,
      "outputs": [
        {
          "output_type": "execute_result",
          "data": {
            "text/plain": [
              "(3, 193)"
            ]
          },
          "metadata": {
            "tags": []
          },
          "execution_count": 5
        }
      ]
    },
    {
      "cell_type": "code",
      "metadata": {
        "colab": {
          "base_uri": "https://localhost:8080/",
          "height": 434
        },
        "id": "E0cY1ce7fRdW",
        "outputId": "c0dc7bc1-6bda-47b7-84fc-25d1ef4182b5"
      },
      "source": [
        "#DF_dictT.reset_index(inplace=True)\n",
        "#DF_dictT.drop(columns = \"index\")\n",
        "DF_dictT.head()"
      ],
      "execution_count": 6,
      "outputs": [
        {
          "output_type": "execute_result",
          "data": {
            "text/html": [
              "<div>\n",
              "<style scoped>\n",
              "    .dataframe tbody tr th:only-of-type {\n",
              "        vertical-align: middle;\n",
              "    }\n",
              "\n",
              "    .dataframe tbody tr th {\n",
              "        vertical-align: top;\n",
              "    }\n",
              "\n",
              "    .dataframe thead th {\n",
              "        text-align: right;\n",
              "    }\n",
              "</style>\n",
              "<table border=\"1\" class=\"dataframe\">\n",
              "  <thead>\n",
              "    <tr style=\"text-align: right;\">\n",
              "      <th></th>\n",
              "      <th>0</th>\n",
              "      <th>1</th>\n",
              "      <th>2</th>\n",
              "      <th>3</th>\n",
              "      <th>4</th>\n",
              "      <th>5</th>\n",
              "      <th>6</th>\n",
              "      <th>7</th>\n",
              "      <th>8</th>\n",
              "      <th>9</th>\n",
              "      <th>10</th>\n",
              "      <th>11</th>\n",
              "      <th>12</th>\n",
              "      <th>13</th>\n",
              "      <th>14</th>\n",
              "      <th>15</th>\n",
              "      <th>16</th>\n",
              "      <th>17</th>\n",
              "      <th>18</th>\n",
              "      <th>19</th>\n",
              "      <th>20</th>\n",
              "      <th>21</th>\n",
              "      <th>22</th>\n",
              "      <th>23</th>\n",
              "      <th>24</th>\n",
              "      <th>25</th>\n",
              "      <th>26</th>\n",
              "      <th>27</th>\n",
              "      <th>28</th>\n",
              "      <th>29</th>\n",
              "      <th>30</th>\n",
              "      <th>31</th>\n",
              "      <th>32</th>\n",
              "      <th>33</th>\n",
              "      <th>34</th>\n",
              "      <th>35</th>\n",
              "      <th>36</th>\n",
              "      <th>37</th>\n",
              "      <th>38</th>\n",
              "      <th>39</th>\n",
              "      <th>...</th>\n",
              "      <th>153</th>\n",
              "      <th>154</th>\n",
              "      <th>155</th>\n",
              "      <th>156</th>\n",
              "      <th>157</th>\n",
              "      <th>158</th>\n",
              "      <th>159</th>\n",
              "      <th>160</th>\n",
              "      <th>161</th>\n",
              "      <th>162</th>\n",
              "      <th>163</th>\n",
              "      <th>164</th>\n",
              "      <th>165</th>\n",
              "      <th>166</th>\n",
              "      <th>167</th>\n",
              "      <th>168</th>\n",
              "      <th>169</th>\n",
              "      <th>170</th>\n",
              "      <th>171</th>\n",
              "      <th>172</th>\n",
              "      <th>173</th>\n",
              "      <th>174</th>\n",
              "      <th>175</th>\n",
              "      <th>176</th>\n",
              "      <th>177</th>\n",
              "      <th>178</th>\n",
              "      <th>179</th>\n",
              "      <th>180</th>\n",
              "      <th>181</th>\n",
              "      <th>182</th>\n",
              "      <th>183</th>\n",
              "      <th>184</th>\n",
              "      <th>185</th>\n",
              "      <th>186</th>\n",
              "      <th>187</th>\n",
              "      <th>188</th>\n",
              "      <th>189</th>\n",
              "      <th>190</th>\n",
              "      <th>191</th>\n",
              "      <th>192</th>\n",
              "    </tr>\n",
              "  </thead>\n",
              "  <tbody>\n",
              "    <tr>\n",
              "      <th>รหัส</th>\n",
              "      <td>a1</td>\n",
              "      <td>a2</td>\n",
              "      <td>a301</td>\n",
              "      <td>a302</td>\n",
              "      <td>a3021</td>\n",
              "      <td>a4</td>\n",
              "      <td>a5</td>\n",
              "      <td>a51</td>\n",
              "      <td>a52</td>\n",
              "      <td>a53</td>\n",
              "      <td>a54</td>\n",
              "      <td>a57</td>\n",
              "      <td>a58</td>\n",
              "      <td>a6</td>\n",
              "      <td>a7</td>\n",
              "      <td>a81</td>\n",
              "      <td>a82</td>\n",
              "      <td>a91</td>\n",
              "      <td>a92</td>\n",
              "      <td>k1</td>\n",
              "      <td>k2</td>\n",
              "      <td>k3</td>\n",
              "      <td>k4</td>\n",
              "      <td>k5</td>\n",
              "      <td>k6</td>\n",
              "      <td>k7</td>\n",
              "      <td>k8</td>\n",
              "      <td>k9</td>\n",
              "      <td>k10</td>\n",
              "      <td>l1</td>\n",
              "      <td>p1</td>\n",
              "      <td>p2</td>\n",
              "      <td>p3</td>\n",
              "      <td>p4</td>\n",
              "      <td>p5</td>\n",
              "      <td>p501</td>\n",
              "      <td>p6</td>\n",
              "      <td>q1</td>\n",
              "      <td>q2</td>\n",
              "      <td>q3</td>\n",
              "      <td>...</td>\n",
              "      <td>s12new</td>\n",
              "      <td>t12new</td>\n",
              "      <td>u12new</td>\n",
              "      <td>r13new</td>\n",
              "      <td>s13new</td>\n",
              "      <td>t13new</td>\n",
              "      <td>u13new</td>\n",
              "      <td>r14new</td>\n",
              "      <td>s14new</td>\n",
              "      <td>t14new</td>\n",
              "      <td>u14new</td>\n",
              "      <td>r15new</td>\n",
              "      <td>s15new</td>\n",
              "      <td>t15new</td>\n",
              "      <td>u15new</td>\n",
              "      <td>r16new</td>\n",
              "      <td>s16new</td>\n",
              "      <td>t16new</td>\n",
              "      <td>u16new</td>\n",
              "      <td>r17new</td>\n",
              "      <td>s17new</td>\n",
              "      <td>t17new</td>\n",
              "      <td>u17new</td>\n",
              "      <td>r18new</td>\n",
              "      <td>s18new</td>\n",
              "      <td>t18new</td>\n",
              "      <td>u18new</td>\n",
              "      <td>r19new</td>\n",
              "      <td>s19new</td>\n",
              "      <td>t19new</td>\n",
              "      <td>u19new</td>\n",
              "      <td>r20new</td>\n",
              "      <td>s20new</td>\n",
              "      <td>t20new</td>\n",
              "      <td>u20new</td>\n",
              "      <td>G_genZ</td>\n",
              "      <td>G_genY</td>\n",
              "      <td>G_genX</td>\n",
              "      <td>G_genB</td>\n",
              "      <td>Gen_group</td>\n",
              "    </tr>\n",
              "    <tr>\n",
              "      <th>ข้อคำถาม</th>\n",
              "      <td>a1 เพศ</td>\n",
              "      <td>a2 ปีเกิด (พ.ศ.)</td>\n",
              "      <td>a301 สถานะทางการศึกษา</td>\n",
              "      <td>a302 ระดับการศึกษา</td>\n",
              "      <td>a3021 อื่น ๆ ระบบ ได้แก่</td>\n",
              "      <td>a4ท่านเป็นบุคคลที่จบปริญญาตรีและเพิ่งเริ่มทำงา...</td>\n",
              "      <td>a5 อาชีพ</td>\n",
              "      <td>a51 รับราชการ/พนักงานของรัฐหรือรัฐวิสาหกิจ สัง...</td>\n",
              "      <td>a52 พนักงานเอกชน/ลูกจ้างบริษัท ทำงานด้าน …</td>\n",
              "      <td>a53 เจ้าของธุรกิจ  เกี่ยวกับ.……</td>\n",
              "      <td>a54 อาชีพอิสระ/ฟรีแลนซ์/รับจ้าง ทำงานด้าน ..</td>\n",
              "      <td>a57 เกษตรกร เช่น ทำไร่ ประมง ฯลฯ (ระบุ) ……</td>\n",
              "      <td>a58 อื่นๆ (ระบุ)………</td>\n",
              "      <td>a6 รายได้ของท่านเฉลี่ยต่อเดือน</td>\n",
              "      <td>a7ในกรณีที่เป็นนักเรียน/นักศึกษา.. ประมาณเท่าไ...</td>\n",
              "      <td>a81 สถานภาพส่วนตัว</td>\n",
              "      <td>a82 ลักษณะการอยู่อาศัย</td>\n",
              "      <td>a91 ภูมิภาคที่ท่านอาศัยอยู่ในปัจจุบัน</td>\n",
              "      <td>a92 ภูมิภาคและเขตพื้นที่ ที่ท่านอาศัยอยู่ในปัจ...</td>\n",
              "      <td>k1ติดตามข่าวในช่วงเช้าตรู่</td>\n",
              "      <td>k2ติดตามข่าวในช่วงเช้า</td>\n",
              "      <td>k3ติดตามข่าวในช่วงสาย</td>\n",
              "      <td>k4ติดตามข่าวในช่วงกลางวัน</td>\n",
              "      <td>k5ติดตามข่าวในช่วงบ่าย</td>\n",
              "      <td>k6ติดตามข่าวในช่วงเย็น</td>\n",
              "      <td>k7ติดตามข่าวในช่วงค่ำ</td>\n",
              "      <td>k8ติดตามข่าวในช่วงดึก</td>\n",
              "      <td>k9ติดตามข่าวในช่วงดึกจนล่วงเข้าวันใหม่</td>\n",
              "      <td>k10ติดตามข่าวในทุกช่วงเวลา</td>\n",
              "      <td>l11ท่านติดตามข่าวทางเครื่องรับโทรทัศน์ โดยรวมเ...</td>\n",
              "      <td>p1ท่านใช้อินเทอร์เน็ตในลักษณะใช้แพคเกจอินเทอร์...</td>\n",
              "      <td>p2ท่านใช้อินเทอร์เน็ตในลักษณะใช้แพคเกจอินเทอร์...</td>\n",
              "      <td>p3ท่านใช้อินเทอร์เน็ตในลักษณะใช้ Wi-Fi ที่บ้าน</td>\n",
              "      <td>p4ท่านใช้อินเทอร์เน็ตในลักษณะใช้ Free Wi-Fi ใน...</td>\n",
              "      <td>p5ท่านใช้อินเทอร์เน็ตในลักษณะใช้แบบอื่นๆ</td>\n",
              "      <td>p501ใช้แบบอื่นๆ (ระบุ) ……ได้แก่</td>\n",
              "      <td>p6ท่านใช้อินเทอร์เน็ตในลักษณะไม่ได้ใช้งานอินเท...</td>\n",
              "      <td>q1</td>\n",
              "      <td>q2สื่อออนไลน์ที่ท่านใช้งานเพื่อติดตามข่าว มีสื...</td>\n",
              "      <td>q3สื่อออนไลน์ที่ท่านใช้งานเพื่อติดตามข่าว มีสื...</td>\n",
              "      <td>...</td>\n",
              "      <td>s12new ทีมงานช่วยแนะนำ ข่าวเทคโนโลยี</td>\n",
              "      <td>t12new ติดตามไม่ติดตามทีวี</td>\n",
              "      <td>u12new ติดตามไม่ติดตามออนไลน์</td>\n",
              "      <td>r13new RD ระบุอันดับ ข่าวการศึกษา</td>\n",
              "      <td>s13new ทีมงานช่วยแนะนำ ข่าวการศึกษา</td>\n",
              "      <td>t13new ติดตามไม่ติดตามทีวี</td>\n",
              "      <td>u13new ติดตามไม่ติดตามออนไลน์</td>\n",
              "      <td>r14new RD ระบุอันดับ ข่าวสาธารณสุขการแพทย์</td>\n",
              "      <td>s14new ทีมงานช่วยแนะนำ ข่าวสาธารณสุขการแพทย์</td>\n",
              "      <td>t14new ติดตามไม่ติดตามทีวี</td>\n",
              "      <td>u14new ติดตามไม่ติดตามออนไลน์</td>\n",
              "      <td>r15new RD ระบุอันดับ ข่าวพยากรณ์อากาศ</td>\n",
              "      <td>s15new ทีมงานช่วยแนะนำ ข่าวพยากรณ์อากาศ</td>\n",
              "      <td>t15new ติดตามไม่ติดตามทีวี</td>\n",
              "      <td>u15new ติดตามไม่ติดตามออนไลน์</td>\n",
              "      <td>r16new RD ระบุอันดับ ข่าวจราจร</td>\n",
              "      <td>s16new ทีมงานช่วยแนะนำ ข่าวจราจร</td>\n",
              "      <td>t16neww  ติดตามไม่ติดตามทีวี</td>\n",
              "      <td>u16neww ติดตามไม่ติดตามออนไลน์</td>\n",
              "      <td>r17neww RD ระบุอันดับ ข่าวสิ่งแวดล้อม</td>\n",
              "      <td>s17neww ทีมงานช่วยแนะนำ ข่าวสิ่งแวดล้อม</td>\n",
              "      <td>t17neww ติดตามไม่ติดตามทีวี</td>\n",
              "      <td>u17neww ติดตามไม่ติดตามออนไลน์</td>\n",
              "      <td>r18neww RD ระบุอันดับ ข่าวร้องทุกข์ชาวบ้าน</td>\n",
              "      <td>s18neww ทีมงานช่วยแนะนำ ข่าวร้องทุกข์ชาวบ้าน</td>\n",
              "      <td>t18neww ติดตามไม่ติดตามทีวี</td>\n",
              "      <td>u18neww ติดตามไม่ติดตามออนไลน์</td>\n",
              "      <td>r19new  RD ระบุอันดับ ข่าวประชาชนรายงาน</td>\n",
              "      <td>s19new ทีมงานช่วยแนะนำ ข่าวประชาชนรายงาน</td>\n",
              "      <td>t19new ติดตามไม่ติดตามทีวี</td>\n",
              "      <td>u19new ติดตามไม่ติดตามออนไลน์</td>\n",
              "      <td>r20new RD ระบุอันดับ ข่าวอื่นๆระบุ</td>\n",
              "      <td>s20new ทีมงานช่วยแนะนำ ข่าวประชาชนรายงาน</td>\n",
              "      <td>t20new ติดตามไม่ติดตามทีวี</td>\n",
              "      <td>u20new ติดตามไม่ติดตามออนไลน์</td>\n",
              "      <td>อายุ 13 - 19 ปี</td>\n",
              "      <td>อายุ 20 - 37 ปี</td>\n",
              "      <td>อายุ 38 - 52 ปี</td>\n",
              "      <td>อายุ 53 - 72 ปี</td>\n",
              "      <td>NaN</td>\n",
              "    </tr>\n",
              "    <tr>\n",
              "      <th>code ตัวเลข</th>\n",
              "      <td>1=ชาย  2=หญิง</td>\n",
              "      <td>NaN</td>\n",
              "      <td>1=กำลังศึกษาอยู่  2=จบการศึกษาแล้ว</td>\n",
              "      <td>1=ประถมศึกษา  2=มัธยมศึกษาตอนต้น  3=มัธยมศึกษา...</td>\n",
              "      <td>NaN</td>\n",
              "      <td>1=ใช่ 2=ไม่ใช่</td>\n",
              "      <td>1= รับราชการ/พนักงานของรัฐหรือรัฐวิสาหกิจ สังก...</td>\n",
              "      <td>1=การไฟฟ้าภูมิภาค  2=สำนักงานเขต  3=TOT  4=กระ...</td>\n",
              "      <td>1=ผู้จัดการ  2=ธรุการ  3=รปภ  4=แม่บ้าน(ทำความ...</td>\n",
              "      <td>1=รับทำบัญชี  2=ขายอาหารตามสั่ง/ก๋วยเตี๋ยว  3=...</td>\n",
              "      <td>1=บริการร้านกาแฟ/ขายกาแฟ  2=รับจ้างทั่วไป  3=ช...</td>\n",
              "      <td>1=ทำนา 2=เลี้ยงสัตว์</td>\n",
              "      <td>NaN</td>\n",
              "      <td>1=ไม่เกิน 15,000 บาท 2=15,001 - 30,000 บาท  3=...</td>\n",
              "      <td>NaN</td>\n",
              "      <td>1=โสด (ไม่มีแฟน ไม่มีลูก)  2=มีแฟน/คนรัก  3=สา...</td>\n",
              "      <td>1=อยู่คนเดียว  2=อยู่กับครอบครัว  3=อยู่กับเพื...</td>\n",
              "      <td>1=กรุงเทพฯและปริมณฑล  2=ภาคเหนือ  3=ภาคตะวันออ...</td>\n",
              "      <td>1=ในเขตเทศบาล  2=นอกเขตเทศบาล</td>\n",
              "      <td>0=ไม่ใช่ 1=ใช่</td>\n",
              "      <td>0=ไม่ใช่ 1=ใช่</td>\n",
              "      <td>0=ไม่ใช่ 1=ใช่</td>\n",
              "      <td>0=ไม่ใช่ 1=ใช่</td>\n",
              "      <td>0=ไม่ใช่ 1=ใช่</td>\n",
              "      <td>0=ไม่ใช่ 1=ใช่</td>\n",
              "      <td>0=ไม่ใช่ 1=ใช่</td>\n",
              "      <td>0=ไม่ใช่ 1=ใช่</td>\n",
              "      <td>0=ไม่ใช่ 1=ใช่</td>\n",
              "      <td>0=ไม่ใช่ 1=ใช่</td>\n",
              "      <td>1=น้อยกว่า  10 นาที 2=10 - 30  นาที  3=30 นาที...</td>\n",
              "      <td>NaN</td>\n",
              "      <td>NaN</td>\n",
              "      <td>NaN</td>\n",
              "      <td>NaN</td>\n",
              "      <td>NaN</td>\n",
              "      <td>NaN</td>\n",
              "      <td>NaN</td>\n",
              "      <td>1=Facebook  2=Twitter  3=YouTube  4=Instagram ...</td>\n",
              "      <td>1=Facebook  2=Twitter  3=YouTube  4=Instagram ...</td>\n",
              "      <td>1=Facebook  2=Twitter  3=YouTube  4=Instagram ...</td>\n",
              "      <td>...</td>\n",
              "      <td>1=ติดตามอันดับที่1  2=ติดตามอันดับที่2  3=ติดต...</td>\n",
              "      <td>1=ติดตาม  2=ไม่ติดตาม</td>\n",
              "      <td>1=ติดตาม  2=ไม่ติดตาม</td>\n",
              "      <td>1=ติดตามอันดับที่1  2=ติดตามอันดับที่2  3=ติดต...</td>\n",
              "      <td>1=ติดตามอันดับที่1  2=ติดตามอันดับที่2  3=ติดต...</td>\n",
              "      <td>1=ติดตาม  2=ไม่ติดตาม</td>\n",
              "      <td>1=ติดตาม  2=ไม่ติดตาม</td>\n",
              "      <td>1=ติดตามอันดับที่1  2=ติดตามอันดับที่2  3=ติดต...</td>\n",
              "      <td>1=ติดตามอันดับที่1  2=ติดตามอันดับที่2  3=ติดต...</td>\n",
              "      <td>1=ติดตาม  2=ไม่ติดตาม</td>\n",
              "      <td>1=ติดตาม  2=ไม่ติดตาม</td>\n",
              "      <td>1=ติดตามอันดับที่1  2=ติดตามอันดับที่2  3=ติดต...</td>\n",
              "      <td>1=ติดตามอันดับที่1  2=ติดตามอันดับที่2  3=ติดต...</td>\n",
              "      <td>1=ติดตาม  2=ไม่ติดตาม</td>\n",
              "      <td>1=ติดตาม  2=ไม่ติดตาม</td>\n",
              "      <td>1=ติดตามอันดับที่1  2=ติดตามอันดับที่2  3=ติดต...</td>\n",
              "      <td>1=ติดตามอันดับที่1  2=ติดตามอันดับที่2  3=ติดต...</td>\n",
              "      <td>1=ติดตาม  2=ไม่ติดตาม</td>\n",
              "      <td>1=ติดตาม  2=ไม่ติดตาม</td>\n",
              "      <td>1=ติดตามอันดับที่1  2=ติดตามอันดับที่2  3=ติดต...</td>\n",
              "      <td>1=ติดตามอันดับที่1  2=ติดตามอันดับที่2  3=ติดต...</td>\n",
              "      <td>1=ติดตาม  2=ไม่ติดตาม</td>\n",
              "      <td>1=ติดตาม  2=ไม่ติดตาม</td>\n",
              "      <td>1=ติดตามอันดับที่1  2=ติดตามอันดับที่2  3=ติดต...</td>\n",
              "      <td>1=ติดตามอันดับที่1  2=ติดตามอันดับที่2  3=ติดต...</td>\n",
              "      <td>1=ติดตาม  2=ไม่ติดตาม</td>\n",
              "      <td>1=ติดตาม  2=ไม่ติดตาม</td>\n",
              "      <td>1=ติดตามอันดับที่1  2=ติดตามอันดับที่2  3=ติดต...</td>\n",
              "      <td>1=ติดตามอันดับที่1  2=ติดตามอันดับที่2  3=ติดต...</td>\n",
              "      <td>1=ติดตาม  2=ไม่ติดตาม</td>\n",
              "      <td>1=ติดตาม  2=ไม่ติดตาม</td>\n",
              "      <td>1=ติดตามอันดับที่1  2=ติดตามอันดับที่2  3=ติดต...</td>\n",
              "      <td>1=ติดตามอันดับที่1  2=ติดตามอันดับที่2  3=ติดต...</td>\n",
              "      <td>1=ติดตาม  2=ไม่ติดตาม</td>\n",
              "      <td>1=ติดตาม  2=ไม่ติดตาม</td>\n",
              "      <td>NaN</td>\n",
              "      <td>NaN</td>\n",
              "      <td>NaN</td>\n",
              "      <td>NaN</td>\n",
              "      <td>1 = Gen Z   2 = Gen Y  3 = Gen X   4 = Gen B</td>\n",
              "    </tr>\n",
              "  </tbody>\n",
              "</table>\n",
              "<p>3 rows × 193 columns</p>\n",
              "</div>"
            ],
            "text/plain": [
              "                       0    ...                                           192\n",
              "รหัส                    a1  ...                                     Gen_group\n",
              "ข้อคำถาม            a1 เพศ  ...                                           NaN\n",
              "code ตัวเลข  1=ชาย  2=หญิง  ...  1 = Gen Z   2 = Gen Y  3 = Gen X   4 = Gen B\n",
              "\n",
              "[3 rows x 193 columns]"
            ]
          },
          "metadata": {
            "tags": []
          },
          "execution_count": 6
        }
      ]
    },
    {
      "cell_type": "code",
      "metadata": {
        "colab": {
          "base_uri": "https://localhost:8080/",
          "height": 35
        },
        "id": "TwvC_0v_7RXC",
        "outputId": "302e7646-5c44-4bda-ade7-6b4018f030e3"
      },
      "source": [
        "DF_dictT.iloc[1,160]"
      ],
      "execution_count": 7,
      "outputs": [
        {
          "output_type": "execute_result",
          "data": {
            "application/vnd.google.colaboratory.intrinsic+json": {
              "type": "string"
            },
            "text/plain": [
              "'r14new RD ระบุอันดับ ข่าวสาธารณสุขการแพทย์'"
            ]
          },
          "metadata": {
            "tags": []
          },
          "execution_count": 7
        }
      ]
    },
    {
      "cell_type": "code",
      "metadata": {
        "colab": {
          "base_uri": "https://localhost:8080/"
        },
        "id": "I95uO9TZtHQ8",
        "outputId": "05919771-aadb-46e7-d490-2a9953c3d76f"
      },
      "source": [
        "List1 = list(DF2.columns)\n",
        "List2 = list(DF_dictT.loc[\"รหัส\"])\n",
        "list(set(List1) - set(List2))"
      ],
      "execution_count": 8,
      "outputs": [
        {
          "output_type": "execute_result",
          "data": {
            "text/plain": [
              "['j2', 'j3', 'filter_$', 'j5', 'j1', 'j4', 'id']"
            ]
          },
          "metadata": {
            "tags": []
          },
          "execution_count": 8
        }
      ]
    },
    {
      "cell_type": "code",
      "metadata": {
        "colab": {
          "base_uri": "https://localhost:8080/",
          "height": 255
        },
        "id": "HUV9SxslL2JQ",
        "outputId": "ec7c3eba-c67b-4ff5-a4b1-dab1068c0ef6"
      },
      "source": [
        "DF2.head()"
      ],
      "execution_count": 9,
      "outputs": [
        {
          "output_type": "execute_result",
          "data": {
            "text/html": [
              "<div>\n",
              "<style scoped>\n",
              "    .dataframe tbody tr th:only-of-type {\n",
              "        vertical-align: middle;\n",
              "    }\n",
              "\n",
              "    .dataframe tbody tr th {\n",
              "        vertical-align: top;\n",
              "    }\n",
              "\n",
              "    .dataframe thead th {\n",
              "        text-align: right;\n",
              "    }\n",
              "</style>\n",
              "<table border=\"1\" class=\"dataframe\">\n",
              "  <thead>\n",
              "    <tr style=\"text-align: right;\">\n",
              "      <th></th>\n",
              "      <th>id</th>\n",
              "      <th>a1</th>\n",
              "      <th>a2</th>\n",
              "      <th>a301</th>\n",
              "      <th>a302</th>\n",
              "      <th>a3021</th>\n",
              "      <th>a4</th>\n",
              "      <th>a5</th>\n",
              "      <th>a51</th>\n",
              "      <th>a52</th>\n",
              "      <th>a53</th>\n",
              "      <th>a54</th>\n",
              "      <th>a57</th>\n",
              "      <th>a58</th>\n",
              "      <th>a6</th>\n",
              "      <th>a7</th>\n",
              "      <th>a81</th>\n",
              "      <th>a82</th>\n",
              "      <th>a91</th>\n",
              "      <th>a92</th>\n",
              "      <th>j1</th>\n",
              "      <th>j2</th>\n",
              "      <th>j3</th>\n",
              "      <th>j4</th>\n",
              "      <th>j5</th>\n",
              "      <th>k1</th>\n",
              "      <th>k2</th>\n",
              "      <th>k3</th>\n",
              "      <th>k4</th>\n",
              "      <th>k5</th>\n",
              "      <th>k6</th>\n",
              "      <th>k7</th>\n",
              "      <th>k8</th>\n",
              "      <th>k9</th>\n",
              "      <th>k10</th>\n",
              "      <th>l1</th>\n",
              "      <th>p1</th>\n",
              "      <th>p2</th>\n",
              "      <th>p3</th>\n",
              "      <th>p4</th>\n",
              "      <th>...</th>\n",
              "      <th>s12new</th>\n",
              "      <th>t12new</th>\n",
              "      <th>u12new</th>\n",
              "      <th>r13new</th>\n",
              "      <th>s13new</th>\n",
              "      <th>t13new</th>\n",
              "      <th>u13new</th>\n",
              "      <th>r14new</th>\n",
              "      <th>s14new</th>\n",
              "      <th>t14new</th>\n",
              "      <th>u14new</th>\n",
              "      <th>r15new</th>\n",
              "      <th>s15new</th>\n",
              "      <th>t15new</th>\n",
              "      <th>u15new</th>\n",
              "      <th>r16new</th>\n",
              "      <th>s16new</th>\n",
              "      <th>t16new</th>\n",
              "      <th>u16new</th>\n",
              "      <th>r17new</th>\n",
              "      <th>s17new</th>\n",
              "      <th>t17new</th>\n",
              "      <th>u17new</th>\n",
              "      <th>r18new</th>\n",
              "      <th>s18new</th>\n",
              "      <th>t18new</th>\n",
              "      <th>u18new</th>\n",
              "      <th>r19new</th>\n",
              "      <th>s19new</th>\n",
              "      <th>t19new</th>\n",
              "      <th>u19new</th>\n",
              "      <th>r20new</th>\n",
              "      <th>s20new</th>\n",
              "      <th>t20new</th>\n",
              "      <th>u20new</th>\n",
              "      <th>G_genZ</th>\n",
              "      <th>G_genY</th>\n",
              "      <th>G_genX</th>\n",
              "      <th>G_genB</th>\n",
              "      <th>Gen_group</th>\n",
              "    </tr>\n",
              "  </thead>\n",
              "  <tbody>\n",
              "    <tr>\n",
              "      <th>0</th>\n",
              "      <td>1</td>\n",
              "      <td>1</td>\n",
              "      <td>2530</td>\n",
              "      <td>2</td>\n",
              "      <td>6.0</td>\n",
              "      <td>NaN</td>\n",
              "      <td>2</td>\n",
              "      <td>7</td>\n",
              "      <td>NaN</td>\n",
              "      <td>NaN</td>\n",
              "      <td>NaN</td>\n",
              "      <td>NaN</td>\n",
              "      <td>1.0</td>\n",
              "      <td>NaN</td>\n",
              "      <td>9.0</td>\n",
              "      <td>NaN</td>\n",
              "      <td>1</td>\n",
              "      <td>2</td>\n",
              "      <td>5</td>\n",
              "      <td>2.0</td>\n",
              "      <td>3</td>\n",
              "      <td>4</td>\n",
              "      <td>5</td>\n",
              "      <td>9</td>\n",
              "      <td>9</td>\n",
              "      <td>0</td>\n",
              "      <td>1</td>\n",
              "      <td>0</td>\n",
              "      <td>0</td>\n",
              "      <td>0</td>\n",
              "      <td>1</td>\n",
              "      <td>0</td>\n",
              "      <td>0</td>\n",
              "      <td>0</td>\n",
              "      <td>0</td>\n",
              "      <td>6</td>\n",
              "      <td>1</td>\n",
              "      <td>1</td>\n",
              "      <td>1</td>\n",
              "      <td>0</td>\n",
              "      <td>...</td>\n",
              "      <td>0</td>\n",
              "      <td>0</td>\n",
              "      <td>0</td>\n",
              "      <td>0</td>\n",
              "      <td>0</td>\n",
              "      <td>0</td>\n",
              "      <td>0</td>\n",
              "      <td>0</td>\n",
              "      <td>0</td>\n",
              "      <td>0</td>\n",
              "      <td>0</td>\n",
              "      <td>2</td>\n",
              "      <td>0</td>\n",
              "      <td>1</td>\n",
              "      <td>1</td>\n",
              "      <td>0</td>\n",
              "      <td>0</td>\n",
              "      <td>0</td>\n",
              "      <td>0</td>\n",
              "      <td>0</td>\n",
              "      <td>0</td>\n",
              "      <td>0</td>\n",
              "      <td>0</td>\n",
              "      <td>0</td>\n",
              "      <td>0</td>\n",
              "      <td>0</td>\n",
              "      <td>0</td>\n",
              "      <td>0</td>\n",
              "      <td>0</td>\n",
              "      <td>0</td>\n",
              "      <td>0</td>\n",
              "      <td>0</td>\n",
              "      <td>0</td>\n",
              "      <td>0</td>\n",
              "      <td>0</td>\n",
              "      <td>NaN</td>\n",
              "      <td>2.0</td>\n",
              "      <td>NaN</td>\n",
              "      <td>NaN</td>\n",
              "      <td>2.0</td>\n",
              "    </tr>\n",
              "    <tr>\n",
              "      <th>1</th>\n",
              "      <td>2</td>\n",
              "      <td>2</td>\n",
              "      <td>2529</td>\n",
              "      <td>2</td>\n",
              "      <td>6.0</td>\n",
              "      <td>NaN</td>\n",
              "      <td>2</td>\n",
              "      <td>4</td>\n",
              "      <td>NaN</td>\n",
              "      <td>NaN</td>\n",
              "      <td>6.0</td>\n",
              "      <td>NaN</td>\n",
              "      <td>NaN</td>\n",
              "      <td>NaN</td>\n",
              "      <td>2.0</td>\n",
              "      <td>NaN</td>\n",
              "      <td>3</td>\n",
              "      <td>2</td>\n",
              "      <td>5</td>\n",
              "      <td>2.0</td>\n",
              "      <td>3</td>\n",
              "      <td>4</td>\n",
              "      <td>5</td>\n",
              "      <td>9</td>\n",
              "      <td>9</td>\n",
              "      <td>0</td>\n",
              "      <td>1</td>\n",
              "      <td>0</td>\n",
              "      <td>0</td>\n",
              "      <td>0</td>\n",
              "      <td>1</td>\n",
              "      <td>1</td>\n",
              "      <td>0</td>\n",
              "      <td>0</td>\n",
              "      <td>0</td>\n",
              "      <td>6</td>\n",
              "      <td>1</td>\n",
              "      <td>1</td>\n",
              "      <td>1</td>\n",
              "      <td>0</td>\n",
              "      <td>...</td>\n",
              "      <td>0</td>\n",
              "      <td>0</td>\n",
              "      <td>0</td>\n",
              "      <td>0</td>\n",
              "      <td>0</td>\n",
              "      <td>0</td>\n",
              "      <td>0</td>\n",
              "      <td>0</td>\n",
              "      <td>0</td>\n",
              "      <td>0</td>\n",
              "      <td>0</td>\n",
              "      <td>0</td>\n",
              "      <td>0</td>\n",
              "      <td>0</td>\n",
              "      <td>0</td>\n",
              "      <td>0</td>\n",
              "      <td>0</td>\n",
              "      <td>0</td>\n",
              "      <td>0</td>\n",
              "      <td>0</td>\n",
              "      <td>0</td>\n",
              "      <td>0</td>\n",
              "      <td>0</td>\n",
              "      <td>0</td>\n",
              "      <td>0</td>\n",
              "      <td>0</td>\n",
              "      <td>0</td>\n",
              "      <td>0</td>\n",
              "      <td>0</td>\n",
              "      <td>0</td>\n",
              "      <td>0</td>\n",
              "      <td>0</td>\n",
              "      <td>0</td>\n",
              "      <td>0</td>\n",
              "      <td>0</td>\n",
              "      <td>NaN</td>\n",
              "      <td>2.0</td>\n",
              "      <td>NaN</td>\n",
              "      <td>NaN</td>\n",
              "      <td>2.0</td>\n",
              "    </tr>\n",
              "    <tr>\n",
              "      <th>2</th>\n",
              "      <td>3</td>\n",
              "      <td>2</td>\n",
              "      <td>2531</td>\n",
              "      <td>2</td>\n",
              "      <td>6.0</td>\n",
              "      <td>NaN</td>\n",
              "      <td>2</td>\n",
              "      <td>4</td>\n",
              "      <td>NaN</td>\n",
              "      <td>NaN</td>\n",
              "      <td>NaN</td>\n",
              "      <td>2.0</td>\n",
              "      <td>NaN</td>\n",
              "      <td>NaN</td>\n",
              "      <td>2.0</td>\n",
              "      <td>NaN</td>\n",
              "      <td>1</td>\n",
              "      <td>2</td>\n",
              "      <td>5</td>\n",
              "      <td>2.0</td>\n",
              "      <td>3</td>\n",
              "      <td>4</td>\n",
              "      <td>5</td>\n",
              "      <td>9</td>\n",
              "      <td>9</td>\n",
              "      <td>0</td>\n",
              "      <td>1</td>\n",
              "      <td>0</td>\n",
              "      <td>0</td>\n",
              "      <td>0</td>\n",
              "      <td>1</td>\n",
              "      <td>1</td>\n",
              "      <td>0</td>\n",
              "      <td>0</td>\n",
              "      <td>0</td>\n",
              "      <td>6</td>\n",
              "      <td>1</td>\n",
              "      <td>1</td>\n",
              "      <td>1</td>\n",
              "      <td>0</td>\n",
              "      <td>...</td>\n",
              "      <td>0</td>\n",
              "      <td>0</td>\n",
              "      <td>0</td>\n",
              "      <td>0</td>\n",
              "      <td>0</td>\n",
              "      <td>0</td>\n",
              "      <td>0</td>\n",
              "      <td>0</td>\n",
              "      <td>0</td>\n",
              "      <td>0</td>\n",
              "      <td>0</td>\n",
              "      <td>0</td>\n",
              "      <td>0</td>\n",
              "      <td>0</td>\n",
              "      <td>0</td>\n",
              "      <td>0</td>\n",
              "      <td>0</td>\n",
              "      <td>0</td>\n",
              "      <td>0</td>\n",
              "      <td>0</td>\n",
              "      <td>0</td>\n",
              "      <td>0</td>\n",
              "      <td>0</td>\n",
              "      <td>0</td>\n",
              "      <td>0</td>\n",
              "      <td>0</td>\n",
              "      <td>0</td>\n",
              "      <td>0</td>\n",
              "      <td>0</td>\n",
              "      <td>0</td>\n",
              "      <td>0</td>\n",
              "      <td>0</td>\n",
              "      <td>0</td>\n",
              "      <td>0</td>\n",
              "      <td>0</td>\n",
              "      <td>NaN</td>\n",
              "      <td>2.0</td>\n",
              "      <td>NaN</td>\n",
              "      <td>NaN</td>\n",
              "      <td>2.0</td>\n",
              "    </tr>\n",
              "    <tr>\n",
              "      <th>3</th>\n",
              "      <td>4</td>\n",
              "      <td>2</td>\n",
              "      <td>2516</td>\n",
              "      <td>2</td>\n",
              "      <td>5.0</td>\n",
              "      <td>NaN</td>\n",
              "      <td>2</td>\n",
              "      <td>2</td>\n",
              "      <td>NaN</td>\n",
              "      <td>6.0</td>\n",
              "      <td>NaN</td>\n",
              "      <td>NaN</td>\n",
              "      <td>NaN</td>\n",
              "      <td>NaN</td>\n",
              "      <td>2.0</td>\n",
              "      <td>NaN</td>\n",
              "      <td>1</td>\n",
              "      <td>2</td>\n",
              "      <td>5</td>\n",
              "      <td>2.0</td>\n",
              "      <td>1</td>\n",
              "      <td>3</td>\n",
              "      <td>4</td>\n",
              "      <td>5</td>\n",
              "      <td>9</td>\n",
              "      <td>0</td>\n",
              "      <td>1</td>\n",
              "      <td>0</td>\n",
              "      <td>0</td>\n",
              "      <td>1</td>\n",
              "      <td>1</td>\n",
              "      <td>0</td>\n",
              "      <td>0</td>\n",
              "      <td>0</td>\n",
              "      <td>0</td>\n",
              "      <td>5</td>\n",
              "      <td>1</td>\n",
              "      <td>1</td>\n",
              "      <td>1</td>\n",
              "      <td>0</td>\n",
              "      <td>...</td>\n",
              "      <td>0</td>\n",
              "      <td>0</td>\n",
              "      <td>0</td>\n",
              "      <td>0</td>\n",
              "      <td>0</td>\n",
              "      <td>0</td>\n",
              "      <td>0</td>\n",
              "      <td>0</td>\n",
              "      <td>0</td>\n",
              "      <td>0</td>\n",
              "      <td>0</td>\n",
              "      <td>5</td>\n",
              "      <td>0</td>\n",
              "      <td>1</td>\n",
              "      <td>1</td>\n",
              "      <td>0</td>\n",
              "      <td>0</td>\n",
              "      <td>0</td>\n",
              "      <td>0</td>\n",
              "      <td>0</td>\n",
              "      <td>0</td>\n",
              "      <td>0</td>\n",
              "      <td>0</td>\n",
              "      <td>0</td>\n",
              "      <td>0</td>\n",
              "      <td>0</td>\n",
              "      <td>0</td>\n",
              "      <td>0</td>\n",
              "      <td>0</td>\n",
              "      <td>0</td>\n",
              "      <td>0</td>\n",
              "      <td>0</td>\n",
              "      <td>0</td>\n",
              "      <td>0</td>\n",
              "      <td>0</td>\n",
              "      <td>NaN</td>\n",
              "      <td>NaN</td>\n",
              "      <td>3.0</td>\n",
              "      <td>NaN</td>\n",
              "      <td>3.0</td>\n",
              "    </tr>\n",
              "    <tr>\n",
              "      <th>4</th>\n",
              "      <td>5</td>\n",
              "      <td>2</td>\n",
              "      <td>2508</td>\n",
              "      <td>2</td>\n",
              "      <td>1.0</td>\n",
              "      <td>NaN</td>\n",
              "      <td>2</td>\n",
              "      <td>6</td>\n",
              "      <td>NaN</td>\n",
              "      <td>NaN</td>\n",
              "      <td>NaN</td>\n",
              "      <td>NaN</td>\n",
              "      <td>1.0</td>\n",
              "      <td>NaN</td>\n",
              "      <td>1.0</td>\n",
              "      <td>NaN</td>\n",
              "      <td>4</td>\n",
              "      <td>2</td>\n",
              "      <td>5</td>\n",
              "      <td>2.0</td>\n",
              "      <td>1</td>\n",
              "      <td>3</td>\n",
              "      <td>5</td>\n",
              "      <td>9</td>\n",
              "      <td>9</td>\n",
              "      <td>0</td>\n",
              "      <td>1</td>\n",
              "      <td>0</td>\n",
              "      <td>1</td>\n",
              "      <td>0</td>\n",
              "      <td>1</td>\n",
              "      <td>1</td>\n",
              "      <td>0</td>\n",
              "      <td>0</td>\n",
              "      <td>0</td>\n",
              "      <td>6</td>\n",
              "      <td>1</td>\n",
              "      <td>1</td>\n",
              "      <td>1</td>\n",
              "      <td>0</td>\n",
              "      <td>...</td>\n",
              "      <td>0</td>\n",
              "      <td>0</td>\n",
              "      <td>0</td>\n",
              "      <td>0</td>\n",
              "      <td>0</td>\n",
              "      <td>0</td>\n",
              "      <td>0</td>\n",
              "      <td>0</td>\n",
              "      <td>0</td>\n",
              "      <td>0</td>\n",
              "      <td>0</td>\n",
              "      <td>5</td>\n",
              "      <td>0</td>\n",
              "      <td>1</td>\n",
              "      <td>1</td>\n",
              "      <td>0</td>\n",
              "      <td>0</td>\n",
              "      <td>0</td>\n",
              "      <td>0</td>\n",
              "      <td>0</td>\n",
              "      <td>0</td>\n",
              "      <td>0</td>\n",
              "      <td>0</td>\n",
              "      <td>0</td>\n",
              "      <td>0</td>\n",
              "      <td>0</td>\n",
              "      <td>0</td>\n",
              "      <td>0</td>\n",
              "      <td>0</td>\n",
              "      <td>0</td>\n",
              "      <td>0</td>\n",
              "      <td>0</td>\n",
              "      <td>0</td>\n",
              "      <td>0</td>\n",
              "      <td>0</td>\n",
              "      <td>NaN</td>\n",
              "      <td>NaN</td>\n",
              "      <td>NaN</td>\n",
              "      <td>4.0</td>\n",
              "      <td>4.0</td>\n",
              "    </tr>\n",
              "  </tbody>\n",
              "</table>\n",
              "<p>5 rows × 200 columns</p>\n",
              "</div>"
            ],
            "text/plain": [
              "   id  a1    a2  a301  a302  ...  G_genZ  G_genY  G_genX  G_genB  Gen_group\n",
              "0   1   1  2530     2   6.0  ...     NaN     2.0     NaN     NaN        2.0\n",
              "1   2   2  2529     2   6.0  ...     NaN     2.0     NaN     NaN        2.0\n",
              "2   3   2  2531     2   6.0  ...     NaN     2.0     NaN     NaN        2.0\n",
              "3   4   2  2516     2   5.0  ...     NaN     NaN     3.0     NaN        3.0\n",
              "4   5   2  2508     2   1.0  ...     NaN     NaN     NaN     4.0        4.0\n",
              "\n",
              "[5 rows x 200 columns]"
            ]
          },
          "metadata": {
            "tags": []
          },
          "execution_count": 9
        }
      ]
    },
    {
      "cell_type": "code",
      "metadata": {
        "colab": {
          "base_uri": "https://localhost:8080/"
        },
        "id": "6HaDx6I-MTm2",
        "outputId": "2805cbf1-0b2c-459f-c9b0-d1b679cdfe4d"
      },
      "source": [
        "index_no = DF2.columns.get_loc('filter_$')\n",
        "index_no"
      ],
      "execution_count": 10,
      "outputs": [
        {
          "output_type": "execute_result",
          "data": {
            "text/plain": [
              "91"
            ]
          },
          "metadata": {
            "tags": []
          },
          "execution_count": 10
        }
      ]
    },
    {
      "cell_type": "code",
      "metadata": {
        "colab": {
          "base_uri": "https://localhost:8080/",
          "height": 255
        },
        "id": "T4KN5NpitHNs",
        "outputId": "02ab8313-4c70-47ed-a299-9053566d936f"
      },
      "source": [
        "DF2_drop = DF2.drop(columns=['j5', 'filter_$', 'j2', 'j3', 'j1', 'j4', 'id'])\n",
        "DF2_drop.head()"
      ],
      "execution_count": 11,
      "outputs": [
        {
          "output_type": "execute_result",
          "data": {
            "text/html": [
              "<div>\n",
              "<style scoped>\n",
              "    .dataframe tbody tr th:only-of-type {\n",
              "        vertical-align: middle;\n",
              "    }\n",
              "\n",
              "    .dataframe tbody tr th {\n",
              "        vertical-align: top;\n",
              "    }\n",
              "\n",
              "    .dataframe thead th {\n",
              "        text-align: right;\n",
              "    }\n",
              "</style>\n",
              "<table border=\"1\" class=\"dataframe\">\n",
              "  <thead>\n",
              "    <tr style=\"text-align: right;\">\n",
              "      <th></th>\n",
              "      <th>a1</th>\n",
              "      <th>a2</th>\n",
              "      <th>a301</th>\n",
              "      <th>a302</th>\n",
              "      <th>a3021</th>\n",
              "      <th>a4</th>\n",
              "      <th>a5</th>\n",
              "      <th>a51</th>\n",
              "      <th>a52</th>\n",
              "      <th>a53</th>\n",
              "      <th>a54</th>\n",
              "      <th>a57</th>\n",
              "      <th>a58</th>\n",
              "      <th>a6</th>\n",
              "      <th>a7</th>\n",
              "      <th>a81</th>\n",
              "      <th>a82</th>\n",
              "      <th>a91</th>\n",
              "      <th>a92</th>\n",
              "      <th>k1</th>\n",
              "      <th>k2</th>\n",
              "      <th>k3</th>\n",
              "      <th>k4</th>\n",
              "      <th>k5</th>\n",
              "      <th>k6</th>\n",
              "      <th>k7</th>\n",
              "      <th>k8</th>\n",
              "      <th>k9</th>\n",
              "      <th>k10</th>\n",
              "      <th>l1</th>\n",
              "      <th>p1</th>\n",
              "      <th>p2</th>\n",
              "      <th>p3</th>\n",
              "      <th>p4</th>\n",
              "      <th>p5</th>\n",
              "      <th>p501</th>\n",
              "      <th>p6</th>\n",
              "      <th>q1</th>\n",
              "      <th>q2</th>\n",
              "      <th>q3</th>\n",
              "      <th>...</th>\n",
              "      <th>s12new</th>\n",
              "      <th>t12new</th>\n",
              "      <th>u12new</th>\n",
              "      <th>r13new</th>\n",
              "      <th>s13new</th>\n",
              "      <th>t13new</th>\n",
              "      <th>u13new</th>\n",
              "      <th>r14new</th>\n",
              "      <th>s14new</th>\n",
              "      <th>t14new</th>\n",
              "      <th>u14new</th>\n",
              "      <th>r15new</th>\n",
              "      <th>s15new</th>\n",
              "      <th>t15new</th>\n",
              "      <th>u15new</th>\n",
              "      <th>r16new</th>\n",
              "      <th>s16new</th>\n",
              "      <th>t16new</th>\n",
              "      <th>u16new</th>\n",
              "      <th>r17new</th>\n",
              "      <th>s17new</th>\n",
              "      <th>t17new</th>\n",
              "      <th>u17new</th>\n",
              "      <th>r18new</th>\n",
              "      <th>s18new</th>\n",
              "      <th>t18new</th>\n",
              "      <th>u18new</th>\n",
              "      <th>r19new</th>\n",
              "      <th>s19new</th>\n",
              "      <th>t19new</th>\n",
              "      <th>u19new</th>\n",
              "      <th>r20new</th>\n",
              "      <th>s20new</th>\n",
              "      <th>t20new</th>\n",
              "      <th>u20new</th>\n",
              "      <th>G_genZ</th>\n",
              "      <th>G_genY</th>\n",
              "      <th>G_genX</th>\n",
              "      <th>G_genB</th>\n",
              "      <th>Gen_group</th>\n",
              "    </tr>\n",
              "  </thead>\n",
              "  <tbody>\n",
              "    <tr>\n",
              "      <th>0</th>\n",
              "      <td>1</td>\n",
              "      <td>2530</td>\n",
              "      <td>2</td>\n",
              "      <td>6.0</td>\n",
              "      <td>NaN</td>\n",
              "      <td>2</td>\n",
              "      <td>7</td>\n",
              "      <td>NaN</td>\n",
              "      <td>NaN</td>\n",
              "      <td>NaN</td>\n",
              "      <td>NaN</td>\n",
              "      <td>1.0</td>\n",
              "      <td>NaN</td>\n",
              "      <td>9.0</td>\n",
              "      <td>NaN</td>\n",
              "      <td>1</td>\n",
              "      <td>2</td>\n",
              "      <td>5</td>\n",
              "      <td>2.0</td>\n",
              "      <td>0</td>\n",
              "      <td>1</td>\n",
              "      <td>0</td>\n",
              "      <td>0</td>\n",
              "      <td>0</td>\n",
              "      <td>1</td>\n",
              "      <td>0</td>\n",
              "      <td>0</td>\n",
              "      <td>0</td>\n",
              "      <td>0</td>\n",
              "      <td>6</td>\n",
              "      <td>1</td>\n",
              "      <td>1</td>\n",
              "      <td>1</td>\n",
              "      <td>0</td>\n",
              "      <td>0</td>\n",
              "      <td>0</td>\n",
              "      <td>0</td>\n",
              "      <td>1</td>\n",
              "      <td>3</td>\n",
              "      <td>4</td>\n",
              "      <td>...</td>\n",
              "      <td>0</td>\n",
              "      <td>0</td>\n",
              "      <td>0</td>\n",
              "      <td>0</td>\n",
              "      <td>0</td>\n",
              "      <td>0</td>\n",
              "      <td>0</td>\n",
              "      <td>0</td>\n",
              "      <td>0</td>\n",
              "      <td>0</td>\n",
              "      <td>0</td>\n",
              "      <td>2</td>\n",
              "      <td>0</td>\n",
              "      <td>1</td>\n",
              "      <td>1</td>\n",
              "      <td>0</td>\n",
              "      <td>0</td>\n",
              "      <td>0</td>\n",
              "      <td>0</td>\n",
              "      <td>0</td>\n",
              "      <td>0</td>\n",
              "      <td>0</td>\n",
              "      <td>0</td>\n",
              "      <td>0</td>\n",
              "      <td>0</td>\n",
              "      <td>0</td>\n",
              "      <td>0</td>\n",
              "      <td>0</td>\n",
              "      <td>0</td>\n",
              "      <td>0</td>\n",
              "      <td>0</td>\n",
              "      <td>0</td>\n",
              "      <td>0</td>\n",
              "      <td>0</td>\n",
              "      <td>0</td>\n",
              "      <td>NaN</td>\n",
              "      <td>2.0</td>\n",
              "      <td>NaN</td>\n",
              "      <td>NaN</td>\n",
              "      <td>2.0</td>\n",
              "    </tr>\n",
              "    <tr>\n",
              "      <th>1</th>\n",
              "      <td>2</td>\n",
              "      <td>2529</td>\n",
              "      <td>2</td>\n",
              "      <td>6.0</td>\n",
              "      <td>NaN</td>\n",
              "      <td>2</td>\n",
              "      <td>4</td>\n",
              "      <td>NaN</td>\n",
              "      <td>NaN</td>\n",
              "      <td>6.0</td>\n",
              "      <td>NaN</td>\n",
              "      <td>NaN</td>\n",
              "      <td>NaN</td>\n",
              "      <td>2.0</td>\n",
              "      <td>NaN</td>\n",
              "      <td>3</td>\n",
              "      <td>2</td>\n",
              "      <td>5</td>\n",
              "      <td>2.0</td>\n",
              "      <td>0</td>\n",
              "      <td>1</td>\n",
              "      <td>0</td>\n",
              "      <td>0</td>\n",
              "      <td>0</td>\n",
              "      <td>1</td>\n",
              "      <td>1</td>\n",
              "      <td>0</td>\n",
              "      <td>0</td>\n",
              "      <td>0</td>\n",
              "      <td>6</td>\n",
              "      <td>1</td>\n",
              "      <td>1</td>\n",
              "      <td>1</td>\n",
              "      <td>0</td>\n",
              "      <td>0</td>\n",
              "      <td>0</td>\n",
              "      <td>0</td>\n",
              "      <td>1</td>\n",
              "      <td>3</td>\n",
              "      <td>6</td>\n",
              "      <td>...</td>\n",
              "      <td>0</td>\n",
              "      <td>0</td>\n",
              "      <td>0</td>\n",
              "      <td>0</td>\n",
              "      <td>0</td>\n",
              "      <td>0</td>\n",
              "      <td>0</td>\n",
              "      <td>0</td>\n",
              "      <td>0</td>\n",
              "      <td>0</td>\n",
              "      <td>0</td>\n",
              "      <td>0</td>\n",
              "      <td>0</td>\n",
              "      <td>0</td>\n",
              "      <td>0</td>\n",
              "      <td>0</td>\n",
              "      <td>0</td>\n",
              "      <td>0</td>\n",
              "      <td>0</td>\n",
              "      <td>0</td>\n",
              "      <td>0</td>\n",
              "      <td>0</td>\n",
              "      <td>0</td>\n",
              "      <td>0</td>\n",
              "      <td>0</td>\n",
              "      <td>0</td>\n",
              "      <td>0</td>\n",
              "      <td>0</td>\n",
              "      <td>0</td>\n",
              "      <td>0</td>\n",
              "      <td>0</td>\n",
              "      <td>0</td>\n",
              "      <td>0</td>\n",
              "      <td>0</td>\n",
              "      <td>0</td>\n",
              "      <td>NaN</td>\n",
              "      <td>2.0</td>\n",
              "      <td>NaN</td>\n",
              "      <td>NaN</td>\n",
              "      <td>2.0</td>\n",
              "    </tr>\n",
              "    <tr>\n",
              "      <th>2</th>\n",
              "      <td>2</td>\n",
              "      <td>2531</td>\n",
              "      <td>2</td>\n",
              "      <td>6.0</td>\n",
              "      <td>NaN</td>\n",
              "      <td>2</td>\n",
              "      <td>4</td>\n",
              "      <td>NaN</td>\n",
              "      <td>NaN</td>\n",
              "      <td>NaN</td>\n",
              "      <td>2.0</td>\n",
              "      <td>NaN</td>\n",
              "      <td>NaN</td>\n",
              "      <td>2.0</td>\n",
              "      <td>NaN</td>\n",
              "      <td>1</td>\n",
              "      <td>2</td>\n",
              "      <td>5</td>\n",
              "      <td>2.0</td>\n",
              "      <td>0</td>\n",
              "      <td>1</td>\n",
              "      <td>0</td>\n",
              "      <td>0</td>\n",
              "      <td>0</td>\n",
              "      <td>1</td>\n",
              "      <td>1</td>\n",
              "      <td>0</td>\n",
              "      <td>0</td>\n",
              "      <td>0</td>\n",
              "      <td>6</td>\n",
              "      <td>1</td>\n",
              "      <td>1</td>\n",
              "      <td>1</td>\n",
              "      <td>0</td>\n",
              "      <td>0</td>\n",
              "      <td>0</td>\n",
              "      <td>0</td>\n",
              "      <td>1</td>\n",
              "      <td>3</td>\n",
              "      <td>4</td>\n",
              "      <td>...</td>\n",
              "      <td>0</td>\n",
              "      <td>0</td>\n",
              "      <td>0</td>\n",
              "      <td>0</td>\n",
              "      <td>0</td>\n",
              "      <td>0</td>\n",
              "      <td>0</td>\n",
              "      <td>0</td>\n",
              "      <td>0</td>\n",
              "      <td>0</td>\n",
              "      <td>0</td>\n",
              "      <td>0</td>\n",
              "      <td>0</td>\n",
              "      <td>0</td>\n",
              "      <td>0</td>\n",
              "      <td>0</td>\n",
              "      <td>0</td>\n",
              "      <td>0</td>\n",
              "      <td>0</td>\n",
              "      <td>0</td>\n",
              "      <td>0</td>\n",
              "      <td>0</td>\n",
              "      <td>0</td>\n",
              "      <td>0</td>\n",
              "      <td>0</td>\n",
              "      <td>0</td>\n",
              "      <td>0</td>\n",
              "      <td>0</td>\n",
              "      <td>0</td>\n",
              "      <td>0</td>\n",
              "      <td>0</td>\n",
              "      <td>0</td>\n",
              "      <td>0</td>\n",
              "      <td>0</td>\n",
              "      <td>0</td>\n",
              "      <td>NaN</td>\n",
              "      <td>2.0</td>\n",
              "      <td>NaN</td>\n",
              "      <td>NaN</td>\n",
              "      <td>2.0</td>\n",
              "    </tr>\n",
              "    <tr>\n",
              "      <th>3</th>\n",
              "      <td>2</td>\n",
              "      <td>2516</td>\n",
              "      <td>2</td>\n",
              "      <td>5.0</td>\n",
              "      <td>NaN</td>\n",
              "      <td>2</td>\n",
              "      <td>2</td>\n",
              "      <td>NaN</td>\n",
              "      <td>6.0</td>\n",
              "      <td>NaN</td>\n",
              "      <td>NaN</td>\n",
              "      <td>NaN</td>\n",
              "      <td>NaN</td>\n",
              "      <td>2.0</td>\n",
              "      <td>NaN</td>\n",
              "      <td>1</td>\n",
              "      <td>2</td>\n",
              "      <td>5</td>\n",
              "      <td>2.0</td>\n",
              "      <td>0</td>\n",
              "      <td>1</td>\n",
              "      <td>0</td>\n",
              "      <td>0</td>\n",
              "      <td>1</td>\n",
              "      <td>1</td>\n",
              "      <td>0</td>\n",
              "      <td>0</td>\n",
              "      <td>0</td>\n",
              "      <td>0</td>\n",
              "      <td>5</td>\n",
              "      <td>1</td>\n",
              "      <td>1</td>\n",
              "      <td>1</td>\n",
              "      <td>0</td>\n",
              "      <td>0</td>\n",
              "      <td>0</td>\n",
              "      <td>0</td>\n",
              "      <td>1</td>\n",
              "      <td>3</td>\n",
              "      <td>4</td>\n",
              "      <td>...</td>\n",
              "      <td>0</td>\n",
              "      <td>0</td>\n",
              "      <td>0</td>\n",
              "      <td>0</td>\n",
              "      <td>0</td>\n",
              "      <td>0</td>\n",
              "      <td>0</td>\n",
              "      <td>0</td>\n",
              "      <td>0</td>\n",
              "      <td>0</td>\n",
              "      <td>0</td>\n",
              "      <td>5</td>\n",
              "      <td>0</td>\n",
              "      <td>1</td>\n",
              "      <td>1</td>\n",
              "      <td>0</td>\n",
              "      <td>0</td>\n",
              "      <td>0</td>\n",
              "      <td>0</td>\n",
              "      <td>0</td>\n",
              "      <td>0</td>\n",
              "      <td>0</td>\n",
              "      <td>0</td>\n",
              "      <td>0</td>\n",
              "      <td>0</td>\n",
              "      <td>0</td>\n",
              "      <td>0</td>\n",
              "      <td>0</td>\n",
              "      <td>0</td>\n",
              "      <td>0</td>\n",
              "      <td>0</td>\n",
              "      <td>0</td>\n",
              "      <td>0</td>\n",
              "      <td>0</td>\n",
              "      <td>0</td>\n",
              "      <td>NaN</td>\n",
              "      <td>NaN</td>\n",
              "      <td>3.0</td>\n",
              "      <td>NaN</td>\n",
              "      <td>3.0</td>\n",
              "    </tr>\n",
              "    <tr>\n",
              "      <th>4</th>\n",
              "      <td>2</td>\n",
              "      <td>2508</td>\n",
              "      <td>2</td>\n",
              "      <td>1.0</td>\n",
              "      <td>NaN</td>\n",
              "      <td>2</td>\n",
              "      <td>6</td>\n",
              "      <td>NaN</td>\n",
              "      <td>NaN</td>\n",
              "      <td>NaN</td>\n",
              "      <td>NaN</td>\n",
              "      <td>1.0</td>\n",
              "      <td>NaN</td>\n",
              "      <td>1.0</td>\n",
              "      <td>NaN</td>\n",
              "      <td>4</td>\n",
              "      <td>2</td>\n",
              "      <td>5</td>\n",
              "      <td>2.0</td>\n",
              "      <td>0</td>\n",
              "      <td>1</td>\n",
              "      <td>0</td>\n",
              "      <td>1</td>\n",
              "      <td>0</td>\n",
              "      <td>1</td>\n",
              "      <td>1</td>\n",
              "      <td>0</td>\n",
              "      <td>0</td>\n",
              "      <td>0</td>\n",
              "      <td>6</td>\n",
              "      <td>1</td>\n",
              "      <td>1</td>\n",
              "      <td>1</td>\n",
              "      <td>0</td>\n",
              "      <td>0</td>\n",
              "      <td>0</td>\n",
              "      <td>0</td>\n",
              "      <td>1</td>\n",
              "      <td>3</td>\n",
              "      <td>99</td>\n",
              "      <td>...</td>\n",
              "      <td>0</td>\n",
              "      <td>0</td>\n",
              "      <td>0</td>\n",
              "      <td>0</td>\n",
              "      <td>0</td>\n",
              "      <td>0</td>\n",
              "      <td>0</td>\n",
              "      <td>0</td>\n",
              "      <td>0</td>\n",
              "      <td>0</td>\n",
              "      <td>0</td>\n",
              "      <td>5</td>\n",
              "      <td>0</td>\n",
              "      <td>1</td>\n",
              "      <td>1</td>\n",
              "      <td>0</td>\n",
              "      <td>0</td>\n",
              "      <td>0</td>\n",
              "      <td>0</td>\n",
              "      <td>0</td>\n",
              "      <td>0</td>\n",
              "      <td>0</td>\n",
              "      <td>0</td>\n",
              "      <td>0</td>\n",
              "      <td>0</td>\n",
              "      <td>0</td>\n",
              "      <td>0</td>\n",
              "      <td>0</td>\n",
              "      <td>0</td>\n",
              "      <td>0</td>\n",
              "      <td>0</td>\n",
              "      <td>0</td>\n",
              "      <td>0</td>\n",
              "      <td>0</td>\n",
              "      <td>0</td>\n",
              "      <td>NaN</td>\n",
              "      <td>NaN</td>\n",
              "      <td>NaN</td>\n",
              "      <td>4.0</td>\n",
              "      <td>4.0</td>\n",
              "    </tr>\n",
              "  </tbody>\n",
              "</table>\n",
              "<p>5 rows × 193 columns</p>\n",
              "</div>"
            ],
            "text/plain": [
              "   a1    a2  a301  a302  a3021  ...  G_genZ  G_genY  G_genX  G_genB  Gen_group\n",
              "0   1  2530     2   6.0    NaN  ...     NaN     2.0     NaN     NaN        2.0\n",
              "1   2  2529     2   6.0    NaN  ...     NaN     2.0     NaN     NaN        2.0\n",
              "2   2  2531     2   6.0    NaN  ...     NaN     2.0     NaN     NaN        2.0\n",
              "3   2  2516     2   5.0    NaN  ...     NaN     NaN     3.0     NaN        3.0\n",
              "4   2  2508     2   1.0    NaN  ...     NaN     NaN     NaN     4.0        4.0\n",
              "\n",
              "[5 rows x 193 columns]"
            ]
          },
          "metadata": {
            "tags": []
          },
          "execution_count": 11
        }
      ]
    },
    {
      "cell_type": "code",
      "metadata": {
        "id": "SbydjChFtHJe"
      },
      "source": [
        "indexs = DF_dictT.loc[\"ข้อคำถาม\"]"
      ],
      "execution_count": 12,
      "outputs": []
    },
    {
      "cell_type": "code",
      "metadata": {
        "id": "1cEcPjJCtHGB"
      },
      "source": [
        "DF_main = DF2_drop.T.set_index(indexs)\n",
        "DF_main = DF_main.T"
      ],
      "execution_count": 13,
      "outputs": []
    },
    {
      "cell_type": "code",
      "metadata": {
        "colab": {
          "base_uri": "https://localhost:8080/",
          "height": 479
        },
        "id": "4hD4VYQPzZH_",
        "outputId": "7d83cb36-80c8-4f58-8c7c-8c3c2f17e6f5"
      },
      "source": [
        "DF_main.head()"
      ],
      "execution_count": 14,
      "outputs": [
        {
          "output_type": "execute_result",
          "data": {
            "text/html": [
              "<div>\n",
              "<style scoped>\n",
              "    .dataframe tbody tr th:only-of-type {\n",
              "        vertical-align: middle;\n",
              "    }\n",
              "\n",
              "    .dataframe tbody tr th {\n",
              "        vertical-align: top;\n",
              "    }\n",
              "\n",
              "    .dataframe thead th {\n",
              "        text-align: right;\n",
              "    }\n",
              "</style>\n",
              "<table border=\"1\" class=\"dataframe\">\n",
              "  <thead>\n",
              "    <tr style=\"text-align: right;\">\n",
              "      <th>ข้อคำถาม</th>\n",
              "      <th>a1 เพศ</th>\n",
              "      <th>a2 ปีเกิด (พ.ศ.)</th>\n",
              "      <th>a301 สถานะทางการศึกษา</th>\n",
              "      <th>a302 ระดับการศึกษา</th>\n",
              "      <th>a3021 อื่น ๆ ระบบ ได้แก่</th>\n",
              "      <th>a4ท่านเป็นบุคคลที่จบปริญญาตรีและเพิ่งเริ่มทำงานไม่เกิน 4 ปี ....หรือไม่</th>\n",
              "      <th>a5 อาชีพ</th>\n",
              "      <th>a51 รับราชการ/พนักงานของรัฐหรือรัฐวิสาหกิจ สังกัด……</th>\n",
              "      <th>a52 พนักงานเอกชน/ลูกจ้างบริษัท ทำงานด้าน …</th>\n",
              "      <th>a53 เจ้าของธุรกิจ  เกี่ยวกับ.……</th>\n",
              "      <th>a54 อาชีพอิสระ/ฟรีแลนซ์/รับจ้าง ทำงานด้าน ..</th>\n",
              "      <th>a57 เกษตรกร เช่น ทำไร่ ประมง ฯลฯ (ระบุ) ……</th>\n",
              "      <th>a58 อื่นๆ (ระบุ)………</th>\n",
              "      <th>a6 รายได้ของท่านเฉลี่ยต่อเดือน</th>\n",
              "      <th>a7ในกรณีที่เป็นนักเรียน/นักศึกษา.. ประมาณเท่าไร (ระบุ) ………………………. บาท</th>\n",
              "      <th>a81 สถานภาพส่วนตัว</th>\n",
              "      <th>a82 ลักษณะการอยู่อาศัย</th>\n",
              "      <th>a91 ภูมิภาคที่ท่านอาศัยอยู่ในปัจจุบัน</th>\n",
              "      <th>a92 ภูมิภาคและเขตพื้นที่ ที่ท่านอาศัยอยู่ในปัจจุบัน</th>\n",
              "      <th>k1ติดตามข่าวในช่วงเช้าตรู่</th>\n",
              "      <th>k2ติดตามข่าวในช่วงเช้า</th>\n",
              "      <th>k3ติดตามข่าวในช่วงสาย</th>\n",
              "      <th>k4ติดตามข่าวในช่วงกลางวัน</th>\n",
              "      <th>k5ติดตามข่าวในช่วงบ่าย</th>\n",
              "      <th>k6ติดตามข่าวในช่วงเย็น</th>\n",
              "      <th>k7ติดตามข่าวในช่วงค่ำ</th>\n",
              "      <th>k8ติดตามข่าวในช่วงดึก</th>\n",
              "      <th>k9ติดตามข่าวในช่วงดึกจนล่วงเข้าวันใหม่</th>\n",
              "      <th>k10ติดตามข่าวในทุกช่วงเวลา</th>\n",
              "      <th>l11ท่านติดตามข่าวทางเครื่องรับโทรทัศน์ โดยรวมเฉลี่ยต่อวันเป็นระยะเวลาเท่าใด</th>\n",
              "      <th>p1ท่านใช้อินเทอร์เน็ตในลักษณะใช้แพคเกจอินเทอร์เน็ตแบบจำกัดจำนวนชั่วโมง</th>\n",
              "      <th>p2ท่านใช้อินเทอร์เน็ตในลักษณะใช้แพคเกจอินเทอร์เน็ตแบบไม่จำกัดจำนวนชั่วโมง</th>\n",
              "      <th>p3ท่านใช้อินเทอร์เน็ตในลักษณะใช้ Wi-Fi ที่บ้าน</th>\n",
              "      <th>p4ท่านใช้อินเทอร์เน็ตในลักษณะใช้ Free Wi-Fi ในที่สาธารณะ หรือที่ทำงาน</th>\n",
              "      <th>p5ท่านใช้อินเทอร์เน็ตในลักษณะใช้แบบอื่นๆ</th>\n",
              "      <th>p501ใช้แบบอื่นๆ (ระบุ) ……ได้แก่</th>\n",
              "      <th>p6ท่านใช้อินเทอร์เน็ตในลักษณะไม่ได้ใช้งานอินเทอร์เน็ต</th>\n",
              "      <th>q1</th>\n",
              "      <th>q2สื่อออนไลน์ที่ท่านใช้งานเพื่อติดตามข่าว มีสื่อใดบ้าง โปรดจัดลำดับความนิยม อันดับ 2</th>\n",
              "      <th>q3สื่อออนไลน์ที่ท่านใช้งานเพื่อติดตามข่าว มีสื่อใดบ้าง โปรดจัดลำดับความนิยม อันดับ 3</th>\n",
              "      <th>...</th>\n",
              "      <th>s12new ทีมงานช่วยแนะนำ ข่าวเทคโนโลยี</th>\n",
              "      <th>t12new ติดตามไม่ติดตามทีวี</th>\n",
              "      <th>u12new ติดตามไม่ติดตามออนไลน์</th>\n",
              "      <th>r13new RD ระบุอันดับ ข่าวการศึกษา</th>\n",
              "      <th>s13new ทีมงานช่วยแนะนำ ข่าวการศึกษา</th>\n",
              "      <th>t13new ติดตามไม่ติดตามทีวี</th>\n",
              "      <th>u13new ติดตามไม่ติดตามออนไลน์</th>\n",
              "      <th>r14new RD ระบุอันดับ ข่าวสาธารณสุขการแพทย์</th>\n",
              "      <th>s14new ทีมงานช่วยแนะนำ ข่าวสาธารณสุขการแพทย์</th>\n",
              "      <th>t14new ติดตามไม่ติดตามทีวี</th>\n",
              "      <th>u14new ติดตามไม่ติดตามออนไลน์</th>\n",
              "      <th>r15new RD ระบุอันดับ ข่าวพยากรณ์อากาศ</th>\n",
              "      <th>s15new ทีมงานช่วยแนะนำ ข่าวพยากรณ์อากาศ</th>\n",
              "      <th>t15new ติดตามไม่ติดตามทีวี</th>\n",
              "      <th>u15new ติดตามไม่ติดตามออนไลน์</th>\n",
              "      <th>r16new RD ระบุอันดับ ข่าวจราจร</th>\n",
              "      <th>s16new ทีมงานช่วยแนะนำ ข่าวจราจร</th>\n",
              "      <th>t16neww  ติดตามไม่ติดตามทีวี</th>\n",
              "      <th>u16neww ติดตามไม่ติดตามออนไลน์</th>\n",
              "      <th>r17neww RD ระบุอันดับ ข่าวสิ่งแวดล้อม</th>\n",
              "      <th>s17neww ทีมงานช่วยแนะนำ ข่าวสิ่งแวดล้อม</th>\n",
              "      <th>t17neww ติดตามไม่ติดตามทีวี</th>\n",
              "      <th>u17neww ติดตามไม่ติดตามออนไลน์</th>\n",
              "      <th>r18neww RD ระบุอันดับ ข่าวร้องทุกข์ชาวบ้าน</th>\n",
              "      <th>s18neww ทีมงานช่วยแนะนำ ข่าวร้องทุกข์ชาวบ้าน</th>\n",
              "      <th>t18neww ติดตามไม่ติดตามทีวี</th>\n",
              "      <th>u18neww ติดตามไม่ติดตามออนไลน์</th>\n",
              "      <th>r19new  RD ระบุอันดับ ข่าวประชาชนรายงาน</th>\n",
              "      <th>s19new ทีมงานช่วยแนะนำ ข่าวประชาชนรายงาน</th>\n",
              "      <th>t19new ติดตามไม่ติดตามทีวี</th>\n",
              "      <th>u19new ติดตามไม่ติดตามออนไลน์</th>\n",
              "      <th>r20new RD ระบุอันดับ ข่าวอื่นๆระบุ</th>\n",
              "      <th>s20new ทีมงานช่วยแนะนำ ข่าวประชาชนรายงาน</th>\n",
              "      <th>t20new ติดตามไม่ติดตามทีวี</th>\n",
              "      <th>u20new ติดตามไม่ติดตามออนไลน์</th>\n",
              "      <th>อายุ 13 - 19 ปี</th>\n",
              "      <th>อายุ 20 - 37 ปี</th>\n",
              "      <th>อายุ 38 - 52 ปี</th>\n",
              "      <th>อายุ 53 - 72 ปี</th>\n",
              "      <th>NaN</th>\n",
              "    </tr>\n",
              "  </thead>\n",
              "  <tbody>\n",
              "    <tr>\n",
              "      <th>0</th>\n",
              "      <td>1</td>\n",
              "      <td>2530</td>\n",
              "      <td>2</td>\n",
              "      <td>6</td>\n",
              "      <td>NaN</td>\n",
              "      <td>2</td>\n",
              "      <td>7</td>\n",
              "      <td>NaN</td>\n",
              "      <td>NaN</td>\n",
              "      <td>NaN</td>\n",
              "      <td>NaN</td>\n",
              "      <td>1</td>\n",
              "      <td>NaN</td>\n",
              "      <td>9</td>\n",
              "      <td>NaN</td>\n",
              "      <td>1</td>\n",
              "      <td>2</td>\n",
              "      <td>5</td>\n",
              "      <td>2</td>\n",
              "      <td>0</td>\n",
              "      <td>1</td>\n",
              "      <td>0</td>\n",
              "      <td>0</td>\n",
              "      <td>0</td>\n",
              "      <td>1</td>\n",
              "      <td>0</td>\n",
              "      <td>0</td>\n",
              "      <td>0</td>\n",
              "      <td>0</td>\n",
              "      <td>6</td>\n",
              "      <td>1</td>\n",
              "      <td>1</td>\n",
              "      <td>1</td>\n",
              "      <td>0</td>\n",
              "      <td>0</td>\n",
              "      <td>0</td>\n",
              "      <td>0</td>\n",
              "      <td>1</td>\n",
              "      <td>3</td>\n",
              "      <td>4</td>\n",
              "      <td>...</td>\n",
              "      <td>0</td>\n",
              "      <td>0</td>\n",
              "      <td>0</td>\n",
              "      <td>0</td>\n",
              "      <td>0</td>\n",
              "      <td>0</td>\n",
              "      <td>0</td>\n",
              "      <td>0</td>\n",
              "      <td>0</td>\n",
              "      <td>0</td>\n",
              "      <td>0</td>\n",
              "      <td>2</td>\n",
              "      <td>0</td>\n",
              "      <td>1</td>\n",
              "      <td>1</td>\n",
              "      <td>0</td>\n",
              "      <td>0</td>\n",
              "      <td>0</td>\n",
              "      <td>0</td>\n",
              "      <td>0</td>\n",
              "      <td>0</td>\n",
              "      <td>0</td>\n",
              "      <td>0</td>\n",
              "      <td>0</td>\n",
              "      <td>0</td>\n",
              "      <td>0</td>\n",
              "      <td>0</td>\n",
              "      <td>0</td>\n",
              "      <td>0</td>\n",
              "      <td>0</td>\n",
              "      <td>0</td>\n",
              "      <td>0</td>\n",
              "      <td>0</td>\n",
              "      <td>0</td>\n",
              "      <td>0</td>\n",
              "      <td>NaN</td>\n",
              "      <td>2</td>\n",
              "      <td>NaN</td>\n",
              "      <td>NaN</td>\n",
              "      <td>2</td>\n",
              "    </tr>\n",
              "    <tr>\n",
              "      <th>1</th>\n",
              "      <td>2</td>\n",
              "      <td>2529</td>\n",
              "      <td>2</td>\n",
              "      <td>6</td>\n",
              "      <td>NaN</td>\n",
              "      <td>2</td>\n",
              "      <td>4</td>\n",
              "      <td>NaN</td>\n",
              "      <td>NaN</td>\n",
              "      <td>6</td>\n",
              "      <td>NaN</td>\n",
              "      <td>NaN</td>\n",
              "      <td>NaN</td>\n",
              "      <td>2</td>\n",
              "      <td>NaN</td>\n",
              "      <td>3</td>\n",
              "      <td>2</td>\n",
              "      <td>5</td>\n",
              "      <td>2</td>\n",
              "      <td>0</td>\n",
              "      <td>1</td>\n",
              "      <td>0</td>\n",
              "      <td>0</td>\n",
              "      <td>0</td>\n",
              "      <td>1</td>\n",
              "      <td>1</td>\n",
              "      <td>0</td>\n",
              "      <td>0</td>\n",
              "      <td>0</td>\n",
              "      <td>6</td>\n",
              "      <td>1</td>\n",
              "      <td>1</td>\n",
              "      <td>1</td>\n",
              "      <td>0</td>\n",
              "      <td>0</td>\n",
              "      <td>0</td>\n",
              "      <td>0</td>\n",
              "      <td>1</td>\n",
              "      <td>3</td>\n",
              "      <td>6</td>\n",
              "      <td>...</td>\n",
              "      <td>0</td>\n",
              "      <td>0</td>\n",
              "      <td>0</td>\n",
              "      <td>0</td>\n",
              "      <td>0</td>\n",
              "      <td>0</td>\n",
              "      <td>0</td>\n",
              "      <td>0</td>\n",
              "      <td>0</td>\n",
              "      <td>0</td>\n",
              "      <td>0</td>\n",
              "      <td>0</td>\n",
              "      <td>0</td>\n",
              "      <td>0</td>\n",
              "      <td>0</td>\n",
              "      <td>0</td>\n",
              "      <td>0</td>\n",
              "      <td>0</td>\n",
              "      <td>0</td>\n",
              "      <td>0</td>\n",
              "      <td>0</td>\n",
              "      <td>0</td>\n",
              "      <td>0</td>\n",
              "      <td>0</td>\n",
              "      <td>0</td>\n",
              "      <td>0</td>\n",
              "      <td>0</td>\n",
              "      <td>0</td>\n",
              "      <td>0</td>\n",
              "      <td>0</td>\n",
              "      <td>0</td>\n",
              "      <td>0</td>\n",
              "      <td>0</td>\n",
              "      <td>0</td>\n",
              "      <td>0</td>\n",
              "      <td>NaN</td>\n",
              "      <td>2</td>\n",
              "      <td>NaN</td>\n",
              "      <td>NaN</td>\n",
              "      <td>2</td>\n",
              "    </tr>\n",
              "    <tr>\n",
              "      <th>2</th>\n",
              "      <td>2</td>\n",
              "      <td>2531</td>\n",
              "      <td>2</td>\n",
              "      <td>6</td>\n",
              "      <td>NaN</td>\n",
              "      <td>2</td>\n",
              "      <td>4</td>\n",
              "      <td>NaN</td>\n",
              "      <td>NaN</td>\n",
              "      <td>NaN</td>\n",
              "      <td>2</td>\n",
              "      <td>NaN</td>\n",
              "      <td>NaN</td>\n",
              "      <td>2</td>\n",
              "      <td>NaN</td>\n",
              "      <td>1</td>\n",
              "      <td>2</td>\n",
              "      <td>5</td>\n",
              "      <td>2</td>\n",
              "      <td>0</td>\n",
              "      <td>1</td>\n",
              "      <td>0</td>\n",
              "      <td>0</td>\n",
              "      <td>0</td>\n",
              "      <td>1</td>\n",
              "      <td>1</td>\n",
              "      <td>0</td>\n",
              "      <td>0</td>\n",
              "      <td>0</td>\n",
              "      <td>6</td>\n",
              "      <td>1</td>\n",
              "      <td>1</td>\n",
              "      <td>1</td>\n",
              "      <td>0</td>\n",
              "      <td>0</td>\n",
              "      <td>0</td>\n",
              "      <td>0</td>\n",
              "      <td>1</td>\n",
              "      <td>3</td>\n",
              "      <td>4</td>\n",
              "      <td>...</td>\n",
              "      <td>0</td>\n",
              "      <td>0</td>\n",
              "      <td>0</td>\n",
              "      <td>0</td>\n",
              "      <td>0</td>\n",
              "      <td>0</td>\n",
              "      <td>0</td>\n",
              "      <td>0</td>\n",
              "      <td>0</td>\n",
              "      <td>0</td>\n",
              "      <td>0</td>\n",
              "      <td>0</td>\n",
              "      <td>0</td>\n",
              "      <td>0</td>\n",
              "      <td>0</td>\n",
              "      <td>0</td>\n",
              "      <td>0</td>\n",
              "      <td>0</td>\n",
              "      <td>0</td>\n",
              "      <td>0</td>\n",
              "      <td>0</td>\n",
              "      <td>0</td>\n",
              "      <td>0</td>\n",
              "      <td>0</td>\n",
              "      <td>0</td>\n",
              "      <td>0</td>\n",
              "      <td>0</td>\n",
              "      <td>0</td>\n",
              "      <td>0</td>\n",
              "      <td>0</td>\n",
              "      <td>0</td>\n",
              "      <td>0</td>\n",
              "      <td>0</td>\n",
              "      <td>0</td>\n",
              "      <td>0</td>\n",
              "      <td>NaN</td>\n",
              "      <td>2</td>\n",
              "      <td>NaN</td>\n",
              "      <td>NaN</td>\n",
              "      <td>2</td>\n",
              "    </tr>\n",
              "    <tr>\n",
              "      <th>3</th>\n",
              "      <td>2</td>\n",
              "      <td>2516</td>\n",
              "      <td>2</td>\n",
              "      <td>5</td>\n",
              "      <td>NaN</td>\n",
              "      <td>2</td>\n",
              "      <td>2</td>\n",
              "      <td>NaN</td>\n",
              "      <td>6</td>\n",
              "      <td>NaN</td>\n",
              "      <td>NaN</td>\n",
              "      <td>NaN</td>\n",
              "      <td>NaN</td>\n",
              "      <td>2</td>\n",
              "      <td>NaN</td>\n",
              "      <td>1</td>\n",
              "      <td>2</td>\n",
              "      <td>5</td>\n",
              "      <td>2</td>\n",
              "      <td>0</td>\n",
              "      <td>1</td>\n",
              "      <td>0</td>\n",
              "      <td>0</td>\n",
              "      <td>1</td>\n",
              "      <td>1</td>\n",
              "      <td>0</td>\n",
              "      <td>0</td>\n",
              "      <td>0</td>\n",
              "      <td>0</td>\n",
              "      <td>5</td>\n",
              "      <td>1</td>\n",
              "      <td>1</td>\n",
              "      <td>1</td>\n",
              "      <td>0</td>\n",
              "      <td>0</td>\n",
              "      <td>0</td>\n",
              "      <td>0</td>\n",
              "      <td>1</td>\n",
              "      <td>3</td>\n",
              "      <td>4</td>\n",
              "      <td>...</td>\n",
              "      <td>0</td>\n",
              "      <td>0</td>\n",
              "      <td>0</td>\n",
              "      <td>0</td>\n",
              "      <td>0</td>\n",
              "      <td>0</td>\n",
              "      <td>0</td>\n",
              "      <td>0</td>\n",
              "      <td>0</td>\n",
              "      <td>0</td>\n",
              "      <td>0</td>\n",
              "      <td>5</td>\n",
              "      <td>0</td>\n",
              "      <td>1</td>\n",
              "      <td>1</td>\n",
              "      <td>0</td>\n",
              "      <td>0</td>\n",
              "      <td>0</td>\n",
              "      <td>0</td>\n",
              "      <td>0</td>\n",
              "      <td>0</td>\n",
              "      <td>0</td>\n",
              "      <td>0</td>\n",
              "      <td>0</td>\n",
              "      <td>0</td>\n",
              "      <td>0</td>\n",
              "      <td>0</td>\n",
              "      <td>0</td>\n",
              "      <td>0</td>\n",
              "      <td>0</td>\n",
              "      <td>0</td>\n",
              "      <td>0</td>\n",
              "      <td>0</td>\n",
              "      <td>0</td>\n",
              "      <td>0</td>\n",
              "      <td>NaN</td>\n",
              "      <td>NaN</td>\n",
              "      <td>3</td>\n",
              "      <td>NaN</td>\n",
              "      <td>3</td>\n",
              "    </tr>\n",
              "    <tr>\n",
              "      <th>4</th>\n",
              "      <td>2</td>\n",
              "      <td>2508</td>\n",
              "      <td>2</td>\n",
              "      <td>1</td>\n",
              "      <td>NaN</td>\n",
              "      <td>2</td>\n",
              "      <td>6</td>\n",
              "      <td>NaN</td>\n",
              "      <td>NaN</td>\n",
              "      <td>NaN</td>\n",
              "      <td>NaN</td>\n",
              "      <td>1</td>\n",
              "      <td>NaN</td>\n",
              "      <td>1</td>\n",
              "      <td>NaN</td>\n",
              "      <td>4</td>\n",
              "      <td>2</td>\n",
              "      <td>5</td>\n",
              "      <td>2</td>\n",
              "      <td>0</td>\n",
              "      <td>1</td>\n",
              "      <td>0</td>\n",
              "      <td>1</td>\n",
              "      <td>0</td>\n",
              "      <td>1</td>\n",
              "      <td>1</td>\n",
              "      <td>0</td>\n",
              "      <td>0</td>\n",
              "      <td>0</td>\n",
              "      <td>6</td>\n",
              "      <td>1</td>\n",
              "      <td>1</td>\n",
              "      <td>1</td>\n",
              "      <td>0</td>\n",
              "      <td>0</td>\n",
              "      <td>0</td>\n",
              "      <td>0</td>\n",
              "      <td>1</td>\n",
              "      <td>3</td>\n",
              "      <td>99</td>\n",
              "      <td>...</td>\n",
              "      <td>0</td>\n",
              "      <td>0</td>\n",
              "      <td>0</td>\n",
              "      <td>0</td>\n",
              "      <td>0</td>\n",
              "      <td>0</td>\n",
              "      <td>0</td>\n",
              "      <td>0</td>\n",
              "      <td>0</td>\n",
              "      <td>0</td>\n",
              "      <td>0</td>\n",
              "      <td>5</td>\n",
              "      <td>0</td>\n",
              "      <td>1</td>\n",
              "      <td>1</td>\n",
              "      <td>0</td>\n",
              "      <td>0</td>\n",
              "      <td>0</td>\n",
              "      <td>0</td>\n",
              "      <td>0</td>\n",
              "      <td>0</td>\n",
              "      <td>0</td>\n",
              "      <td>0</td>\n",
              "      <td>0</td>\n",
              "      <td>0</td>\n",
              "      <td>0</td>\n",
              "      <td>0</td>\n",
              "      <td>0</td>\n",
              "      <td>0</td>\n",
              "      <td>0</td>\n",
              "      <td>0</td>\n",
              "      <td>0</td>\n",
              "      <td>0</td>\n",
              "      <td>0</td>\n",
              "      <td>0</td>\n",
              "      <td>NaN</td>\n",
              "      <td>NaN</td>\n",
              "      <td>NaN</td>\n",
              "      <td>4</td>\n",
              "      <td>4</td>\n",
              "    </tr>\n",
              "  </tbody>\n",
              "</table>\n",
              "<p>5 rows × 193 columns</p>\n",
              "</div>"
            ],
            "text/plain": [
              "ข้อคำถาม a1 เพศ a2 ปีเกิด (พ.ศ.)  ... อายุ 53 - 72 ปี NaN\n",
              "0             1             2530  ...             NaN   2\n",
              "1             2             2529  ...             NaN   2\n",
              "2             2             2531  ...             NaN   2\n",
              "3             2             2516  ...             NaN   3\n",
              "4             2             2508  ...               4   4\n",
              "\n",
              "[5 rows x 193 columns]"
            ]
          },
          "metadata": {
            "tags": []
          },
          "execution_count": 14
        }
      ]
    },
    {
      "cell_type": "code",
      "metadata": {
        "colab": {
          "base_uri": "https://localhost:8080/"
        },
        "id": "-o7hzhrRyVuc",
        "outputId": "651fb269-c0ed-46b6-9e2c-d56702eeddad"
      },
      "source": [
        "DF_main.isna().sum()"
      ],
      "execution_count": 15,
      "outputs": [
        {
          "output_type": "execute_result",
          "data": {
            "text/plain": [
              "ข้อคำถาม\n",
              "a1 เพศ                         0\n",
              "a2 ปีเกิด (พ.ศ.)               0\n",
              "a301 สถานะทางการศึกษา          0\n",
              "a302 ระดับการศึกษา             5\n",
              "a3021 อื่น ๆ ระบบ ได้แก่    2059\n",
              "                            ... \n",
              "อายุ 13 - 19 ปี             1577\n",
              "อายุ 20 - 37 ปี             1525\n",
              "อายุ 38 - 52 ปี             1518\n",
              "อายุ 53 - 72 ปี             1557\n",
              "NaN                            0\n",
              "Length: 193, dtype: int64"
            ]
          },
          "metadata": {
            "tags": []
          },
          "execution_count": 15
        }
      ]
    },
    {
      "cell_type": "code",
      "metadata": {
        "id": "KYNHdSvvrjf9"
      },
      "source": [
        "import matplotlib.pyplot as plt\n",
        "import seaborn as sns"
      ],
      "execution_count": 16,
      "outputs": []
    },
    {
      "cell_type": "code",
      "metadata": {
        "colab": {
          "base_uri": "https://localhost:8080/",
          "height": 308
        },
        "id": "KYy70pWuyAa0",
        "outputId": "ba769740-ea55-4498-d92d-622f924eb497"
      },
      "source": [
        "fig, ax = plt.subplots()\n",
        "DF_main['a1 เพศ'].value_counts().plot.bar()\n",
        "ax.set_xticklabels([\"female\" , \"male\"])\n"
      ],
      "execution_count": 17,
      "outputs": [
        {
          "output_type": "execute_result",
          "data": {
            "text/plain": [
              "[Text(0, 0, 'female'), Text(0, 0, 'male')]"
            ]
          },
          "metadata": {
            "tags": []
          },
          "execution_count": 17
        },
        {
          "output_type": "display_data",
          "data": {
            "image/png": "[encoded data removed]",
            "text/plain": [
              "<Figure size 432x288 with 1 Axes>"
            ]
          },
          "metadata": {
            "tags": [],
            "needs_background": "light"
          }
        }
      ]
    },
    {
      "cell_type": "code",
      "metadata": {
        "colab": {
          "base_uri": "https://localhost:8080/"
        },
        "id": "tdhfjY5N4HeJ",
        "outputId": "be2768d6-093d-467a-8090-41f9255e5ec2"
      },
      "source": [
        "DF_main[\"อายุ\"] = 2564 - DF_main[\"a2 ปีเกิด (พ.ศ.)\"]\n",
        "print(f\"Min : \", DF_main[\"a2 ปีเกิด (พ.ศ.)\"].min() , \" Max : \", DF_main[\"a2 ปีเกิด (พ.ศ.)\"].max()) "
      ],
      "execution_count": 18,
      "outputs": [
        {
          "output_type": "stream",
          "text": [
            "Min :  2490  Max :  2549\n"
          ],
          "name": "stdout"
        }
      ]
    },
    {
      "cell_type": "code",
      "metadata": {
        "colab": {
          "base_uri": "https://localhost:8080/"
        },
        "id": "WcbxnzBO5x3v",
        "outputId": "e5f6e436-3c2a-4e82-c31a-3ccc7260378a"
      },
      "source": [
        "DF_main[DF_main.columns[-2]]"
      ],
      "execution_count": 19,
      "outputs": [
        {
          "output_type": "execute_result",
          "data": {
            "text/plain": [
              "0       2\n",
              "1       2\n",
              "2       2\n",
              "3       3\n",
              "4       4\n",
              "       ..\n",
              "2054    3\n",
              "2055    4\n",
              "2056    3\n",
              "2057    3\n",
              "2058    3\n",
              "Name: nan, Length: 2059, dtype: object"
            ]
          },
          "metadata": {
            "tags": []
          },
          "execution_count": 19
        }
      ]
    },
    {
      "cell_type": "code",
      "metadata": {
        "colab": {
          "base_uri": "https://localhost:8080/",
          "height": 288
        },
        "id": "DOHAg5aszpwj",
        "outputId": "c0f891de-78ca-43ac-a35b-1380a71b2341"
      },
      "source": [
        "fig, ax = plt.subplots()\n",
        "DF_main[DF_main.columns[-2]].value_counts().plot.bar()\n",
        "\"\"\"\n",
        "1 = Gen Z 2 = Gen Y 3 = Gen X 4 = Gen B\n",
        "\"\"\""
      ],
      "execution_count": 20,
      "outputs": [
        {
          "output_type": "execute_result",
          "data": {
            "application/vnd.google.colaboratory.intrinsic+json": {
              "type": "string"
            },
            "text/plain": [
              "'\\n1 = Gen Z 2 = Gen Y 3 = Gen X 4 = Gen B\\n'"
            ]
          },
          "metadata": {
            "tags": []
          },
          "execution_count": 20
        },
        {
          "output_type": "display_data",
          "data": {
            "image/png": "[encoded data removed]",
            "text/plain": [
              "<Figure size 432x288 with 1 Axes>"
            ]
          },
          "metadata": {
            "tags": [],
            "needs_background": "light"
          }
        }
      ]
    },
    {
      "cell_type": "code",
      "metadata": {
        "colab": {
          "base_uri": "https://localhost:8080/",
          "height": 288
        },
        "id": "FLiNTr5_3iHW",
        "outputId": "84b473c0-a9b5-42f1-b1de-75a5736517bd"
      },
      "source": [
        "fig, ax = plt.subplots()\n",
        "DF_main['a302 ระดับการศึกษา'].value_counts().plot.bar()\n",
        "\"\"\"\n",
        "1=ประถมศึกษา  2=มัธยมศึกษาตอนต้น  3=มัธยมศึกษาตอนปลาย  4=ปวช.  \n",
        "5=ปวส./ปวท./อนุปริญญา  6=ปริญญาตรี  7=สูงกว่าปริญญาตรี  8=อื่น ๆ  9=ไม่ได้ศึกษาในระบบใดเลย\n",
        "\"\"\""
      ],
      "execution_count": 21,
      "outputs": [
        {
          "output_type": "execute_result",
          "data": {
            "application/vnd.google.colaboratory.intrinsic+json": {
              "type": "string"
            },
            "text/plain": [
              "'\\n1=ประถมศึกษา  2=มัธยมศึกษาตอนต้น  3=มัธยมศึกษาตอนปลาย  4=ปวช.  \\n5=ปวส./ปวท./อนุปริญญา  6=ปริญญาตรี  7=สูงกว่าปริญญาตรี  8=อื่น ๆ  9=ไม่ได้ศึกษาในระบบใดเลย\\n'"
            ]
          },
          "metadata": {
            "tags": []
          },
          "execution_count": 21
        },
        {
          "output_type": "display_data",
          "data": {
            "image/png": "[encoded data removed]",
            "text/plain": [
              "<Figure size 432x288 with 1 Axes>"
            ]
          },
          "metadata": {
            "tags": [],
            "needs_background": "light"
          }
        }
      ]
    },
    {
      "cell_type": "code",
      "metadata": {
        "colab": {
          "base_uri": "https://localhost:8080/",
          "height": 297
        },
        "id": "pOlPHO6c18-O",
        "outputId": "e202c20e-a372-4a39-f8e2-3950537f2297"
      },
      "source": [
        "fig, ax = plt.subplots()\n",
        "DF_main['a5 อาชีพ'].value_counts().plot.bar()\n",
        "\"\"\"\n",
        "1= รับราชการ/พนักงานของรัฐหรือรัฐวิสาหกิจ สังกัด  \n",
        "2=พนักงานเอกชน/ลูกจ้างบริษัท 3=เจ้าของธุรกิจ  \n",
        "4=อาชีพอิสระ/ฟรีแลนซ์/รับจ้าง 5= นักเรียน/นักศึกษา     \n",
        "6= เกษียณอายุ/แม่บ้านพ่อบ้าน 7= เกษตรกร เช่น ทำไร่ ประมง ฯลฯ  \n",
        "8=อื่นๆ\n",
        "\"\"\""
      ],
      "execution_count": 22,
      "outputs": [
        {
          "output_type": "execute_result",
          "data": {
            "application/vnd.google.colaboratory.intrinsic+json": {
              "type": "string"
            },
            "text/plain": [
              "'\\n1= รับราชการ/พนักงานของรัฐหรือรัฐวิสาหกิจ สังกัด  \\n2=พนักงานเอกชน/ลูกจ้างบริษัท 3=เจ้าของธุรกิจ  \\n4=อาชีพอิสระ/ฟรีแลนซ์/รับจ้าง 5= นักเรียน/นักศึกษา     \\n6= เกษียณอายุ/แม่บ้านพ่อบ้าน 7= เกษตรกร เช่น ทำไร่ ประมง ฯลฯ  \\n8=อื่นๆ\\n'"
            ]
          },
          "metadata": {
            "tags": []
          },
          "execution_count": 22
        },
        {
          "output_type": "display_data",
          "data": {
            "image/png": "[encoded data removed]",
            "text/plain": [
              "<Figure size 432x288 with 1 Axes>"
            ]
          },
          "metadata": {
            "tags": [],
            "needs_background": "light"
          }
        }
      ]
    },
    {
      "cell_type": "code",
      "metadata": {
        "colab": {
          "base_uri": "https://localhost:8080/",
          "height": 288
        },
        "id": "XuiPfhgI2ux_",
        "outputId": "803a1182-38b9-4088-c0cc-2bd3e65d8954"
      },
      "source": [
        "fig, ax = plt.subplots()\n",
        "DF_main['a6 รายได้ของท่านเฉลี่ยต่อเดือน'].value_counts().plot.bar()"
      ],
      "execution_count": 23,
      "outputs": [
        {
          "output_type": "execute_result",
          "data": {
            "text/plain": [
              "<matplotlib.axes._subplots.AxesSubplot at 0x7f8ab9af7ed0>"
            ]
          },
          "metadata": {
            "tags": []
          },
          "execution_count": 23
        },
        {
          "output_type": "display_data",
          "data": {
            "image/png": "[encoded data removed]",
            "text/plain": [
              "<Figure size 432x288 with 1 Axes>"
            ]
          },
          "metadata": {
            "tags": [],
            "needs_background": "light"
          }
        }
      ]
    },
    {
      "cell_type": "code",
      "metadata": {
        "colab": {
          "base_uri": "https://localhost:8080/",
          "height": 1000
        },
        "id": "waBu6YAl8i-H",
        "outputId": "6e51f111-e0f0-4899-a8c1-b2e3c591524c"
      },
      "source": [
        "plt.figure(figsize=(15,20))\n",
        "DF_main[\"a7ในกรณีที่เป็นนักเรียน/นักศึกษา.. ประมาณเท่าไร (ระบุ) ………………………. บาท\"].value_counts().plot.bar()"
      ],
      "execution_count": 24,
      "outputs": [
        {
          "output_type": "execute_result",
          "data": {
            "text/plain": [
              "<matplotlib.axes._subplots.AxesSubplot at 0x7f8ab9ba4050>"
            ]
          },
          "metadata": {
            "tags": []
          },
          "execution_count": 24
        },
        {
          "output_type": "display_data",
          "data": {
            "image/png": "[encoded data removed]",
            "text/plain": [
              "<Figure size 1080x1440 with 1 Axes>"
            ]
          },
          "metadata": {
            "tags": [],
            "needs_background": "light"
          }
        }
      ]
    },
    {
      "cell_type": "code",
      "metadata": {
        "colab": {
          "base_uri": "https://localhost:8080/"
        },
        "id": "h1jVLOD28prI",
        "outputId": "c43477a3-c2c8-4fda-e582-ecc732df614a"
      },
      "source": [
        "print(\"รายได้เฉลี่ยนักศึกษาอยู่ที่ : \",DF_main[\"a7ในกรณีที่เป็นนักเรียน/นักศึกษา.. ประมาณเท่าไร (ระบุ) ………………………. บาท\"].mean(), \"บาท\")"
      ],
      "execution_count": 25,
      "outputs": [
        {
          "output_type": "stream",
          "text": [
            "รายได้เฉลี่ยนักศึกษาอยู่ที่ :  5571.375464684015 บาท\n"
          ],
          "name": "stdout"
        }
      ]
    },
    {
      "cell_type": "code",
      "metadata": {
        "colab": {
          "base_uri": "https://localhost:8080/",
          "height": 280
        },
        "id": "J2kjvicW93x3",
        "outputId": "39cc8738-7e03-48cf-fdd0-96bd582934a6"
      },
      "source": [
        "fig, ax = plt.subplots()\n",
        "DF_main['a81 สถานภาพส่วนตัว'].value_counts().plot.bar()\n",
        "\"\"\"1=โสด (ไม่มีแฟน ไม่มีลูก)  2=มีแฟน/คนรัก  3=สามีหรือภรรยา แต่ยังไม่มีลูก  \n",
        "4=มีสามีหรือภรรยา และมีลูกแล้ว  5=ม่าย/หย่าร้าง  แต่ยังไม่มีลูก  \n",
        "6=ม่าย/หย่าร้าง และมีลูกแล้ว\"\"\""
      ],
      "execution_count": 26,
      "outputs": [
        {
          "output_type": "execute_result",
          "data": {
            "application/vnd.google.colaboratory.intrinsic+json": {
              "type": "string"
            },
            "text/plain": [
              "'1=โสด (ไม่มีแฟน ไม่มีลูก)  2=มีแฟน/คนรัก  3=สามีหรือภรรยา แต่ยังไม่มีลูก  \\n4=มีสามีหรือภรรยา และมีลูกแล้ว  5=ม่าย/หย่าร้าง  แต่ยังไม่มีลูก  \\n6=ม่าย/หย่าร้าง และมีลูกแล้ว'"
            ]
          },
          "metadata": {
            "tags": []
          },
          "execution_count": 26
        },
        {
          "output_type": "display_data",
          "data": {
            "image/png": "[encoded data removed]",
            "text/plain": [
              "<Figure size 432x288 with 1 Axes>"
            ]
          },
          "metadata": {
            "tags": [],
            "needs_background": "light"
          }
        }
      ]
    },
    {
      "cell_type": "code",
      "metadata": {
        "colab": {
          "base_uri": "https://localhost:8080/",
          "height": 280
        },
        "id": "PhhloRDM-kZB",
        "outputId": "c72dcb7f-f9a4-4fdc-bed5-4253f5e54bfd"
      },
      "source": [
        "fig, ax = plt.subplots()\n",
        "DF_main['a82 ลักษณะการอยู่อาศัย'].value_counts().plot.bar()\n",
        "\"\"\"\n",
        "1=อยู่คนเดียว  2=อยู่กับครอบครัว  3=อยู่กับเพื่อน  4=อยู่กับแฟน/คนรัก (โดยที่ยังไม่แต่งงาน)\n",
        "\"\"\""
      ],
      "execution_count": 27,
      "outputs": [
        {
          "output_type": "execute_result",
          "data": {
            "application/vnd.google.colaboratory.intrinsic+json": {
              "type": "string"
            },
            "text/plain": [
              "'\\n1=อยู่คนเดียว  2=อยู่กับครอบครัว  3=อยู่กับเพื่อน  4=อยู่กับแฟน/คนรัก (โดยที่ยังไม่แต่งงาน)\\n'"
            ]
          },
          "metadata": {
            "tags": []
          },
          "execution_count": 27
        },
        {
          "output_type": "display_data",
          "data": {
            "image/png": "[encoded data removed]",
            "text/plain": [
              "<Figure size 432x288 with 1 Axes>"
            ]
          },
          "metadata": {
            "tags": [],
            "needs_background": "light"
          }
        }
      ]
    },
    {
      "cell_type": "code",
      "metadata": {
        "colab": {
          "base_uri": "https://localhost:8080/",
          "height": 280
        },
        "id": "indGnTss-rXA",
        "outputId": "bdd8d60d-9e4b-43cf-a5e5-d4cb605e67c9"
      },
      "source": [
        "fig, ax = plt.subplots()\n",
        "DF_main['a91 ภูมิภาคที่ท่านอาศัยอยู่ในปัจจุบัน'].value_counts().plot.bar()\n",
        "\"\"\"\n",
        "1=กรุงเทพฯและปริมณฑล  2=ภาคเหนือ  3=ภาคตะวันออกเฉียงเหนือ  4=ภาคกลาง  5=ภาคใต้\n",
        "\"\"\""
      ],
      "execution_count": 28,
      "outputs": [
        {
          "output_type": "execute_result",
          "data": {
            "application/vnd.google.colaboratory.intrinsic+json": {
              "type": "string"
            },
            "text/plain": [
              "'\\n1=กรุงเทพฯและปริมณฑล  2=ภาคเหนือ  3=ภาคตะวันออกเฉียงเหนือ  4=ภาคกลาง  5=ภาคใต้\\n'"
            ]
          },
          "metadata": {
            "tags": []
          },
          "execution_count": 28
        },
        {
          "output_type": "display_data",
          "data": {
            "image/png": "[encoded data removed]",
            "text/plain": [
              "<Figure size 432x288 with 1 Axes>"
            ]
          },
          "metadata": {
            "tags": [],
            "needs_background": "light"
          }
        }
      ]
    },
    {
      "cell_type": "code",
      "metadata": {
        "colab": {
          "base_uri": "https://localhost:8080/"
        },
        "id": "3_kMa4kd_G0T",
        "outputId": "4442e4d4-fd00-4699-80eb-038e3afc2b4a"
      },
      "source": [
        "DF_main.iloc"
      ],
      "execution_count": 29,
      "outputs": [
        {
          "output_type": "execute_result",
          "data": {
            "text/plain": [
              "<pandas.core.indexing._iLocIndexer at 0x7f8ab98b66b0>"
            ]
          },
          "metadata": {
            "tags": []
          },
          "execution_count": 29
        }
      ]
    },
    {
      "cell_type": "code",
      "metadata": {
        "colab": {
          "base_uri": "https://localhost:8080/",
          "height": 300
        },
        "id": "WV_iGgM0_xrF",
        "outputId": "b32bf08d-b515-4a1f-b4a3-2323a06e9831"
      },
      "source": [
        "k1 = 0\n",
        "for i in DF_main.iloc[:,19]:\n",
        "  if i == 1:\n",
        "    k1 += 1\n",
        "\n",
        "k2 = 0\n",
        "for i in DF_main.iloc[:,20]:\n",
        "  if i == 1:\n",
        "    k2 += 1\n",
        "\n",
        "k3 = 0\n",
        "for i in DF_main.iloc[:,21]:\n",
        "  if i == 1:\n",
        "    k3 += 1\n",
        "\n",
        "k4 = 0\n",
        "for i in DF_main.iloc[:,22]:\n",
        "  if i == 1:\n",
        "    k4 += 1\n",
        "\n",
        "k5 = 0\n",
        "for i in DF_main.iloc[:,23]:\n",
        "  if i == 1:\n",
        "    k5 += 1        \n",
        "\n",
        "k6 = 0\n",
        "for i in DF_main.iloc[:,24]:\n",
        "  if i == 1:\n",
        "    k6 += 1\n",
        "\n",
        "k7 = 0\n",
        "for i in DF_main.iloc[:,25]:\n",
        "  if i == 1:\n",
        "    k7 += 1\n",
        "    \n",
        "k8 = 0\n",
        "for i in DF_main.iloc[:,26]:\n",
        "  if i == 1:\n",
        "    k8 += 1\n",
        "\n",
        "k9 = 0\n",
        "for i in DF_main.iloc[:,27]:\n",
        "  if i == 1:\n",
        "    k9 += 1\n",
        "\n",
        "k10 = 0\n",
        "for i in DF_main.iloc[:,28]:\n",
        "  if i == 1:\n",
        "    k10 += 1\n",
        "\n",
        "time_list = [k1, k2, k3, k4, k5, k6, k7, k8, k9, k10]\n",
        "\n",
        "fig, ax = plt.subplots()\n",
        "plt.bar(range(10), time_list)\n",
        "\n",
        "plt.xticks(range(10), time_list)\n",
        "\"\"\"\n",
        "k1ติดตามข่าวในช่วงเช้าตรู่\tk2ติดตามข่าวในช่วงเช้า\tk3ติดตามข่าวในช่วงสาย\t\n",
        "k4ติดตามข่าวในช่วงกลางวัน\tk5ติดตามข่าวในช่วงบ่าย\tk6ติดตามข่าวในช่วงเย็น\t\n",
        "k7ติดตามข่าวในช่วงค่ำ\tk8ติดตามข่าวในช่วงดึก\tk9ติดตามข่าวในช่วงดึกจนล่วงเข้าวันใหม่\t\n",
        "k10ติดตามข่าวในทุกช่วงเวลา\n",
        "\"\"\""
      ],
      "execution_count": 30,
      "outputs": [
        {
          "output_type": "execute_result",
          "data": {
            "application/vnd.google.colaboratory.intrinsic+json": {
              "type": "string"
            },
            "text/plain": [
              "'\\nk1ติดตามข่าวในช่วงเช้าตรู่\\tk2ติดตามข่าวในช่วงเช้า\\tk3ติดตามข่าวในช่วงสาย\\t\\nk4ติดตามข่าวในช่วงกลางวัน\\tk5ติดตามข่าวในช่วงบ่าย\\tk6ติดตามข่าวในช่วงเย็น\\t\\nk7ติดตามข่าวในช่วงค่ำ\\tk8ติดตามข่าวในช่วงดึก\\tk9ติดตามข่าวในช่วงดึกจนล่วงเข้าวันใหม่\\t\\nk10ติดตามข่าวในทุกช่วงเวลา\\n'"
            ]
          },
          "metadata": {
            "tags": []
          },
          "execution_count": 30
        },
        {
          "output_type": "display_data",
          "data": {
            "image/png": "[encoded data removed]",
            "text/plain": [
              "<Figure size 432x288 with 1 Axes>"
            ]
          },
          "metadata": {
            "tags": [],
            "needs_background": "light"
          }
        }
      ]
    },
    {
      "cell_type": "code",
      "metadata": {
        "colab": {
          "base_uri": "https://localhost:8080/",
          "height": 280
        },
        "id": "FaNrtSQkCV8H",
        "outputId": "fb26f7de-a10f-4fae-9af6-1cb8fa3a5b72"
      },
      "source": [
        "fig, ax = plt.subplots()\n",
        "DF_main[\"l11ท่านติดตามข่าวทางเครื่องรับโทรทัศน์ โดยรวมเฉลี่ยต่อวันเป็นระยะเวลาเท่าใด\"].value_counts().plot.bar()\n",
        "\"\"\"\n",
        "l11ท่านติดตามข่าวทางเครื่องรับโทรทัศน์ โดยรวมเฉลี่ยต่อวันเป็นระยะเวลาเท่าใด\n",
        "\"\"\""
      ],
      "execution_count": 31,
      "outputs": [
        {
          "output_type": "execute_result",
          "data": {
            "application/vnd.google.colaboratory.intrinsic+json": {
              "type": "string"
            },
            "text/plain": [
              "'\\nl11ท่านติดตามข่าวทางเครื่องรับโทรทัศน์ โดยรวมเฉลี่ยต่อวันเป็นระยะเวลาเท่าใด\\n'"
            ]
          },
          "metadata": {
            "tags": []
          },
          "execution_count": 31
        },
        {
          "output_type": "display_data",
          "data": {
            "image/png": "[encoded data removed]",
            "text/plain": [
              "<Figure size 432x288 with 1 Axes>"
            ]
          },
          "metadata": {
            "tags": [],
            "needs_background": "light"
          }
        }
      ]
    },
    {
      "cell_type": "code",
      "metadata": {
        "colab": {
          "base_uri": "https://localhost:8080/",
          "height": 317
        },
        "id": "y9ejQChIFe8U",
        "outputId": "6d522cdd-3dfb-41bb-c40e-f9c2758f0ce2"
      },
      "source": [
        "p1 = 0\n",
        "for i in DF_main.iloc[:,30]:\n",
        "  if i == 1:\n",
        "    p1 += 1\n",
        "\n",
        "p2 = 0\n",
        "for i in DF_main.iloc[:,31]:\n",
        "  if i == 1:\n",
        "    p2 += 1\n",
        "\n",
        "p3 = 0\n",
        "for i in DF_main.iloc[:,33]:\n",
        "  if i == 1:\n",
        "    p3 += 1\n",
        "\n",
        "p4 = 0\n",
        "for i in DF_main.iloc[:,34]:\n",
        "  if i == 1:\n",
        "    p4 += 1\n",
        "\n",
        "p5 = 0\n",
        "for i in DF_main.iloc[:,35]:\n",
        "  if i == 1:\n",
        "    p5 += 1        \n",
        "\n",
        "p6 = 0\n",
        "for i in DF_main.iloc[:,36]:\n",
        "  if i == 1:\n",
        "    p6 += 1\n",
        "\n",
        "internet_list = [p1, p2, p3, p4, p5, p6]\n",
        "\n",
        "fig, ax = plt.subplots()\n",
        "plt.bar(range(6), internet_list)\n",
        "\n",
        "plt.xticks(range(6), internet_list)\n",
        "\"\"\"\n",
        "p1ท่านใช้อินเทอร์เน็ตในลักษณะใช้แพคเกจอินเทอร์เน็ตแบบจำกัดจำนวนชั่วโมง\t\n",
        "p2ท่านใช้อินเทอร์เน็ตในลักษณะใช้แพคเกจอินเทอร์เน็ตแบบไม่จำกัดจำนวนชั่วโมง\t\n",
        "p3ท่านใช้อินเทอร์เน็ตในลักษณะใช้ Wi-Fi ที่บ้าน\t\n",
        "p4ท่านใช้อินเทอร์เน็ตในลักษณะใช้ Free Wi-Fi ในที่สาธารณะ หรือที่ทำงาน\t\n",
        "p5ท่านใช้อินเทอร์เน็ตในลักษณะใช้แบบอื่นๆ\t\n",
        "p6ท่านใช้อินเทอร์เน็ตในลักษณะไม่ได้ใช้งานอินเทอร์เน็ต\n",
        "\"\"\""
      ],
      "execution_count": 32,
      "outputs": [
        {
          "output_type": "execute_result",
          "data": {
            "application/vnd.google.colaboratory.intrinsic+json": {
              "type": "string"
            },
            "text/plain": [
              "'\\np1ท่านใช้อินเทอร์เน็ตในลักษณะใช้แพคเกจอินเทอร์เน็ตแบบจำกัดจำนวนชั่วโมง\\t\\np2ท่านใช้อินเทอร์เน็ตในลักษณะใช้แพคเกจอินเทอร์เน็ตแบบไม่จำกัดจำนวนชั่วโมง\\t\\np3ท่านใช้อินเทอร์เน็ตในลักษณะใช้ Wi-Fi ที่บ้าน\\t\\np4ท่านใช้อินเทอร์เน็ตในลักษณะใช้ Free Wi-Fi ในที่สาธารณะ หรือที่ทำงาน\\t\\np5ท่านใช้อินเทอร์เน็ตในลักษณะใช้แบบอื่นๆ\\t\\np6ท่านใช้อินเทอร์เน็ตในลักษณะไม่ได้ใช้งานอินเทอร์เน็ต\\n'"
            ]
          },
          "metadata": {
            "tags": []
          },
          "execution_count": 32
        },
        {
          "output_type": "display_data",
          "data": {
            "image/png": "[encoded data removed]",
            "text/plain": [
              "<Figure size 432x288 with 1 Axes>"
            ]
          },
          "metadata": {
            "tags": [],
            "needs_background": "light"
          }
        }
      ]
    },
    {
      "cell_type": "code",
      "metadata": {
        "colab": {
          "base_uri": "https://localhost:8080/",
          "height": 303
        },
        "id": "lSiR1kM-H5BJ",
        "outputId": "9fb02a87-18be-48ef-808c-fded8ab456af"
      },
      "source": [
        "fig, ax = plt.subplots()\n",
        "DF_main.iloc[:,37].value_counts().plot.bar()\n",
        "\"\"\"\n",
        "q1 สื่อออนไลน์ที่ท่านใช้งานเพื่อติดตามข่าว มีสื่อใดบ้าง โปรดจัดลำดับความนิยม อันดับ 1\n",
        "\n",
        "1=Facebook  2=Twitter  3=YouTube  4=Instagram  \n",
        "5=LINE TODAY  6=LINE TV  7=Podcast / วิทยุออนไลน์  \n",
        "8=Pantip  9=เว็บไซต์ / แอปพลิเคชั่น  10=อื่นๆ\n",
        "\"\"\""
      ],
      "execution_count": 33,
      "outputs": [
        {
          "output_type": "execute_result",
          "data": {
            "application/vnd.google.colaboratory.intrinsic+json": {
              "type": "string"
            },
            "text/plain": [
              "'\\nq1 สื่อออนไลน์ที่ท่านใช้งานเพื่อติดตามข่าว มีสื่อใดบ้าง โปรดจัดลำดับความนิยม อันดับ 1\\n\\n1=Facebook  2=Twitter  3=YouTube  4=Instagram  \\n5=LINE TODAY  6=LINE TV  7=Podcast / วิทยุออนไลน์  \\n8=Pantip  9=เว็บไซต์ / แอปพลิเคชั่น  10=อื่นๆ\\n'"
            ]
          },
          "metadata": {
            "tags": []
          },
          "execution_count": 33
        },
        {
          "output_type": "display_data",
          "data": {
            "image/png": "[encoded data removed]",
            "text/plain": [
              "<Figure size 432x288 with 1 Axes>"
            ]
          },
          "metadata": {
            "tags": [],
            "needs_background": "light"
          }
        }
      ]
    },
    {
      "cell_type": "code",
      "metadata": {
        "colab": {
          "base_uri": "https://localhost:8080/",
          "height": 303
        },
        "id": "OCJA1SiWIHcu",
        "outputId": "9ef3169d-552b-4450-f3e5-59cb7470763a"
      },
      "source": [
        "fig, ax = plt.subplots()\n",
        "DF_main.iloc[:,38].value_counts().plot.bar()\n",
        "\"\"\"\n",
        "q2 สื่อออนไลน์ที่ท่านใช้งานเพื่อติดตามข่าว มีสื่อใดบ้าง โปรดจัดลำดับความนิยม อันดับ 2\n",
        "\n",
        "1=Facebook  2=Twitter  3=YouTube  4=Instagram  \n",
        "5=LINE TODAY  6=LINE TV  7=Podcast / วิทยุออนไลน์  \n",
        "8=Pantip  9=เว็บไซต์ / แอปพลิเคชั่น  10=อื่นๆ\n",
        "\"\"\""
      ],
      "execution_count": 34,
      "outputs": [
        {
          "output_type": "execute_result",
          "data": {
            "application/vnd.google.colaboratory.intrinsic+json": {
              "type": "string"
            },
            "text/plain": [
              "'\\nq2 สื่อออนไลน์ที่ท่านใช้งานเพื่อติดตามข่าว มีสื่อใดบ้าง โปรดจัดลำดับความนิยม อันดับ 2\\n\\n1=Facebook  2=Twitter  3=YouTube  4=Instagram  \\n5=LINE TODAY  6=LINE TV  7=Podcast / วิทยุออนไลน์  \\n8=Pantip  9=เว็บไซต์ / แอปพลิเคชั่น  10=อื่นๆ\\n'"
            ]
          },
          "metadata": {
            "tags": []
          },
          "execution_count": 34
        },
        {
          "output_type": "display_data",
          "data": {
            "image/png": "[encoded data removed]",
            "text/plain": [
              "<Figure size 432x288 with 1 Axes>"
            ]
          },
          "metadata": {
            "tags": [],
            "needs_background": "light"
          }
        }
      ]
    },
    {
      "cell_type": "code",
      "metadata": {
        "colab": {
          "base_uri": "https://localhost:8080/",
          "height": 303
        },
        "id": "_SlfXcaqJwSa",
        "outputId": "99cb468c-30a6-4f21-ae70-d6d494325ea1"
      },
      "source": [
        "fig, ax = plt.subplots()\n",
        "DF_main.iloc[:,39].value_counts().plot.bar()\n",
        "\"\"\"\n",
        "q3 สื่อออนไลน์ที่ท่านใช้งานเพื่อติดตามข่าว มีสื่อใดบ้าง โปรดจัดลำดับความนิยม อันดับ 3\n",
        "\n",
        "1=Facebook  2=Twitter  3=YouTube  4=Instagram  \n",
        "5=LINE TODAY  6=LINE TV  7=Podcast / วิทยุออนไลน์  \n",
        "8=Pantip  9=เว็บไซต์ / แอปพลิเคชั่น  10=อื่นๆ\n",
        "\"\"\""
      ],
      "execution_count": 35,
      "outputs": [
        {
          "output_type": "execute_result",
          "data": {
            "application/vnd.google.colaboratory.intrinsic+json": {
              "type": "string"
            },
            "text/plain": [
              "'\\nq3 สื่อออนไลน์ที่ท่านใช้งานเพื่อติดตามข่าว มีสื่อใดบ้าง โปรดจัดลำดับความนิยม อันดับ 3\\n\\n1=Facebook  2=Twitter  3=YouTube  4=Instagram  \\n5=LINE TODAY  6=LINE TV  7=Podcast / วิทยุออนไลน์  \\n8=Pantip  9=เว็บไซต์ / แอปพลิเคชั่น  10=อื่นๆ\\n'"
            ]
          },
          "metadata": {
            "tags": []
          },
          "execution_count": 35
        },
        {
          "output_type": "display_data",
          "data": {
            "image/png": "[encoded data removed]",
            "text/plain": [
              "<Figure size 432x288 with 1 Axes>"
            ]
          },
          "metadata": {
            "tags": [],
            "needs_background": "light"
          }
        }
      ]
    },
    {
      "cell_type": "code",
      "metadata": {
        "colab": {
          "base_uri": "https://localhost:8080/",
          "height": 297
        },
        "id": "N_CvrFRVN5af",
        "outputId": "26b94286-4c0e-46a8-b33f-ac82cdb77a7f"
      },
      "source": [
        "fig, ax = plt.subplots()\n",
        "DF_main.iloc[:,76].value_counts().plot.bar()\n",
        "\n",
        "\"\"\"\n",
        "v1 ในสื่อทุกช่องทางที่ท่านใช้ติดตามข่าว ท่านจะมีติดตามเนื้อหาข่าวแบบใดมากที่สุด\n",
        "(เลือกเพียงข้อเดียว)\n",
        "\n",
        "1=ติดตามทุกข่าว  2=ติดตามเฉพาะข่าวที่ตนเองสนใจ  3=ติดตามเฉพาะข่าวที่อยู่ในกระแส  \n",
        "4=ติดตามเฉพาะข่าวที่ส่งผลต่อการดำเนินชีวิตของตัวเองและครอบครัว  5=อื่นๆ  ระบุ\n",
        "\"\"\""
      ],
      "execution_count": 36,
      "outputs": [
        {
          "output_type": "execute_result",
          "data": {
            "application/vnd.google.colaboratory.intrinsic+json": {
              "type": "string"
            },
            "text/plain": [
              "'\\nv1 ในสื่อทุกช่องทางที่ท่านใช้ติดตามข่าว ท่านจะมีติดตามเนื้อหาข่าวแบบใดมากที่สุด\\n(เลือกเพียงข้อเดียว)\\n\\n1=ติดตามทุกข่าว  2=ติดตามเฉพาะข่าวที่ตนเองสนใจ  3=ติดตามเฉพาะข่าวที่อยู่ในกระแส  \\n4=ติดตามเฉพาะข่าวที่ส่งผลต่อการดำเนินชีวิตของตัวเองและครอบครัว  5=อื่นๆ  ระบุ\\n'"
            ]
          },
          "metadata": {
            "tags": []
          },
          "execution_count": 36
        },
        {
          "output_type": "display_data",
          "data": {
            "image/png": "[encoded data removed]",
            "text/plain": [
              "<Figure size 432x288 with 1 Axes>"
            ]
          },
          "metadata": {
            "tags": [],
            "needs_background": "light"
          }
        }
      ]
    },
    {
      "cell_type": "code",
      "metadata": {
        "colab": {
          "base_uri": "https://localhost:8080/",
          "height": 280
        },
        "id": "xB_XdBMtO8p2",
        "outputId": "664239e3-b65c-47b8-be57-2f4cc76c7ff8"
      },
      "source": [
        "fig, ax = plt.subplots()\n",
        "DF_main.iloc[:, 79].value_counts().plot.bar()\n",
        "\n",
        "\"\"\"\n",
        "w1 ท่านมักติดตามข่าวในช่วงวันใดมากที่สุด\n",
        "\n",
        "1=จันทร์-ศุกร์  2=เสาร์-อาทิตย์/วันหยุด  3=ทุกวัน\n",
        "\"\"\""
      ],
      "execution_count": 37,
      "outputs": [
        {
          "output_type": "execute_result",
          "data": {
            "application/vnd.google.colaboratory.intrinsic+json": {
              "type": "string"
            },
            "text/plain": [
              "'\\nw1 ท่านมักติดตามข่าวในช่วงวันใดมากที่สุด\\n\\n1=จันทร์-ศุกร์  2=เสาร์-อาทิตย์/วันหยุด  3=ทุกวัน\\n'"
            ]
          },
          "metadata": {
            "tags": []
          },
          "execution_count": 37
        },
        {
          "output_type": "display_data",
          "data": {
            "image/png": "[encoded data removed]",
            "text/plain": [
              "<Figure size 432x288 with 1 Axes>"
            ]
          },
          "metadata": {
            "tags": [],
            "needs_background": "light"
          }
        }
      ]
    },
    {
      "cell_type": "code",
      "metadata": {
        "colab": {
          "base_uri": "https://localhost:8080/",
          "height": 283
        },
        "id": "Y2AS3M3jQOLi",
        "outputId": "73cf8b61-3828-448e-8ac0-8f551f35bcff"
      },
      "source": [
        "x1 = 0\n",
        "for i in DF_main.iloc[:,30]:\n",
        "  if i == 1:\n",
        "    x1 += 1\n",
        "\n",
        "x2 = 0\n",
        "for i in DF_main.iloc[:,31]:\n",
        "  if i == 1:\n",
        "    x2 += 1\n",
        "\n",
        "x3 = 0\n",
        "for i in DF_main.iloc[:,33]:\n",
        "  if i == 1:\n",
        "    x3 += 1\n",
        "\n",
        "x4 = 0\n",
        "for i in DF_main.iloc[:,34]:\n",
        "  if i == 1:\n",
        "    x4 += 1\n",
        "\n",
        "x5 = 0\n",
        "for i in DF_main.iloc[:,35]:\n",
        "  if i == 1:\n",
        "    x5 += 1        \n",
        "\n",
        "tnew_list = [x1, x2, x3, x4, x5]\n",
        "\n",
        "fig, ax = plt.subplots()\n",
        "plt.bar(range(5), tnew_list)\n",
        "\n",
        "plt.xticks(range(5))\n",
        "\"\"\"\n",
        "x1 ท่านมักติดตามข่าว ที่บ้าน\tx2 ท่านมักติดตามข่าว สถานที่ทำงาน\t\n",
        "x3 ท่านมักติดตามข่าว บนยานพาหนะระหว่างเดินทาง\tx4 ท่านมักติดตามข่าว ไม่จำกัดสถานที่\t\n",
        "x5 อื่นๆ ระบุ\n",
        "\"\"\""
      ],
      "execution_count": 38,
      "outputs": [
        {
          "output_type": "execute_result",
          "data": {
            "application/vnd.google.colaboratory.intrinsic+json": {
              "type": "string"
            },
            "text/plain": [
              "'\\nx1 ท่านมักติดตามข่าว ที่บ้าน\\tx2 ท่านมักติดตามข่าว สถานที่ทำงาน\\t\\nx3 ท่านมักติดตามข่าว บนยานพาหนะระหว่างเดินทาง\\tx4 ท่านมักติดตามข่าว ไม่จำกัดสถานที่\\t\\nx5 อื่นๆ ระบุ\\n'"
            ]
          },
          "metadata": {
            "tags": []
          },
          "execution_count": 38
        },
        {
          "output_type": "display_data",
          "data": {
            "image/png": "[encoded data removed]",
            "text/plain": [
              "<Figure size 432x288 with 1 Axes>"
            ]
          },
          "metadata": {
            "tags": [],
            "needs_background": "light"
          }
        }
      ]
    },
    {
      "cell_type": "code",
      "metadata": {
        "colab": {
          "base_uri": "https://localhost:8080/",
          "height": 205
        },
        "id": "uJZN6fSJcRgQ",
        "outputId": "ea53846a-4d70-4077-ff93-f85873aa8f76"
      },
      "source": [
        "\"\"\"\\nk1ติดตามข่าวในช่วงเช้าตรู่\\tk2ติดตามข่าวในช่วงเช้า\\tk3ติดตามข่าวในช่วงสาย\\t \n",
        "\\nk4ติดตามข่าวในช่วงกลางวัน\\tk5ติดตามข่าวในช่วงบ่าย\n",
        "\\tk6ติดตามข่าวในช่วงเย็น\\t\\nk7ติดตามข่าวในช่วงค่ำ\\tk8ติดตามข่าวในช่วงดึก\\tk9ติดตามข่าวในช่วงดึกจนล่วงเข้าวันใหม่\\t\n",
        "\\nk10ติดตามข่าวในทุกช่วงเวลา\\n\"\"\"\n",
        "\n",
        "DF_period = pd.DataFrame()\n",
        "\n",
        "DF_period[\"เช้า\"] = DF_main.iloc[:,19] +DF_main.iloc[:,20] + DF_main.iloc[:,21]\n",
        "DF_period[\"เที่ยง\"]  = DF_main.iloc[:,22] +DF_main.iloc[:,23] \n",
        "DF_period[\"เย็น-ดึก\"]  = DF_main.iloc[:,24] +DF_main.iloc[:,25] + DF_main.iloc[:,26] + DF_main.iloc[:,27]\n",
        "DF_period[\"ตลอดเวลา\"] = DF_main.iloc[:,28]\n",
        "\n",
        "for i, t in enumerate(DF_period[\"เช้า\"]):\n",
        "  if t > 1:\n",
        "    DF_period[\"เช้า\"]\n",
        "    DF_period[\"เช้า\"][i] = 1\n",
        "\n",
        "for i, t in enumerate(DF_period[\"เที่ยง\"]):\n",
        "  if t > 1:\n",
        "    DF_period[\"เที่ยง\"]\n",
        "    DF_period[\"เที่ยง\"][i] = 1\n",
        "\n",
        "for i, t in enumerate(DF_period[\"เย็น-ดึก\"]):\n",
        "  if t > 1:\n",
        "    DF_period[\"เย็น-ดึก\"]\n",
        "    DF_period[\"เย็น-ดึก\"][i] = 1\n",
        "\n",
        "DF_period\n",
        "DFGen = DF_main[DF_main.columns[-2]]\n",
        "\n",
        "periodxgen = DF_period.set_index(DFGen)\n",
        "periodxgen.reset_index(inplace=True)\n",
        "periodxgen.columns = [\"gen\",\"เช้า\", \"เที่ยง\",\"ค่ำ\", \"ตลอดเวลา\"]\n",
        "periodxgen[\"gen\"] = periodxgen[\"gen\"].astype(\"int\")\n",
        "periodxgen.head()"
      ],
      "execution_count": 40,
      "outputs": [
        {
          "output_type": "execute_result",
          "data": {
            "text/html": [
              "<div>\n",
              "<style scoped>\n",
              "    .dataframe tbody tr th:only-of-type {\n",
              "        vertical-align: middle;\n",
              "    }\n",
              "\n",
              "    .dataframe tbody tr th {\n",
              "        vertical-align: top;\n",
              "    }\n",
              "\n",
              "    .dataframe thead th {\n",
              "        text-align: right;\n",
              "    }\n",
              "</style>\n",
              "<table border=\"1\" class=\"dataframe\">\n",
              "  <thead>\n",
              "    <tr style=\"text-align: right;\">\n",
              "      <th></th>\n",
              "      <th>gen</th>\n",
              "      <th>เช้า</th>\n",
              "      <th>เที่ยง</th>\n",
              "      <th>ค่ำ</th>\n",
              "      <th>ตลอดเวลา</th>\n",
              "    </tr>\n",
              "  </thead>\n",
              "  <tbody>\n",
              "    <tr>\n",
              "      <th>0</th>\n",
              "      <td>2</td>\n",
              "      <td>1</td>\n",
              "      <td>0</td>\n",
              "      <td>1</td>\n",
              "      <td>0</td>\n",
              "    </tr>\n",
              "    <tr>\n",
              "      <th>1</th>\n",
              "      <td>2</td>\n",
              "      <td>1</td>\n",
              "      <td>0</td>\n",
              "      <td>1</td>\n",
              "      <td>0</td>\n",
              "    </tr>\n",
              "    <tr>\n",
              "      <th>2</th>\n",
              "      <td>2</td>\n",
              "      <td>1</td>\n",
              "      <td>0</td>\n",
              "      <td>1</td>\n",
              "      <td>0</td>\n",
              "    </tr>\n",
              "    <tr>\n",
              "      <th>3</th>\n",
              "      <td>3</td>\n",
              "      <td>1</td>\n",
              "      <td>1</td>\n",
              "      <td>1</td>\n",
              "      <td>0</td>\n",
              "    </tr>\n",
              "    <tr>\n",
              "      <th>4</th>\n",
              "      <td>4</td>\n",
              "      <td>1</td>\n",
              "      <td>1</td>\n",
              "      <td>1</td>\n",
              "      <td>0</td>\n",
              "    </tr>\n",
              "  </tbody>\n",
              "</table>\n",
              "</div>"
            ],
            "text/plain": [
              "   gen เช้า เที่ยง ค่ำ ตลอดเวลา\n",
              "0    2    1      0   1        0\n",
              "1    2    1      0   1        0\n",
              "2    2    1      0   1        0\n",
              "3    3    1      1   1        0\n",
              "4    4    1      1   1        0"
            ]
          },
          "metadata": {
            "tags": []
          },
          "execution_count": 40
        }
      ]
    },
    {
      "cell_type": "code",
      "metadata": {
        "colab": {
          "base_uri": "https://localhost:8080/",
          "height": 555
        },
        "id": "Ma8ifoyBmSss",
        "outputId": "f94da8b4-f4c9-46fb-d32f-55e371c4fff7"
      },
      "source": [
        "ax = sns.countplot(x=\"gen\", hue=\"เช้า\", data=periodxgen)"
      ],
      "execution_count": 41,
      "outputs": [
        {
          "output_type": "stream",
          "text": [
            "/usr/local/lib/python3.7/dist-packages/matplotlib/backends/backend_agg.py:214: RuntimeWarning: Glyph 3648 missing from current font.\n",
            "  font.set_text(s, 0.0, flags=flags)\n",
            "/usr/local/lib/python3.7/dist-packages/matplotlib/backends/backend_agg.py:214: RuntimeWarning: Glyph 3594 missing from current font.\n",
            "  font.set_text(s, 0.0, flags=flags)\n",
            "/usr/local/lib/python3.7/dist-packages/matplotlib/backends/backend_agg.py:214: RuntimeWarning: Glyph 3657 missing from current font.\n",
            "  font.set_text(s, 0.0, flags=flags)\n",
            "/usr/local/lib/python3.7/dist-packages/matplotlib/backends/backend_agg.py:214: RuntimeWarning: Glyph 3634 missing from current font.\n",
            "  font.set_text(s, 0.0, flags=flags)\n",
            "/usr/local/lib/python3.7/dist-packages/matplotlib/backends/backend_agg.py:183: RuntimeWarning: Glyph 3648 missing from current font.\n",
            "  font.set_text(s, 0, flags=flags)\n",
            "/usr/local/lib/python3.7/dist-packages/matplotlib/backends/backend_agg.py:183: RuntimeWarning: Glyph 3594 missing from current font.\n",
            "  font.set_text(s, 0, flags=flags)\n",
            "/usr/local/lib/python3.7/dist-packages/matplotlib/backends/backend_agg.py:183: RuntimeWarning: Glyph 3657 missing from current font.\n",
            "  font.set_text(s, 0, flags=flags)\n",
            "/usr/local/lib/python3.7/dist-packages/matplotlib/backends/backend_agg.py:183: RuntimeWarning: Glyph 3634 missing from current font.\n",
            "  font.set_text(s, 0, flags=flags)\n"
          ],
          "name": "stderr"
        },
        {
          "output_type": "display_data",
          "data": {
            "image/png": "[encoded data removed]",
            "text/plain": [
              "<Figure size 432x288 with 1 Axes>"
            ]
          },
          "metadata": {
            "tags": [],
            "needs_background": "light"
          }
        }
      ]
    },
    {
      "cell_type": "code",
      "metadata": {
        "colab": {
          "base_uri": "https://localhost:8080/",
          "height": 35
        },
        "id": "AzQ1tgzwpmBc",
        "outputId": "786c4074-c294-45e3-9d88-72d4402db74c"
      },
      "source": [
        "\"\"\"\n",
        "อายุ 13 - 19 ปี,\tอายุ 20 - 37 ปี,\tอายุ 38 - 52 ปี,\tอายุ 53 - 72 ปี\n",
        "\"\"\""
      ],
      "execution_count": 42,
      "outputs": [
        {
          "output_type": "execute_result",
          "data": {
            "application/vnd.google.colaboratory.intrinsic+json": {
              "type": "string"
            },
            "text/plain": [
              "'\\nอายุ 13 - 19 ปี,\\tอายุ 20 - 37 ปี,\\tอายุ 38 - 52 ปี,\\tอายุ 53 - 72 ปี\\n'"
            ]
          },
          "metadata": {
            "tags": []
          },
          "execution_count": 42
        }
      ]
    },
    {
      "cell_type": "code",
      "metadata": {
        "colab": {
          "base_uri": "https://localhost:8080/",
          "height": 694
        },
        "id": "FaR7zpEapBaA",
        "outputId": "dfc2d630-84aa-4bd7-c1a0-86f5468169da"
      },
      "source": [
        "ax = sns.countplot(x=\"gen\", hue=\"เที่ยง\", data=periodxgen)"
      ],
      "execution_count": 43,
      "outputs": [
        {
          "output_type": "stream",
          "text": [
            "/usr/local/lib/python3.7/dist-packages/matplotlib/backends/backend_agg.py:214: RuntimeWarning: Glyph 3648 missing from current font.\n",
            "  font.set_text(s, 0.0, flags=flags)\n",
            "/usr/local/lib/python3.7/dist-packages/matplotlib/backends/backend_agg.py:214: RuntimeWarning: Glyph 3607 missing from current font.\n",
            "  font.set_text(s, 0.0, flags=flags)\n",
            "/usr/local/lib/python3.7/dist-packages/matplotlib/backends/backend_agg.py:214: RuntimeWarning: Glyph 3637 missing from current font.\n",
            "  font.set_text(s, 0.0, flags=flags)\n",
            "/usr/local/lib/python3.7/dist-packages/matplotlib/backends/backend_agg.py:214: RuntimeWarning: Glyph 3656 missing from current font.\n",
            "  font.set_text(s, 0.0, flags=flags)\n",
            "/usr/local/lib/python3.7/dist-packages/matplotlib/backends/backend_agg.py:214: RuntimeWarning: Glyph 3618 missing from current font.\n",
            "  font.set_text(s, 0.0, flags=flags)\n",
            "/usr/local/lib/python3.7/dist-packages/matplotlib/backends/backend_agg.py:214: RuntimeWarning: Glyph 3591 missing from current font.\n",
            "  font.set_text(s, 0.0, flags=flags)\n",
            "/usr/local/lib/python3.7/dist-packages/matplotlib/backends/backend_agg.py:183: RuntimeWarning: Glyph 3648 missing from current font.\n",
            "  font.set_text(s, 0, flags=flags)\n",
            "/usr/local/lib/python3.7/dist-packages/matplotlib/backends/backend_agg.py:183: RuntimeWarning: Glyph 3607 missing from current font.\n",
            "  font.set_text(s, 0, flags=flags)\n",
            "/usr/local/lib/python3.7/dist-packages/matplotlib/backends/backend_agg.py:183: RuntimeWarning: Glyph 3637 missing from current font.\n",
            "  font.set_text(s, 0, flags=flags)\n",
            "/usr/local/lib/python3.7/dist-packages/matplotlib/backends/backend_agg.py:183: RuntimeWarning: Glyph 3656 missing from current font.\n",
            "  font.set_text(s, 0, flags=flags)\n",
            "/usr/local/lib/python3.7/dist-packages/matplotlib/backends/backend_agg.py:183: RuntimeWarning: Glyph 3618 missing from current font.\n",
            "  font.set_text(s, 0, flags=flags)\n",
            "/usr/local/lib/python3.7/dist-packages/matplotlib/backends/backend_agg.py:183: RuntimeWarning: Glyph 3591 missing from current font.\n",
            "  font.set_text(s, 0, flags=flags)\n"
          ],
          "name": "stderr"
        },
        {
          "output_type": "display_data",
          "data": {
            "image/png": "[encoded data removed]",
            "text/plain": [
              "<Figure size 432x288 with 1 Axes>"
            ]
          },
          "metadata": {
            "tags": [],
            "needs_background": "light"
          }
        }
      ]
    },
    {
      "cell_type": "code",
      "metadata": {
        "colab": {
          "base_uri": "https://localhost:8080/",
          "height": 35
        },
        "id": "kmxfrN-Apvst",
        "outputId": "c9b54384-1ac0-4fd9-923f-fcdd6eb0653b"
      },
      "source": [
        "\"\"\"\n",
        "อายุ 13 - 19 ปี,\tอายุ 20 - 37 ปี,\tอายุ 38 - 52 ปี,\tอายุ 53 - 72 ปี\n",
        "\"\"\""
      ],
      "execution_count": 44,
      "outputs": [
        {
          "output_type": "execute_result",
          "data": {
            "application/vnd.google.colaboratory.intrinsic+json": {
              "type": "string"
            },
            "text/plain": [
              "'\\nอายุ 13 - 19 ปี,\\tอายุ 20 - 37 ปี,\\tอายุ 38 - 52 ปี,\\tอายุ 53 - 72 ปี\\n'"
            ]
          },
          "metadata": {
            "tags": []
          },
          "execution_count": 44
        }
      ]
    },
    {
      "cell_type": "code",
      "metadata": {
        "colab": {
          "base_uri": "https://localhost:8080/",
          "height": 486
        },
        "id": "2ir1LB7ppEHF",
        "outputId": "cf79cab7-1ac1-48d3-8993-13cb34b4e503"
      },
      "source": [
        "ax = sns.countplot(x=\"gen\", hue=\"ค่ำ\", data=periodxgen)"
      ],
      "execution_count": 45,
      "outputs": [
        {
          "output_type": "stream",
          "text": [
            "/usr/local/lib/python3.7/dist-packages/matplotlib/backends/backend_agg.py:214: RuntimeWarning: Glyph 3588 missing from current font.\n",
            "  font.set_text(s, 0.0, flags=flags)\n",
            "/usr/local/lib/python3.7/dist-packages/matplotlib/backends/backend_agg.py:214: RuntimeWarning: Glyph 3656 missing from current font.\n",
            "  font.set_text(s, 0.0, flags=flags)\n",
            "/usr/local/lib/python3.7/dist-packages/matplotlib/backends/backend_agg.py:214: RuntimeWarning: Glyph 3635 missing from current font.\n",
            "  font.set_text(s, 0.0, flags=flags)\n",
            "/usr/local/lib/python3.7/dist-packages/matplotlib/backends/backend_agg.py:183: RuntimeWarning: Glyph 3588 missing from current font.\n",
            "  font.set_text(s, 0, flags=flags)\n",
            "/usr/local/lib/python3.7/dist-packages/matplotlib/backends/backend_agg.py:183: RuntimeWarning: Glyph 3656 missing from current font.\n",
            "  font.set_text(s, 0, flags=flags)\n",
            "/usr/local/lib/python3.7/dist-packages/matplotlib/backends/backend_agg.py:183: RuntimeWarning: Glyph 3635 missing from current font.\n",
            "  font.set_text(s, 0, flags=flags)\n"
          ],
          "name": "stderr"
        },
        {
          "output_type": "display_data",
          "data": {
            "image/png": "[encoded data removed]",
            "text/plain": [
              "<Figure size 432x288 with 1 Axes>"
            ]
          },
          "metadata": {
            "tags": [],
            "needs_background": "light"
          }
        }
      ]
    },
    {
      "cell_type": "code",
      "metadata": {
        "colab": {
          "base_uri": "https://localhost:8080/",
          "height": 35
        },
        "id": "igfxy0F8pw3E",
        "outputId": "070fe32a-aebe-4713-fe05-9f08246515b3"
      },
      "source": [
        "\"\"\"\n",
        "อายุ 13 - 19 ปี,\tอายุ 20 - 37 ปี,\tอายุ 38 - 52 ปี,\tอายุ 53 - 72 ปี\n",
        "\"\"\""
      ],
      "execution_count": 46,
      "outputs": [
        {
          "output_type": "execute_result",
          "data": {
            "application/vnd.google.colaboratory.intrinsic+json": {
              "type": "string"
            },
            "text/plain": [
              "'\\nอายุ 13 - 19 ปี,\\tอายุ 20 - 37 ปี,\\tอายุ 38 - 52 ปี,\\tอายุ 53 - 72 ปี\\n'"
            ]
          },
          "metadata": {
            "tags": []
          },
          "execution_count": 46
        }
      ]
    },
    {
      "cell_type": "code",
      "metadata": {
        "colab": {
          "base_uri": "https://localhost:8080/",
          "height": 763
        },
        "id": "IKlGJsSxpE1V",
        "outputId": "94668157-c017-4ec8-eb65-6b39c6b81cf0"
      },
      "source": [
        "ax = sns.countplot(x=\"gen\", hue=\"ตลอดเวลา\", data=periodxgen)"
      ],
      "execution_count": 47,
      "outputs": [
        {
          "output_type": "stream",
          "text": [
            "/usr/local/lib/python3.7/dist-packages/matplotlib/backends/backend_agg.py:214: RuntimeWarning: Glyph 3605 missing from current font.\n",
            "  font.set_text(s, 0.0, flags=flags)\n",
            "/usr/local/lib/python3.7/dist-packages/matplotlib/backends/backend_agg.py:214: RuntimeWarning: Glyph 3621 missing from current font.\n",
            "  font.set_text(s, 0.0, flags=flags)\n",
            "/usr/local/lib/python3.7/dist-packages/matplotlib/backends/backend_agg.py:214: RuntimeWarning: Glyph 3629 missing from current font.\n",
            "  font.set_text(s, 0.0, flags=flags)\n",
            "/usr/local/lib/python3.7/dist-packages/matplotlib/backends/backend_agg.py:214: RuntimeWarning: Glyph 3604 missing from current font.\n",
            "  font.set_text(s, 0.0, flags=flags)\n",
            "/usr/local/lib/python3.7/dist-packages/matplotlib/backends/backend_agg.py:214: RuntimeWarning: Glyph 3648 missing from current font.\n",
            "  font.set_text(s, 0.0, flags=flags)\n",
            "/usr/local/lib/python3.7/dist-packages/matplotlib/backends/backend_agg.py:214: RuntimeWarning: Glyph 3623 missing from current font.\n",
            "  font.set_text(s, 0.0, flags=flags)\n",
            "/usr/local/lib/python3.7/dist-packages/matplotlib/backends/backend_agg.py:214: RuntimeWarning: Glyph 3634 missing from current font.\n",
            "  font.set_text(s, 0.0, flags=flags)\n",
            "/usr/local/lib/python3.7/dist-packages/matplotlib/backends/backend_agg.py:183: RuntimeWarning: Glyph 3605 missing from current font.\n",
            "  font.set_text(s, 0, flags=flags)\n",
            "/usr/local/lib/python3.7/dist-packages/matplotlib/backends/backend_agg.py:183: RuntimeWarning: Glyph 3621 missing from current font.\n",
            "  font.set_text(s, 0, flags=flags)\n",
            "/usr/local/lib/python3.7/dist-packages/matplotlib/backends/backend_agg.py:183: RuntimeWarning: Glyph 3629 missing from current font.\n",
            "  font.set_text(s, 0, flags=flags)\n",
            "/usr/local/lib/python3.7/dist-packages/matplotlib/backends/backend_agg.py:183: RuntimeWarning: Glyph 3604 missing from current font.\n",
            "  font.set_text(s, 0, flags=flags)\n",
            "/usr/local/lib/python3.7/dist-packages/matplotlib/backends/backend_agg.py:183: RuntimeWarning: Glyph 3648 missing from current font.\n",
            "  font.set_text(s, 0, flags=flags)\n",
            "/usr/local/lib/python3.7/dist-packages/matplotlib/backends/backend_agg.py:183: RuntimeWarning: Glyph 3623 missing from current font.\n",
            "  font.set_text(s, 0, flags=flags)\n",
            "/usr/local/lib/python3.7/dist-packages/matplotlib/backends/backend_agg.py:183: RuntimeWarning: Glyph 3634 missing from current font.\n",
            "  font.set_text(s, 0, flags=flags)\n"
          ],
          "name": "stderr"
        },
        {
          "output_type": "display_data",
          "data": {
            "image/png": "[encoded data removed]",
            "text/plain": [
              "<Figure size 432x288 with 1 Axes>"
            ]
          },
          "metadata": {
            "tags": [],
            "needs_background": "light"
          }
        }
      ]
    },
    {
      "cell_type": "code",
      "metadata": {
        "colab": {
          "base_uri": "https://localhost:8080/",
          "height": 35
        },
        "id": "HCSysC7dZXAY",
        "outputId": "db220270-929f-40d6-c393-38ff596ec6bd"
      },
      "source": [
        "\"\"\"\n",
        "อายุ 13 - 19 ปี,\tอายุ 20 - 37 ปี,\tอายุ 38 - 52 ปี,\tอายุ 53 - 72 ปี\n",
        "\"\"\""
      ],
      "execution_count": 48,
      "outputs": [
        {
          "output_type": "execute_result",
          "data": {
            "application/vnd.google.colaboratory.intrinsic+json": {
              "type": "string"
            },
            "text/plain": [
              "'\\nอายุ 13 - 19 ปี,\\tอายุ 20 - 37 ปี,\\tอายุ 38 - 52 ปี,\\tอายุ 53 - 72 ปี\\n'"
            ]
          },
          "metadata": {
            "tags": []
          },
          "execution_count": 48
        }
      ]
    },
    {
      "cell_type": "code",
      "metadata": {
        "id": "hq1wFZX_twwW"
      },
      "source": [
        "from sklearn.cluster import KMeans\n",
        "from scipy.spatial.distance import cdist\n",
        "import numpy as np"
      ],
      "execution_count": 54,
      "outputs": []
    },
    {
      "cell_type": "code",
      "metadata": {
        "colab": {
          "base_uri": "https://localhost:8080/",
          "height": 295
        },
        "id": "3iMGXZiCXno4",
        "outputId": "1f82fe95-90a4-4443-eef3-973e8ba8a25a"
      },
      "source": [
        "# try with 10 different values of k to find the best one\n",
        "Ks = 10\n",
        "distortions = []\n",
        "\n",
        "for k in range(1, Ks):\n",
        "\n",
        "    # run k-means clustering\n",
        "    kmeans = KMeans(n_clusters=k, random_state=0).fit(periodxgen)\n",
        "\n",
        "    # find the distortion w.r.t each k\n",
        "    distortions.append(\n",
        "        sum(np.min(cdist(periodxgen, kmeans.cluster_centers_, 'euclidean'), axis=1))\n",
        "        / periodxgen.shape[0]\n",
        "    )\n",
        "\n",
        "plt.plot(range(1, Ks), distortions, 'bx-')\n",
        "plt.xlabel('k')\n",
        "plt.ylabel('Distortion')\n",
        "plt.title('The Elbow Method showing the optimal k')\n",
        "plt.show()"
      ],
      "execution_count": 55,
      "outputs": [
        {
          "output_type": "display_data",
          "data": {
            "image/png": "[encoded data removed]",
            "text/plain": [
              "<Figure size 432x288 with 1 Axes>"
            ]
          },
          "metadata": {
            "tags": [],
            "needs_background": "light"
          }
        }
      ]
    },
    {
      "cell_type": "code",
      "metadata": {
        "colab": {
          "base_uri": "https://localhost:8080/",
          "height": 205
        },
        "id": "OueP5WHxXnkg",
        "outputId": "435f984c-dc8b-40fd-c025-86244ffd1e2b"
      },
      "source": [
        "clus = KMeans(n_clusters=3, random_state=0).fit_predict(periodxgen)    # กำหนดให้แบ่งออกเป็น 6 กลุ่ม และ random state เมื่อต้องการให้สุ่มได้ข้อมูลชุดเดิม\n",
        "periodxgen['prog_clus'] = clus\n",
        "periodxgen.head()"
      ],
      "execution_count": 60,
      "outputs": [
        {
          "output_type": "execute_result",
          "data": {
            "text/html": [
              "<div>\n",
              "<style scoped>\n",
              "    .dataframe tbody tr th:only-of-type {\n",
              "        vertical-align: middle;\n",
              "    }\n",
              "\n",
              "    .dataframe tbody tr th {\n",
              "        vertical-align: top;\n",
              "    }\n",
              "\n",
              "    .dataframe thead th {\n",
              "        text-align: right;\n",
              "    }\n",
              "</style>\n",
              "<table border=\"1\" class=\"dataframe\">\n",
              "  <thead>\n",
              "    <tr style=\"text-align: right;\">\n",
              "      <th></th>\n",
              "      <th>gen</th>\n",
              "      <th>เช้า</th>\n",
              "      <th>เที่ยง</th>\n",
              "      <th>ค่ำ</th>\n",
              "      <th>ตลอดเวลา</th>\n",
              "      <th>prog_clus</th>\n",
              "    </tr>\n",
              "  </thead>\n",
              "  <tbody>\n",
              "    <tr>\n",
              "      <th>0</th>\n",
              "      <td>2</td>\n",
              "      <td>1</td>\n",
              "      <td>0</td>\n",
              "      <td>1</td>\n",
              "      <td>0</td>\n",
              "      <td>1</td>\n",
              "    </tr>\n",
              "    <tr>\n",
              "      <th>1</th>\n",
              "      <td>2</td>\n",
              "      <td>1</td>\n",
              "      <td>0</td>\n",
              "      <td>1</td>\n",
              "      <td>0</td>\n",
              "      <td>1</td>\n",
              "    </tr>\n",
              "    <tr>\n",
              "      <th>2</th>\n",
              "      <td>2</td>\n",
              "      <td>1</td>\n",
              "      <td>0</td>\n",
              "      <td>1</td>\n",
              "      <td>0</td>\n",
              "      <td>1</td>\n",
              "    </tr>\n",
              "    <tr>\n",
              "      <th>3</th>\n",
              "      <td>3</td>\n",
              "      <td>1</td>\n",
              "      <td>1</td>\n",
              "      <td>1</td>\n",
              "      <td>0</td>\n",
              "      <td>0</td>\n",
              "    </tr>\n",
              "    <tr>\n",
              "      <th>4</th>\n",
              "      <td>4</td>\n",
              "      <td>1</td>\n",
              "      <td>1</td>\n",
              "      <td>1</td>\n",
              "      <td>0</td>\n",
              "      <td>0</td>\n",
              "    </tr>\n",
              "  </tbody>\n",
              "</table>\n",
              "</div>"
            ],
            "text/plain": [
              "   gen เช้า เที่ยง ค่ำ ตลอดเวลา  prog_clus\n",
              "0    2    1      0   1        0          1\n",
              "1    2    1      0   1        0          1\n",
              "2    2    1      0   1        0          1\n",
              "3    3    1      1   1        0          0\n",
              "4    4    1      1   1        0          0"
            ]
          },
          "metadata": {
            "tags": []
          },
          "execution_count": 60
        }
      ]
    },
    {
      "cell_type": "code",
      "metadata": {
        "colab": {
          "base_uri": "https://localhost:8080/"
        },
        "id": "vkyFOIsBvoaj",
        "outputId": "9c0e292a-36b5-4032-e631-d1d509f698ea"
      },
      "source": [
        "periodxgen[periodxgen[\"prog_clus\"]==0].mean()\n",
        "\"อายุ 38 - 52 ปี,\tอายุ 53 - 72 ปี\""
      ],
      "execution_count": 62,
      "outputs": [
        {
          "output_type": "execute_result",
          "data": {
            "text/plain": [
              "gen          3.468326\n",
              "เช้า         0.549774\n",
              "เที่ยง       0.354072\n",
              "ค่ำ          0.832579\n",
              "ตลอดเวลา     0.002262\n",
              "prog_clus    0.000000\n",
              "dtype: float64"
            ]
          },
          "metadata": {
            "tags": []
          },
          "execution_count": 62
        }
      ]
    },
    {
      "cell_type": "code",
      "metadata": {
        "colab": {
          "base_uri": "https://localhost:8080/"
        },
        "id": "cVuOdV7zXngT",
        "outputId": "dd1752ac-8848-47ec-bf6d-8b66ab237917"
      },
      "source": [
        "periodxgen[periodxgen[\"prog_clus\"]==1].mean()\n",
        "\"อายุ 13 - 19 ปี,\tอายุ 20 - 37 ปี\""
      ],
      "execution_count": 61,
      "outputs": [
        {
          "output_type": "execute_result",
          "data": {
            "text/plain": [
              "gen          1.474946\n",
              "เช้า         0.387800\n",
              "เที่ยง       0.241830\n",
              "ค่ำ          0.752723\n",
              "ตลอดเวลา     0.076253\n",
              "prog_clus    1.000000\n",
              "dtype: float64"
            ]
          },
          "metadata": {
            "tags": []
          },
          "execution_count": 61
        }
      ]
    },
    {
      "cell_type": "code",
      "metadata": {
        "colab": {
          "base_uri": "https://localhost:8080/"
        },
        "id": "raxtBS56Xnbp",
        "outputId": "4a0c6b99-cd67-4bf8-d29e-8eb906fa722a"
      },
      "source": [
        "periodxgen[periodxgen[\"prog_clus\"]==2].mean()\n",
        "\"อายุ 53 - 72 ปี\""
      ],
      "execution_count": 63,
      "outputs": [
        {
          "output_type": "execute_result",
          "data": {
            "text/plain": [
              "gen          2.961089\n",
              "เช้า         0.003891\n",
              "เที่ยง       0.003891\n",
              "ค่ำ          0.007782\n",
              "ตลอดเวลา     0.980545\n",
              "prog_clus    2.000000\n",
              "dtype: float64"
            ]
          },
          "metadata": {
            "tags": []
          },
          "execution_count": 63
        }
      ]
    },
    {
      "cell_type": "code",
      "metadata": {
        "id": "LPilMK-HXnXQ"
      },
      "source": [
        ""
      ],
      "execution_count": null,
      "outputs": []
    },
    {
      "cell_type": "code",
      "metadata": {
        "id": "c2CalK8WXnTO"
      },
      "source": [
        ""
      ],
      "execution_count": null,
      "outputs": []
    },
    {
      "cell_type": "code",
      "metadata": {
        "id": "hQV3tCilXnOq"
      },
      "source": [
        ""
      ],
      "execution_count": null,
      "outputs": []
    },
    {
      "cell_type": "code",
      "metadata": {
        "id": "dDVJIVPTXnJJ"
      },
      "source": [
        ""
      ],
      "execution_count": null,
      "outputs": []
    },
    {
      "cell_type": "code",
      "metadata": {
        "id": "K-gfnTTrXnE_"
      },
      "source": [
        ""
      ],
      "execution_count": null,
      "outputs": []
    },
    {
      "cell_type": "code",
      "metadata": {
        "id": "BP7qYMbrXm_K"
      },
      "source": [
        ""
      ],
      "execution_count": null,
      "outputs": []
    },
    {
      "cell_type": "code",
      "metadata": {
        "id": "5oCXOWLHXm62"
      },
      "source": [
        ""
      ],
      "execution_count": null,
      "outputs": []
    },
    {
      "cell_type": "code",
      "metadata": {
        "id": "0_VwS2TvXm1U"
      },
      "source": [
        ""
      ],
      "execution_count": null,
      "outputs": []
    },
    {
      "cell_type": "code",
      "metadata": {
        "id": "F94HYJR9XmxL"
      },
      "source": [
        ""
      ],
      "execution_count": null,
      "outputs": []
    },
    {
      "cell_type": "code",
      "metadata": {
        "id": "1he6dYabXmmb"
      },
      "source": [
        ""
      ],
      "execution_count": null,
      "outputs": []
    },
    {
      "cell_type": "code",
      "metadata": {
        "id": "6VUP3mWbUWyA"
      },
      "source": [
        "DF_dictT.iloc[1, 97]"
      ],
      "execution_count": null,
      "outputs": []
    },
    {
      "cell_type": "code",
      "metadata": {
        "id": "i5TD7ad1TgGm"
      },
      "source": [
        "DF_dictT.iloc[1, 79]\n",
        "DF_main.iloc[:,97:107]"
      ],
      "execution_count": null,
      "outputs": []
    },
    {
      "cell_type": "code",
      "metadata": {
        "id": "nY9Rno63Tir-"
      },
      "source": [
        "DF_main.iloc[:,112:120]"
      ],
      "execution_count": null,
      "outputs": []
    },
    {
      "cell_type": "code",
      "metadata": {
        "id": "4GdzEbChT34z"
      },
      "source": [
        "DF_main.iloc[:,120:130]"
      ],
      "execution_count": null,
      "outputs": []
    },
    {
      "cell_type": "code",
      "metadata": {
        "id": "JLBr7FEEU-CX"
      },
      "source": [
        "DF_main.iloc[:,130:140]"
      ],
      "execution_count": null,
      "outputs": []
    },
    {
      "cell_type": "code",
      "metadata": {
        "id": "MQOvo2LCVoL1"
      },
      "source": [
        "DF_main.iloc[:,140:150]"
      ],
      "execution_count": null,
      "outputs": []
    },
    {
      "cell_type": "code",
      "metadata": {
        "id": "4mMJssTjVqOA"
      },
      "source": [
        "DF_main.iloc[:,150:160]"
      ],
      "execution_count": null,
      "outputs": []
    },
    {
      "cell_type": "code",
      "metadata": {
        "id": "6CYyVNZpVswb"
      },
      "source": [
        "DF_main.iloc[:,160:170]"
      ],
      "execution_count": null,
      "outputs": []
    },
    {
      "cell_type": "code",
      "metadata": {
        "id": "7Az6W05JVupJ"
      },
      "source": [
        "DF_main.iloc[:,170:180]"
      ],
      "execution_count": null,
      "outputs": []
    },
    {
      "cell_type": "code",
      "metadata": {
        "id": "2z4vsObyVyGK"
      },
      "source": [
        "DF_main.iloc[:,180:190]"
      ],
      "execution_count": null,
      "outputs": []
    },
    {
      "cell_type": "code",
      "metadata": {
        "id": "REULO2SgV0Xm"
      },
      "source": [
        "DF_main.iloc[:,190:200]"
      ],
      "execution_count": null,
      "outputs": []
    },
    {
      "cell_type": "code",
      "metadata": {
        "id": "QXGjllpAV5hu"
      },
      "source": [
        ""
      ],
      "execution_count": null,
      "outputs": []
    }
  ]
}