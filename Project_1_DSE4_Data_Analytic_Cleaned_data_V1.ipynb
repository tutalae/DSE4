{
  "nbformat": 4,
  "nbformat_minor": 0,
  "metadata": {
    "colab": {
      "name": "Project-1 DSE4 Data-Analytic-Cleaned data_V1.ipynb",
      "provenance": [],
      "collapsed_sections": [],
      "toc_visible": true,
      "include_colab_link": true
    },
    "kernelspec": {
      "name": "python3",
      "display_name": "Python 3"
    },
    "language_info": {
      "name": "python"
    }
  },
  "cells": [
    {
      "cell_type": "markdown",
      "metadata": {
        "id": "view-in-github",
        "colab_type": "text"
      },
      "source": [
        "<a href=\"https://colab.research.google.com/github/tutalae/DSE4/blob/main/Project_1_DSE4_Data_Analytic_Cleaned_data_V1.ipynb\" target=\"_parent\"><img src=\"https://colab.research.google.com/assets/colab-badge.svg\" alt=\"Open In Colab\"/></a>"
      ]
    },
    {
      "cell_type": "code",
      "metadata": {
        "id": "vbdhaMIsPJpb"
      },
      "source": [
        "import pandas as pd # import pandas เพื่อให้สามารถใช้ DataFrame ได้ง่ายขึ้น"
      ],
      "execution_count": null,
      "outputs": []
    },
    {
      "cell_type": "code",
      "metadata": {
        "id": "hPNgjNLOOR32"
      },
      "source": [
        "# อัพข้อมูลจาก data.go.th ไป ที่ github เพื่อให้ง่าย เพราะไม่ต้องโหลดข้อมูลจากในเครื่องขึ้นไปทุกครั้ง\n",
        "DF1 = pd.read_csv(\"https://raw.githubusercontent.com/tutalae/DSE4/main/metadata_consumer-insight-survey2019.csv\")\n",
        "DF2 = pd.read_csv(\"https://raw.githubusercontent.com/tutalae/DSE4/main/dataset_consumer-insight-survey2019.csv\")\n",
        "DF_dict = pd.read_csv(\"https://raw.githubusercontent.com/tutalae/DSE4/main/data_dictionary_consumer-insight-survey2019.csv\")"
      ],
      "execution_count": null,
      "outputs": []
    },
    {
      "cell_type": "code",
      "metadata": {
        "colab": {
          "base_uri": "https://localhost:8080/",
          "height": 434
        },
        "id": "eItIkrv4xYN8",
        "outputId": "37d266ef-7083-4cc4-e123-46940ac6341e"
      },
      "source": [
        "DF_dict.T # แสดงตาราง"
      ],
      "execution_count": null,
      "outputs": [
        {
          "output_type": "execute_result",
          "data": {
            "text/html": [
              "<div>\n",
              "<style scoped>\n",
              "    .dataframe tbody tr th:only-of-type {\n",
              "        vertical-align: middle;\n",
              "    }\n",
              "\n",
              "    .dataframe tbody tr th {\n",
              "        vertical-align: top;\n",
              "    }\n",
              "\n",
              "    .dataframe thead th {\n",
              "        text-align: right;\n",
              "    }\n",
              "</style>\n",
              "<table border=\"1\" class=\"dataframe\">\n",
              "  <thead>\n",
              "    <tr style=\"text-align: right;\">\n",
              "      <th></th>\n",
              "      <th>0</th>\n",
              "      <th>1</th>\n",
              "      <th>2</th>\n",
              "      <th>3</th>\n",
              "      <th>4</th>\n",
              "      <th>5</th>\n",
              "      <th>6</th>\n",
              "      <th>7</th>\n",
              "      <th>8</th>\n",
              "      <th>9</th>\n",
              "      <th>10</th>\n",
              "      <th>11</th>\n",
              "      <th>12</th>\n",
              "      <th>13</th>\n",
              "      <th>14</th>\n",
              "      <th>15</th>\n",
              "      <th>16</th>\n",
              "      <th>17</th>\n",
              "      <th>18</th>\n",
              "      <th>19</th>\n",
              "      <th>20</th>\n",
              "      <th>21</th>\n",
              "      <th>22</th>\n",
              "      <th>23</th>\n",
              "      <th>24</th>\n",
              "      <th>25</th>\n",
              "      <th>26</th>\n",
              "      <th>27</th>\n",
              "      <th>28</th>\n",
              "      <th>29</th>\n",
              "      <th>30</th>\n",
              "      <th>31</th>\n",
              "      <th>32</th>\n",
              "      <th>33</th>\n",
              "      <th>34</th>\n",
              "      <th>35</th>\n",
              "      <th>36</th>\n",
              "      <th>37</th>\n",
              "      <th>38</th>\n",
              "      <th>39</th>\n",
              "      <th>...</th>\n",
              "      <th>153</th>\n",
              "      <th>154</th>\n",
              "      <th>155</th>\n",
              "      <th>156</th>\n",
              "      <th>157</th>\n",
              "      <th>158</th>\n",
              "      <th>159</th>\n",
              "      <th>160</th>\n",
              "      <th>161</th>\n",
              "      <th>162</th>\n",
              "      <th>163</th>\n",
              "      <th>164</th>\n",
              "      <th>165</th>\n",
              "      <th>166</th>\n",
              "      <th>167</th>\n",
              "      <th>168</th>\n",
              "      <th>169</th>\n",
              "      <th>170</th>\n",
              "      <th>171</th>\n",
              "      <th>172</th>\n",
              "      <th>173</th>\n",
              "      <th>174</th>\n",
              "      <th>175</th>\n",
              "      <th>176</th>\n",
              "      <th>177</th>\n",
              "      <th>178</th>\n",
              "      <th>179</th>\n",
              "      <th>180</th>\n",
              "      <th>181</th>\n",
              "      <th>182</th>\n",
              "      <th>183</th>\n",
              "      <th>184</th>\n",
              "      <th>185</th>\n",
              "      <th>186</th>\n",
              "      <th>187</th>\n",
              "      <th>188</th>\n",
              "      <th>189</th>\n",
              "      <th>190</th>\n",
              "      <th>191</th>\n",
              "      <th>192</th>\n",
              "    </tr>\n",
              "  </thead>\n",
              "  <tbody>\n",
              "    <tr>\n",
              "      <th>รหัส</th>\n",
              "      <td>a1</td>\n",
              "      <td>a2</td>\n",
              "      <td>a301</td>\n",
              "      <td>a302</td>\n",
              "      <td>a3021</td>\n",
              "      <td>a4</td>\n",
              "      <td>a5</td>\n",
              "      <td>a51</td>\n",
              "      <td>a52</td>\n",
              "      <td>a53</td>\n",
              "      <td>a54</td>\n",
              "      <td>a57</td>\n",
              "      <td>a58</td>\n",
              "      <td>a6</td>\n",
              "      <td>a7</td>\n",
              "      <td>a81</td>\n",
              "      <td>a82</td>\n",
              "      <td>a91</td>\n",
              "      <td>a92</td>\n",
              "      <td>k1</td>\n",
              "      <td>k2</td>\n",
              "      <td>k3</td>\n",
              "      <td>k4</td>\n",
              "      <td>k5</td>\n",
              "      <td>k6</td>\n",
              "      <td>k7</td>\n",
              "      <td>k8</td>\n",
              "      <td>k9</td>\n",
              "      <td>k10</td>\n",
              "      <td>l1</td>\n",
              "      <td>p1</td>\n",
              "      <td>p2</td>\n",
              "      <td>p3</td>\n",
              "      <td>p4</td>\n",
              "      <td>p5</td>\n",
              "      <td>p501</td>\n",
              "      <td>p6</td>\n",
              "      <td>q1</td>\n",
              "      <td>q2</td>\n",
              "      <td>q3</td>\n",
              "      <td>...</td>\n",
              "      <td>s12new</td>\n",
              "      <td>t12new</td>\n",
              "      <td>u12new</td>\n",
              "      <td>r13new</td>\n",
              "      <td>s13new</td>\n",
              "      <td>t13new</td>\n",
              "      <td>u13new</td>\n",
              "      <td>r14new</td>\n",
              "      <td>s14new</td>\n",
              "      <td>t14new</td>\n",
              "      <td>u14new</td>\n",
              "      <td>r15new</td>\n",
              "      <td>s15new</td>\n",
              "      <td>t15new</td>\n",
              "      <td>u15new</td>\n",
              "      <td>r16new</td>\n",
              "      <td>s16new</td>\n",
              "      <td>t16new</td>\n",
              "      <td>u16new</td>\n",
              "      <td>r17new</td>\n",
              "      <td>s17new</td>\n",
              "      <td>t17new</td>\n",
              "      <td>u17new</td>\n",
              "      <td>r18new</td>\n",
              "      <td>s18new</td>\n",
              "      <td>t18new</td>\n",
              "      <td>u18new</td>\n",
              "      <td>r19new</td>\n",
              "      <td>s19new</td>\n",
              "      <td>t19new</td>\n",
              "      <td>u19new</td>\n",
              "      <td>r20new</td>\n",
              "      <td>s20new</td>\n",
              "      <td>t20new</td>\n",
              "      <td>u20new</td>\n",
              "      <td>G_genZ</td>\n",
              "      <td>G_genY</td>\n",
              "      <td>G_genX</td>\n",
              "      <td>G_genB</td>\n",
              "      <td>Gen_group</td>\n",
              "    </tr>\n",
              "    <tr>\n",
              "      <th>ข้อคำถาม</th>\n",
              "      <td>a1 เพศ</td>\n",
              "      <td>a2 ปีเกิด (พ.ศ.)</td>\n",
              "      <td>a301 สถานะทางการศึกษา</td>\n",
              "      <td>a302 ระดับการศึกษา</td>\n",
              "      <td>a3021 อื่น ๆ ระบบ ได้แก่</td>\n",
              "      <td>a4ท่านเป็นบุคคลที่จบปริญญาตรีและเพิ่งเริ่มทำงา...</td>\n",
              "      <td>a5 อาชีพ</td>\n",
              "      <td>a51 รับราชการ/พนักงานของรัฐหรือรัฐวิสาหกิจ สัง...</td>\n",
              "      <td>a52 พนักงานเอกชน/ลูกจ้างบริษัท ทำงานด้าน …</td>\n",
              "      <td>a53 เจ้าของธุรกิจ  เกี่ยวกับ.……</td>\n",
              "      <td>a54 อาชีพอิสระ/ฟรีแลนซ์/รับจ้าง ทำงานด้าน ..</td>\n",
              "      <td>a57 เกษตรกร เช่น ทำไร่ ประมง ฯลฯ (ระบุ) ……</td>\n",
              "      <td>a58 อื่นๆ (ระบุ)………</td>\n",
              "      <td>a6 รายได้ของท่านเฉลี่ยต่อเดือน</td>\n",
              "      <td>a7ในกรณีที่เป็นนักเรียน/นักศึกษา.. ประมาณเท่าไ...</td>\n",
              "      <td>a81 สถานภาพส่วนตัว</td>\n",
              "      <td>a82 ลักษณะการอยู่อาศัย</td>\n",
              "      <td>a91 ภูมิภาคที่ท่านอาศัยอยู่ในปัจจุบัน</td>\n",
              "      <td>a92 ภูมิภาคและเขตพื้นที่ ที่ท่านอาศัยอยู่ในปัจ...</td>\n",
              "      <td>k1ติดตามข่าวในช่วงเช้าตรู่</td>\n",
              "      <td>k2ติดตามข่าวในช่วงเช้า</td>\n",
              "      <td>k3ติดตามข่าวในช่วงสาย</td>\n",
              "      <td>k4ติดตามข่าวในช่วงกลางวัน</td>\n",
              "      <td>k5ติดตามข่าวในช่วงบ่าย</td>\n",
              "      <td>k6ติดตามข่าวในช่วงเย็น</td>\n",
              "      <td>k7ติดตามข่าวในช่วงค่ำ</td>\n",
              "      <td>k8ติดตามข่าวในช่วงดึก</td>\n",
              "      <td>k9ติดตามข่าวในช่วงดึกจนล่วงเข้าวันใหม่</td>\n",
              "      <td>k10ติดตามข่าวในทุกช่วงเวลา</td>\n",
              "      <td>l11ท่านติดตามข่าวทางเครื่องรับโทรทัศน์ โดยรวมเ...</td>\n",
              "      <td>p1ท่านใช้อินเทอร์เน็ตในลักษณะใช้แพคเกจอินเทอร์...</td>\n",
              "      <td>p2ท่านใช้อินเทอร์เน็ตในลักษณะใช้แพคเกจอินเทอร์...</td>\n",
              "      <td>p3ท่านใช้อินเทอร์เน็ตในลักษณะใช้ Wi-Fi ที่บ้าน</td>\n",
              "      <td>p4ท่านใช้อินเทอร์เน็ตในลักษณะใช้ Free Wi-Fi ใน...</td>\n",
              "      <td>p5ท่านใช้อินเทอร์เน็ตในลักษณะใช้แบบอื่นๆ</td>\n",
              "      <td>p501ใช้แบบอื่นๆ (ระบุ) ……ได้แก่</td>\n",
              "      <td>p6ท่านใช้อินเทอร์เน็ตในลักษณะไม่ได้ใช้งานอินเท...</td>\n",
              "      <td>q1</td>\n",
              "      <td>q2สื่อออนไลน์ที่ท่านใช้งานเพื่อติดตามข่าว มีสื...</td>\n",
              "      <td>q3สื่อออนไลน์ที่ท่านใช้งานเพื่อติดตามข่าว มีสื...</td>\n",
              "      <td>...</td>\n",
              "      <td>s12new ทีมงานช่วยแนะนำ ข่าวเทคโนโลยี</td>\n",
              "      <td>t12new ติดตามไม่ติดตามทีวี</td>\n",
              "      <td>u12new ติดตามไม่ติดตามออนไลน์</td>\n",
              "      <td>r13new RD ระบุอันดับ ข่าวการศึกษา</td>\n",
              "      <td>s13new ทีมงานช่วยแนะนำ ข่าวการศึกษา</td>\n",
              "      <td>t13new ติดตามไม่ติดตามทีวี</td>\n",
              "      <td>u13new ติดตามไม่ติดตามออนไลน์</td>\n",
              "      <td>r14new RD ระบุอันดับ ข่าวสาธารณสุขการแพทย์</td>\n",
              "      <td>s14new ทีมงานช่วยแนะนำ ข่าวสาธารณสุขการแพทย์</td>\n",
              "      <td>t14new ติดตามไม่ติดตามทีวี</td>\n",
              "      <td>u14new ติดตามไม่ติดตามออนไลน์</td>\n",
              "      <td>r15new RD ระบุอันดับ ข่าวพยากรณ์อากาศ</td>\n",
              "      <td>s15new ทีมงานช่วยแนะนำ ข่าวพยากรณ์อากาศ</td>\n",
              "      <td>t15new ติดตามไม่ติดตามทีวี</td>\n",
              "      <td>u15new ติดตามไม่ติดตามออนไลน์</td>\n",
              "      <td>r16new RD ระบุอันดับ ข่าวจราจร</td>\n",
              "      <td>s16new ทีมงานช่วยแนะนำ ข่าวจราจร</td>\n",
              "      <td>t16neww  ติดตามไม่ติดตามทีวี</td>\n",
              "      <td>u16neww ติดตามไม่ติดตามออนไลน์</td>\n",
              "      <td>r17neww RD ระบุอันดับ ข่าวสิ่งแวดล้อม</td>\n",
              "      <td>s17neww ทีมงานช่วยแนะนำ ข่าวสิ่งแวดล้อม</td>\n",
              "      <td>t17neww ติดตามไม่ติดตามทีวี</td>\n",
              "      <td>u17neww ติดตามไม่ติดตามออนไลน์</td>\n",
              "      <td>r18neww RD ระบุอันดับ ข่าวร้องทุกข์ชาวบ้าน</td>\n",
              "      <td>s18neww ทีมงานช่วยแนะนำ ข่าวร้องทุกข์ชาวบ้าน</td>\n",
              "      <td>t18neww ติดตามไม่ติดตามทีวี</td>\n",
              "      <td>u18neww ติดตามไม่ติดตามออนไลน์</td>\n",
              "      <td>r19new  RD ระบุอันดับ ข่าวประชาชนรายงาน</td>\n",
              "      <td>s19new ทีมงานช่วยแนะนำ ข่าวประชาชนรายงาน</td>\n",
              "      <td>t19new ติดตามไม่ติดตามทีวี</td>\n",
              "      <td>u19new ติดตามไม่ติดตามออนไลน์</td>\n",
              "      <td>r20new RD ระบุอันดับ ข่าวอื่นๆระบุ</td>\n",
              "      <td>s20new ทีมงานช่วยแนะนำ ข่าวประชาชนรายงาน</td>\n",
              "      <td>t20new ติดตามไม่ติดตามทีวี</td>\n",
              "      <td>u20new ติดตามไม่ติดตามออนไลน์</td>\n",
              "      <td>อายุ 13 - 19 ปี</td>\n",
              "      <td>อายุ 20 - 37 ปี</td>\n",
              "      <td>อายุ 38 - 52 ปี</td>\n",
              "      <td>อายุ 53 - 72 ปี</td>\n",
              "      <td>NaN</td>\n",
              "    </tr>\n",
              "    <tr>\n",
              "      <th>code ตัวเลข</th>\n",
              "      <td>1=ชาย  2=หญิง</td>\n",
              "      <td>NaN</td>\n",
              "      <td>1=กำลังศึกษาอยู่  2=จบการศึกษาแล้ว</td>\n",
              "      <td>1=ประถมศึกษา  2=มัธยมศึกษาตอนต้น  3=มัธยมศึกษา...</td>\n",
              "      <td>NaN</td>\n",
              "      <td>1=ใช่ 2=ไม่ใช่</td>\n",
              "      <td>1= รับราชการ/พนักงานของรัฐหรือรัฐวิสาหกิจ สังก...</td>\n",
              "      <td>1=การไฟฟ้าภูมิภาค  2=สำนักงานเขต  3=TOT  4=กระ...</td>\n",
              "      <td>1=ผู้จัดการ  2=ธรุการ  3=รปภ  4=แม่บ้าน(ทำความ...</td>\n",
              "      <td>1=รับทำบัญชี  2=ขายอาหารตามสั่ง/ก๋วยเตี๋ยว  3=...</td>\n",
              "      <td>1=บริการร้านกาแฟ/ขายกาแฟ  2=รับจ้างทั่วไป  3=ช...</td>\n",
              "      <td>1=ทำนา 2=เลี้ยงสัตว์</td>\n",
              "      <td>NaN</td>\n",
              "      <td>1=ไม่เกิน 15,000 บาท 2=15,001 - 30,000 บาท  3=...</td>\n",
              "      <td>NaN</td>\n",
              "      <td>1=โสด (ไม่มีแฟน ไม่มีลูก)  2=มีแฟน/คนรัก  3=สา...</td>\n",
              "      <td>1=อยู่คนเดียว  2=อยู่กับครอบครัว  3=อยู่กับเพื...</td>\n",
              "      <td>1=กรุงเทพฯและปริมณฑล  2=ภาคเหนือ  3=ภาคตะวันออ...</td>\n",
              "      <td>1=ในเขตเทศบาล  2=นอกเขตเทศบาล</td>\n",
              "      <td>0=ไม่ใช่ 1=ใช่</td>\n",
              "      <td>0=ไม่ใช่ 1=ใช่</td>\n",
              "      <td>0=ไม่ใช่ 1=ใช่</td>\n",
              "      <td>0=ไม่ใช่ 1=ใช่</td>\n",
              "      <td>0=ไม่ใช่ 1=ใช่</td>\n",
              "      <td>0=ไม่ใช่ 1=ใช่</td>\n",
              "      <td>0=ไม่ใช่ 1=ใช่</td>\n",
              "      <td>0=ไม่ใช่ 1=ใช่</td>\n",
              "      <td>0=ไม่ใช่ 1=ใช่</td>\n",
              "      <td>0=ไม่ใช่ 1=ใช่</td>\n",
              "      <td>1=น้อยกว่า  10 นาที 2=10 - 30  นาที  3=30 นาที...</td>\n",
              "      <td>NaN</td>\n",
              "      <td>NaN</td>\n",
              "      <td>NaN</td>\n",
              "      <td>NaN</td>\n",
              "      <td>NaN</td>\n",
              "      <td>NaN</td>\n",
              "      <td>NaN</td>\n",
              "      <td>1=Facebook  2=Twitter  3=YouTube  4=Instagram ...</td>\n",
              "      <td>1=Facebook  2=Twitter  3=YouTube  4=Instagram ...</td>\n",
              "      <td>1=Facebook  2=Twitter  3=YouTube  4=Instagram ...</td>\n",
              "      <td>...</td>\n",
              "      <td>1=ติดตามอันดับที่1  2=ติดตามอันดับที่2  3=ติดต...</td>\n",
              "      <td>1=ติดตาม  2=ไม่ติดตาม</td>\n",
              "      <td>1=ติดตาม  2=ไม่ติดตาม</td>\n",
              "      <td>1=ติดตามอันดับที่1  2=ติดตามอันดับที่2  3=ติดต...</td>\n",
              "      <td>1=ติดตามอันดับที่1  2=ติดตามอันดับที่2  3=ติดต...</td>\n",
              "      <td>1=ติดตาม  2=ไม่ติดตาม</td>\n",
              "      <td>1=ติดตาม  2=ไม่ติดตาม</td>\n",
              "      <td>1=ติดตามอันดับที่1  2=ติดตามอันดับที่2  3=ติดต...</td>\n",
              "      <td>1=ติดตามอันดับที่1  2=ติดตามอันดับที่2  3=ติดต...</td>\n",
              "      <td>1=ติดตาม  2=ไม่ติดตาม</td>\n",
              "      <td>1=ติดตาม  2=ไม่ติดตาม</td>\n",
              "      <td>1=ติดตามอันดับที่1  2=ติดตามอันดับที่2  3=ติดต...</td>\n",
              "      <td>1=ติดตามอันดับที่1  2=ติดตามอันดับที่2  3=ติดต...</td>\n",
              "      <td>1=ติดตาม  2=ไม่ติดตาม</td>\n",
              "      <td>1=ติดตาม  2=ไม่ติดตาม</td>\n",
              "      <td>1=ติดตามอันดับที่1  2=ติดตามอันดับที่2  3=ติดต...</td>\n",
              "      <td>1=ติดตามอันดับที่1  2=ติดตามอันดับที่2  3=ติดต...</td>\n",
              "      <td>1=ติดตาม  2=ไม่ติดตาม</td>\n",
              "      <td>1=ติดตาม  2=ไม่ติดตาม</td>\n",
              "      <td>1=ติดตามอันดับที่1  2=ติดตามอันดับที่2  3=ติดต...</td>\n",
              "      <td>1=ติดตามอันดับที่1  2=ติดตามอันดับที่2  3=ติดต...</td>\n",
              "      <td>1=ติดตาม  2=ไม่ติดตาม</td>\n",
              "      <td>1=ติดตาม  2=ไม่ติดตาม</td>\n",
              "      <td>1=ติดตามอันดับที่1  2=ติดตามอันดับที่2  3=ติดต...</td>\n",
              "      <td>1=ติดตามอันดับที่1  2=ติดตามอันดับที่2  3=ติดต...</td>\n",
              "      <td>1=ติดตาม  2=ไม่ติดตาม</td>\n",
              "      <td>1=ติดตาม  2=ไม่ติดตาม</td>\n",
              "      <td>1=ติดตามอันดับที่1  2=ติดตามอันดับที่2  3=ติดต...</td>\n",
              "      <td>1=ติดตามอันดับที่1  2=ติดตามอันดับที่2  3=ติดต...</td>\n",
              "      <td>1=ติดตาม  2=ไม่ติดตาม</td>\n",
              "      <td>1=ติดตาม  2=ไม่ติดตาม</td>\n",
              "      <td>1=ติดตามอันดับที่1  2=ติดตามอันดับที่2  3=ติดต...</td>\n",
              "      <td>1=ติดตามอันดับที่1  2=ติดตามอันดับที่2  3=ติดต...</td>\n",
              "      <td>1=ติดตาม  2=ไม่ติดตาม</td>\n",
              "      <td>1=ติดตาม  2=ไม่ติดตาม</td>\n",
              "      <td>NaN</td>\n",
              "      <td>NaN</td>\n",
              "      <td>NaN</td>\n",
              "      <td>NaN</td>\n",
              "      <td>1 = Gen Z   2 = Gen Y  3 = Gen X   4 = Gen B</td>\n",
              "    </tr>\n",
              "  </tbody>\n",
              "</table>\n",
              "<p>3 rows × 193 columns</p>\n",
              "</div>"
            ],
            "text/plain": [
              "                       0    ...                                           192\n",
              "รหัส                    a1  ...                                     Gen_group\n",
              "ข้อคำถาม            a1 เพศ  ...                                           NaN\n",
              "code ตัวเลข  1=ชาย  2=หญิง  ...  1 = Gen Z   2 = Gen Y  3 = Gen X   4 = Gen B\n",
              "\n",
              "[3 rows x 193 columns]"
            ]
          },
          "metadata": {},
          "execution_count": 126
        }
      ]
    },
    {
      "cell_type": "code",
      "metadata": {
        "colab": {
          "base_uri": "https://localhost:8080/",
          "height": 81
        },
        "id": "x4kqWapHx2h6",
        "outputId": "351b8fc6-9cea-4618-924c-1ca21cc0b4d6"
      },
      "source": [
        "DF_dict[:97 :107] "
      ],
      "execution_count": null,
      "outputs": [
        {
          "output_type": "execute_result",
          "data": {
            "text/html": [
              "<div>\n",
              "<style scoped>\n",
              "    .dataframe tbody tr th:only-of-type {\n",
              "        vertical-align: middle;\n",
              "    }\n",
              "\n",
              "    .dataframe tbody tr th {\n",
              "        vertical-align: top;\n",
              "    }\n",
              "\n",
              "    .dataframe thead th {\n",
              "        text-align: right;\n",
              "    }\n",
              "</style>\n",
              "<table border=\"1\" class=\"dataframe\">\n",
              "  <thead>\n",
              "    <tr style=\"text-align: right;\">\n",
              "      <th></th>\n",
              "      <th>รหัส</th>\n",
              "      <th>ข้อคำถาม</th>\n",
              "      <th>code ตัวเลข</th>\n",
              "    </tr>\n",
              "  </thead>\n",
              "  <tbody>\n",
              "    <tr>\n",
              "      <th>0</th>\n",
              "      <td>a1</td>\n",
              "      <td>a1 เพศ</td>\n",
              "      <td>1=ชาย  2=หญิง</td>\n",
              "    </tr>\n",
              "  </tbody>\n",
              "</table>\n",
              "</div>"
            ],
            "text/plain": [
              "  รหัส ข้อคำถาม    code ตัวเลข\n",
              "0   a1   a1 เพศ  1=ชาย  2=หญิง"
            ]
          },
          "metadata": {},
          "execution_count": 127
        }
      ]
    },
    {
      "cell_type": "code",
      "metadata": {
        "colab": {
          "base_uri": "https://localhost:8080/"
        },
        "id": "ojwZiLaIb3oV",
        "outputId": "dcb78467-caa1-4006-fb49-d168b9b0ce18"
      },
      "source": [
        "DF2.shape # ดูขนาดของ DF"
      ],
      "execution_count": null,
      "outputs": [
        {
          "output_type": "execute_result",
          "data": {
            "text/plain": [
              "(2059, 200)"
            ]
          },
          "metadata": {},
          "execution_count": 128
        }
      ]
    },
    {
      "cell_type": "code",
      "metadata": {
        "colab": {
          "base_uri": "https://localhost:8080/"
        },
        "id": "MacVdpn9b3fY",
        "outputId": "a44c177a-340b-4d2d-84fd-8ea4797011d1"
      },
      "source": [
        "DF_dict.shape # ดูขนาดของ Dictionary ของ Daraframe ชุดนี้"
      ],
      "execution_count": null,
      "outputs": [
        {
          "output_type": "execute_result",
          "data": {
            "text/plain": [
              "(193, 3)"
            ]
          },
          "metadata": {},
          "execution_count": 129
        }
      ]
    },
    {
      "cell_type": "code",
      "metadata": {
        "colab": {
          "base_uri": "https://localhost:8080/"
        },
        "id": "jAIs247KcYRs",
        "outputId": "90f7f984-403f-459e-f549-eaeff9624ca2"
      },
      "source": [
        "DF_dictT= DF_dict.copy().T # ปรับตารางให้ดูง่ายขึ้น\n",
        "DF_dictT.shape"
      ],
      "execution_count": null,
      "outputs": [
        {
          "output_type": "execute_result",
          "data": {
            "text/plain": [
              "(3, 193)"
            ]
          },
          "metadata": {},
          "execution_count": 130
        }
      ]
    },
    {
      "cell_type": "code",
      "metadata": {
        "colab": {
          "base_uri": "https://localhost:8080/",
          "height": 434
        },
        "id": "E0cY1ce7fRdW",
        "outputId": "ee557c95-01ec-46b2-ea96-00fdab385846"
      },
      "source": [
        "#DF_dictT.reset_index(inplace=True)\n",
        "#DF_dictT.drop(columns = \"index\")\n",
        "DF_dictT.head()"
      ],
      "execution_count": null,
      "outputs": [
        {
          "output_type": "execute_result",
          "data": {
            "text/html": [
              "<div>\n",
              "<style scoped>\n",
              "    .dataframe tbody tr th:only-of-type {\n",
              "        vertical-align: middle;\n",
              "    }\n",
              "\n",
              "    .dataframe tbody tr th {\n",
              "        vertical-align: top;\n",
              "    }\n",
              "\n",
              "    .dataframe thead th {\n",
              "        text-align: right;\n",
              "    }\n",
              "</style>\n",
              "<table border=\"1\" class=\"dataframe\">\n",
              "  <thead>\n",
              "    <tr style=\"text-align: right;\">\n",
              "      <th></th>\n",
              "      <th>0</th>\n",
              "      <th>1</th>\n",
              "      <th>2</th>\n",
              "      <th>3</th>\n",
              "      <th>4</th>\n",
              "      <th>5</th>\n",
              "      <th>6</th>\n",
              "      <th>7</th>\n",
              "      <th>8</th>\n",
              "      <th>9</th>\n",
              "      <th>10</th>\n",
              "      <th>11</th>\n",
              "      <th>12</th>\n",
              "      <th>13</th>\n",
              "      <th>14</th>\n",
              "      <th>15</th>\n",
              "      <th>16</th>\n",
              "      <th>17</th>\n",
              "      <th>18</th>\n",
              "      <th>19</th>\n",
              "      <th>20</th>\n",
              "      <th>21</th>\n",
              "      <th>22</th>\n",
              "      <th>23</th>\n",
              "      <th>24</th>\n",
              "      <th>25</th>\n",
              "      <th>26</th>\n",
              "      <th>27</th>\n",
              "      <th>28</th>\n",
              "      <th>29</th>\n",
              "      <th>30</th>\n",
              "      <th>31</th>\n",
              "      <th>32</th>\n",
              "      <th>33</th>\n",
              "      <th>34</th>\n",
              "      <th>35</th>\n",
              "      <th>36</th>\n",
              "      <th>37</th>\n",
              "      <th>38</th>\n",
              "      <th>39</th>\n",
              "      <th>...</th>\n",
              "      <th>153</th>\n",
              "      <th>154</th>\n",
              "      <th>155</th>\n",
              "      <th>156</th>\n",
              "      <th>157</th>\n",
              "      <th>158</th>\n",
              "      <th>159</th>\n",
              "      <th>160</th>\n",
              "      <th>161</th>\n",
              "      <th>162</th>\n",
              "      <th>163</th>\n",
              "      <th>164</th>\n",
              "      <th>165</th>\n",
              "      <th>166</th>\n",
              "      <th>167</th>\n",
              "      <th>168</th>\n",
              "      <th>169</th>\n",
              "      <th>170</th>\n",
              "      <th>171</th>\n",
              "      <th>172</th>\n",
              "      <th>173</th>\n",
              "      <th>174</th>\n",
              "      <th>175</th>\n",
              "      <th>176</th>\n",
              "      <th>177</th>\n",
              "      <th>178</th>\n",
              "      <th>179</th>\n",
              "      <th>180</th>\n",
              "      <th>181</th>\n",
              "      <th>182</th>\n",
              "      <th>183</th>\n",
              "      <th>184</th>\n",
              "      <th>185</th>\n",
              "      <th>186</th>\n",
              "      <th>187</th>\n",
              "      <th>188</th>\n",
              "      <th>189</th>\n",
              "      <th>190</th>\n",
              "      <th>191</th>\n",
              "      <th>192</th>\n",
              "    </tr>\n",
              "  </thead>\n",
              "  <tbody>\n",
              "    <tr>\n",
              "      <th>รหัส</th>\n",
              "      <td>a1</td>\n",
              "      <td>a2</td>\n",
              "      <td>a301</td>\n",
              "      <td>a302</td>\n",
              "      <td>a3021</td>\n",
              "      <td>a4</td>\n",
              "      <td>a5</td>\n",
              "      <td>a51</td>\n",
              "      <td>a52</td>\n",
              "      <td>a53</td>\n",
              "      <td>a54</td>\n",
              "      <td>a57</td>\n",
              "      <td>a58</td>\n",
              "      <td>a6</td>\n",
              "      <td>a7</td>\n",
              "      <td>a81</td>\n",
              "      <td>a82</td>\n",
              "      <td>a91</td>\n",
              "      <td>a92</td>\n",
              "      <td>k1</td>\n",
              "      <td>k2</td>\n",
              "      <td>k3</td>\n",
              "      <td>k4</td>\n",
              "      <td>k5</td>\n",
              "      <td>k6</td>\n",
              "      <td>k7</td>\n",
              "      <td>k8</td>\n",
              "      <td>k9</td>\n",
              "      <td>k10</td>\n",
              "      <td>l1</td>\n",
              "      <td>p1</td>\n",
              "      <td>p2</td>\n",
              "      <td>p3</td>\n",
              "      <td>p4</td>\n",
              "      <td>p5</td>\n",
              "      <td>p501</td>\n",
              "      <td>p6</td>\n",
              "      <td>q1</td>\n",
              "      <td>q2</td>\n",
              "      <td>q3</td>\n",
              "      <td>...</td>\n",
              "      <td>s12new</td>\n",
              "      <td>t12new</td>\n",
              "      <td>u12new</td>\n",
              "      <td>r13new</td>\n",
              "      <td>s13new</td>\n",
              "      <td>t13new</td>\n",
              "      <td>u13new</td>\n",
              "      <td>r14new</td>\n",
              "      <td>s14new</td>\n",
              "      <td>t14new</td>\n",
              "      <td>u14new</td>\n",
              "      <td>r15new</td>\n",
              "      <td>s15new</td>\n",
              "      <td>t15new</td>\n",
              "      <td>u15new</td>\n",
              "      <td>r16new</td>\n",
              "      <td>s16new</td>\n",
              "      <td>t16new</td>\n",
              "      <td>u16new</td>\n",
              "      <td>r17new</td>\n",
              "      <td>s17new</td>\n",
              "      <td>t17new</td>\n",
              "      <td>u17new</td>\n",
              "      <td>r18new</td>\n",
              "      <td>s18new</td>\n",
              "      <td>t18new</td>\n",
              "      <td>u18new</td>\n",
              "      <td>r19new</td>\n",
              "      <td>s19new</td>\n",
              "      <td>t19new</td>\n",
              "      <td>u19new</td>\n",
              "      <td>r20new</td>\n",
              "      <td>s20new</td>\n",
              "      <td>t20new</td>\n",
              "      <td>u20new</td>\n",
              "      <td>G_genZ</td>\n",
              "      <td>G_genY</td>\n",
              "      <td>G_genX</td>\n",
              "      <td>G_genB</td>\n",
              "      <td>Gen_group</td>\n",
              "    </tr>\n",
              "    <tr>\n",
              "      <th>ข้อคำถาม</th>\n",
              "      <td>a1 เพศ</td>\n",
              "      <td>a2 ปีเกิด (พ.ศ.)</td>\n",
              "      <td>a301 สถานะทางการศึกษา</td>\n",
              "      <td>a302 ระดับการศึกษา</td>\n",
              "      <td>a3021 อื่น ๆ ระบบ ได้แก่</td>\n",
              "      <td>a4ท่านเป็นบุคคลที่จบปริญญาตรีและเพิ่งเริ่มทำงา...</td>\n",
              "      <td>a5 อาชีพ</td>\n",
              "      <td>a51 รับราชการ/พนักงานของรัฐหรือรัฐวิสาหกิจ สัง...</td>\n",
              "      <td>a52 พนักงานเอกชน/ลูกจ้างบริษัท ทำงานด้าน …</td>\n",
              "      <td>a53 เจ้าของธุรกิจ  เกี่ยวกับ.……</td>\n",
              "      <td>a54 อาชีพอิสระ/ฟรีแลนซ์/รับจ้าง ทำงานด้าน ..</td>\n",
              "      <td>a57 เกษตรกร เช่น ทำไร่ ประมง ฯลฯ (ระบุ) ……</td>\n",
              "      <td>a58 อื่นๆ (ระบุ)………</td>\n",
              "      <td>a6 รายได้ของท่านเฉลี่ยต่อเดือน</td>\n",
              "      <td>a7ในกรณีที่เป็นนักเรียน/นักศึกษา.. ประมาณเท่าไ...</td>\n",
              "      <td>a81 สถานภาพส่วนตัว</td>\n",
              "      <td>a82 ลักษณะการอยู่อาศัย</td>\n",
              "      <td>a91 ภูมิภาคที่ท่านอาศัยอยู่ในปัจจุบัน</td>\n",
              "      <td>a92 ภูมิภาคและเขตพื้นที่ ที่ท่านอาศัยอยู่ในปัจ...</td>\n",
              "      <td>k1ติดตามข่าวในช่วงเช้าตรู่</td>\n",
              "      <td>k2ติดตามข่าวในช่วงเช้า</td>\n",
              "      <td>k3ติดตามข่าวในช่วงสาย</td>\n",
              "      <td>k4ติดตามข่าวในช่วงกลางวัน</td>\n",
              "      <td>k5ติดตามข่าวในช่วงบ่าย</td>\n",
              "      <td>k6ติดตามข่าวในช่วงเย็น</td>\n",
              "      <td>k7ติดตามข่าวในช่วงค่ำ</td>\n",
              "      <td>k8ติดตามข่าวในช่วงดึก</td>\n",
              "      <td>k9ติดตามข่าวในช่วงดึกจนล่วงเข้าวันใหม่</td>\n",
              "      <td>k10ติดตามข่าวในทุกช่วงเวลา</td>\n",
              "      <td>l11ท่านติดตามข่าวทางเครื่องรับโทรทัศน์ โดยรวมเ...</td>\n",
              "      <td>p1ท่านใช้อินเทอร์เน็ตในลักษณะใช้แพคเกจอินเทอร์...</td>\n",
              "      <td>p2ท่านใช้อินเทอร์เน็ตในลักษณะใช้แพคเกจอินเทอร์...</td>\n",
              "      <td>p3ท่านใช้อินเทอร์เน็ตในลักษณะใช้ Wi-Fi ที่บ้าน</td>\n",
              "      <td>p4ท่านใช้อินเทอร์เน็ตในลักษณะใช้ Free Wi-Fi ใน...</td>\n",
              "      <td>p5ท่านใช้อินเทอร์เน็ตในลักษณะใช้แบบอื่นๆ</td>\n",
              "      <td>p501ใช้แบบอื่นๆ (ระบุ) ……ได้แก่</td>\n",
              "      <td>p6ท่านใช้อินเทอร์เน็ตในลักษณะไม่ได้ใช้งานอินเท...</td>\n",
              "      <td>q1</td>\n",
              "      <td>q2สื่อออนไลน์ที่ท่านใช้งานเพื่อติดตามข่าว มีสื...</td>\n",
              "      <td>q3สื่อออนไลน์ที่ท่านใช้งานเพื่อติดตามข่าว มีสื...</td>\n",
              "      <td>...</td>\n",
              "      <td>s12new ทีมงานช่วยแนะนำ ข่าวเทคโนโลยี</td>\n",
              "      <td>t12new ติดตามไม่ติดตามทีวี</td>\n",
              "      <td>u12new ติดตามไม่ติดตามออนไลน์</td>\n",
              "      <td>r13new RD ระบุอันดับ ข่าวการศึกษา</td>\n",
              "      <td>s13new ทีมงานช่วยแนะนำ ข่าวการศึกษา</td>\n",
              "      <td>t13new ติดตามไม่ติดตามทีวี</td>\n",
              "      <td>u13new ติดตามไม่ติดตามออนไลน์</td>\n",
              "      <td>r14new RD ระบุอันดับ ข่าวสาธารณสุขการแพทย์</td>\n",
              "      <td>s14new ทีมงานช่วยแนะนำ ข่าวสาธารณสุขการแพทย์</td>\n",
              "      <td>t14new ติดตามไม่ติดตามทีวี</td>\n",
              "      <td>u14new ติดตามไม่ติดตามออนไลน์</td>\n",
              "      <td>r15new RD ระบุอันดับ ข่าวพยากรณ์อากาศ</td>\n",
              "      <td>s15new ทีมงานช่วยแนะนำ ข่าวพยากรณ์อากาศ</td>\n",
              "      <td>t15new ติดตามไม่ติดตามทีวี</td>\n",
              "      <td>u15new ติดตามไม่ติดตามออนไลน์</td>\n",
              "      <td>r16new RD ระบุอันดับ ข่าวจราจร</td>\n",
              "      <td>s16new ทีมงานช่วยแนะนำ ข่าวจราจร</td>\n",
              "      <td>t16neww  ติดตามไม่ติดตามทีวี</td>\n",
              "      <td>u16neww ติดตามไม่ติดตามออนไลน์</td>\n",
              "      <td>r17neww RD ระบุอันดับ ข่าวสิ่งแวดล้อม</td>\n",
              "      <td>s17neww ทีมงานช่วยแนะนำ ข่าวสิ่งแวดล้อม</td>\n",
              "      <td>t17neww ติดตามไม่ติดตามทีวี</td>\n",
              "      <td>u17neww ติดตามไม่ติดตามออนไลน์</td>\n",
              "      <td>r18neww RD ระบุอันดับ ข่าวร้องทุกข์ชาวบ้าน</td>\n",
              "      <td>s18neww ทีมงานช่วยแนะนำ ข่าวร้องทุกข์ชาวบ้าน</td>\n",
              "      <td>t18neww ติดตามไม่ติดตามทีวี</td>\n",
              "      <td>u18neww ติดตามไม่ติดตามออนไลน์</td>\n",
              "      <td>r19new  RD ระบุอันดับ ข่าวประชาชนรายงาน</td>\n",
              "      <td>s19new ทีมงานช่วยแนะนำ ข่าวประชาชนรายงาน</td>\n",
              "      <td>t19new ติดตามไม่ติดตามทีวี</td>\n",
              "      <td>u19new ติดตามไม่ติดตามออนไลน์</td>\n",
              "      <td>r20new RD ระบุอันดับ ข่าวอื่นๆระบุ</td>\n",
              "      <td>s20new ทีมงานช่วยแนะนำ ข่าวประชาชนรายงาน</td>\n",
              "      <td>t20new ติดตามไม่ติดตามทีวี</td>\n",
              "      <td>u20new ติดตามไม่ติดตามออนไลน์</td>\n",
              "      <td>อายุ 13 - 19 ปี</td>\n",
              "      <td>อายุ 20 - 37 ปี</td>\n",
              "      <td>อายุ 38 - 52 ปี</td>\n",
              "      <td>อายุ 53 - 72 ปี</td>\n",
              "      <td>NaN</td>\n",
              "    </tr>\n",
              "    <tr>\n",
              "      <th>code ตัวเลข</th>\n",
              "      <td>1=ชาย  2=หญิง</td>\n",
              "      <td>NaN</td>\n",
              "      <td>1=กำลังศึกษาอยู่  2=จบการศึกษาแล้ว</td>\n",
              "      <td>1=ประถมศึกษา  2=มัธยมศึกษาตอนต้น  3=มัธยมศึกษา...</td>\n",
              "      <td>NaN</td>\n",
              "      <td>1=ใช่ 2=ไม่ใช่</td>\n",
              "      <td>1= รับราชการ/พนักงานของรัฐหรือรัฐวิสาหกิจ สังก...</td>\n",
              "      <td>1=การไฟฟ้าภูมิภาค  2=สำนักงานเขต  3=TOT  4=กระ...</td>\n",
              "      <td>1=ผู้จัดการ  2=ธรุการ  3=รปภ  4=แม่บ้าน(ทำความ...</td>\n",
              "      <td>1=รับทำบัญชี  2=ขายอาหารตามสั่ง/ก๋วยเตี๋ยว  3=...</td>\n",
              "      <td>1=บริการร้านกาแฟ/ขายกาแฟ  2=รับจ้างทั่วไป  3=ช...</td>\n",
              "      <td>1=ทำนา 2=เลี้ยงสัตว์</td>\n",
              "      <td>NaN</td>\n",
              "      <td>1=ไม่เกิน 15,000 บาท 2=15,001 - 30,000 บาท  3=...</td>\n",
              "      <td>NaN</td>\n",
              "      <td>1=โสด (ไม่มีแฟน ไม่มีลูก)  2=มีแฟน/คนรัก  3=สา...</td>\n",
              "      <td>1=อยู่คนเดียว  2=อยู่กับครอบครัว  3=อยู่กับเพื...</td>\n",
              "      <td>1=กรุงเทพฯและปริมณฑล  2=ภาคเหนือ  3=ภาคตะวันออ...</td>\n",
              "      <td>1=ในเขตเทศบาล  2=นอกเขตเทศบาล</td>\n",
              "      <td>0=ไม่ใช่ 1=ใช่</td>\n",
              "      <td>0=ไม่ใช่ 1=ใช่</td>\n",
              "      <td>0=ไม่ใช่ 1=ใช่</td>\n",
              "      <td>0=ไม่ใช่ 1=ใช่</td>\n",
              "      <td>0=ไม่ใช่ 1=ใช่</td>\n",
              "      <td>0=ไม่ใช่ 1=ใช่</td>\n",
              "      <td>0=ไม่ใช่ 1=ใช่</td>\n",
              "      <td>0=ไม่ใช่ 1=ใช่</td>\n",
              "      <td>0=ไม่ใช่ 1=ใช่</td>\n",
              "      <td>0=ไม่ใช่ 1=ใช่</td>\n",
              "      <td>1=น้อยกว่า  10 นาที 2=10 - 30  นาที  3=30 นาที...</td>\n",
              "      <td>NaN</td>\n",
              "      <td>NaN</td>\n",
              "      <td>NaN</td>\n",
              "      <td>NaN</td>\n",
              "      <td>NaN</td>\n",
              "      <td>NaN</td>\n",
              "      <td>NaN</td>\n",
              "      <td>1=Facebook  2=Twitter  3=YouTube  4=Instagram ...</td>\n",
              "      <td>1=Facebook  2=Twitter  3=YouTube  4=Instagram ...</td>\n",
              "      <td>1=Facebook  2=Twitter  3=YouTube  4=Instagram ...</td>\n",
              "      <td>...</td>\n",
              "      <td>1=ติดตามอันดับที่1  2=ติดตามอันดับที่2  3=ติดต...</td>\n",
              "      <td>1=ติดตาม  2=ไม่ติดตาม</td>\n",
              "      <td>1=ติดตาม  2=ไม่ติดตาม</td>\n",
              "      <td>1=ติดตามอันดับที่1  2=ติดตามอันดับที่2  3=ติดต...</td>\n",
              "      <td>1=ติดตามอันดับที่1  2=ติดตามอันดับที่2  3=ติดต...</td>\n",
              "      <td>1=ติดตาม  2=ไม่ติดตาม</td>\n",
              "      <td>1=ติดตาม  2=ไม่ติดตาม</td>\n",
              "      <td>1=ติดตามอันดับที่1  2=ติดตามอันดับที่2  3=ติดต...</td>\n",
              "      <td>1=ติดตามอันดับที่1  2=ติดตามอันดับที่2  3=ติดต...</td>\n",
              "      <td>1=ติดตาม  2=ไม่ติดตาม</td>\n",
              "      <td>1=ติดตาม  2=ไม่ติดตาม</td>\n",
              "      <td>1=ติดตามอันดับที่1  2=ติดตามอันดับที่2  3=ติดต...</td>\n",
              "      <td>1=ติดตามอันดับที่1  2=ติดตามอันดับที่2  3=ติดต...</td>\n",
              "      <td>1=ติดตาม  2=ไม่ติดตาม</td>\n",
              "      <td>1=ติดตาม  2=ไม่ติดตาม</td>\n",
              "      <td>1=ติดตามอันดับที่1  2=ติดตามอันดับที่2  3=ติดต...</td>\n",
              "      <td>1=ติดตามอันดับที่1  2=ติดตามอันดับที่2  3=ติดต...</td>\n",
              "      <td>1=ติดตาม  2=ไม่ติดตาม</td>\n",
              "      <td>1=ติดตาม  2=ไม่ติดตาม</td>\n",
              "      <td>1=ติดตามอันดับที่1  2=ติดตามอันดับที่2  3=ติดต...</td>\n",
              "      <td>1=ติดตามอันดับที่1  2=ติดตามอันดับที่2  3=ติดต...</td>\n",
              "      <td>1=ติดตาม  2=ไม่ติดตาม</td>\n",
              "      <td>1=ติดตาม  2=ไม่ติดตาม</td>\n",
              "      <td>1=ติดตามอันดับที่1  2=ติดตามอันดับที่2  3=ติดต...</td>\n",
              "      <td>1=ติดตามอันดับที่1  2=ติดตามอันดับที่2  3=ติดต...</td>\n",
              "      <td>1=ติดตาม  2=ไม่ติดตาม</td>\n",
              "      <td>1=ติดตาม  2=ไม่ติดตาม</td>\n",
              "      <td>1=ติดตามอันดับที่1  2=ติดตามอันดับที่2  3=ติดต...</td>\n",
              "      <td>1=ติดตามอันดับที่1  2=ติดตามอันดับที่2  3=ติดต...</td>\n",
              "      <td>1=ติดตาม  2=ไม่ติดตาม</td>\n",
              "      <td>1=ติดตาม  2=ไม่ติดตาม</td>\n",
              "      <td>1=ติดตามอันดับที่1  2=ติดตามอันดับที่2  3=ติดต...</td>\n",
              "      <td>1=ติดตามอันดับที่1  2=ติดตามอันดับที่2  3=ติดต...</td>\n",
              "      <td>1=ติดตาม  2=ไม่ติดตาม</td>\n",
              "      <td>1=ติดตาม  2=ไม่ติดตาม</td>\n",
              "      <td>NaN</td>\n",
              "      <td>NaN</td>\n",
              "      <td>NaN</td>\n",
              "      <td>NaN</td>\n",
              "      <td>1 = Gen Z   2 = Gen Y  3 = Gen X   4 = Gen B</td>\n",
              "    </tr>\n",
              "  </tbody>\n",
              "</table>\n",
              "<p>3 rows × 193 columns</p>\n",
              "</div>"
            ],
            "text/plain": [
              "                       0    ...                                           192\n",
              "รหัส                    a1  ...                                     Gen_group\n",
              "ข้อคำถาม            a1 เพศ  ...                                           NaN\n",
              "code ตัวเลข  1=ชาย  2=หญิง  ...  1 = Gen Z   2 = Gen Y  3 = Gen X   4 = Gen B\n",
              "\n",
              "[3 rows x 193 columns]"
            ]
          },
          "metadata": {},
          "execution_count": 131
        }
      ]
    },
    {
      "cell_type": "code",
      "metadata": {
        "colab": {
          "base_uri": "https://localhost:8080/",
          "height": 35
        },
        "id": "TwvC_0v_7RXC",
        "outputId": "c921155c-8c75-4326-8e83-3010ee5f1ba5"
      },
      "source": [
        "DF_dictT.iloc[1,160]"
      ],
      "execution_count": null,
      "outputs": [
        {
          "output_type": "execute_result",
          "data": {
            "application/vnd.google.colaboratory.intrinsic+json": {
              "type": "string"
            },
            "text/plain": [
              "'r14new RD ระบุอันดับ ข่าวสาธารณสุขการแพทย์'"
            ]
          },
          "metadata": {},
          "execution_count": 132
        }
      ]
    },
    {
      "cell_type": "code",
      "metadata": {
        "id": "I95uO9TZtHQ8"
      },
      "source": [
        "#List1 = list(DF2.columns)\n",
        "#List2 = list(DF_dictT.loc[\"รหัส\"])\n",
        "#list(set(List1) - set(List2))"
      ],
      "execution_count": null,
      "outputs": []
    },
    {
      "cell_type": "code",
      "metadata": {
        "colab": {
          "base_uri": "https://localhost:8080/",
          "height": 255
        },
        "id": "HUV9SxslL2JQ",
        "outputId": "0b083c39-e9f8-4349-f54d-13cad85336c6"
      },
      "source": [
        "DF2.head()"
      ],
      "execution_count": null,
      "outputs": [
        {
          "output_type": "execute_result",
          "data": {
            "text/html": [
              "<div>\n",
              "<style scoped>\n",
              "    .dataframe tbody tr th:only-of-type {\n",
              "        vertical-align: middle;\n",
              "    }\n",
              "\n",
              "    .dataframe tbody tr th {\n",
              "        vertical-align: top;\n",
              "    }\n",
              "\n",
              "    .dataframe thead th {\n",
              "        text-align: right;\n",
              "    }\n",
              "</style>\n",
              "<table border=\"1\" class=\"dataframe\">\n",
              "  <thead>\n",
              "    <tr style=\"text-align: right;\">\n",
              "      <th></th>\n",
              "      <th>id</th>\n",
              "      <th>a1</th>\n",
              "      <th>a2</th>\n",
              "      <th>a301</th>\n",
              "      <th>a302</th>\n",
              "      <th>a3021</th>\n",
              "      <th>a4</th>\n",
              "      <th>a5</th>\n",
              "      <th>a51</th>\n",
              "      <th>a52</th>\n",
              "      <th>a53</th>\n",
              "      <th>a54</th>\n",
              "      <th>a57</th>\n",
              "      <th>a58</th>\n",
              "      <th>a6</th>\n",
              "      <th>a7</th>\n",
              "      <th>a81</th>\n",
              "      <th>a82</th>\n",
              "      <th>a91</th>\n",
              "      <th>a92</th>\n",
              "      <th>j1</th>\n",
              "      <th>j2</th>\n",
              "      <th>j3</th>\n",
              "      <th>j4</th>\n",
              "      <th>j5</th>\n",
              "      <th>k1</th>\n",
              "      <th>k2</th>\n",
              "      <th>k3</th>\n",
              "      <th>k4</th>\n",
              "      <th>k5</th>\n",
              "      <th>k6</th>\n",
              "      <th>k7</th>\n",
              "      <th>k8</th>\n",
              "      <th>k9</th>\n",
              "      <th>k10</th>\n",
              "      <th>l1</th>\n",
              "      <th>p1</th>\n",
              "      <th>p2</th>\n",
              "      <th>p3</th>\n",
              "      <th>p4</th>\n",
              "      <th>...</th>\n",
              "      <th>s12new</th>\n",
              "      <th>t12new</th>\n",
              "      <th>u12new</th>\n",
              "      <th>r13new</th>\n",
              "      <th>s13new</th>\n",
              "      <th>t13new</th>\n",
              "      <th>u13new</th>\n",
              "      <th>r14new</th>\n",
              "      <th>s14new</th>\n",
              "      <th>t14new</th>\n",
              "      <th>u14new</th>\n",
              "      <th>r15new</th>\n",
              "      <th>s15new</th>\n",
              "      <th>t15new</th>\n",
              "      <th>u15new</th>\n",
              "      <th>r16new</th>\n",
              "      <th>s16new</th>\n",
              "      <th>t16new</th>\n",
              "      <th>u16new</th>\n",
              "      <th>r17new</th>\n",
              "      <th>s17new</th>\n",
              "      <th>t17new</th>\n",
              "      <th>u17new</th>\n",
              "      <th>r18new</th>\n",
              "      <th>s18new</th>\n",
              "      <th>t18new</th>\n",
              "      <th>u18new</th>\n",
              "      <th>r19new</th>\n",
              "      <th>s19new</th>\n",
              "      <th>t19new</th>\n",
              "      <th>u19new</th>\n",
              "      <th>r20new</th>\n",
              "      <th>s20new</th>\n",
              "      <th>t20new</th>\n",
              "      <th>u20new</th>\n",
              "      <th>G_genZ</th>\n",
              "      <th>G_genY</th>\n",
              "      <th>G_genX</th>\n",
              "      <th>G_genB</th>\n",
              "      <th>Gen_group</th>\n",
              "    </tr>\n",
              "  </thead>\n",
              "  <tbody>\n",
              "    <tr>\n",
              "      <th>0</th>\n",
              "      <td>1</td>\n",
              "      <td>1</td>\n",
              "      <td>2530</td>\n",
              "      <td>2</td>\n",
              "      <td>6.0</td>\n",
              "      <td>NaN</td>\n",
              "      <td>2</td>\n",
              "      <td>7</td>\n",
              "      <td>NaN</td>\n",
              "      <td>NaN</td>\n",
              "      <td>NaN</td>\n",
              "      <td>NaN</td>\n",
              "      <td>1.0</td>\n",
              "      <td>NaN</td>\n",
              "      <td>9.0</td>\n",
              "      <td>NaN</td>\n",
              "      <td>1</td>\n",
              "      <td>2</td>\n",
              "      <td>5</td>\n",
              "      <td>2.0</td>\n",
              "      <td>3</td>\n",
              "      <td>4</td>\n",
              "      <td>5</td>\n",
              "      <td>9</td>\n",
              "      <td>9</td>\n",
              "      <td>0</td>\n",
              "      <td>1</td>\n",
              "      <td>0</td>\n",
              "      <td>0</td>\n",
              "      <td>0</td>\n",
              "      <td>1</td>\n",
              "      <td>0</td>\n",
              "      <td>0</td>\n",
              "      <td>0</td>\n",
              "      <td>0</td>\n",
              "      <td>6</td>\n",
              "      <td>1</td>\n",
              "      <td>1</td>\n",
              "      <td>1</td>\n",
              "      <td>0</td>\n",
              "      <td>...</td>\n",
              "      <td>0</td>\n",
              "      <td>0</td>\n",
              "      <td>0</td>\n",
              "      <td>0</td>\n",
              "      <td>0</td>\n",
              "      <td>0</td>\n",
              "      <td>0</td>\n",
              "      <td>0</td>\n",
              "      <td>0</td>\n",
              "      <td>0</td>\n",
              "      <td>0</td>\n",
              "      <td>2</td>\n",
              "      <td>0</td>\n",
              "      <td>1</td>\n",
              "      <td>1</td>\n",
              "      <td>0</td>\n",
              "      <td>0</td>\n",
              "      <td>0</td>\n",
              "      <td>0</td>\n",
              "      <td>0</td>\n",
              "      <td>0</td>\n",
              "      <td>0</td>\n",
              "      <td>0</td>\n",
              "      <td>0</td>\n",
              "      <td>0</td>\n",
              "      <td>0</td>\n",
              "      <td>0</td>\n",
              "      <td>0</td>\n",
              "      <td>0</td>\n",
              "      <td>0</td>\n",
              "      <td>0</td>\n",
              "      <td>0</td>\n",
              "      <td>0</td>\n",
              "      <td>0</td>\n",
              "      <td>0</td>\n",
              "      <td>NaN</td>\n",
              "      <td>2.0</td>\n",
              "      <td>NaN</td>\n",
              "      <td>NaN</td>\n",
              "      <td>2.0</td>\n",
              "    </tr>\n",
              "    <tr>\n",
              "      <th>1</th>\n",
              "      <td>2</td>\n",
              "      <td>2</td>\n",
              "      <td>2529</td>\n",
              "      <td>2</td>\n",
              "      <td>6.0</td>\n",
              "      <td>NaN</td>\n",
              "      <td>2</td>\n",
              "      <td>4</td>\n",
              "      <td>NaN</td>\n",
              "      <td>NaN</td>\n",
              "      <td>6.0</td>\n",
              "      <td>NaN</td>\n",
              "      <td>NaN</td>\n",
              "      <td>NaN</td>\n",
              "      <td>2.0</td>\n",
              "      <td>NaN</td>\n",
              "      <td>3</td>\n",
              "      <td>2</td>\n",
              "      <td>5</td>\n",
              "      <td>2.0</td>\n",
              "      <td>3</td>\n",
              "      <td>4</td>\n",
              "      <td>5</td>\n",
              "      <td>9</td>\n",
              "      <td>9</td>\n",
              "      <td>0</td>\n",
              "      <td>1</td>\n",
              "      <td>0</td>\n",
              "      <td>0</td>\n",
              "      <td>0</td>\n",
              "      <td>1</td>\n",
              "      <td>1</td>\n",
              "      <td>0</td>\n",
              "      <td>0</td>\n",
              "      <td>0</td>\n",
              "      <td>6</td>\n",
              "      <td>1</td>\n",
              "      <td>1</td>\n",
              "      <td>1</td>\n",
              "      <td>0</td>\n",
              "      <td>...</td>\n",
              "      <td>0</td>\n",
              "      <td>0</td>\n",
              "      <td>0</td>\n",
              "      <td>0</td>\n",
              "      <td>0</td>\n",
              "      <td>0</td>\n",
              "      <td>0</td>\n",
              "      <td>0</td>\n",
              "      <td>0</td>\n",
              "      <td>0</td>\n",
              "      <td>0</td>\n",
              "      <td>0</td>\n",
              "      <td>0</td>\n",
              "      <td>0</td>\n",
              "      <td>0</td>\n",
              "      <td>0</td>\n",
              "      <td>0</td>\n",
              "      <td>0</td>\n",
              "      <td>0</td>\n",
              "      <td>0</td>\n",
              "      <td>0</td>\n",
              "      <td>0</td>\n",
              "      <td>0</td>\n",
              "      <td>0</td>\n",
              "      <td>0</td>\n",
              "      <td>0</td>\n",
              "      <td>0</td>\n",
              "      <td>0</td>\n",
              "      <td>0</td>\n",
              "      <td>0</td>\n",
              "      <td>0</td>\n",
              "      <td>0</td>\n",
              "      <td>0</td>\n",
              "      <td>0</td>\n",
              "      <td>0</td>\n",
              "      <td>NaN</td>\n",
              "      <td>2.0</td>\n",
              "      <td>NaN</td>\n",
              "      <td>NaN</td>\n",
              "      <td>2.0</td>\n",
              "    </tr>\n",
              "    <tr>\n",
              "      <th>2</th>\n",
              "      <td>3</td>\n",
              "      <td>2</td>\n",
              "      <td>2531</td>\n",
              "      <td>2</td>\n",
              "      <td>6.0</td>\n",
              "      <td>NaN</td>\n",
              "      <td>2</td>\n",
              "      <td>4</td>\n",
              "      <td>NaN</td>\n",
              "      <td>NaN</td>\n",
              "      <td>NaN</td>\n",
              "      <td>2.0</td>\n",
              "      <td>NaN</td>\n",
              "      <td>NaN</td>\n",
              "      <td>2.0</td>\n",
              "      <td>NaN</td>\n",
              "      <td>1</td>\n",
              "      <td>2</td>\n",
              "      <td>5</td>\n",
              "      <td>2.0</td>\n",
              "      <td>3</td>\n",
              "      <td>4</td>\n",
              "      <td>5</td>\n",
              "      <td>9</td>\n",
              "      <td>9</td>\n",
              "      <td>0</td>\n",
              "      <td>1</td>\n",
              "      <td>0</td>\n",
              "      <td>0</td>\n",
              "      <td>0</td>\n",
              "      <td>1</td>\n",
              "      <td>1</td>\n",
              "      <td>0</td>\n",
              "      <td>0</td>\n",
              "      <td>0</td>\n",
              "      <td>6</td>\n",
              "      <td>1</td>\n",
              "      <td>1</td>\n",
              "      <td>1</td>\n",
              "      <td>0</td>\n",
              "      <td>...</td>\n",
              "      <td>0</td>\n",
              "      <td>0</td>\n",
              "      <td>0</td>\n",
              "      <td>0</td>\n",
              "      <td>0</td>\n",
              "      <td>0</td>\n",
              "      <td>0</td>\n",
              "      <td>0</td>\n",
              "      <td>0</td>\n",
              "      <td>0</td>\n",
              "      <td>0</td>\n",
              "      <td>0</td>\n",
              "      <td>0</td>\n",
              "      <td>0</td>\n",
              "      <td>0</td>\n",
              "      <td>0</td>\n",
              "      <td>0</td>\n",
              "      <td>0</td>\n",
              "      <td>0</td>\n",
              "      <td>0</td>\n",
              "      <td>0</td>\n",
              "      <td>0</td>\n",
              "      <td>0</td>\n",
              "      <td>0</td>\n",
              "      <td>0</td>\n",
              "      <td>0</td>\n",
              "      <td>0</td>\n",
              "      <td>0</td>\n",
              "      <td>0</td>\n",
              "      <td>0</td>\n",
              "      <td>0</td>\n",
              "      <td>0</td>\n",
              "      <td>0</td>\n",
              "      <td>0</td>\n",
              "      <td>0</td>\n",
              "      <td>NaN</td>\n",
              "      <td>2.0</td>\n",
              "      <td>NaN</td>\n",
              "      <td>NaN</td>\n",
              "      <td>2.0</td>\n",
              "    </tr>\n",
              "    <tr>\n",
              "      <th>3</th>\n",
              "      <td>4</td>\n",
              "      <td>2</td>\n",
              "      <td>2516</td>\n",
              "      <td>2</td>\n",
              "      <td>5.0</td>\n",
              "      <td>NaN</td>\n",
              "      <td>2</td>\n",
              "      <td>2</td>\n",
              "      <td>NaN</td>\n",
              "      <td>6.0</td>\n",
              "      <td>NaN</td>\n",
              "      <td>NaN</td>\n",
              "      <td>NaN</td>\n",
              "      <td>NaN</td>\n",
              "      <td>2.0</td>\n",
              "      <td>NaN</td>\n",
              "      <td>1</td>\n",
              "      <td>2</td>\n",
              "      <td>5</td>\n",
              "      <td>2.0</td>\n",
              "      <td>1</td>\n",
              "      <td>3</td>\n",
              "      <td>4</td>\n",
              "      <td>5</td>\n",
              "      <td>9</td>\n",
              "      <td>0</td>\n",
              "      <td>1</td>\n",
              "      <td>0</td>\n",
              "      <td>0</td>\n",
              "      <td>1</td>\n",
              "      <td>1</td>\n",
              "      <td>0</td>\n",
              "      <td>0</td>\n",
              "      <td>0</td>\n",
              "      <td>0</td>\n",
              "      <td>5</td>\n",
              "      <td>1</td>\n",
              "      <td>1</td>\n",
              "      <td>1</td>\n",
              "      <td>0</td>\n",
              "      <td>...</td>\n",
              "      <td>0</td>\n",
              "      <td>0</td>\n",
              "      <td>0</td>\n",
              "      <td>0</td>\n",
              "      <td>0</td>\n",
              "      <td>0</td>\n",
              "      <td>0</td>\n",
              "      <td>0</td>\n",
              "      <td>0</td>\n",
              "      <td>0</td>\n",
              "      <td>0</td>\n",
              "      <td>5</td>\n",
              "      <td>0</td>\n",
              "      <td>1</td>\n",
              "      <td>1</td>\n",
              "      <td>0</td>\n",
              "      <td>0</td>\n",
              "      <td>0</td>\n",
              "      <td>0</td>\n",
              "      <td>0</td>\n",
              "      <td>0</td>\n",
              "      <td>0</td>\n",
              "      <td>0</td>\n",
              "      <td>0</td>\n",
              "      <td>0</td>\n",
              "      <td>0</td>\n",
              "      <td>0</td>\n",
              "      <td>0</td>\n",
              "      <td>0</td>\n",
              "      <td>0</td>\n",
              "      <td>0</td>\n",
              "      <td>0</td>\n",
              "      <td>0</td>\n",
              "      <td>0</td>\n",
              "      <td>0</td>\n",
              "      <td>NaN</td>\n",
              "      <td>NaN</td>\n",
              "      <td>3.0</td>\n",
              "      <td>NaN</td>\n",
              "      <td>3.0</td>\n",
              "    </tr>\n",
              "    <tr>\n",
              "      <th>4</th>\n",
              "      <td>5</td>\n",
              "      <td>2</td>\n",
              "      <td>2508</td>\n",
              "      <td>2</td>\n",
              "      <td>1.0</td>\n",
              "      <td>NaN</td>\n",
              "      <td>2</td>\n",
              "      <td>6</td>\n",
              "      <td>NaN</td>\n",
              "      <td>NaN</td>\n",
              "      <td>NaN</td>\n",
              "      <td>NaN</td>\n",
              "      <td>1.0</td>\n",
              "      <td>NaN</td>\n",
              "      <td>1.0</td>\n",
              "      <td>NaN</td>\n",
              "      <td>4</td>\n",
              "      <td>2</td>\n",
              "      <td>5</td>\n",
              "      <td>2.0</td>\n",
              "      <td>1</td>\n",
              "      <td>3</td>\n",
              "      <td>5</td>\n",
              "      <td>9</td>\n",
              "      <td>9</td>\n",
              "      <td>0</td>\n",
              "      <td>1</td>\n",
              "      <td>0</td>\n",
              "      <td>1</td>\n",
              "      <td>0</td>\n",
              "      <td>1</td>\n",
              "      <td>1</td>\n",
              "      <td>0</td>\n",
              "      <td>0</td>\n",
              "      <td>0</td>\n",
              "      <td>6</td>\n",
              "      <td>1</td>\n",
              "      <td>1</td>\n",
              "      <td>1</td>\n",
              "      <td>0</td>\n",
              "      <td>...</td>\n",
              "      <td>0</td>\n",
              "      <td>0</td>\n",
              "      <td>0</td>\n",
              "      <td>0</td>\n",
              "      <td>0</td>\n",
              "      <td>0</td>\n",
              "      <td>0</td>\n",
              "      <td>0</td>\n",
              "      <td>0</td>\n",
              "      <td>0</td>\n",
              "      <td>0</td>\n",
              "      <td>5</td>\n",
              "      <td>0</td>\n",
              "      <td>1</td>\n",
              "      <td>1</td>\n",
              "      <td>0</td>\n",
              "      <td>0</td>\n",
              "      <td>0</td>\n",
              "      <td>0</td>\n",
              "      <td>0</td>\n",
              "      <td>0</td>\n",
              "      <td>0</td>\n",
              "      <td>0</td>\n",
              "      <td>0</td>\n",
              "      <td>0</td>\n",
              "      <td>0</td>\n",
              "      <td>0</td>\n",
              "      <td>0</td>\n",
              "      <td>0</td>\n",
              "      <td>0</td>\n",
              "      <td>0</td>\n",
              "      <td>0</td>\n",
              "      <td>0</td>\n",
              "      <td>0</td>\n",
              "      <td>0</td>\n",
              "      <td>NaN</td>\n",
              "      <td>NaN</td>\n",
              "      <td>NaN</td>\n",
              "      <td>4.0</td>\n",
              "      <td>4.0</td>\n",
              "    </tr>\n",
              "  </tbody>\n",
              "</table>\n",
              "<p>5 rows × 200 columns</p>\n",
              "</div>"
            ],
            "text/plain": [
              "   id  a1    a2  a301  a302  ...  G_genZ  G_genY  G_genX  G_genB  Gen_group\n",
              "0   1   1  2530     2   6.0  ...     NaN     2.0     NaN     NaN        2.0\n",
              "1   2   2  2529     2   6.0  ...     NaN     2.0     NaN     NaN        2.0\n",
              "2   3   2  2531     2   6.0  ...     NaN     2.0     NaN     NaN        2.0\n",
              "3   4   2  2516     2   5.0  ...     NaN     NaN     3.0     NaN        3.0\n",
              "4   5   2  2508     2   1.0  ...     NaN     NaN     NaN     4.0        4.0\n",
              "\n",
              "[5 rows x 200 columns]"
            ]
          },
          "metadata": {},
          "execution_count": 134
        }
      ]
    },
    {
      "cell_type": "code",
      "metadata": {
        "id": "SbydjChFtHJe"
      },
      "source": [
        "indexs = DF_dictT.loc[\"ข้อคำถาม\"]"
      ],
      "execution_count": null,
      "outputs": []
    },
    {
      "cell_type": "markdown",
      "metadata": {
        "id": "MoUQuvFJlLKn"
      },
      "source": [
        "# Gen x Income"
      ]
    },
    {
      "cell_type": "code",
      "metadata": {
        "id": "9-wSMneJeWlQ",
        "colab": {
          "base_uri": "https://localhost:8080/"
        },
        "outputId": "ddac6e4d-2537-4596-ded4-d6e075e996d3"
      },
      "source": [
        "DF2['a6'].mode() #fill na with mode"
      ],
      "execution_count": null,
      "outputs": [
        {
          "output_type": "execute_result",
          "data": {
            "text/plain": [
              "0    2.0\n",
              "dtype: float64"
            ]
          },
          "metadata": {},
          "execution_count": 136
        }
      ]
    },
    {
      "cell_type": "code",
      "metadata": {
        "id": "rnRWRVCEkrfb"
      },
      "source": [
        "DF2['a6'].mode() #fill na with mode\n",
        "DF2['a6'] = DF2['a6'].replace([9.0],2.0)"
      ],
      "execution_count": null,
      "outputs": []
    },
    {
      "cell_type": "code",
      "metadata": {
        "id": "b3ncKle2gNiC"
      },
      "source": [
        "Gen1 = DF2[DF2[\"Gen_group\"]==1.0]\n",
        "Gen2 = DF2[DF2[\"Gen_group\"]==2.0]\n",
        "Gen3 = DF2[DF2[\"Gen_group\"]==3.0]\n",
        "Gen4 = DF2[DF2[\"Gen_group\"]==4.0]"
      ],
      "execution_count": null,
      "outputs": []
    },
    {
      "cell_type": "code",
      "metadata": {
        "id": "Q04MEDdjSAGd"
      },
      "source": [
        "from matplotlib.pyplot import figure # import lib สำหรับ การแสดงกราฟ\n",
        "import matplotlib.pyplot as plt "
      ],
      "execution_count": null,
      "outputs": []
    },
    {
      "cell_type": "code",
      "metadata": {
        "id": "PHVe5-QWhEVU",
        "colab": {
          "base_uri": "https://localhost:8080/",
          "height": 295
        },
        "outputId": "23b4e46f-63ab-4853-91f6-6b4b61d6483e"
      },
      "source": [
        "plt.figure(figsize=(3, 3))\n",
        "\n",
        "Gen1['a6'].value_counts().plot.bar()\n",
        "plt.title(\"GenZ - Income\")\n",
        "plt.xticks([0, 1, ], ['<15k','15k-30k'], rotation=20)  "
      ],
      "execution_count": null,
      "outputs": [
        {
          "output_type": "execute_result",
          "data": {
            "text/plain": [
              "([<matplotlib.axis.XTick at 0x7fb6e18d9790>,\n",
              "  <matplotlib.axis.XTick at 0x7fb6e18d9150>],\n",
              " [Text(0, 0, '<15k'), Text(0, 0, '15k-30k')])"
            ]
          },
          "metadata": {},
          "execution_count": 140
        },
        {
          "output_type": "display_data",
          "data": {
            "image/png": "[encoded data removed]",
            "text/plain": [
              "<Figure size 216x216 with 1 Axes>"
            ]
          },
          "metadata": {}
        }
      ]
    },
    {
      "cell_type": "code",
      "metadata": {
        "id": "RpNSptWyhNWa",
        "colab": {
          "base_uri": "https://localhost:8080/",
          "height": 382
        },
        "outputId": "63647169-2e80-44c1-9e5e-fdaeeb85d42d"
      },
      "source": [
        "plt.figure(figsize=(3, 3))\n",
        "\n",
        "Gen2['a6'].value_counts().plot.bar()\n",
        "plt.title(\"GenY - Income\")\n",
        "plt.xticks([0, 1, 2, 3 ], ['<15k','15k-30k', '30k-50k','50k-80k' ], rotation=20)  "
      ],
      "execution_count": null,
      "outputs": [
        {
          "output_type": "execute_result",
          "data": {
            "text/plain": [
              "([<matplotlib.axis.XTick at 0x7fb6e0a0ffd0>,\n",
              "  <matplotlib.axis.XTick at 0x7fb6e0a0ff90>,\n",
              "  <matplotlib.axis.XTick at 0x7fb6ea1cea90>,\n",
              "  <matplotlib.axis.XTick at 0x7fb6e09bbf50>],\n",
              " [Text(0, 0, '<15k'),\n",
              "  Text(0, 0, '15k-30k'),\n",
              "  Text(0, 0, '30k-50k'),\n",
              "  Text(0, 0, '50k-80k')])"
            ]
          },
          "metadata": {},
          "execution_count": 141
        },
        {
          "output_type": "display_data",
          "data": {
            "image/png": "[encoded data removed]",
            "text/plain": [
              "<Figure size 216x216 with 1 Axes>"
            ]
          },
          "metadata": {}
        }
      ]
    },
    {
      "cell_type": "code",
      "metadata": {
        "id": "S8907SH2hRP4",
        "colab": {
          "base_uri": "https://localhost:8080/",
          "height": 382
        },
        "outputId": "b910bbb6-6ab9-422e-a53b-d5434dedcdf4"
      },
      "source": [
        "plt.figure(figsize=(3, 3))\n",
        "\n",
        "Gen3['a6'].value_counts().plot.bar()\n",
        "plt.title(\"GenX - Income\")\n",
        "plt.xticks([0, 1, 2, 3 ], ['<15k','15k-30k', '30k-50k','50k-80k' ], rotation=20)  "
      ],
      "execution_count": null,
      "outputs": [
        {
          "output_type": "execute_result",
          "data": {
            "text/plain": [
              "([<matplotlib.axis.XTick at 0x7fb6e096db50>,\n",
              "  <matplotlib.axis.XTick at 0x7fb6e096db10>,\n",
              "  <matplotlib.axis.XTick at 0x7fb6e09c3450>,\n",
              "  <matplotlib.axis.XTick at 0x7fb6e0916a10>],\n",
              " [Text(0, 0, '<15k'),\n",
              "  Text(0, 0, '15k-30k'),\n",
              "  Text(0, 0, '30k-50k'),\n",
              "  Text(0, 0, '50k-80k')])"
            ]
          },
          "metadata": {},
          "execution_count": 142
        },
        {
          "output_type": "display_data",
          "data": {
            "image/png": "[encoded data removed]",
            "text/plain": [
              "<Figure size 216x216 with 1 Axes>"
            ]
          },
          "metadata": {}
        }
      ]
    },
    {
      "cell_type": "code",
      "metadata": {
        "id": "EtzbLnoRhekS",
        "colab": {
          "base_uri": "https://localhost:8080/",
          "height": 382
        },
        "outputId": "88a89ff1-b499-4e09-97dc-1540b16e22a6"
      },
      "source": [
        "plt.figure(figsize=(3, 3))\n",
        "\n",
        "Gen3['a6'].value_counts().plot.bar()\n",
        "plt.title(\"GenB - Income\")\n",
        "plt.xticks([0, 1, 2, 3 ], ['<15k','15k-30k', '30k-50k','50k-80k' ], rotation=20)  "
      ],
      "execution_count": null,
      "outputs": [
        {
          "output_type": "execute_result",
          "data": {
            "text/plain": [
              "([<matplotlib.axis.XTick at 0x7fb6e0948e10>,\n",
              "  <matplotlib.axis.XTick at 0x7fb6e0948d50>,\n",
              "  <matplotlib.axis.XTick at 0x7fb6e0916690>,\n",
              "  <matplotlib.axis.XTick at 0x7fb6e08f49d0>],\n",
              " [Text(0, 0, '<15k'),\n",
              "  Text(0, 0, '15k-30k'),\n",
              "  Text(0, 0, '30k-50k'),\n",
              "  Text(0, 0, '50k-80k')])"
            ]
          },
          "metadata": {},
          "execution_count": 143
        },
        {
          "output_type": "display_data",
          "data": {
            "image/png": "[encoded data removed]",
            "text/plain": [
              "<Figure size 216x216 with 1 Axes>"
            ]
          },
          "metadata": {}
        }
      ]
    },
    {
      "cell_type": "code",
      "metadata": {
        "id": "Y90q7qhiisbV",
        "colab": {
          "base_uri": "https://localhost:8080/",
          "height": 235
        },
        "outputId": "d8fd8899-9015-43fc-bf76-ab44c1520c3a"
      },
      "source": [
        "plt.figure(figsize=(3, 3)) # รายได้เฉลี่ยของแต่ละ Gen\n",
        "\n",
        "G1 = Gen1['a6'].mean()\n",
        "G2 = Gen2['a6'].mean()\n",
        "G3 = Gen3['a6'].mean()\n",
        "G4 = Gen4['a6'].mean()\n",
        "\n",
        "plt.bar( [\"GenZ\", \"GenY\",\"GenX\",\"GenB\"], [G1, G2, G3, G4])\n",
        "plt.yticks([0, 0.5, 1, 1.5, 2 ], [\"0\", '<15k','15k-30k', '30k-50k','50k-80k' ])\n",
        "plt.suptitle('mean incom / Gen')\n",
        "plt.show()"
      ],
      "execution_count": null,
      "outputs": [
        {
          "output_type": "display_data",
          "data": {
            "image/png": "[encoded data removed]",
            "text/plain": [
              "<Figure size 216x216 with 1 Axes>"
            ]
          },
          "metadata": {}
        }
      ]
    },
    {
      "cell_type": "code",
      "metadata": {
        "id": "yReyhEfaQhRA",
        "colab": {
          "base_uri": "https://localhost:8080/",
          "height": 561
        },
        "outputId": "9038e93d-ea59-4fd5-a930-5e7ebd0db3ab"
      },
      "source": [
        "plt.figure(figsize=(3, 3))\n",
        "\n",
        "Salary=[]\n",
        "GenG=[]\n",
        "for i in DF2['a6']:\n",
        "  if i==1:\n",
        "    Salary.append('<15k')\n",
        "  elif i==2:\n",
        "    Salary.append('15k-30k')\n",
        "  elif i==3:\n",
        "    Salary.append('30k-50k')\n",
        "  elif i==4:\n",
        "    Salary.append('50k-80k')\n",
        "  elif i==5:\n",
        "    Salary.append('80k+')\n",
        "  else:\n",
        "    Salary.append('NA')\n",
        "\n",
        "for k in DF2['Gen_group']:\n",
        "  if k==1:\n",
        "    GenG.append('GenZ')\n",
        "  elif k==2:\n",
        "    GenG.append('GenY')\n",
        "  elif k==3:\n",
        "    GenG.append('GenX')\n",
        "  else:\n",
        "    GenG.append('GenB')\n",
        "\n",
        "GenSalary=pd.DataFrame({'Salary':Salary,'Gen_Group':GenG})\n",
        "Gen_Salary = pd.DataFrame({\n",
        "                        '<15k': GenSalary[GenSalary['Salary']=='<15k']['Gen_Group'].value_counts(),\n",
        "                        '15k-30k': GenSalary[GenSalary['Salary']=='15k-30k']['Gen_Group'].value_counts(),\n",
        "                        '30k-50k': GenSalary[GenSalary['Salary']=='30k-50k']['Gen_Group'].value_counts(),\n",
        "                        '50k-80k': GenSalary[GenSalary['Salary']=='50k-80k']['Gen_Group'].value_counts(),\n",
        "                        '80k+': GenSalary[GenSalary['Salary']=='80k+']['Gen_Group'].value_counts(),\n",
        "\n",
        "})\n",
        "\n",
        "gen_order=['GenZ','GenY','GenX','GenB']\n",
        "Gen_Salary.loc[gen_order].plot(kind=\"bar\")\n",
        "plt.xticks(rotation=20) \n",
        "plt.title(\"GEN - INCOME\")"
      ],
      "execution_count": null,
      "outputs": [
        {
          "output_type": "execute_result",
          "data": {
            "text/plain": [
              "Text(0.5, 1.0, 'GEN - INCOME')"
            ]
          },
          "metadata": {},
          "execution_count": 223
        },
        {
          "output_type": "display_data",
          "data": {
            "text/plain": [
              "<Figure size 216x216 with 0 Axes>"
            ]
          },
          "metadata": {}
        },
        {
          "output_type": "display_data",
          "data": {
            "image/png": "[encoded data removed]",
            "text/plain": [
              "<Figure size 842.4x595.44 with 1 Axes>"
            ]
          },
          "metadata": {}
        }
      ]
    },
    {
      "cell_type": "markdown",
      "metadata": {
        "id": "led_ZizplTnN"
      },
      "source": [
        "# Edu x Income"
      ]
    },
    {
      "cell_type": "code",
      "metadata": {
        "id": "8xrFEOyy_h4K",
        "colab": {
          "base_uri": "https://localhost:8080/"
        },
        "outputId": "5233de96-913d-4d44-e97a-9b2889b0e3b9"
      },
      "source": [
        "DF2['a302'].value_counts() # ดูแบบคร่าว ๆ ก่อนว่ามีเลข 9 (หรือ error) ไหม"
      ],
      "execution_count": null,
      "outputs": [
        {
          "output_type": "execute_result",
          "data": {
            "text/plain": [
              "6.0    600\n",
              "3.0    418\n",
              "2.0    330\n",
              "5.0    271\n",
              "1.0    257\n",
              "4.0    176\n",
              "8.0      2\n",
              "Name: a302, dtype: int64"
            ]
          },
          "metadata": {},
          "execution_count": 147
        }
      ]
    },
    {
      "cell_type": "code",
      "metadata": {
        "id": "miE_cREzl1gc",
        "colab": {
          "base_uri": "https://localhost:8080/",
          "height": 337
        },
        "outputId": "50319dea-08bb-4a20-9265-79ad89bf1e33"
      },
      "source": [
        "plt.figure(figsize=(9, 3))\n",
        "plt.title(\"Number of Educated\")\n",
        "DF2['a302'].value_counts().plot.bar()\n",
        "\n",
        "\n",
        "plt.xticks([0, 1, 2, 3, 4, 5, 6], ['Bachelor', 'High school', \"Lower Secondary School\",\n",
        "                             \"High Vocational Certificate\", \"Primary School\",\n",
        "                             \"Vocational Certificate\", \"not graduated\" ], rotation=30)  \n",
        "\n",
        "\n",
        "\n",
        "plt.show()\n",
        "\n",
        "\"\"\"\n",
        "1=ประถมศึกษา  2=มัธยมศึกษาตอนต้น  3=มัธยมศึกษาตอนปลาย  4=ปวช.  \n",
        "5=ปวส./ปวท./อนุปริญญา  6=ปริญญาตรี  7=สูงกว่าปริญญาตรี  8=อื่น ๆ  9=ไม่ได้ศึกษาในระบบใดเลย\n",
        "\"\"\""
      ],
      "execution_count": null,
      "outputs": [
        {
          "output_type": "display_data",
          "data": {
            "image/png": "[encoded data removed]",
            "text/plain": [
              "<Figure size 648x216 with 1 Axes>"
            ]
          },
          "metadata": {}
        },
        {
          "output_type": "execute_result",
          "data": {
            "application/vnd.google.colaboratory.intrinsic+json": {
              "type": "string"
            },
            "text/plain": [
              "'\\n1=ประถมศึกษา  2=มัธยมศึกษาตอนต้น  3=มัธยมศึกษาตอนปลาย  4=ปวช.  \\n5=ปวส./ปวท./อนุปริญญา  6=ปริญญาตรี  7=สูงกว่าปริญญาตรี  8=อื่น ๆ  9=ไม่ได้ศึกษาในระบบใดเลย\\n'"
            ]
          },
          "metadata": {},
          "execution_count": 228
        }
      ]
    },
    {
      "cell_type": "code",
      "metadata": {
        "id": "-IWb97A4nPaI"
      },
      "source": [
        "# สร้าง DataFrame เพื่อดูรายได้ของแต่ละกลุ่มอาชีพ\n",
        "Edu1 = DF2[DF2[\"a302\"]==1.0] # คนจบประถม รายได้\n",
        "Edu2 = DF2[DF2[\"a302\"]==2.0] # จบ ม .ต้น\n",
        "Edu3 = DF2[DF2[\"a302\"]==3.0] # จบ ม. ปลาย\n",
        "Edu4 = DF2[DF2[\"a302\"]==4.0] # จบ ปวช\n",
        "Edu5 = DF2[DF2[\"a302\"]==5.0] # จบ ปวส\n",
        "Edu6 = DF2[DF2[\"a302\"]==6.0] # จบ ป.ตรี\n",
        "Edu7 = DF2[DF2[\"a302\"]==7.0] # จบ สูงกว่า ป. ตรี\n",
        "Edu8 = DF2[DF2[\"a302\"]==8.0] # จบ อื่น ๆ \n",
        "Edu9 = DF2[DF2[\"a302\"]==9.0] # ไม่ได้เรียน"
      ],
      "execution_count": null,
      "outputs": []
    },
    {
      "cell_type": "code",
      "metadata": {
        "id": "__5jux0nno9P",
        "colab": {
          "base_uri": "https://localhost:8080/",
          "height": 382
        },
        "outputId": "295c48cf-7de4-49dd-fcb6-9e8a1d5ca38d"
      },
      "source": [
        "plt.figure(figsize=(3, 3))\n",
        "plt.title(\"Primary School x income\")\n",
        "Edu1['a6'].value_counts().plot.bar()\n",
        "plt.xticks([0, 1, 2, 3 ], ['<15k','15k-30k', '30k-50k','50k-80k' ], rotation=20)  "
      ],
      "execution_count": null,
      "outputs": [
        {
          "output_type": "execute_result",
          "data": {
            "text/plain": [
              "([<matplotlib.axis.XTick at 0x7fb6e0749b90>,\n",
              "  <matplotlib.axis.XTick at 0x7fb6e0749b50>,\n",
              "  <matplotlib.axis.XTick at 0x7fb6e074f7d0>,\n",
              "  <matplotlib.axis.XTick at 0x7fb6e06fc610>],\n",
              " [Text(0, 0, '<15k'),\n",
              "  Text(0, 0, '15k-30k'),\n",
              "  Text(0, 0, '30k-50k'),\n",
              "  Text(0, 0, '50k-80k')])"
            ]
          },
          "metadata": {},
          "execution_count": 150
        },
        {
          "output_type": "display_data",
          "data": {
            "image/png": "[encoded data removed]",
            "text/plain": [
              "<Figure size 216x216 with 1 Axes>"
            ]
          },
          "metadata": {}
        }
      ]
    },
    {
      "cell_type": "code",
      "metadata": {
        "id": "HLfjMypyn7zZ",
        "colab": {
          "base_uri": "https://localhost:8080/",
          "height": 382
        },
        "outputId": "ae1752bc-79d7-4fc8-cd93-a6d0a1a7cccf"
      },
      "source": [
        "plt.figure(figsize=(3, 3))\n",
        "\n",
        "plt.title(\"Lower Secondary School x income\")\n",
        "Edu2['a6'].value_counts().plot.bar()\n",
        "plt.xticks([0, 1, 2, 3 ], ['<15k','15k-30k', '30k-50k','50k-80k' ], rotation=20)  "
      ],
      "execution_count": null,
      "outputs": [
        {
          "output_type": "execute_result",
          "data": {
            "text/plain": [
              "([<matplotlib.axis.XTick at 0x7fb6e0711150>,\n",
              "  <matplotlib.axis.XTick at 0x7fb6e0711110>,\n",
              "  <matplotlib.axis.XTick at 0x7fb6e06bde90>,\n",
              "  <matplotlib.axis.XTick at 0x7fb6e0656110>],\n",
              " [Text(0, 0, '<15k'),\n",
              "  Text(0, 0, '15k-30k'),\n",
              "  Text(0, 0, '30k-50k'),\n",
              "  Text(0, 0, '50k-80k')])"
            ]
          },
          "metadata": {},
          "execution_count": 151
        },
        {
          "output_type": "display_data",
          "data": {
            "image/png": "[encoded data removed]",
            "text/plain": [
              "<Figure size 216x216 with 1 Axes>"
            ]
          },
          "metadata": {}
        }
      ]
    },
    {
      "cell_type": "code",
      "metadata": {
        "id": "16tMMHwTn_Zn",
        "colab": {
          "base_uri": "https://localhost:8080/",
          "height": 382
        },
        "outputId": "752965d3-12d5-4519-c489-228c983a56dc"
      },
      "source": [
        "plt.figure(figsize=(3, 3))\n",
        "\n",
        "plt.title(\"Lower Secondary School x income\")\n",
        "Edu3['a6'].value_counts().plot.bar()\n",
        "plt.xticks([0, 1, 2, 3 ], ['<15k','15k-30k', '30k-50k','50k-80k' ], rotation=20)  "
      ],
      "execution_count": null,
      "outputs": [
        {
          "output_type": "execute_result",
          "data": {
            "text/plain": [
              "([<matplotlib.axis.XTick at 0x7fb6e0660c90>,\n",
              "  <matplotlib.axis.XTick at 0x7fb6e0660c50>,\n",
              "  <matplotlib.axis.XTick at 0x7fb6e0618b50>,\n",
              "  <matplotlib.axis.XTick at 0x7fb6e0642910>],\n",
              " [Text(0, 0, '<15k'),\n",
              "  Text(0, 0, '15k-30k'),\n",
              "  Text(0, 0, '30k-50k'),\n",
              "  Text(0, 0, '50k-80k')])"
            ]
          },
          "metadata": {},
          "execution_count": 152
        },
        {
          "output_type": "display_data",
          "data": {
            "image/png": "[encoded data removed]",
            "text/plain": [
              "<Figure size 216x216 with 1 Axes>"
            ]
          },
          "metadata": {}
        }
      ]
    },
    {
      "cell_type": "code",
      "metadata": {
        "id": "G53cs0v3oE3d",
        "colab": {
          "base_uri": "https://localhost:8080/",
          "height": 382
        },
        "outputId": "87e58416-2682-4932-f03f-2be10796b05b"
      },
      "source": [
        "plt.figure(figsize=(3, 3))\n",
        "\n",
        "plt.title(\"Vocational Certificate\")\n",
        "Edu4['a6'].value_counts().plot.bar()\n",
        "plt.xticks([0, 1, 2, 3 ], ['15k-30k', '<15k', '50k-80k', '30k-50k' ], rotation=20)  "
      ],
      "execution_count": null,
      "outputs": [
        {
          "output_type": "execute_result",
          "data": {
            "text/plain": [
              "([<matplotlib.axis.XTick at 0x7fb6e05ef390>,\n",
              "  <matplotlib.axis.XTick at 0x7fb6e05ef090>,\n",
              "  <matplotlib.axis.XTick at 0x7fb6e0602510>,\n",
              "  <matplotlib.axis.XTick at 0x7fb6e05af610>],\n",
              " [Text(0, 0, '15k-30k'),\n",
              "  Text(0, 0, '<15k'),\n",
              "  Text(0, 0, '50k-80k'),\n",
              "  Text(0, 0, '30k-50k')])"
            ]
          },
          "metadata": {},
          "execution_count": 153
        },
        {
          "output_type": "display_data",
          "data": {
            "image/png": "[encoded data removed]",
            "text/plain": [
              "<Figure size 216x216 with 1 Axes>"
            ]
          },
          "metadata": {}
        }
      ]
    },
    {
      "cell_type": "code",
      "metadata": {
        "id": "z0REI2wdoI9X",
        "colab": {
          "base_uri": "https://localhost:8080/",
          "height": 382
        },
        "outputId": "240d95e8-d895-4bf9-aee0-d10e876d425f"
      },
      "source": [
        "plt.figure(figsize=(3, 3))\n",
        "\n",
        "plt.title(\"High Vocational Certificate\")\n",
        "Edu5['a6'].value_counts().plot.bar()\n",
        "plt.xticks([0, 1, 2, 3 ], ['15k-30k', '<15k', '50k-80k', '30k-50k' ], rotation=20)  "
      ],
      "execution_count": null,
      "outputs": [
        {
          "output_type": "execute_result",
          "data": {
            "text/plain": [
              "([<matplotlib.axis.XTick at 0x7fb6e05be110>,\n",
              "  <matplotlib.axis.XTick at 0x7fb6e05be510>,\n",
              "  <matplotlib.axis.XTick at 0x7fb6e05b6910>,\n",
              "  <matplotlib.axis.XTick at 0x7fb6e058e210>],\n",
              " [Text(0, 0, '15k-30k'),\n",
              "  Text(0, 0, '<15k'),\n",
              "  Text(0, 0, '50k-80k'),\n",
              "  Text(0, 0, '30k-50k')])"
            ]
          },
          "metadata": {},
          "execution_count": 154
        },
        {
          "output_type": "display_data",
          "data": {
            "image/png": "[encoded data removed]",
            "text/plain": [
              "<Figure size 216x216 with 1 Axes>"
            ]
          },
          "metadata": {}
        }
      ]
    },
    {
      "cell_type": "code",
      "metadata": {
        "id": "EYrMyYv_oMGZ",
        "colab": {
          "base_uri": "https://localhost:8080/",
          "height": 382
        },
        "outputId": "e6508fd1-9578-49c3-d11c-ee4657f9a408"
      },
      "source": [
        "plt.figure(figsize=(3, 3))\n",
        "\n",
        "plt.title(\"Bachelor\")\n",
        "Edu6['a6'].value_counts().plot.bar()\n",
        "plt.xticks([0, 1, 2, 3 ], ['15k-30k', '<15k', '50k-80k', '30k-50k' ], rotation=20)  "
      ],
      "execution_count": null,
      "outputs": [
        {
          "output_type": "execute_result",
          "data": {
            "text/plain": [
              "([<matplotlib.axis.XTick at 0x7fb6ded99d90>,\n",
              "  <matplotlib.axis.XTick at 0x7fb6ded99cd0>,\n",
              "  <matplotlib.axis.XTick at 0x7fb6dee42ed0>,\n",
              "  <matplotlib.axis.XTick at 0x7fb6dedd0810>],\n",
              " [Text(0, 0, '15k-30k'),\n",
              "  Text(0, 0, '<15k'),\n",
              "  Text(0, 0, '50k-80k'),\n",
              "  Text(0, 0, '30k-50k')])"
            ]
          },
          "metadata": {},
          "execution_count": 229
        },
        {
          "output_type": "display_data",
          "data": {
            "image/png": "[encoded data removed]",
            "text/plain": [
              "<Figure size 216x216 with 1 Axes>"
            ]
          },
          "metadata": {}
        }
      ]
    },
    {
      "cell_type": "code",
      "metadata": {
        "id": "21asONnWoP35",
        "colab": {
          "base_uri": "https://localhost:8080/",
          "height": 257
        },
        "outputId": "6e4ad9f9-bf6b-405a-da0d-59b430827804"
      },
      "source": [
        "# ในที่นี้อาจหมายถึงผู้ที่ไม่ได้รับการศึกษาเลย\n",
        "plt.figure(figsize=(3, 3))\n",
        "\n",
        "plt.title(\"Others\")\n",
        "Edu8['a6'].value_counts().plot.bar()\n",
        "plt.xticks([0 ], ['<15k '], rotation=20)  "
      ],
      "execution_count": null,
      "outputs": [
        {
          "output_type": "execute_result",
          "data": {
            "text/plain": [
              "([<matplotlib.axis.XTick at 0x7fb6e05060d0>], [Text(0, 0, '<15k ')])"
            ]
          },
          "metadata": {},
          "execution_count": 156
        },
        {
          "output_type": "display_data",
          "data": {
            "image/png": "[encoded data removed]",
            "text/plain": [
              "<Figure size 216x216 with 1 Axes>"
            ]
          },
          "metadata": {}
        }
      ]
    },
    {
      "cell_type": "code",
      "metadata": {
        "id": "kwqTVGJXl1Vm",
        "colab": {
          "base_uri": "https://localhost:8080/",
          "height": 373
        },
        "outputId": "2bfb0ebd-6b1e-4dc3-e215-c9900ce68e66"
      },
      "source": [
        "# จะเห็นได้ว่ากลุ่มที่มีระดับการศึกษาที่สูงขึ้นจะมีรายได้เฉลี่ยที่สูงขึ้นไปด้วย\n",
        "\n",
        "Edin1 = Edu1['a6'].mean()\n",
        "Edin2  = Edu2['a6'].mean()\n",
        "Edin3 = Edu3['a6'].mean()\n",
        "Edin4 = Edu4['a6'].mean()\n",
        "Edin5 = Edu5['a6'].mean()\n",
        "Edin6 = Edu6['a6'].mean()\n",
        "Edin8 = Edu8['a6'].mean()\n",
        "\n",
        "plt.figure(figsize=(3, 3))\n",
        "\n",
        "plt.bar( [\"Primary School\", \"Lower Secondary School\",  \"High school\", \"Vocational Certificate\", \"High Vocational Certificate\", \"Bach\", \"None\" ] , \n",
        "            [Edin1, Edin2, Edin3, Edin4, Edin5, Edin6, Edin8] )\n",
        "plt.xticks(rotation='vertical')\n",
        "plt.yticks([0, 5], ['<15k', '15k-30k'])\n",
        "\n",
        "# plt.bar <<< show barchart\n",
        "plt.suptitle('Education / Income')\n",
        "\n",
        "plt.show()"
      ],
      "execution_count": null,
      "outputs": [
        {
          "output_type": "display_data",
          "data": {
            "image/png": "[encoded data removed]",
            "text/plain": [
              "<Figure size 216x216 with 1 Axes>"
            ]
          },
          "metadata": {}
        }
      ]
    },
    {
      "cell_type": "code",
      "metadata": {
        "id": "8Fn4Fd4Gl09V",
        "colab": {
          "base_uri": "https://localhost:8080/",
          "height": 35
        },
        "outputId": "0c118b80-6b70-4d8d-e4ff-9d504df2c60c"
      },
      "source": [
        "\"\"\"\n",
        "ระดับการศึกษา\n",
        "1=ประถมศึกษา  2=มัธยมศึกษาตอนต้น  3=มัธยมศึกษาตอนปลาย  4=ปวช.  \n",
        "5=ปวส./ปวท./อนุปริญญา  6=ปริญญาตรี  7=สูงกว่าปริญญาตรี  8=อื่น ๆ  9=ไม่ได้ศึกษาในระบบใดเลย\n",
        "\"\"\"\n",
        "\"\"\"\n",
        "รายได้\n",
        "1=ไม่เกิน 15,000 บาท 2=15,001 - 30,000 บาท  3=30,001 – 50,000 บาท  4=50,001 – 80,000  5=80,001 ขึ้นไป\n",
        "\"\"\""
      ],
      "execution_count": null,
      "outputs": [
        {
          "output_type": "execute_result",
          "data": {
            "application/vnd.google.colaboratory.intrinsic+json": {
              "type": "string"
            },
            "text/plain": [
              "'\\nรายได้\\n1=ไม่เกิน 15,000 บาท 2=15,001 - 30,000 บาท  3=30,001 – 50,000 บาท  4=50,001 – 80,000  5=80,001 ขึ้นไป\\n'"
            ]
          },
          "metadata": {},
          "execution_count": 158
        }
      ]
    },
    {
      "cell_type": "markdown",
      "metadata": {
        "id": "V-rIHfyQlpyF"
      },
      "source": [
        "# Career x Income"
      ]
    },
    {
      "cell_type": "code",
      "metadata": {
        "id": "Vs7hbDXqloc_",
        "colab": {
          "base_uri": "https://localhost:8080/",
          "height": 244
        },
        "outputId": "88bdbe27-9ae0-427e-eeec-d7370a85ae9d"
      },
      "source": [
        "plt.figure(figsize=(5, 3))\n",
        "\n",
        "DF2['a5'].value_counts().plot.bar()\n",
        "plt.title(\"Career\")"
      ],
      "execution_count": null,
      "outputs": [
        {
          "output_type": "execute_result",
          "data": {
            "text/plain": [
              "Text(0.5, 1.0, 'Career')"
            ]
          },
          "metadata": {},
          "execution_count": 212
        },
        {
          "output_type": "display_data",
          "data": {
            "image/png": "[encoded data removed]",
            "text/plain": [
              "<Figure size 360x216 with 1 Axes>"
            ]
          },
          "metadata": {}
        }
      ]
    },
    {
      "cell_type": "code",
      "metadata": {
        "id": "aRVILtyYeWKc",
        "colab": {
          "base_uri": "https://localhost:8080/",
          "height": 35
        },
        "outputId": "0ba78cd7-0071-45d8-c1fd-6daea24fa91c"
      },
      "source": [
        "\"\"\"\n",
        "\\n1= รับราชการ/พนักงานของรัฐหรือรัฐวิสาหกิจ สังกัด  \\n2=พนักงานเอกชน/ลูกจ้างบริษัท \n",
        "3=เจ้าของธุรกิจ  \\n4=อาชีพอิสระ/ฟรีแลนซ์/รับจ้าง \n",
        "5= นักเรียน/นักศึกษา     \\n6= เกษียณอายุ/แม่บ้านพ่อบ้าน \n",
        "7= เกษตรกร เช่น ทำไร่ ประมง ฯลฯ  \\n8=อื่นๆ\\n\n",
        "\"\"\"\n",
        "\"\"\"\n",
        "รายได้\n",
        "1=ไม่เกิน 15,000 บาท 2=15,001 - 30,000 บาท  \n",
        "3=30,001 – 50,000 บาท  4=50,001 – 80,000  5=80,001 ขึ้นไป\n",
        "\"\"\""
      ],
      "execution_count": null,
      "outputs": [
        {
          "output_type": "execute_result",
          "data": {
            "application/vnd.google.colaboratory.intrinsic+json": {
              "type": "string"
            },
            "text/plain": [
              "'\\nรายได้\\n1=ไม่เกิน 15,000 บาท 2=15,001 - 30,000 บาท  \\n3=30,001 – 50,000 บาท  4=50,001 – 80,000  5=80,001 ขึ้นไป\\n'"
            ]
          },
          "metadata": {},
          "execution_count": 160
        }
      ]
    },
    {
      "cell_type": "code",
      "metadata": {
        "id": "E7HxzAsLk_pK"
      },
      "source": [
        "DF2['a5'] = DF2['a5'].replace(9,5) # fill na with 5"
      ],
      "execution_count": null,
      "outputs": []
    },
    {
      "cell_type": "code",
      "metadata": {
        "id": "CL8AUfegk_Q-",
        "colab": {
          "base_uri": "https://localhost:8080/",
          "height": 235
        },
        "outputId": "e13f2a03-d793-4b19-9e95-72efe8e4d4d1"
      },
      "source": [
        "plt.figure(figsize=(5, 3))\n",
        "\n",
        "Car1 = DF2[DF2[\"a5\"]==1]\n",
        "Car2 = DF2[DF2[\"a5\"]==2]\n",
        "Car3 = DF2[DF2[\"a5\"]==3]\n",
        "Car4 = DF2[DF2[\"a5\"]==4]\n",
        "Car5 = DF2[DF2[\"a5\"]==5]\n",
        "Car6 = DF2[DF2[\"a5\"]==6]\n",
        "Car7 = DF2[DF2[\"a5\"]==7]\n",
        "Car8 = DF2[DF2[\"a5\"]==8]\n",
        "\n",
        "Carin1 = Car1[\"a6\"].mean()\n",
        "Carin2 = Car2[\"a6\"].mean()\n",
        "Carin3 = Car3[\"a6\"].mean()\n",
        "Carin4 = Car4[\"a6\"].mean()\n",
        "Carin5 = Car5[\"a6\"].mean()\n",
        "Carin6 = Car6[\"a6\"].mean()\n",
        "Carin7 = Car7[\"a6\"].mean()\n",
        "Carin8 = Car8[\"a6\"].mean()\n",
        "\n",
        "plt.scatter( [\"Carin1\", \"Carin2\", \"Carin3\", \"Carin4\", \"Carin5\", \"Carin6\", \"Carin7\", \"Carin8\"], \n",
        "            [Carin1, Carin2, Carin3, Carin4, Carin5, Carin6, Carin7, Carin8] ,  rotation=\"vertical\" )\n",
        "\n",
        "# plt.bar <<< show barchart\n",
        "plt.suptitle('Career / Income')\n",
        "\n",
        "plt.show() # ที่ไม่ใช้ภาษาไทยเพราะมันจะออกมาเป็นตัวงุงินะครับ"
      ],
      "execution_count": null,
      "outputs": [
        {
          "output_type": "display_data",
          "data": {
            "image/png": "[encoded data removed]",
            "text/plain": [
              "<Figure size 360x216 with 1 Axes>"
            ]
          },
          "metadata": {}
        }
      ]
    },
    {
      "cell_type": "code",
      "metadata": {
        "id": "nntf6tfGzK1l",
        "colab": {
          "base_uri": "https://localhost:8080/",
          "height": 35
        },
        "outputId": "3c4627b0-576f-4a55-dfca-24163bddd675"
      },
      "source": [
        "# จะเห็นได้ว่ากลุ่มอาชีพที่มีรายได้สูงสุดคือเจ้าของกิจการ\n",
        "# กลุ่มที่รายได้ต่ำสุดคือนักศึกษา\n",
        "\n",
        "\"\"\"\n",
        "\\n1= รับราชการ/พนักงานของรัฐหรือรัฐวิสาหกิจ สังกัด  \\n2=พนักงานเอกชน/ลูกจ้างบริษัท \n",
        "3=เจ้าของธุรกิจ  \\n4=อาชีพอิสระ/ฟรีแลนซ์/รับจ้าง \n",
        "5= นักเรียน/นักศึกษา     \\n6= เกษียณอายุ/แม่บ้านพ่อบ้าน \n",
        "7= เกษตรกร เช่น ทำไร่ ประมง ฯลฯ  \\n8=อื่นๆ\\n\n",
        "\"\"\"\n",
        "\"\"\"\n",
        "รายได้\n",
        "1=ไม่เกิน 15,000 บาท 2=15,001 - 30,000 บาท  3=30,001 – 50,000 บาท  4=50,001 – 80,000  5=80,001 ขึ้นไป\n",
        "\n",
        "\"\"\""
      ],
      "execution_count": null,
      "outputs": [
        {
          "output_type": "execute_result",
          "data": {
            "application/vnd.google.colaboratory.intrinsic+json": {
              "type": "string"
            },
            "text/plain": [
              "'\\nรายได้\\n1=ไม่เกิน 15,000 บาท 2=15,001 - 30,000 บาท  3=30,001 – 50,000 บาท  4=50,001 – 80,000  5=80,001 ขึ้นไป\\n'"
            ]
          },
          "metadata": {},
          "execution_count": 163
        }
      ]
    },
    {
      "cell_type": "code",
      "metadata": {
        "id": "yGi4zUJWk_L1",
        "colab": {
          "base_uri": "https://localhost:8080/",
          "height": 255
        },
        "outputId": "6f5dc8c1-d70c-4de5-92ad-f5e5c83498cc"
      },
      "source": [
        "# ตรงนี้อยากรู้ส่วนตัวครับว่าแต่ละ gen ทำอาชีพ ไหนเยอะที่สุด\n",
        "# รับราชการ/พนักงานของรัฐหรือรัฐวิสาหกิจ\n",
        "plt.figure(figsize=(5, 3))\n",
        "Car1['a6'].value_counts().plot.bar()\n",
        "plt.title(\"Career1 / Gen\")"
      ],
      "execution_count": null,
      "outputs": [
        {
          "output_type": "execute_result",
          "data": {
            "text/plain": [
              "Text(0.5, 1.0, 'Career1 / Gen')"
            ]
          },
          "metadata": {},
          "execution_count": 215
        },
        {
          "output_type": "display_data",
          "data": {
            "image/png": "[encoded data removed]",
            "text/plain": [
              "<Figure size 360x216 with 1 Axes>"
            ]
          },
          "metadata": {}
        }
      ]
    },
    {
      "cell_type": "code",
      "metadata": {
        "id": "qeT0oxINk_H2",
        "colab": {
          "base_uri": "https://localhost:8080/",
          "height": 255
        },
        "outputId": "4df3af46-03ba-4c8c-d165-b39ac910a7d8"
      },
      "source": [
        "# พนักงานเอกชน/ลูกจ้างบริษัท \n",
        "plt.figure(figsize=(5, 3))\n",
        "Car2['a6'].value_counts().plot.bar()\n",
        "plt.title(\"Career2 / Gen\")"
      ],
      "execution_count": null,
      "outputs": [
        {
          "output_type": "execute_result",
          "data": {
            "text/plain": [
              "Text(0.5, 1.0, 'Career2 / Gen')"
            ]
          },
          "metadata": {},
          "execution_count": 216
        },
        {
          "output_type": "display_data",
          "data": {
            "image/png": "[encoded data removed]",
            "text/plain": [
              "<Figure size 360x216 with 1 Axes>"
            ]
          },
          "metadata": {}
        }
      ]
    },
    {
      "cell_type": "code",
      "metadata": {
        "id": "8DAYY_9hk-57",
        "colab": {
          "base_uri": "https://localhost:8080/",
          "height": 255
        },
        "outputId": "54337ce3-ffe5-4352-aede-41842f80fe01"
      },
      "source": [
        "# เจ้าของธุรกิจ  \n",
        "plt.figure(figsize=(5, 3))\n",
        "Car3['a6'].value_counts().plot.bar()\n",
        "plt.title(\"Career3 / Gen\")"
      ],
      "execution_count": null,
      "outputs": [
        {
          "output_type": "execute_result",
          "data": {
            "text/plain": [
              "Text(0.5, 1.0, 'Career3 / Gen')"
            ]
          },
          "metadata": {},
          "execution_count": 217
        },
        {
          "output_type": "display_data",
          "data": {
            "image/png": "[encoded data removed]",
            "text/plain": [
              "<Figure size 360x216 with 1 Axes>"
            ]
          },
          "metadata": {}
        }
      ]
    },
    {
      "cell_type": "code",
      "metadata": {
        "id": "nkN4dp8Wk-0u",
        "colab": {
          "base_uri": "https://localhost:8080/",
          "height": 255
        },
        "outputId": "275d5b3f-6f0b-4ba1-ec15-6f8a7533b23e"
      },
      "source": [
        "# อาชีพอิสระ/ฟรีแลนซ์/รับจ้าง \n",
        "plt.figure(figsize=(5, 3))\n",
        "Car4['a6'].value_counts().plot.bar()\n",
        "plt.title(\"Career4 / Gen\")"
      ],
      "execution_count": null,
      "outputs": [
        {
          "output_type": "execute_result",
          "data": {
            "text/plain": [
              "Text(0.5, 1.0, 'Career4 / Gen')"
            ]
          },
          "metadata": {},
          "execution_count": 218
        },
        {
          "output_type": "display_data",
          "data": {
            "image/png": "[encoded data removed]",
            "text/plain": [
              "<Figure size 360x216 with 1 Axes>"
            ]
          },
          "metadata": {}
        }
      ]
    },
    {
      "cell_type": "code",
      "metadata": {
        "id": "FuCalb4Nk-vV",
        "colab": {
          "base_uri": "https://localhost:8080/",
          "height": 255
        },
        "outputId": "6094b49d-ad27-463b-cf51-7b8030f14542"
      },
      "source": [
        "# 5= นักเรียน/นักศึกษา \n",
        "plt.figure(figsize=(5, 3))\n",
        "Car5['a6'].value_counts().plot.bar()\n",
        "plt.title(\"Career5 / Gen\")"
      ],
      "execution_count": null,
      "outputs": [
        {
          "output_type": "execute_result",
          "data": {
            "text/plain": [
              "Text(0.5, 1.0, 'Career5 / Gen')"
            ]
          },
          "metadata": {},
          "execution_count": 219
        },
        {
          "output_type": "display_data",
          "data": {
            "image/png": "[encoded data removed]",
            "text/plain": [
              "<Figure size 360x216 with 1 Axes>"
            ]
          },
          "metadata": {}
        }
      ]
    },
    {
      "cell_type": "code",
      "metadata": {
        "id": "r9-EZT47k-od",
        "colab": {
          "base_uri": "https://localhost:8080/",
          "height": 255
        },
        "outputId": "87945d5f-a02d-466a-dbff-7e1473581e7e"
      },
      "source": [
        "# เกษียณอายุ/แม่บ้านพ่อบ้าน \n",
        "plt.figure(figsize=(5, 3))\n",
        "Car6['a6'].value_counts().plot.bar()\n",
        "plt.title(\"Career6 / Gen\")"
      ],
      "execution_count": null,
      "outputs": [
        {
          "output_type": "execute_result",
          "data": {
            "text/plain": [
              "Text(0.5, 1.0, 'Career6 / Gen')"
            ]
          },
          "metadata": {},
          "execution_count": 220
        },
        {
          "output_type": "display_data",
          "data": {
            "image/png": "[encoded data removed]",
            "text/plain": [
              "<Figure size 360x216 with 1 Axes>"
            ]
          },
          "metadata": {}
        }
      ]
    },
    {
      "cell_type": "code",
      "metadata": {
        "id": "qSMFP7d5k-h0",
        "colab": {
          "base_uri": "https://localhost:8080/",
          "height": 255
        },
        "outputId": "4bcea866-11ac-45ec-dcd6-a089e0b2a389"
      },
      "source": [
        "# เกษตรกร เช่น ทำไร่ ประมง ฯลฯ\n",
        "plt.figure(figsize=(5, 3))\n",
        "Car7['a6'].value_counts().plot.bar()\n",
        "plt.title(\"Career7 / Gen\")"
      ],
      "execution_count": null,
      "outputs": [
        {
          "output_type": "execute_result",
          "data": {
            "text/plain": [
              "Text(0.5, 1.0, 'Career7 / Gen')"
            ]
          },
          "metadata": {},
          "execution_count": 221
        },
        {
          "output_type": "display_data",
          "data": {
            "image/png": "[encoded data removed]",
            "text/plain": [
              "<Figure size 360x216 with 1 Axes>"
            ]
          },
          "metadata": {}
        }
      ]
    },
    {
      "cell_type": "code",
      "metadata": {
        "id": "sAmsa2ZPk-bX",
        "colab": {
          "base_uri": "https://localhost:8080/",
          "height": 255
        },
        "outputId": "0c6bca2d-463d-417f-f67d-7ca5f4de7c7b"
      },
      "source": [
        "# อื่นๆ\n",
        "plt.figure(figsize=(5, 3))\n",
        "Car8['a6'].value_counts().plot.bar()\n",
        "plt.title(\"Career8 / Gen\")"
      ],
      "execution_count": null,
      "outputs": [
        {
          "output_type": "execute_result",
          "data": {
            "text/plain": [
              "Text(0.5, 1.0, 'Career8 / Gen')"
            ]
          },
          "metadata": {},
          "execution_count": 222
        },
        {
          "output_type": "display_data",
          "data": {
            "image/png": "[encoded data removed]",
            "text/plain": [
              "<Figure size 360x216 with 1 Axes>"
            ]
          },
          "metadata": {}
        }
      ]
    },
    {
      "cell_type": "markdown",
      "metadata": {
        "id": "lfpJGE480GCV"
      },
      "source": [
        "# TV"
      ]
    },
    {
      "cell_type": "code",
      "metadata": {
        "colab": {
          "base_uri": "https://localhost:8080/",
          "height": 585
        },
        "id": "gsyfQdv7V4Lm",
        "outputId": "5acb9263-2690-4acf-cf54-1fcb609de569"
      },
      "source": [
        "plt.figure(figsize=(5, 3))\n",
        "DF2[\"l1\"].value_counts().plot.bar()\n",
        "plt.title(\"Time on TV each day\")\n",
        "\n",
        "\"\"\"\n",
        "1=น้อยกว่า  10 นาที \n",
        "2=10 - 30  นาที  \n",
        "3=30 นาที – 1 ชั่วโมง  \n",
        "4=1 – 2 ชั่วโมง  \n",
        "5=2 – 3 ชั่วโมง  \n",
        "6=3 – 4 ชั่วโมง  \n",
        "7=5 ชั่วโมงขึ้นไป\n",
        "\"\"\"\n",
        "plt.xticks([0, 1, 2, 3, 4, 5, 6, 7, 8 ], \n",
        "           ['30 min - 1 hr', '1-2 hrs', '2 - 3 hrs',\n",
        "            '10- 30 mins', '3-4 hrs', '< 10 mins',\n",
        "            '> 5 hrs', 'Not answer'], rotation=\"vertical\")  "
      ],
      "execution_count": null,
      "outputs": [
        {
          "output_type": "execute_result",
          "data": {
            "text/plain": [
              "([<matplotlib.axis.XTick at 0x7fb6d9583c10>,\n",
              "  <matplotlib.axis.XTick at 0x7fb6d9583bd0>,\n",
              "  <matplotlib.axis.XTick at 0x7fb6d9597590>,\n",
              "  <matplotlib.axis.XTick at 0x7fb6d9545910>,\n",
              "  <matplotlib.axis.XTick at 0x7fb6d9545c50>,\n",
              "  <matplotlib.axis.XTick at 0x7fb6d954f210>,\n",
              "  <matplotlib.axis.XTick at 0x7fb6d9583a90>,\n",
              "  <matplotlib.axis.XTick at 0x7fb6d954fe50>,\n",
              "  <matplotlib.axis.XTick at 0x7fb6d9659790>],\n",
              " [Text(0, 0, '30 min - 1 hr'),\n",
              "  Text(0, 0, '1-2 hrs'),\n",
              "  Text(0, 0, '2 - 3 hrs'),\n",
              "  Text(0, 0, '10- 30 mins'),\n",
              "  Text(0, 0, '3-4 hrs'),\n",
              "  Text(0, 0, '< 10 mins'),\n",
              "  Text(0, 0, '> 5 hrs'),\n",
              "  Text(0, 0, 'Not answer')])"
            ]
          },
          "metadata": {},
          "execution_count": 290
        },
        {
          "output_type": "display_data",
          "data": {
            "image/png": "[encoded data removed]",
            "text/plain": [
              "<Figure size 360x216 with 1 Axes>"
            ]
          },
          "metadata": {}
        }
      ]
    },
    {
      "cell_type": "code",
      "metadata": {
        "id": "9Tx6Uf0405Ac",
        "colab": {
          "base_uri": "https://localhost:8080/",
          "height": 317
        },
        "outputId": "66ceb4fb-ef53-4134-9472-2b9552498c88"
      },
      "source": [
        "# คนที่เลือกดู TV เป็นอันดับที่ 1 \n",
        "plt.figure(figsize=(3, 3))\n",
        "plt.title(\"TV new 1\")\n",
        "DF2[\"t1new\"].value_counts().plot.bar()\n",
        "plt.xticks([0, 1, 2 ], ['yes', 'no answer', 'no'], rotation=20)  "
      ],
      "execution_count": null,
      "outputs": [
        {
          "output_type": "execute_result",
          "data": {
            "text/plain": [
              "([<matplotlib.axis.XTick at 0x7fb6e0771bd0>,\n",
              "  <matplotlib.axis.XTick at 0x7fb6e0771c50>,\n",
              "  <matplotlib.axis.XTick at 0x7fb6e079df50>],\n",
              " [Text(0, 0, 'yes'), Text(0, 0, 'no answer'), Text(0, 0, 'no')])"
            ]
          },
          "metadata": {},
          "execution_count": 172
        },
        {
          "output_type": "display_data",
          "data": {
            "image/png": "[encoded data removed]",
            "text/plain": [
              "<Figure size 216x216 with 1 Axes>"
            ]
          },
          "metadata": {}
        }
      ]
    },
    {
      "cell_type": "code",
      "metadata": {
        "id": "eF0tVcERxNuE",
        "colab": {
          "base_uri": "https://localhost:8080/"
        },
        "outputId": "82603d4c-308c-4826-b16e-2284463914ea"
      },
      "source": [
        "DF2[\"t1new\"].value_counts() # ดูจำนวนที่แน่นอน"
      ],
      "execution_count": null,
      "outputs": [
        {
          "output_type": "execute_result",
          "data": {
            "text/plain": [
              "1    1011\n",
              "0     874\n",
              "2     174\n",
              "Name: t1new, dtype: int64"
            ]
          },
          "metadata": {},
          "execution_count": 173
        }
      ]
    },
    {
      "cell_type": "code",
      "metadata": {
        "id": "Ab_Wv66S605P",
        "colab": {
          "base_uri": "https://localhost:8080/",
          "height": 244
        },
        "outputId": "4a53e772-f063-422e-bef7-cea2b995760e"
      },
      "source": [
        "# จำนวนคนที่เลือกดู TV เป็นอันดับที่ 2\n",
        "plt.figure(figsize=(3, 3))\n",
        "plt.title(\"TV new 1\")\n",
        "DF2[\"t2new\"].value_counts().plot.bar()"
      ],
      "execution_count": null,
      "outputs": [
        {
          "output_type": "execute_result",
          "data": {
            "text/plain": [
              "<matplotlib.axes._subplots.AxesSubplot at 0x7fb6e093d310>"
            ]
          },
          "metadata": {},
          "execution_count": 174
        },
        {
          "output_type": "display_data",
          "data": {
            "image/png": "[encoded data removed]",
            "text/plain": [
              "<Figure size 216x216 with 1 Axes>"
            ]
          },
          "metadata": {}
        }
      ]
    },
    {
      "cell_type": "markdown",
      "metadata": {
        "id": "PAc5-AKq03tz"
      },
      "source": [
        "# Online"
      ]
    },
    {
      "cell_type": "code",
      "metadata": {
        "id": "b7jdj-vE2ZFS",
        "colab": {
          "base_uri": "https://localhost:8080/",
          "height": 317
        },
        "outputId": "f14c54ae-d5dc-418c-88be-b87b2d50e427"
      },
      "source": [
        "# คนที่เลือกติดตามสื่อออนไลน์\n",
        "plt.figure(figsize=(3, 3))\n",
        "plt.title(\"Online new 1\")\n",
        "DF2[\"u1new\"].value_counts().plot.bar()\n",
        "plt.xticks([0, 1, 2 ], [ 'no answer', 'no', 'yes'], rotation=20)  "
      ],
      "execution_count": null,
      "outputs": [
        {
          "output_type": "execute_result",
          "data": {
            "text/plain": [
              "([<matplotlib.axis.XTick at 0x7fb6e0b9ce90>,\n",
              "  <matplotlib.axis.XTick at 0x7fb6e0b9c390>,\n",
              "  <matplotlib.axis.XTick at 0x7fb6e0878110>],\n",
              " [Text(0, 0, 'no answer'), Text(0, 0, 'no'), Text(0, 0, 'yes')])"
            ]
          },
          "metadata": {},
          "execution_count": 175
        },
        {
          "output_type": "display_data",
          "data": {
            "image/png": "[encoded data removed]",
            "text/plain": [
              "<Figure size 216x216 with 1 Axes>"
            ]
          },
          "metadata": {}
        }
      ]
    },
    {
      "cell_type": "code",
      "metadata": {
        "id": "hZBw65N_3u75",
        "colab": {
          "base_uri": "https://localhost:8080/",
          "height": 52
        },
        "outputId": "a74bbd88-6c8d-468f-cf33-73ca0d6702f0"
      },
      "source": [
        "\"\"\"\n",
        "1=Facebook  2=Twitter  3=YouTube  4=Instagram  5=LINE TODAY  \n",
        "6=LINE TV  7=Podcast / วิทยุออนไลน์  8=Pantip  9=เว็บไซต์ / แอปพลิเคชั่น  10=อื่นๆ\n",
        "\"\"\""
      ],
      "execution_count": null,
      "outputs": [
        {
          "output_type": "execute_result",
          "data": {
            "application/vnd.google.colaboratory.intrinsic+json": {
              "type": "string"
            },
            "text/plain": [
              "'\\n1=Facebook  2=Twitter  3=YouTube  4=Instagram  5=LINE TODAY  \\n6=LINE TV  7=Podcast / วิทยุออนไลน์  8=Pantip  9=เว็บไซต์ / แอปพลิเคชั่น  10=อื่นๆ\\n'"
            ]
          },
          "metadata": {},
          "execution_count": 176
        }
      ]
    },
    {
      "cell_type": "code",
      "metadata": {
        "id": "YOTO5YMV3MC8",
        "colab": {
          "base_uri": "https://localhost:8080/"
        },
        "outputId": "22da4721-3444-4c07-cb96-afef5926afed"
      },
      "source": [
        "DF2[\"q1new\"].value_counts()"
      ],
      "execution_count": null,
      "outputs": [
        {
          "output_type": "execute_result",
          "data": {
            "text/plain": [
              "1    1197\n",
              "0     520\n",
              "2     242\n",
              "3      62\n",
              "5      24\n",
              "4      14\n",
              "Name: q1new, dtype: int64"
            ]
          },
          "metadata": {},
          "execution_count": 177
        }
      ]
    },
    {
      "cell_type": "code",
      "metadata": {
        "id": "UTgyRgMP3gzG",
        "colab": {
          "base_uri": "https://localhost:8080/"
        },
        "outputId": "e57fa46b-b391-4ddb-f761-609fd57c6dfd"
      },
      "source": [
        "DF2[\"q2new\"].value_counts()"
      ],
      "execution_count": null,
      "outputs": [
        {
          "output_type": "execute_result",
          "data": {
            "text/plain": [
              "0    1767\n",
              "2     140\n",
              "3      66\n",
              "4      40\n",
              "1      37\n",
              "5       9\n",
              "Name: q2new, dtype: int64"
            ]
          },
          "metadata": {},
          "execution_count": 178
        }
      ]
    },
    {
      "cell_type": "code",
      "metadata": {
        "id": "wMjnIbDE3gp2",
        "colab": {
          "base_uri": "https://localhost:8080/"
        },
        "outputId": "bf394bfd-ee60-4001-c063-bcc207910ec4"
      },
      "source": [
        "DF2[\"q3new\"].value_counts()"
      ],
      "execution_count": null,
      "outputs": [
        {
          "output_type": "execute_result",
          "data": {
            "text/plain": [
              "0    777\n",
              "2    771\n",
              "1    245\n",
              "3    178\n",
              "4     68\n",
              "5     20\n",
              "Name: q3new, dtype: int64"
            ]
          },
          "metadata": {},
          "execution_count": 179
        }
      ]
    },
    {
      "cell_type": "code",
      "metadata": {
        "id": "4JMi4uRL3geb",
        "colab": {
          "base_uri": "https://localhost:8080/"
        },
        "outputId": "1a9a2759-baa6-4860-9954-4e23364f49ae"
      },
      "source": [
        "DF2[\"q4new\"].value_counts()"
      ],
      "execution_count": null,
      "outputs": [
        {
          "output_type": "execute_result",
          "data": {
            "text/plain": [
              "0    1668\n",
              "3     187\n",
              "4      81\n",
              "2      69\n",
              "1      37\n",
              "5      17\n",
              "Name: q4new, dtype: int64"
            ]
          },
          "metadata": {},
          "execution_count": 180
        }
      ]
    },
    {
      "cell_type": "code",
      "metadata": {
        "id": "yinogIl13fyX",
        "colab": {
          "base_uri": "https://localhost:8080/"
        },
        "outputId": "8755d700-44bd-4b7e-ca4e-cfb548263ac0"
      },
      "source": [
        "DF2[\"q5new\"].value_counts()"
      ],
      "execution_count": null,
      "outputs": [
        {
          "output_type": "execute_result",
          "data": {
            "text/plain": [
              "0    1718\n",
              "3     158\n",
              "2      66\n",
              "4      55\n",
              "5      38\n",
              "1      24\n",
              "Name: q5new, dtype: int64"
            ]
          },
          "metadata": {},
          "execution_count": 181
        }
      ]
    },
    {
      "cell_type": "code",
      "metadata": {
        "id": "VK2ENi0I0WFL",
        "colab": {
          "base_uri": "https://localhost:8080/",
          "height": 245
        },
        "outputId": "b5325627-0d7c-4ae8-93aa-c0365276c74b"
      },
      "source": [
        "plt.figure(figsize=(5, 3))\n",
        "DF2[\"u1\"].value_counts().plot.bar()"
      ],
      "execution_count": null,
      "outputs": [
        {
          "output_type": "execute_result",
          "data": {
            "text/plain": [
              "<matplotlib.axes._subplots.AxesSubplot at 0x7fb6fa0fa390>"
            ]
          },
          "metadata": {},
          "execution_count": 299
        },
        {
          "output_type": "display_data",
          "data": {
            "image/png": "[encoded data removed]",
            "text/plain": [
              "<Figure size 360x216 with 1 Axes>"
            ]
          },
          "metadata": {}
        }
      ]
    },
    {
      "cell_type": "markdown",
      "metadata": {
        "id": "cvlhp2RQ07sM"
      },
      "source": [
        "# ติดตามสื่อผ่านช่องทางอื่น ๆ "
      ]
    },
    {
      "cell_type": "markdown",
      "metadata": {
        "id": "sK8mtg_N1VJZ"
      },
      "source": [
        ""
      ]
    },
    {
      "cell_type": "code",
      "metadata": {
        "id": "t65IXf191MXD",
        "colab": {
          "base_uri": "https://localhost:8080/",
          "height": 227
        },
        "outputId": "405cf17e-4da8-4111-8616-260396bf2b64"
      },
      "source": [
        "#  ติดตามข่าวผ่านอุปกรณ์การสื่อสารหนังสือพิมพ์\n",
        "plt.figure(figsize=(5, 3))\n",
        "DF2[\"J1new\"].value_counts().plot.bar()"
      ],
      "execution_count": null,
      "outputs": [
        {
          "output_type": "execute_result",
          "data": {
            "text/plain": [
              "<matplotlib.axes._subplots.AxesSubplot at 0x7fb6dec9b190>"
            ]
          },
          "metadata": {},
          "execution_count": 235
        },
        {
          "output_type": "display_data",
          "data": {
            "image/png": "[encoded data removed]",
            "text/plain": [
              "<Figure size 360x216 with 1 Axes>"
            ]
          },
          "metadata": {}
        }
      ]
    },
    {
      "cell_type": "code",
      "metadata": {
        "id": "y9fwh2mN1MLT",
        "colab": {
          "base_uri": "https://localhost:8080/",
          "height": 227
        },
        "outputId": "43d10722-5985-4df3-b896-72e5e0997c65"
      },
      "source": [
        "# ติดตามข่าวผ่านอุปกรณ์การสื่อสารเครื่องรับวิทยุ\n",
        "plt.figure(figsize=(5, 3))\n",
        "DF2[\"J2new\"].value_counts().plot.bar()"
      ],
      "execution_count": null,
      "outputs": [
        {
          "output_type": "execute_result",
          "data": {
            "text/plain": [
              "<matplotlib.axes._subplots.AxesSubplot at 0x7fb6dec9b210>"
            ]
          },
          "metadata": {},
          "execution_count": 234
        },
        {
          "output_type": "display_data",
          "data": {
            "image/png": "[encoded data removed]",
            "text/plain": [
              "<Figure size 360x216 with 1 Axes>"
            ]
          },
          "metadata": {}
        }
      ]
    },
    {
      "cell_type": "code",
      "metadata": {
        "id": "qzWykmca1MBR",
        "colab": {
          "base_uri": "https://localhost:8080/",
          "height": 227
        },
        "outputId": "1f6d1fc5-0667-42a0-e7e1-f2b67b0a90df"
      },
      "source": [
        "# ติดตามข่าวผ่านอุปกรณ์เครื่องรับทีวี\n",
        "plt.figure(figsize=(5, 3))\n",
        "DF2[\"J3new\"].value_counts().plot.bar()"
      ],
      "execution_count": null,
      "outputs": [
        {
          "output_type": "execute_result",
          "data": {
            "text/plain": [
              "<matplotlib.axes._subplots.AxesSubplot at 0x7fb6deab6990>"
            ]
          },
          "metadata": {},
          "execution_count": 237
        },
        {
          "output_type": "display_data",
          "data": {
            "image/png": "[encoded data removed]",
            "text/plain": [
              "<Figure size 360x216 with 1 Axes>"
            ]
          },
          "metadata": {}
        }
      ]
    },
    {
      "cell_type": "code",
      "metadata": {
        "id": "ZudRzm2i1L3h",
        "colab": {
          "base_uri": "https://localhost:8080/",
          "height": 227
        },
        "outputId": "4a0f6ba9-9b8a-48bb-9be8-d4707f6779d0"
      },
      "source": [
        "# ติดตามข่าวผ่านอุปกรณ์คอมพิวเตอร์ตั้งโต๊ะ\n",
        "plt.figure(figsize=(5, 3))\n",
        "DF2[\"J4new\"].value_counts().plot.bar()"
      ],
      "execution_count": null,
      "outputs": [
        {
          "output_type": "execute_result",
          "data": {
            "text/plain": [
              "<matplotlib.axes._subplots.AxesSubplot at 0x7fb6dea16c90>"
            ]
          },
          "metadata": {},
          "execution_count": 238
        },
        {
          "output_type": "display_data",
          "data": {
            "image/png": "[encoded data removed]",
            "text/plain": [
              "<Figure size 360x216 with 1 Axes>"
            ]
          },
          "metadata": {}
        }
      ]
    },
    {
      "cell_type": "code",
      "metadata": {
        "id": "FZqbqWTE1T-f",
        "colab": {
          "base_uri": "https://localhost:8080/",
          "height": 227
        },
        "outputId": "4094b678-3c62-4e9a-bf5c-6a4a6c910684"
      },
      "source": [
        "#  ติดตามข่าวผ่านอุปกรณ์มือถือสมาร์ทโฟน\n",
        "plt.figure(figsize=(5, 3))\n",
        "DF2[\"J5new\"].value_counts().plot.bar()"
      ],
      "execution_count": null,
      "outputs": [
        {
          "output_type": "execute_result",
          "data": {
            "text/plain": [
              "<matplotlib.axes._subplots.AxesSubplot at 0x7fb6deac2290>"
            ]
          },
          "metadata": {},
          "execution_count": 239
        },
        {
          "output_type": "display_data",
          "data": {
            "image/png": "[encoded data removed]",
            "text/plain": [
              "<Figure size 360x216 with 1 Axes>"
            ]
          },
          "metadata": {}
        }
      ]
    },
    {
      "cell_type": "code",
      "metadata": {
        "colab": {
          "base_uri": "https://localhost:8080/",
          "height": 227
        },
        "id": "mEraCiFiPma2",
        "outputId": "02ab7135-d725-43bc-df3a-5a37fc2cdf77"
      },
      "source": [
        "# ใช้ facebook อันดับที่\n",
        "plt.figure(figsize=(5, 3))\n",
        "DF2[\"q1new\"].value_counts().plot.bar()\n",
        "\n",
        "# หมายความว่า ใช้ FB อันดับที่ 1 จำนวน 1200 คน\n",
        "# ใช้ FB เป็นอันดับที่ 2 จำนวน 200 กว่าคน"
      ],
      "execution_count": null,
      "outputs": [
        {
          "output_type": "execute_result",
          "data": {
            "text/plain": [
              "<matplotlib.axes._subplots.AxesSubplot at 0x7fb6de8dd6d0>"
            ]
          },
          "metadata": {},
          "execution_count": 241
        },
        {
          "output_type": "display_data",
          "data": {
            "image/png": "[encoded data removed]",
            "text/plain": [
              "<Figure size 360x216 with 1 Axes>"
            ]
          },
          "metadata": {}
        }
      ]
    },
    {
      "cell_type": "code",
      "metadata": {
        "colab": {
          "base_uri": "https://localhost:8080/",
          "height": 227
        },
        "id": "0TbccHrgPmOS",
        "outputId": "d75c844e-f76c-4363-ed9e-f88c03bb5056"
      },
      "source": [
        "# 2 ใช้ Twitter อันดับที่ \n",
        "plt.figure(figsize=(5, 3))\n",
        "DF2[\"q2new\"].value_counts().plot.bar()"
      ],
      "execution_count": null,
      "outputs": [
        {
          "output_type": "execute_result",
          "data": {
            "text/plain": [
              "<matplotlib.axes._subplots.AxesSubplot at 0x7fb6de85bad0>"
            ]
          },
          "metadata": {},
          "execution_count": 242
        },
        {
          "output_type": "display_data",
          "data": {
            "image/png": "[encoded data removed]",
            "text/plain": [
              "<Figure size 360x216 with 1 Axes>"
            ]
          },
          "metadata": {}
        }
      ]
    },
    {
      "cell_type": "code",
      "metadata": {
        "colab": {
          "base_uri": "https://localhost:8080/",
          "height": 228
        },
        "id": "zVKWanUtPzx1",
        "outputId": "37b4e2af-b2d0-413f-d877-bcd3b2fa8a90"
      },
      "source": [
        "# ใช้ Youtube เป็นอันดับที่\n",
        "plt.figure(figsize=(5, 3))\n",
        "DF2[\"q3new\"].value_counts().plot.bar()"
      ],
      "execution_count": null,
      "outputs": [
        {
          "output_type": "execute_result",
          "data": {
            "text/plain": [
              "<matplotlib.axes._subplots.AxesSubplot at 0x7fb6de836510>"
            ]
          },
          "metadata": {},
          "execution_count": 243
        },
        {
          "output_type": "display_data",
          "data": {
            "image/png": "[encoded data removed]",
            "text/plain": [
              "<Figure size 360x216 with 1 Axes>"
            ]
          },
          "metadata": {}
        }
      ]
    },
    {
      "cell_type": "code",
      "metadata": {
        "colab": {
          "base_uri": "https://localhost:8080/",
          "height": 227
        },
        "id": "5eSo-ReOP03B",
        "outputId": "a9d9bfce-2c95-4c1e-c1c7-ba04ee053fcf"
      },
      "source": [
        "# Instagram\n",
        "plt.figure(figsize=(5, 3))\n",
        "DF2[\"q4new\"].value_counts().plot.bar()"
      ],
      "execution_count": null,
      "outputs": [
        {
          "output_type": "execute_result",
          "data": {
            "text/plain": [
              "<matplotlib.axes._subplots.AxesSubplot at 0x7fb6de7960d0>"
            ]
          },
          "metadata": {},
          "execution_count": 244
        },
        {
          "output_type": "display_data",
          "data": {
            "image/png": "[encoded data removed]",
            "text/plain": [
              "<Figure size 360x216 with 1 Axes>"
            ]
          },
          "metadata": {}
        }
      ]
    },
    {
      "cell_type": "code",
      "metadata": {
        "colab": {
          "base_uri": "https://localhost:8080/",
          "height": 227
        },
        "id": "KEHh73QnP1jL",
        "outputId": "76bfeeff-5f1b-4285-b2b3-f9f4c021945e"
      },
      "source": [
        "# Line Today\n",
        "plt.figure(figsize=(5, 3))\n",
        "DF2[\"q5new\"].value_counts().plot.bar()"
      ],
      "execution_count": null,
      "outputs": [
        {
          "output_type": "execute_result",
          "data": {
            "text/plain": [
              "<matplotlib.axes._subplots.AxesSubplot at 0x7fb6de78f3d0>"
            ]
          },
          "metadata": {},
          "execution_count": 245
        },
        {
          "output_type": "display_data",
          "data": {
            "image/png": "[encoded data removed]",
            "text/plain": [
              "<Figure size 360x216 with 1 Axes>"
            ]
          },
          "metadata": {}
        }
      ]
    },
    {
      "cell_type": "code",
      "metadata": {
        "colab": {
          "base_uri": "https://localhost:8080/",
          "height": 227
        },
        "id": "zUniSizQP8CO",
        "outputId": "dcb28bd2-8df3-4f44-b7dd-a8af07daa0f9"
      },
      "source": [
        "# Line TV\n",
        "plt.figure(figsize=(5, 3))\n",
        "DF2[\"q6new\"].value_counts().plot.bar()"
      ],
      "execution_count": null,
      "outputs": [
        {
          "output_type": "execute_result",
          "data": {
            "text/plain": [
              "<matplotlib.axes._subplots.AxesSubplot at 0x7fb6df40b890>"
            ]
          },
          "metadata": {},
          "execution_count": 246
        },
        {
          "output_type": "display_data",
          "data": {
            "image/png": "[encoded data removed]",
            "text/plain": [
              "<Figure size 360x216 with 1 Axes>"
            ]
          },
          "metadata": {}
        }
      ]
    },
    {
      "cell_type": "code",
      "metadata": {
        "colab": {
          "base_uri": "https://localhost:8080/",
          "height": 227
        },
        "id": "uIzFwnQ3P8q8",
        "outputId": "74ddbfdb-32f0-42b9-af78-0c2611affa9c"
      },
      "source": [
        "# Postcast/วิทยุออนไลน์\n",
        "plt.figure(figsize=(5, 3))\n",
        "DF2[\"q7new\"].value_counts().plot.bar()"
      ],
      "execution_count": null,
      "outputs": [
        {
          "output_type": "execute_result",
          "data": {
            "text/plain": [
              "<matplotlib.axes._subplots.AxesSubplot at 0x7fb6dedf3e90>"
            ]
          },
          "metadata": {},
          "execution_count": 247
        },
        {
          "output_type": "display_data",
          "data": {
            "image/png": "[encoded data removed]",
            "text/plain": [
              "<Figure size 360x216 with 1 Axes>"
            ]
          },
          "metadata": {}
        }
      ]
    },
    {
      "cell_type": "code",
      "metadata": {
        "colab": {
          "base_uri": "https://localhost:8080/",
          "height": 227
        },
        "id": "s2emyhc4P9a1",
        "outputId": "f3a15a23-1229-49ee-af24-4c3af83d38b6"
      },
      "source": [
        "# Pantip\n",
        "plt.figure(figsize=(5, 3))\n",
        "DF2[\"q8new\"].value_counts().plot.bar()"
      ],
      "execution_count": null,
      "outputs": [
        {
          "output_type": "execute_result",
          "data": {
            "text/plain": [
              "<matplotlib.axes._subplots.AxesSubplot at 0x7fb6dee3aa50>"
            ]
          },
          "metadata": {},
          "execution_count": 248
        },
        {
          "output_type": "display_data",
          "data": {
            "image/png": "[encoded data removed]",
            "text/plain": [
              "<Figure size 360x216 with 1 Axes>"
            ]
          },
          "metadata": {}
        }
      ]
    },
    {
      "cell_type": "code",
      "metadata": {
        "colab": {
          "base_uri": "https://localhost:8080/",
          "height": 227
        },
        "id": "ew7fxZ2tP-fw",
        "outputId": "6f77dd67-d6ff-44d5-b1a2-65b2208092e9"
      },
      "source": [
        "# เว็บไซด์/แอปพลิเคชั่นอื่นๆ\n",
        "plt.figure(figsize=(5, 3))\n",
        "DF2[\"q9new\"].value_counts().plot.bar()"
      ],
      "execution_count": null,
      "outputs": [
        {
          "output_type": "execute_result",
          "data": {
            "text/plain": [
              "<matplotlib.axes._subplots.AxesSubplot at 0x7fb6deecb590>"
            ]
          },
          "metadata": {},
          "execution_count": 249
        },
        {
          "output_type": "display_data",
          "data": {
            "image/png": "[encoded data removed]",
            "text/plain": [
              "<Figure size 360x216 with 1 Axes>"
            ]
          },
          "metadata": {}
        }
      ]
    },
    {
      "cell_type": "code",
      "metadata": {
        "colab": {
          "base_uri": "https://localhost:8080/",
          "height": 227
        },
        "id": "lEQIPCIvP-Hf",
        "outputId": "21b92443-3b96-4dbd-f399-b6a62816c36d"
      },
      "source": [
        "#  อื่นๆระบุ\n",
        "plt.figure(figsize=(5, 3))\n",
        "DF2[\"q10new\"].value_counts().plot.bar()"
      ],
      "execution_count": null,
      "outputs": [
        {
          "output_type": "execute_result",
          "data": {
            "text/plain": [
              "<matplotlib.axes._subplots.AxesSubplot at 0x7fb6df10b8d0>"
            ]
          },
          "metadata": {},
          "execution_count": 250
        },
        {
          "output_type": "display_data",
          "data": {
            "image/png": "[encoded data removed]",
            "text/plain": [
              "<Figure size 360x216 with 1 Axes>"
            ]
          },
          "metadata": {}
        }
      ]
    },
    {
      "cell_type": "markdown",
      "metadata": {
        "id": "Q2ItpsSdYOQq"
      },
      "source": [
        "# สรุป Online Platform"
      ]
    },
    {
      "cell_type": "code",
      "metadata": {
        "colab": {
          "base_uri": "https://localhost:8080/",
          "height": 246
        },
        "id": "wcz9qRUaRR0z",
        "outputId": "fedfaef7-e0dc-4371-8fd5-3043b0fa0b7b"
      },
      "source": [
        "plt.figure(figsize=(5, 3))\n",
        "\n",
        "o1 =  DF2[DF2[\"q1new\"]>0].shape[0]\n",
        "o2 = DF2[DF2[\"q2new\"]>0].shape[0]\n",
        "o3 =  DF2[DF2[\"q3new\"]>0].shape[0]\n",
        "o4 = DF2[DF2[\"q4new\"]>0].shape[0]\n",
        "o5 =  DF2[DF2[\"q5new\"]>0].shape[0]\n",
        "o6 = DF2[DF2[\"q6new\"]>0].shape[0]\n",
        "o7 =  DF2[DF2[\"q7new\"]>0].shape[0]\n",
        "o8 = DF2[DF2[\"q8new\"]>0].shape[0]\n",
        "o9 =  DF2[DF2[\"q9new\"]>0].shape[0]\n",
        "o10 = DF2[DF2[\"q10new\"]>0].shape[0]\n",
        "X = [o1, o2, o3, o4, o5, o6, o7, o8, o9, o10]\n",
        "Y = [\"Facebook\", \"Twitter\", \"Youtube\", \"Instagram\", \"Line Today\", \"Line TV\", \"Podcast\", \"Pantip\", \"Website, Other apps\", \"ETC.\"]\n",
        "\n",
        "plt.barh(Y,X)\n",
        "plt.title(\"Online platform\")"
      ],
      "execution_count": null,
      "outputs": [
        {
          "output_type": "execute_result",
          "data": {
            "text/plain": [
              "Text(0.5, 1.0, 'Online')"
            ]
          },
          "metadata": {},
          "execution_count": 286
        },
        {
          "output_type": "display_data",
          "data": {
            "image/png": "[encoded data removed]",
            "text/plain": [
              "<Figure size 360x216 with 1 Axes>"
            ]
          },
          "metadata": {}
        }
      ]
    },
    {
      "cell_type": "markdown",
      "metadata": {
        "id": "q6fpLPPF2gAu"
      },
      "source": [
        "# Heat map"
      ]
    },
    {
      "cell_type": "code",
      "metadata": {
        "id": "TlZg9DCG0ami"
      },
      "source": [
        "import seaborn as sns; sns.set_theme()\n",
        "sns.set(rc={'figure.figsize':(11.7,8.27)})"
      ],
      "execution_count": null,
      "outputs": []
    },
    {
      "cell_type": "code",
      "metadata": {
        "id": "6SRXIbet2rAN"
      },
      "source": [
        "DF_merge =  DF2.loc[:,\"k1\":\"k10\"]\n",
        "DF_merge[\"t1\"] = DF2[\"t1\"]"
      ],
      "execution_count": null,
      "outputs": []
    },
    {
      "cell_type": "code",
      "metadata": {
        "id": "PJBHREUJZqzQ"
      },
      "source": [
        "DF_merge =  DF2.loc[:,\"k1\":\"k10\"]"
      ],
      "execution_count": null,
      "outputs": []
    },
    {
      "cell_type": "code",
      "metadata": {
        "id": "nYtwLDcZ5dxR"
      },
      "source": [
        "grouped = DF_merge.groupby(\"t1\").sum()"
      ],
      "execution_count": null,
      "outputs": []
    },
    {
      "cell_type": "code",
      "metadata": {
        "id": "F44yN1us5tGP",
        "colab": {
          "base_uri": "https://localhost:8080/",
          "height": 236
        },
        "outputId": "0923c61f-0db9-400b-ae06-4949ad013ef2"
      },
      "source": [
        "grouped.head()"
      ],
      "execution_count": null,
      "outputs": [
        {
          "output_type": "execute_result",
          "data": {
            "text/html": [
              "<div>\n",
              "<style scoped>\n",
              "    .dataframe tbody tr th:only-of-type {\n",
              "        vertical-align: middle;\n",
              "    }\n",
              "\n",
              "    .dataframe tbody tr th {\n",
              "        vertical-align: top;\n",
              "    }\n",
              "\n",
              "    .dataframe thead th {\n",
              "        text-align: right;\n",
              "    }\n",
              "</style>\n",
              "<table border=\"1\" class=\"dataframe\">\n",
              "  <thead>\n",
              "    <tr style=\"text-align: right;\">\n",
              "      <th></th>\n",
              "      <th>k1</th>\n",
              "      <th>k2</th>\n",
              "      <th>k3</th>\n",
              "      <th>k4</th>\n",
              "      <th>k5</th>\n",
              "      <th>k6</th>\n",
              "      <th>k7</th>\n",
              "      <th>k8</th>\n",
              "      <th>k9</th>\n",
              "      <th>k10</th>\n",
              "    </tr>\n",
              "    <tr>\n",
              "      <th>t1</th>\n",
              "      <th></th>\n",
              "      <th></th>\n",
              "      <th></th>\n",
              "      <th></th>\n",
              "      <th></th>\n",
              "      <th></th>\n",
              "      <th></th>\n",
              "      <th></th>\n",
              "      <th></th>\n",
              "      <th></th>\n",
              "    </tr>\n",
              "  </thead>\n",
              "  <tbody>\n",
              "    <tr>\n",
              "      <th>1.0</th>\n",
              "      <td>51</td>\n",
              "      <td>281</td>\n",
              "      <td>56</td>\n",
              "      <td>144</td>\n",
              "      <td>88</td>\n",
              "      <td>170</td>\n",
              "      <td>415</td>\n",
              "      <td>190</td>\n",
              "      <td>5</td>\n",
              "      <td>133</td>\n",
              "    </tr>\n",
              "    <tr>\n",
              "      <th>2.0</th>\n",
              "      <td>13</td>\n",
              "      <td>68</td>\n",
              "      <td>36</td>\n",
              "      <td>34</td>\n",
              "      <td>65</td>\n",
              "      <td>75</td>\n",
              "      <td>170</td>\n",
              "      <td>64</td>\n",
              "      <td>1</td>\n",
              "      <td>24</td>\n",
              "    </tr>\n",
              "    <tr>\n",
              "      <th>3.0</th>\n",
              "      <td>5</td>\n",
              "      <td>89</td>\n",
              "      <td>24</td>\n",
              "      <td>49</td>\n",
              "      <td>49</td>\n",
              "      <td>41</td>\n",
              "      <td>124</td>\n",
              "      <td>58</td>\n",
              "      <td>2</td>\n",
              "      <td>20</td>\n",
              "    </tr>\n",
              "    <tr>\n",
              "      <th>4.0</th>\n",
              "      <td>3</td>\n",
              "      <td>7</td>\n",
              "      <td>7</td>\n",
              "      <td>7</td>\n",
              "      <td>6</td>\n",
              "      <td>3</td>\n",
              "      <td>18</td>\n",
              "      <td>8</td>\n",
              "      <td>0</td>\n",
              "      <td>3</td>\n",
              "    </tr>\n",
              "    <tr>\n",
              "      <th>5.0</th>\n",
              "      <td>2</td>\n",
              "      <td>3</td>\n",
              "      <td>1</td>\n",
              "      <td>4</td>\n",
              "      <td>1</td>\n",
              "      <td>2</td>\n",
              "      <td>9</td>\n",
              "      <td>1</td>\n",
              "      <td>0</td>\n",
              "      <td>3</td>\n",
              "    </tr>\n",
              "  </tbody>\n",
              "</table>\n",
              "</div>"
            ],
            "text/plain": [
              "     k1   k2  k3   k4  k5   k6   k7   k8  k9  k10\n",
              "t1                                               \n",
              "1.0  51  281  56  144  88  170  415  190   5  133\n",
              "2.0  13   68  36   34  65   75  170   64   1   24\n",
              "3.0   5   89  24   49  49   41  124   58   2   20\n",
              "4.0   3    7   7    7   6    3   18    8   0    3\n",
              "5.0   2    3   1    4   1    2    9    1   0    3"
            ]
          },
          "metadata": {},
          "execution_count": 192
        }
      ]
    },
    {
      "cell_type": "code",
      "metadata": {
        "id": "kSbpXgRg2_IQ",
        "colab": {
          "base_uri": "https://localhost:8080/",
          "height": 534
        },
        "outputId": "650a826e-db2a-4c10-fcd8-05e6caf0fb19"
      },
      "source": [
        "\"\"\"\n",
        "k1ติดตามข่าวในช่วงเช้าตรู่\tk2ติดตามข่าวในช่วงเช้า\tk3ติดตามข่าวในช่วงสาย\t\n",
        "k4ติดตามข่าวในช่วงกลางวัน\tk5ติดตามข่าวในช่วงบ่าย\tk6ติดตามข่าวในช่วงเย็น\n",
        "#\tk8ติดตามข่าวในช่วงดึก\tk9ติดตามข่าวในช่วงดึกจนล่วงเข้าวันใหม่\t\n",
        "k10ติดตามข่าวในทุกช่วงเวลา\n",
        "\"\"\"\n",
        "\n",
        "ax = sns.heatmap(grouped , cmap=\"Reds\")\n",
        "plt.title(\"Time on Television\")"
      ],
      "execution_count": null,
      "outputs": [
        {
          "output_type": "execute_result",
          "data": {
            "text/plain": [
              "Text(0.5, 1.0, 'Time on Television')"
            ]
          },
          "metadata": {},
          "execution_count": 291
        },
        {
          "output_type": "display_data",
          "data": {
            "image/png": "[encoded data removed]",
            "text/plain": [
              "<Figure size 842.4x595.44 with 2 Axes>"
            ]
          },
          "metadata": {}
        }
      ]
    },
    {
      "cell_type": "code",
      "metadata": {
        "id": "rBLwklcaaEvu"
      },
      "source": [
        "# จะเห็นได้ว่าคนติดตามข่าวช่วงค่ำ(K7) มากที่สุด "
      ],
      "execution_count": null,
      "outputs": []
    },
    {
      "cell_type": "markdown",
      "metadata": {
        "id": "zBjjvIYHGRY_"
      },
      "source": [
        "## นับจำนวน"
      ]
    },
    {
      "cell_type": "code",
      "metadata": {
        "id": "eo90QiWvFkPk",
        "colab": {
          "base_uri": "https://localhost:8080/"
        },
        "outputId": "4c9cb7a4-c13f-4ef7-e5c3-33fbbaf324e6"
      },
      "source": [
        "DF2['Gen_group'].value_counts() #3==GenX  จากกราฟ income genX มีเงินเฉลี่ยเยอะสุด"
      ],
      "execution_count": null,
      "outputs": [
        {
          "output_type": "execute_result",
          "data": {
            "text/plain": [
              "3.0    541\n",
              "2.0    534\n",
              "4.0    502\n",
              "1.0    482\n",
              "Name: Gen_group, dtype: int64"
            ]
          },
          "metadata": {},
          "execution_count": 194
        }
      ]
    },
    {
      "cell_type": "code",
      "metadata": {
        "id": "vsQNwZKuHLwC",
        "colab": {
          "base_uri": "https://localhost:8080/",
          "height": 35
        },
        "outputId": "6e8a1908-8cb7-4529-def5-3807866d5a8c"
      },
      "source": [
        "DF_dictT.iloc[2,17] #a91"
      ],
      "execution_count": null,
      "outputs": [
        {
          "output_type": "execute_result",
          "data": {
            "application/vnd.google.colaboratory.intrinsic+json": {
              "type": "string"
            },
            "text/plain": [
              "'1=กรุงเทพฯและปริมณฑล  2=ภาคเหนือ  3=ภาคตะวันออกเฉียงเหนือ  4=ภาคกลาง  5=ภาคใต้'"
            ]
          },
          "metadata": {},
          "execution_count": 195
        }
      ]
    },
    {
      "cell_type": "code",
      "metadata": {
        "id": "z-a3-b13HVIt",
        "colab": {
          "base_uri": "https://localhost:8080/",
          "height": 35
        },
        "outputId": "ee9b707f-9533-404b-a671-3b166b27eda8"
      },
      "source": [
        "DF_dictT.iloc[2,17] #a91"
      ],
      "execution_count": null,
      "outputs": [
        {
          "output_type": "execute_result",
          "data": {
            "application/vnd.google.colaboratory.intrinsic+json": {
              "type": "string"
            },
            "text/plain": [
              "'1=กรุงเทพฯและปริมณฑล  2=ภาคเหนือ  3=ภาคตะวันออกเฉียงเหนือ  4=ภาคกลาง  5=ภาคใต้'"
            ]
          },
          "metadata": {},
          "execution_count": 196
        }
      ]
    },
    {
      "cell_type": "code",
      "metadata": {
        "id": "vBuCJIPmJAWe",
        "colab": {
          "base_uri": "https://localhost:8080/",
          "height": 228
        },
        "outputId": "cd2bbf44-3cd0-473b-e81d-bb5dceba01ce"
      },
      "source": [
        "plt.figure(figsize=(5, 3))\n",
        "DF2[DF2['Gen_group']==3]['a91'].value_counts().plot.bar()\n",
        "#1=กรุงเทพฯและปริมณฑล  2=ภาคเหนือ  3=ภาคตะวันออกเฉียงเหนือ  4=ภาคกลาง  5=ภาคใต้"
      ],
      "execution_count": null,
      "outputs": [
        {
          "output_type": "execute_result",
          "data": {
            "text/plain": [
              "<matplotlib.axes._subplots.AxesSubplot at 0x7fb6d9c0b890>"
            ]
          },
          "metadata": {},
          "execution_count": 279
        },
        {
          "output_type": "display_data",
          "data": {
            "image/png": "[encoded data removed]",
            "text/plain": [
              "<Figure size 360x216 with 1 Axes>"
            ]
          },
          "metadata": {}
        }
      ]
    },
    {
      "cell_type": "code",
      "metadata": {
        "id": "_NmkKGYVKSbI",
        "colab": {
          "base_uri": "https://localhost:8080/",
          "height": 35
        },
        "outputId": "f3498a17-a0d5-4d8a-9d37-410ff54cb58f"
      },
      "source": [
        "DF_dictT.iloc[2,13] #a6new"
      ],
      "execution_count": null,
      "outputs": [
        {
          "output_type": "execute_result",
          "data": {
            "application/vnd.google.colaboratory.intrinsic+json": {
              "type": "string"
            },
            "text/plain": [
              "'1=ไม่เกิน 15,000 บาท 2=15,001 - 30,000 บาท  3=30,001 – 50,000 บาท  4=50,001 – 80,000  5=80,001 ขึ้นไป'"
            ]
          },
          "metadata": {},
          "execution_count": 198
        }
      ]
    },
    {
      "cell_type": "code",
      "metadata": {
        "id": "k78BPYVmEXkl",
        "colab": {
          "base_uri": "https://localhost:8080/"
        },
        "outputId": "8047c49d-e8a0-4e32-b33b-6fcf0ab912df"
      },
      "source": [
        "DF2[DF2['Gen_group']==3][['a91','a6']].value_counts()\n",
        "#1=ไม่เกิน 15,000 บาท 2=15,001 - 30,000 บาท  3=30,001 – 50,000 บาท  4=50,001 – 80,000  5=80,001 ขึ้นไป"
      ],
      "execution_count": null,
      "outputs": [
        {
          "output_type": "execute_result",
          "data": {
            "text/plain": [
              "a91  a6 \n",
              "1    2.0    93\n",
              "3    2.0    76\n",
              "1    1.0    60\n",
              "3    1.0    58\n",
              "4    2.0    38\n",
              "1    3.0    37\n",
              "2    1.0    32\n",
              "     2.0    25\n",
              "5    2.0    24\n",
              "4    3.0    20\n",
              "3    3.0    19\n",
              "5    1.0    15\n",
              "2    3.0    10\n",
              "4    4.0     9\n",
              "     1.0     7\n",
              "5    3.0     7\n",
              "1    4.0     5\n",
              "2    4.0     4\n",
              "3    4.0     2\n",
              "dtype: int64"
            ]
          },
          "metadata": {},
          "execution_count": 199
        }
      ]
    },
    {
      "cell_type": "code",
      "metadata": {
        "id": "XO-_wAH_TjJI",
        "colab": {
          "base_uri": "https://localhost:8080/",
          "height": 35
        },
        "outputId": "0c3ec56b-cc76-4969-dfd9-502c9b0581ee"
      },
      "source": [
        "DF_dictT.iloc[2,13] #a6new"
      ],
      "execution_count": null,
      "outputs": [
        {
          "output_type": "execute_result",
          "data": {
            "application/vnd.google.colaboratory.intrinsic+json": {
              "type": "string"
            },
            "text/plain": [
              "'1=ไม่เกิน 15,000 บาท 2=15,001 - 30,000 บาท  3=30,001 – 50,000 บาท  4=50,001 – 80,000  5=80,001 ขึ้นไป'"
            ]
          },
          "metadata": {},
          "execution_count": 200
        }
      ]
    },
    {
      "cell_type": "code",
      "metadata": {
        "id": "5kYXhya9Tw1r",
        "colab": {
          "base_uri": "https://localhost:8080/"
        },
        "outputId": "6dc76593-657a-48dc-c9da-aec8c8bbed7d"
      },
      "source": [
        "DF2['q1new'].value_counts()\n",
        "#1=Facebook  2=Twitter  3=YouTube  4=Instagram  5=LINE TODAY  "
      ],
      "execution_count": null,
      "outputs": [
        {
          "output_type": "execute_result",
          "data": {
            "text/plain": [
              "1    1197\n",
              "0     520\n",
              "2     242\n",
              "3      62\n",
              "5      24\n",
              "4      14\n",
              "Name: q1new, dtype: int64"
            ]
          },
          "metadata": {},
          "execution_count": 201
        }
      ]
    },
    {
      "cell_type": "markdown",
      "metadata": {
        "id": "W6kB2-YAXgEV"
      },
      "source": [
        "# Gen - Online Channel"
      ]
    },
    {
      "cell_type": "code",
      "metadata": {
        "id": "vaRPQEj-TZdW",
        "colab": {
          "base_uri": "https://localhost:8080/",
          "height": 648
        },
        "outputId": "733a216c-10e7-4ad6-b730-a8de5a5ceae8"
      },
      "source": [
        "OnlineGen = pd.DataFrame({\n",
        "                        'Facebook': DF2[DF2['q1new']==1]['Gen_group'].value_counts(),\n",
        "                        'Twitter': DF2[DF2['q1new']==2]['Gen_group'].value_counts(),\n",
        "                        'Youtube': DF2[DF2['q1new']==3]['Gen_group'].value_counts(),\n",
        "                        'Instagram': DF2[DF2['q1new']==4]['Gen_group'].value_counts(),\n",
        "                        'LINE TODAY': DF2[DF2['q1new']==5]['Gen_group'].value_counts(),\n",
        "\n",
        "})\n",
        "gen_order=[1,2,3,4]\n",
        "OnlineGen.loc[gen_order].plot(kind=\"bar\")\n",
        "plt.xticks([0,1,2,3], ['GenZ', 'GenY', 'GenX','GenB'], rotation=20) "
      ],
      "execution_count": null,
      "outputs": [
        {
          "output_type": "execute_result",
          "data": {
            "text/plain": [
              "([<matplotlib.axis.XTick at 0x7fb6dfc30b90>,\n",
              "  <matplotlib.axis.XTick at 0x7fb6dfc30b50>,\n",
              "  <matplotlib.axis.XTick at 0x7fb6dfc10a50>,\n",
              "  <matplotlib.axis.XTick at 0x7fb6dfb9afd0>],\n",
              " [Text(0, 0, 'GenZ'),\n",
              "  Text(0, 0, 'GenY'),\n",
              "  Text(0, 0, 'GenX'),\n",
              "  Text(0, 0, 'GenB')])"
            ]
          },
          "metadata": {},
          "execution_count": 202
        },
        {
          "output_type": "display_data",
          "data": {
            "image/png": "[encoded data removed]",
            "text/plain": [
              "<Figure size 842.4x595.44 with 1 Axes>"
            ]
          },
          "metadata": {}
        }
      ]
    },
    {
      "cell_type": "code",
      "metadata": {
        "id": "oafIgNXRXRyw",
        "colab": {
          "base_uri": "https://localhost:8080/",
          "height": 235
        },
        "outputId": "aa1afe70-44d7-49e6-996b-8d97700f0d8b"
      },
      "source": [
        "plt.figure(figsize=(8, 3))\n",
        "DF2['r1'].value_counts().plot.bar()\n",
        "#1=ข่าวการเมือง  2=ข่าวเศรษฐกิจ  3=ข่าวในกระแสความสนใจ  4=ข่าวพระราชสำนัก  5=ข่าวต่างประเทศ  \n",
        "#6=ข่าวอาชญากรรม  7=ข่าวอุบัติเหตุ  8=ข่าวความเคลื่อนไหวในวงการบันเทิง  9=ข่าวศิลปวัฒนธรรม  \n",
        "#10=ข่าวกีฬา  11=ข่าวเกษตร  12=ข่าวเทคโนโลยี  13=ข่าวการศึกษา 14=ข่าวสาธารณสุขการแพทย์  \n",
        "#15=ข่าวพยากรณ์อากาศ  16=ข่าวจราจร  17=ข่าวสิ่งแวดล้อม  18=ข่าวร้องทุกข์/ช่วยเหลือชาวบ้าน  \n",
        "#19=ข่าวที่ประชาชนรายงานหรือสื่อสารด้วยตนเอง  20=อื่นๆ ระบุ\n",
        "#99 = ไม่ตอบ"
      ],
      "execution_count": null,
      "outputs": [
        {
          "output_type": "execute_result",
          "data": {
            "text/plain": [
              "<matplotlib.axes._subplots.AxesSubplot at 0x7fb6d9a37210>"
            ]
          },
          "metadata": {},
          "execution_count": 281
        },
        {
          "output_type": "display_data",
          "data": {
            "image/png": "[encoded data removed]",
            "text/plain": [
              "<Figure size 576x216 with 1 Axes>"
            ]
          },
          "metadata": {}
        }
      ]
    },
    {
      "cell_type": "markdown",
      "metadata": {
        "id": "5X4mHg8ccWwP"
      },
      "source": [
        "## NEWS x Gen"
      ]
    },
    {
      "cell_type": "code",
      "metadata": {
        "id": "FJGOpeiUaG_I",
        "colab": {
          "base_uri": "https://localhost:8080/",
          "height": 665
        },
        "outputId": "dc7e522b-a1f3-45ec-c8aa-11e204293d8a"
      },
      "source": [
        "OnlineGen = pd.DataFrame({\n",
        "                        'Politics': DF2[DF2['r1']==1]['Gen_group'].value_counts(),\n",
        "                        'Economics': DF2[DF2['r1']==2]['Gen_group'].value_counts(),\n",
        "                        'In-trend': DF2[DF2['r1']==3]['Gen_group'].value_counts(),\n",
        "                        'Entertainment industry': DF2[DF2['r1']==8]['Gen_group'].value_counts(),\n",
        "                        'Accident': DF2[DF2['r1']==7]['Gen_group'].value_counts(),\n",
        "\n",
        "})\n",
        "\n",
        "plt.figure(figsize=(8, 3))\n",
        "gen_order=[1,2,3,4]\n",
        "OnlineGen.loc[gen_order].plot(kind=\"bar\")\n",
        "plt.xticks([0,1,2,3], ['GenZ', 'GenY', 'GenX','GenB'], rotation=20)"
      ],
      "execution_count": null,
      "outputs": [
        {
          "output_type": "execute_result",
          "data": {
            "text/plain": [
              "([<matplotlib.axis.XTick at 0x7fb6d9981810>,\n",
              "  <matplotlib.axis.XTick at 0x7fb6d99817d0>,\n",
              "  <matplotlib.axis.XTick at 0x7fb6d98e26d0>,\n",
              "  <matplotlib.axis.XTick at 0x7fb6d98eccd0>],\n",
              " [Text(0, 0, 'GenZ'),\n",
              "  Text(0, 0, 'GenY'),\n",
              "  Text(0, 0, 'GenX'),\n",
              "  Text(0, 0, 'GenB')])"
            ]
          },
          "metadata": {},
          "execution_count": 282
        },
        {
          "output_type": "display_data",
          "data": {
            "text/plain": [
              "<Figure size 576x216 with 0 Axes>"
            ]
          },
          "metadata": {}
        },
        {
          "output_type": "display_data",
          "data": {
            "image/png": "[encoded data removed]",
            "text/plain": [
              "<Figure size 842.4x595.44 with 1 Axes>"
            ]
          },
          "metadata": {}
        }
      ]
    },
    {
      "cell_type": "markdown",
      "metadata": {
        "id": "6-pgFIyP0E17"
      },
      "source": [
        "# GENX-ที่พัก-รายได้"
      ]
    },
    {
      "cell_type": "code",
      "metadata": {
        "id": "EAHgIdqojTK1",
        "colab": {
          "base_uri": "https://localhost:8080/",
          "height": 537
        },
        "outputId": "26714094-46a8-4ce5-ad42-73a86effb9fa"
      },
      "source": [
        "# คน GenX อยู่ภาคไหนเยอะที่สุด\n",
        "plt.figure(figsize=(8, 3))\n",
        "Gen3[['a91','a92']].value_counts().plot.bar()\n",
        "\"\"\"\n",
        "1=กรุงเทพฯและปริมณฑล  2=ภาคเหนือ  3=ภาคตะวันออกเฉียงเหนือ  4=ภาคกลาง  5=ภาคใต้\n",
        "1=CR 2=N 3=NE 4=C 5=S\n",
        "1=ในเขตเทศบาล 2=นอกเขตเทศบาล\n",
        "1 =  Inside municipal area 2 =  outside municipal area\n",
        "1 = IMA , 2 =OMA\n",
        "\"\"\"\n",
        "\n",
        "plt.title(\"GenX - Resident\")\n",
        "plt.xticks([0, 1, 2, 3, 4, 5, 6, 7 ], ['NE-IMA', 'NE-OMA', 'N-OMA', 'C-OMA', 'S-OMA', 'C-IMA', 'S-IMA', 'N-IMA'], rotation=20)  "
      ],
      "execution_count": null,
      "outputs": [
        {
          "output_type": "execute_result",
          "data": {
            "text/plain": [
              "([<matplotlib.axis.XTick at 0x7fb6d967f9d0>,\n",
              "  <matplotlib.axis.XTick at 0x7fb6d9678550>,\n",
              "  <matplotlib.axis.XTick at 0x7fb6d9ccf490>,\n",
              "  <matplotlib.axis.XTick at 0x7fb6d9d5efd0>,\n",
              "  <matplotlib.axis.XTick at 0x7fb6d9cc7e10>,\n",
              "  <matplotlib.axis.XTick at 0x7fb6d9cc7910>,\n",
              "  <matplotlib.axis.XTick at 0x7fb6d9cc71d0>,\n",
              "  <matplotlib.axis.XTick at 0x7fb6d9cc7450>],\n",
              " [Text(0, 0, 'NE-IMA'),\n",
              "  Text(0, 0, 'NE-OMA'),\n",
              "  Text(0, 0, 'N-OMA'),\n",
              "  Text(0, 0, 'C-OMA'),\n",
              "  Text(0, 0, 'S-OMA'),\n",
              "  Text(0, 0, 'C-IMA'),\n",
              "  Text(0, 0, 'S-IMA'),\n",
              "  Text(0, 0, 'N-IMA')])"
            ]
          },
          "metadata": {},
          "execution_count": 293
        },
        {
          "output_type": "display_data",
          "data": {
            "image/png": "[encoded data removed]",
            "text/plain": [
              "<Figure size 576x216 with 1 Axes>"
            ]
          },
          "metadata": {}
        }
      ]
    },
    {
      "cell_type": "code",
      "metadata": {
        "id": "ieW6QOJcpYtl",
        "colab": {
          "base_uri": "https://localhost:8080/",
          "height": 362
        },
        "outputId": "8dfb0cdf-cbc3-4061-fc67-048dc1ffc723"
      },
      "source": [
        "# มาดูรายได้ของคนแต่ละภาค แยกตามรายได้\n",
        "GX_R = DF2[DF2['Gen_group']==3][['a91','a92','a6']]\n",
        "GX_R.head()\n",
        "\"\"\"\n",
        "1=กรุงเทพฯและปริมณฑล  2=ภาคเหนือ  3=ภาคตะวันออกเฉียงเหนือ  4=ภาคกลาง  5=ภาคใต้\n",
        "\"\"\"\n",
        "GX_R1 = []\n",
        "for i, j in enumerate(GX_R['a91']):\n",
        "    if j == 1:\n",
        "      GX_R1.append(\"CR\")\n",
        "    elif j == 2:\n",
        "      GX_R1.append(\"N\")\n",
        "    elif j == 3:\n",
        "      GX_R1.append(\"NE\")\n",
        "    elif j == 4:\n",
        "      GX_R1.append(\"C\")\n",
        "    elif j == 5:\n",
        "      GX_R1.append(\"S\")\n",
        "\n",
        "GX_R2 = []\n",
        "for i, j in enumerate(GX_R['a92']):\n",
        "    if j == 1:\n",
        "      GX_R2.append(\"IMA\")\n",
        "    elif j == 2:\n",
        "      GX_R2.append(\"OMA\")\n",
        "\n",
        "GX_R3 = []\n",
        "for i, j in enumerate(GX_R['a6']):\n",
        "    if j == 1:\n",
        "      GX_R3.append('<15k')\n",
        "    elif j == 2:\n",
        "      GX_R3.append('15k-30k')\n",
        "    elif j == 3:\n",
        "      GX_R3.append('30k-50k')\n",
        "    elif j == 4:\n",
        "      GX_R3.append('50k-80k')\n",
        "    elif j == 5:\n",
        "      GX_R3.append('80k+')\n",
        "\n",
        "\n",
        "GX_R[\"b1\"]=pd.DataFrame(GX_R1)\n",
        "GX_R[\"b2\"]=pd.DataFrame(GX_R2)\n",
        "GX_R[\"b3\"]=pd.DataFrame(GX_R3)\n",
        "\n",
        "plt.figure(figsize=(8, 3))\n",
        "GX_R[['b1','b2','b3']].value_counts().plot.bar() #color = ['black', 'red', 'green', 'blue', 'cyan']\n",
        "plt.title(\"Resident Income\")"
      ],
      "execution_count": null,
      "outputs": [
        {
          "output_type": "execute_result",
          "data": {
            "text/plain": [
              "Text(0.5, 1.0, 'Resident Income')"
            ]
          },
          "metadata": {},
          "execution_count": 301
        },
        {
          "output_type": "display_data",
          "data": {
            "image/png": "[encoded data removed]",
            "text/plain": [
              "<Figure size 576x216 with 1 Axes>"
            ]
          },
          "metadata": {}
        }
      ]
    },
    {
      "cell_type": "markdown",
      "metadata": {
        "id": "Jm4_4IZt0wlU"
      },
      "source": [
        "# GENY - ที่พัก - รายได้"
      ]
    },
    {
      "cell_type": "code",
      "metadata": {
        "id": "BL_rmYcIjTjN",
        "colab": {
          "base_uri": "https://localhost:8080/",
          "height": 537
        },
        "outputId": "adcf1a5f-aec9-4a6c-e629-b9d9369331fc"
      },
      "source": [
        "# คน GenY อยู่ภาคไหนเยอะสุด\n",
        "plt.figure(figsize=(8, 3))\n",
        "Gen2[['a91','a92']].value_counts().plot.bar()\n",
        "\n",
        "\"\"\"\n",
        "1=กรุงเทพฯและปริมณฑล  2=ภาคเหนือ  3=ภาคตะวันออกเฉียงเหนือ  4=ภาคกลาง  5=ภาคใต้\n",
        "1=CR 2=N 3=NE 4=C 5=S\n",
        "1=ในเขตเทศบาล 2=นอกเขตเทศบาล\n",
        "1 =  Inside municipal area 2 =  outside municipal area\n",
        "1 = IMA , 2 =OMA\n",
        "\"\"\"\n",
        "plt.title(\"GenY - Resident\")\n",
        "plt.xticks([0, 1, 2, 3, 4, 5, 6, 7 ], ['NE-IMA', 'N-OMA', 'NE-OMA', 'C-OMA', 'S-OMA', 'C-IMA', 'S-IMA', 'N-IMA'], rotation=20)"
      ],
      "execution_count": null,
      "outputs": [
        {
          "output_type": "execute_result",
          "data": {
            "text/plain": [
              "([<matplotlib.axis.XTick at 0x7fb6e041a050>,\n",
              "  <matplotlib.axis.XTick at 0x7fb6d96e8510>,\n",
              "  <matplotlib.axis.XTick at 0x7fb6d9e15bd0>,\n",
              "  <matplotlib.axis.XTick at 0x7fb6d9e689d0>,\n",
              "  <matplotlib.axis.XTick at 0x7fb6d9ec63d0>,\n",
              "  <matplotlib.axis.XTick at 0x7fb6e08a7d10>,\n",
              "  <matplotlib.axis.XTick at 0x7fb6e08a7310>,\n",
              "  <matplotlib.axis.XTick at 0x7fb6d9f40210>],\n",
              " [Text(0, 0, 'NE-IMA'),\n",
              "  Text(0, 0, 'N-OMA'),\n",
              "  Text(0, 0, 'NE-OMA'),\n",
              "  Text(0, 0, 'C-OMA'),\n",
              "  Text(0, 0, 'S-OMA'),\n",
              "  Text(0, 0, 'C-IMA'),\n",
              "  Text(0, 0, 'S-IMA'),\n",
              "  Text(0, 0, 'N-IMA')])"
            ]
          },
          "metadata": {},
          "execution_count": 294
        },
        {
          "output_type": "display_data",
          "data": {
            "image/png": "[encoded data removed]",
            "text/plain": [
              "<Figure size 576x216 with 1 Axes>"
            ]
          },
          "metadata": {}
        }
      ]
    },
    {
      "cell_type": "code",
      "metadata": {
        "cellView": "code",
        "id": "KF9daIjgo2Kk",
        "colab": {
          "base_uri": "https://localhost:8080/",
          "height": 362
        },
        "outputId": "aa2d7536-ff73-4b97-e74a-2291e8848a37"
      },
      "source": [
        "#@title Default title text\n",
        "GY_R = DF2[DF2['Gen_group']==2][['a91','a92','a6']]\n",
        "GY_R.head()\n",
        "\"\"\"\n",
        "1=กรุงเทพฯและปริมณฑล  2=ภาคเหนือ  3=ภาคตะวันออกเฉียงเหนือ  4=ภาคกลาง  5=ภาคใต้\n",
        "\"\"\"\n",
        "GY_R1 = []\n",
        "for i, j in enumerate(GY_R['a91']):\n",
        "    if j == 1:\n",
        "      GY_R1.append(\"CR\")\n",
        "    elif j == 2:\n",
        "      GY_R1.append(\"N\")\n",
        "    elif j == 3:\n",
        "      GY_R1.append(\"NE\")\n",
        "    elif j == 4:\n",
        "      GY_R1.append(\"C\")\n",
        "    elif j == 5:\n",
        "      GY_R1.append(\"S\")\n",
        "\n",
        "GY_R2 = []\n",
        "for i, j in enumerate(GY_R['a92']):\n",
        "    if j == 1:\n",
        "      GY_R2.append(\"IMA\")\n",
        "    elif j == 2:\n",
        "      GY_R2.append(\"OMA\")\n",
        "\n",
        "GY_R3 = []\n",
        "for i, j in enumerate(GY_R['a6']):\n",
        "    if j == 1:\n",
        "      GY_R3.append('<15k')\n",
        "    elif j == 2:\n",
        "      GY_R3.append('15k-30k')\n",
        "    elif j == 3:\n",
        "      GY_R3.append('30k-50k')\n",
        "    elif j == 4:\n",
        "      GY_R3.append('50k-80k')\n",
        "    elif j == 5:\n",
        "      GY_R3.append('80k+')\n",
        "\n",
        "\n",
        "GY_R[\"b1\"]=pd.DataFrame(GY_R1)\n",
        "GY_R[\"b2\"]=pd.DataFrame(GY_R2)\n",
        "GY_R[\"b3\"]=pd.DataFrame(GY_R3)\n",
        "\n",
        "plt.figure(figsize=(8, 3))\n",
        "GY_R[['b1','b2','b3']].value_counts().plot.bar() # color=[ 'red', 'yellow', 'green']\n",
        "plt.title(\"GenY Resident Income\")"
      ],
      "execution_count": null,
      "outputs": [
        {
          "output_type": "execute_result",
          "data": {
            "text/plain": [
              "Text(0.5, 1.0, 'GenY Resident Income')"
            ]
          },
          "metadata": {},
          "execution_count": 300
        },
        {
          "output_type": "display_data",
          "data": {
            "image/png": "[encoded data removed]",
            "text/plain": [
              "<Figure size 576x216 with 1 Axes>"
            ]
          },
          "metadata": {}
        }
      ]
    },
    {
      "cell_type": "code",
      "metadata": {
        "id": "sq8ztkH9eD9T"
      },
      "source": [
        ""
      ],
      "execution_count": null,
      "outputs": []
    }
  ]
}