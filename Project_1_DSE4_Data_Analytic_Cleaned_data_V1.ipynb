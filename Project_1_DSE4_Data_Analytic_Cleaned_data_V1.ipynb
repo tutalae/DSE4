{
  "nbformat": 4,
  "nbformat_minor": 0,
  "metadata": {
    "colab": {
      "name": "Project-1 DSE4 Data-Analytic-Cleaned data_V1.ipynb",
      "provenance": [],
      "collapsed_sections": [],
      "include_colab_link": true
    },
    "kernelspec": {
      "name": "python3",
      "display_name": "Python 3"
    },
    "language_info": {
      "name": "python"
    }
  },
  "cells": [
    {
      "cell_type": "markdown",
      "metadata": {
        "id": "view-in-github",
        "colab_type": "text"
      },
      "source": [
        "<a href=\"https://colab.research.google.com/github/tutalae/DSE4/blob/main/Project_1_DSE4_Data_Analytic_Cleaned_data_V1.ipynb\" target=\"_parent\"><img src=\"https://colab.research.google.com/assets/colab-badge.svg\" alt=\"Open In Colab\"/></a>"
      ]
    },
    {
      "cell_type": "code",
      "metadata": {
        "id": "vbdhaMIsPJpb"
      },
      "source": [
        "import pandas as pd"
      ],
      "execution_count": 30,
      "outputs": []
    },
    {
      "cell_type": "code",
      "metadata": {
        "id": "hPNgjNLOOR32"
      },
      "source": [
        "DF1 = pd.read_csv(\"https://raw.githubusercontent.com/tutalae/DSE4/main/metadata_consumer-insight-survey2019.csv\")\n",
        "DF2 = pd.read_csv(\"https://raw.githubusercontent.com/tutalae/DSE4/main/dataset_consumer-insight-survey2019.csv\")\n",
        "DF_dict = pd.read_csv(\"https://raw.githubusercontent.com/tutalae/DSE4/main/data_dictionary_consumer-insight-survey2019.csv\")"
      ],
      "execution_count": 31,
      "outputs": []
    },
    {
      "cell_type": "code",
      "metadata": {
        "colab": {
          "base_uri": "https://localhost:8080/",
          "height": 434
        },
        "id": "eItIkrv4xYN8",
        "outputId": "d441b26b-e256-40c0-b799-2028ecd376f6"
      },
      "source": [
        "DF_dict.T"
      ],
      "execution_count": 32,
      "outputs": [
        {
          "output_type": "execute_result",
          "data": {
            "text/html": [
              "<div>\n",
              "<style scoped>\n",
              "    .dataframe tbody tr th:only-of-type {\n",
              "        vertical-align: middle;\n",
              "    }\n",
              "\n",
              "    .dataframe tbody tr th {\n",
              "        vertical-align: top;\n",
              "    }\n",
              "\n",
              "    .dataframe thead th {\n",
              "        text-align: right;\n",
              "    }\n",
              "</style>\n",
              "<table border=\"1\" class=\"dataframe\">\n",
              "  <thead>\n",
              "    <tr style=\"text-align: right;\">\n",
              "      <th></th>\n",
              "      <th>0</th>\n",
              "      <th>1</th>\n",
              "      <th>2</th>\n",
              "      <th>3</th>\n",
              "      <th>4</th>\n",
              "      <th>5</th>\n",
              "      <th>6</th>\n",
              "      <th>7</th>\n",
              "      <th>8</th>\n",
              "      <th>9</th>\n",
              "      <th>10</th>\n",
              "      <th>11</th>\n",
              "      <th>12</th>\n",
              "      <th>13</th>\n",
              "      <th>14</th>\n",
              "      <th>15</th>\n",
              "      <th>16</th>\n",
              "      <th>17</th>\n",
              "      <th>18</th>\n",
              "      <th>19</th>\n",
              "      <th>20</th>\n",
              "      <th>21</th>\n",
              "      <th>22</th>\n",
              "      <th>23</th>\n",
              "      <th>24</th>\n",
              "      <th>25</th>\n",
              "      <th>26</th>\n",
              "      <th>27</th>\n",
              "      <th>28</th>\n",
              "      <th>29</th>\n",
              "      <th>30</th>\n",
              "      <th>31</th>\n",
              "      <th>32</th>\n",
              "      <th>33</th>\n",
              "      <th>34</th>\n",
              "      <th>35</th>\n",
              "      <th>36</th>\n",
              "      <th>37</th>\n",
              "      <th>38</th>\n",
              "      <th>39</th>\n",
              "      <th>...</th>\n",
              "      <th>153</th>\n",
              "      <th>154</th>\n",
              "      <th>155</th>\n",
              "      <th>156</th>\n",
              "      <th>157</th>\n",
              "      <th>158</th>\n",
              "      <th>159</th>\n",
              "      <th>160</th>\n",
              "      <th>161</th>\n",
              "      <th>162</th>\n",
              "      <th>163</th>\n",
              "      <th>164</th>\n",
              "      <th>165</th>\n",
              "      <th>166</th>\n",
              "      <th>167</th>\n",
              "      <th>168</th>\n",
              "      <th>169</th>\n",
              "      <th>170</th>\n",
              "      <th>171</th>\n",
              "      <th>172</th>\n",
              "      <th>173</th>\n",
              "      <th>174</th>\n",
              "      <th>175</th>\n",
              "      <th>176</th>\n",
              "      <th>177</th>\n",
              "      <th>178</th>\n",
              "      <th>179</th>\n",
              "      <th>180</th>\n",
              "      <th>181</th>\n",
              "      <th>182</th>\n",
              "      <th>183</th>\n",
              "      <th>184</th>\n",
              "      <th>185</th>\n",
              "      <th>186</th>\n",
              "      <th>187</th>\n",
              "      <th>188</th>\n",
              "      <th>189</th>\n",
              "      <th>190</th>\n",
              "      <th>191</th>\n",
              "      <th>192</th>\n",
              "    </tr>\n",
              "  </thead>\n",
              "  <tbody>\n",
              "    <tr>\n",
              "      <th>รหัส</th>\n",
              "      <td>a1</td>\n",
              "      <td>a2</td>\n",
              "      <td>a301</td>\n",
              "      <td>a302</td>\n",
              "      <td>a3021</td>\n",
              "      <td>a4</td>\n",
              "      <td>a5</td>\n",
              "      <td>a51</td>\n",
              "      <td>a52</td>\n",
              "      <td>a53</td>\n",
              "      <td>a54</td>\n",
              "      <td>a57</td>\n",
              "      <td>a58</td>\n",
              "      <td>a6</td>\n",
              "      <td>a7</td>\n",
              "      <td>a81</td>\n",
              "      <td>a82</td>\n",
              "      <td>a91</td>\n",
              "      <td>a92</td>\n",
              "      <td>k1</td>\n",
              "      <td>k2</td>\n",
              "      <td>k3</td>\n",
              "      <td>k4</td>\n",
              "      <td>k5</td>\n",
              "      <td>k6</td>\n",
              "      <td>k7</td>\n",
              "      <td>k8</td>\n",
              "      <td>k9</td>\n",
              "      <td>k10</td>\n",
              "      <td>l1</td>\n",
              "      <td>p1</td>\n",
              "      <td>p2</td>\n",
              "      <td>p3</td>\n",
              "      <td>p4</td>\n",
              "      <td>p5</td>\n",
              "      <td>p501</td>\n",
              "      <td>p6</td>\n",
              "      <td>q1</td>\n",
              "      <td>q2</td>\n",
              "      <td>q3</td>\n",
              "      <td>...</td>\n",
              "      <td>s12new</td>\n",
              "      <td>t12new</td>\n",
              "      <td>u12new</td>\n",
              "      <td>r13new</td>\n",
              "      <td>s13new</td>\n",
              "      <td>t13new</td>\n",
              "      <td>u13new</td>\n",
              "      <td>r14new</td>\n",
              "      <td>s14new</td>\n",
              "      <td>t14new</td>\n",
              "      <td>u14new</td>\n",
              "      <td>r15new</td>\n",
              "      <td>s15new</td>\n",
              "      <td>t15new</td>\n",
              "      <td>u15new</td>\n",
              "      <td>r16new</td>\n",
              "      <td>s16new</td>\n",
              "      <td>t16new</td>\n",
              "      <td>u16new</td>\n",
              "      <td>r17new</td>\n",
              "      <td>s17new</td>\n",
              "      <td>t17new</td>\n",
              "      <td>u17new</td>\n",
              "      <td>r18new</td>\n",
              "      <td>s18new</td>\n",
              "      <td>t18new</td>\n",
              "      <td>u18new</td>\n",
              "      <td>r19new</td>\n",
              "      <td>s19new</td>\n",
              "      <td>t19new</td>\n",
              "      <td>u19new</td>\n",
              "      <td>r20new</td>\n",
              "      <td>s20new</td>\n",
              "      <td>t20new</td>\n",
              "      <td>u20new</td>\n",
              "      <td>G_genZ</td>\n",
              "      <td>G_genY</td>\n",
              "      <td>G_genX</td>\n",
              "      <td>G_genB</td>\n",
              "      <td>Gen_group</td>\n",
              "    </tr>\n",
              "    <tr>\n",
              "      <th>ข้อคำถาม</th>\n",
              "      <td>a1 เพศ</td>\n",
              "      <td>a2 ปีเกิด (พ.ศ.)</td>\n",
              "      <td>a301 สถานะทางการศึกษา</td>\n",
              "      <td>a302 ระดับการศึกษา</td>\n",
              "      <td>a3021 อื่น ๆ ระบบ ได้แก่</td>\n",
              "      <td>a4ท่านเป็นบุคคลที่จบปริญญาตรีและเพิ่งเริ่มทำงา...</td>\n",
              "      <td>a5 อาชีพ</td>\n",
              "      <td>a51 รับราชการ/พนักงานของรัฐหรือรัฐวิสาหกิจ สัง...</td>\n",
              "      <td>a52 พนักงานเอกชน/ลูกจ้างบริษัท ทำงานด้าน …</td>\n",
              "      <td>a53 เจ้าของธุรกิจ  เกี่ยวกับ.……</td>\n",
              "      <td>a54 อาชีพอิสระ/ฟรีแลนซ์/รับจ้าง ทำงานด้าน ..</td>\n",
              "      <td>a57 เกษตรกร เช่น ทำไร่ ประมง ฯลฯ (ระบุ) ……</td>\n",
              "      <td>a58 อื่นๆ (ระบุ)………</td>\n",
              "      <td>a6 รายได้ของท่านเฉลี่ยต่อเดือน</td>\n",
              "      <td>a7ในกรณีที่เป็นนักเรียน/นักศึกษา.. ประมาณเท่าไ...</td>\n",
              "      <td>a81 สถานภาพส่วนตัว</td>\n",
              "      <td>a82 ลักษณะการอยู่อาศัย</td>\n",
              "      <td>a91 ภูมิภาคที่ท่านอาศัยอยู่ในปัจจุบัน</td>\n",
              "      <td>a92 ภูมิภาคและเขตพื้นที่ ที่ท่านอาศัยอยู่ในปัจ...</td>\n",
              "      <td>k1ติดตามข่าวในช่วงเช้าตรู่</td>\n",
              "      <td>k2ติดตามข่าวในช่วงเช้า</td>\n",
              "      <td>k3ติดตามข่าวในช่วงสาย</td>\n",
              "      <td>k4ติดตามข่าวในช่วงกลางวัน</td>\n",
              "      <td>k5ติดตามข่าวในช่วงบ่าย</td>\n",
              "      <td>k6ติดตามข่าวในช่วงเย็น</td>\n",
              "      <td>k7ติดตามข่าวในช่วงค่ำ</td>\n",
              "      <td>k8ติดตามข่าวในช่วงดึก</td>\n",
              "      <td>k9ติดตามข่าวในช่วงดึกจนล่วงเข้าวันใหม่</td>\n",
              "      <td>k10ติดตามข่าวในทุกช่วงเวลา</td>\n",
              "      <td>l11ท่านติดตามข่าวทางเครื่องรับโทรทัศน์ โดยรวมเ...</td>\n",
              "      <td>p1ท่านใช้อินเทอร์เน็ตในลักษณะใช้แพคเกจอินเทอร์...</td>\n",
              "      <td>p2ท่านใช้อินเทอร์เน็ตในลักษณะใช้แพคเกจอินเทอร์...</td>\n",
              "      <td>p3ท่านใช้อินเทอร์เน็ตในลักษณะใช้ Wi-Fi ที่บ้าน</td>\n",
              "      <td>p4ท่านใช้อินเทอร์เน็ตในลักษณะใช้ Free Wi-Fi ใน...</td>\n",
              "      <td>p5ท่านใช้อินเทอร์เน็ตในลักษณะใช้แบบอื่นๆ</td>\n",
              "      <td>p501ใช้แบบอื่นๆ (ระบุ) ……ได้แก่</td>\n",
              "      <td>p6ท่านใช้อินเทอร์เน็ตในลักษณะไม่ได้ใช้งานอินเท...</td>\n",
              "      <td>q1</td>\n",
              "      <td>q2สื่อออนไลน์ที่ท่านใช้งานเพื่อติดตามข่าว มีสื...</td>\n",
              "      <td>q3สื่อออนไลน์ที่ท่านใช้งานเพื่อติดตามข่าว มีสื...</td>\n",
              "      <td>...</td>\n",
              "      <td>s12new ทีมงานช่วยแนะนำ ข่าวเทคโนโลยี</td>\n",
              "      <td>t12new ติดตามไม่ติดตามทีวี</td>\n",
              "      <td>u12new ติดตามไม่ติดตามออนไลน์</td>\n",
              "      <td>r13new RD ระบุอันดับ ข่าวการศึกษา</td>\n",
              "      <td>s13new ทีมงานช่วยแนะนำ ข่าวการศึกษา</td>\n",
              "      <td>t13new ติดตามไม่ติดตามทีวี</td>\n",
              "      <td>u13new ติดตามไม่ติดตามออนไลน์</td>\n",
              "      <td>r14new RD ระบุอันดับ ข่าวสาธารณสุขการแพทย์</td>\n",
              "      <td>s14new ทีมงานช่วยแนะนำ ข่าวสาธารณสุขการแพทย์</td>\n",
              "      <td>t14new ติดตามไม่ติดตามทีวี</td>\n",
              "      <td>u14new ติดตามไม่ติดตามออนไลน์</td>\n",
              "      <td>r15new RD ระบุอันดับ ข่าวพยากรณ์อากาศ</td>\n",
              "      <td>s15new ทีมงานช่วยแนะนำ ข่าวพยากรณ์อากาศ</td>\n",
              "      <td>t15new ติดตามไม่ติดตามทีวี</td>\n",
              "      <td>u15new ติดตามไม่ติดตามออนไลน์</td>\n",
              "      <td>r16new RD ระบุอันดับ ข่าวจราจร</td>\n",
              "      <td>s16new ทีมงานช่วยแนะนำ ข่าวจราจร</td>\n",
              "      <td>t16neww  ติดตามไม่ติดตามทีวี</td>\n",
              "      <td>u16neww ติดตามไม่ติดตามออนไลน์</td>\n",
              "      <td>r17neww RD ระบุอันดับ ข่าวสิ่งแวดล้อม</td>\n",
              "      <td>s17neww ทีมงานช่วยแนะนำ ข่าวสิ่งแวดล้อม</td>\n",
              "      <td>t17neww ติดตามไม่ติดตามทีวี</td>\n",
              "      <td>u17neww ติดตามไม่ติดตามออนไลน์</td>\n",
              "      <td>r18neww RD ระบุอันดับ ข่าวร้องทุกข์ชาวบ้าน</td>\n",
              "      <td>s18neww ทีมงานช่วยแนะนำ ข่าวร้องทุกข์ชาวบ้าน</td>\n",
              "      <td>t18neww ติดตามไม่ติดตามทีวี</td>\n",
              "      <td>u18neww ติดตามไม่ติดตามออนไลน์</td>\n",
              "      <td>r19new  RD ระบุอันดับ ข่าวประชาชนรายงาน</td>\n",
              "      <td>s19new ทีมงานช่วยแนะนำ ข่าวประชาชนรายงาน</td>\n",
              "      <td>t19new ติดตามไม่ติดตามทีวี</td>\n",
              "      <td>u19new ติดตามไม่ติดตามออนไลน์</td>\n",
              "      <td>r20new RD ระบุอันดับ ข่าวอื่นๆระบุ</td>\n",
              "      <td>s20new ทีมงานช่วยแนะนำ ข่าวประชาชนรายงาน</td>\n",
              "      <td>t20new ติดตามไม่ติดตามทีวี</td>\n",
              "      <td>u20new ติดตามไม่ติดตามออนไลน์</td>\n",
              "      <td>อายุ 13 - 19 ปี</td>\n",
              "      <td>อายุ 20 - 37 ปี</td>\n",
              "      <td>อายุ 38 - 52 ปี</td>\n",
              "      <td>อายุ 53 - 72 ปี</td>\n",
              "      <td>NaN</td>\n",
              "    </tr>\n",
              "    <tr>\n",
              "      <th>code ตัวเลข</th>\n",
              "      <td>1=ชาย  2=หญิง</td>\n",
              "      <td>NaN</td>\n",
              "      <td>1=กำลังศึกษาอยู่  2=จบการศึกษาแล้ว</td>\n",
              "      <td>1=ประถมศึกษา  2=มัธยมศึกษาตอนต้น  3=มัธยมศึกษา...</td>\n",
              "      <td>NaN</td>\n",
              "      <td>1=ใช่ 2=ไม่ใช่</td>\n",
              "      <td>1= รับราชการ/พนักงานของรัฐหรือรัฐวิสาหกิจ สังก...</td>\n",
              "      <td>1=การไฟฟ้าภูมิภาค  2=สำนักงานเขต  3=TOT  4=กระ...</td>\n",
              "      <td>1=ผู้จัดการ  2=ธรุการ  3=รปภ  4=แม่บ้าน(ทำความ...</td>\n",
              "      <td>1=รับทำบัญชี  2=ขายอาหารตามสั่ง/ก๋วยเตี๋ยว  3=...</td>\n",
              "      <td>1=บริการร้านกาแฟ/ขายกาแฟ  2=รับจ้างทั่วไป  3=ช...</td>\n",
              "      <td>1=ทำนา 2=เลี้ยงสัตว์</td>\n",
              "      <td>NaN</td>\n",
              "      <td>1=ไม่เกิน 15,000 บาท 2=15,001 - 30,000 บาท  3=...</td>\n",
              "      <td>NaN</td>\n",
              "      <td>1=โสด (ไม่มีแฟน ไม่มีลูก)  2=มีแฟน/คนรัก  3=สา...</td>\n",
              "      <td>1=อยู่คนเดียว  2=อยู่กับครอบครัว  3=อยู่กับเพื...</td>\n",
              "      <td>1=กรุงเทพฯและปริมณฑล  2=ภาคเหนือ  3=ภาคตะวันออ...</td>\n",
              "      <td>1=ในเขตเทศบาล  2=นอกเขตเทศบาล</td>\n",
              "      <td>0=ไม่ใช่ 1=ใช่</td>\n",
              "      <td>0=ไม่ใช่ 1=ใช่</td>\n",
              "      <td>0=ไม่ใช่ 1=ใช่</td>\n",
              "      <td>0=ไม่ใช่ 1=ใช่</td>\n",
              "      <td>0=ไม่ใช่ 1=ใช่</td>\n",
              "      <td>0=ไม่ใช่ 1=ใช่</td>\n",
              "      <td>0=ไม่ใช่ 1=ใช่</td>\n",
              "      <td>0=ไม่ใช่ 1=ใช่</td>\n",
              "      <td>0=ไม่ใช่ 1=ใช่</td>\n",
              "      <td>0=ไม่ใช่ 1=ใช่</td>\n",
              "      <td>1=น้อยกว่า  10 นาที 2=10 - 30  นาที  3=30 นาที...</td>\n",
              "      <td>NaN</td>\n",
              "      <td>NaN</td>\n",
              "      <td>NaN</td>\n",
              "      <td>NaN</td>\n",
              "      <td>NaN</td>\n",
              "      <td>NaN</td>\n",
              "      <td>NaN</td>\n",
              "      <td>1=Facebook  2=Twitter  3=YouTube  4=Instagram ...</td>\n",
              "      <td>1=Facebook  2=Twitter  3=YouTube  4=Instagram ...</td>\n",
              "      <td>1=Facebook  2=Twitter  3=YouTube  4=Instagram ...</td>\n",
              "      <td>...</td>\n",
              "      <td>1=ติดตามอันดับที่1  2=ติดตามอันดับที่2  3=ติดต...</td>\n",
              "      <td>1=ติดตาม  2=ไม่ติดตาม</td>\n",
              "      <td>1=ติดตาม  2=ไม่ติดตาม</td>\n",
              "      <td>1=ติดตามอันดับที่1  2=ติดตามอันดับที่2  3=ติดต...</td>\n",
              "      <td>1=ติดตามอันดับที่1  2=ติดตามอันดับที่2  3=ติดต...</td>\n",
              "      <td>1=ติดตาม  2=ไม่ติดตาม</td>\n",
              "      <td>1=ติดตาม  2=ไม่ติดตาม</td>\n",
              "      <td>1=ติดตามอันดับที่1  2=ติดตามอันดับที่2  3=ติดต...</td>\n",
              "      <td>1=ติดตามอันดับที่1  2=ติดตามอันดับที่2  3=ติดต...</td>\n",
              "      <td>1=ติดตาม  2=ไม่ติดตาม</td>\n",
              "      <td>1=ติดตาม  2=ไม่ติดตาม</td>\n",
              "      <td>1=ติดตามอันดับที่1  2=ติดตามอันดับที่2  3=ติดต...</td>\n",
              "      <td>1=ติดตามอันดับที่1  2=ติดตามอันดับที่2  3=ติดต...</td>\n",
              "      <td>1=ติดตาม  2=ไม่ติดตาม</td>\n",
              "      <td>1=ติดตาม  2=ไม่ติดตาม</td>\n",
              "      <td>1=ติดตามอันดับที่1  2=ติดตามอันดับที่2  3=ติดต...</td>\n",
              "      <td>1=ติดตามอันดับที่1  2=ติดตามอันดับที่2  3=ติดต...</td>\n",
              "      <td>1=ติดตาม  2=ไม่ติดตาม</td>\n",
              "      <td>1=ติดตาม  2=ไม่ติดตาม</td>\n",
              "      <td>1=ติดตามอันดับที่1  2=ติดตามอันดับที่2  3=ติดต...</td>\n",
              "      <td>1=ติดตามอันดับที่1  2=ติดตามอันดับที่2  3=ติดต...</td>\n",
              "      <td>1=ติดตาม  2=ไม่ติดตาม</td>\n",
              "      <td>1=ติดตาม  2=ไม่ติดตาม</td>\n",
              "      <td>1=ติดตามอันดับที่1  2=ติดตามอันดับที่2  3=ติดต...</td>\n",
              "      <td>1=ติดตามอันดับที่1  2=ติดตามอันดับที่2  3=ติดต...</td>\n",
              "      <td>1=ติดตาม  2=ไม่ติดตาม</td>\n",
              "      <td>1=ติดตาม  2=ไม่ติดตาม</td>\n",
              "      <td>1=ติดตามอันดับที่1  2=ติดตามอันดับที่2  3=ติดต...</td>\n",
              "      <td>1=ติดตามอันดับที่1  2=ติดตามอันดับที่2  3=ติดต...</td>\n",
              "      <td>1=ติดตาม  2=ไม่ติดตาม</td>\n",
              "      <td>1=ติดตาม  2=ไม่ติดตาม</td>\n",
              "      <td>1=ติดตามอันดับที่1  2=ติดตามอันดับที่2  3=ติดต...</td>\n",
              "      <td>1=ติดตามอันดับที่1  2=ติดตามอันดับที่2  3=ติดต...</td>\n",
              "      <td>1=ติดตาม  2=ไม่ติดตาม</td>\n",
              "      <td>1=ติดตาม  2=ไม่ติดตาม</td>\n",
              "      <td>NaN</td>\n",
              "      <td>NaN</td>\n",
              "      <td>NaN</td>\n",
              "      <td>NaN</td>\n",
              "      <td>1 = Gen Z   2 = Gen Y  3 = Gen X   4 = Gen B</td>\n",
              "    </tr>\n",
              "  </tbody>\n",
              "</table>\n",
              "<p>3 rows × 193 columns</p>\n",
              "</div>"
            ],
            "text/plain": [
              "                       0    ...                                           192\n",
              "รหัส                    a1  ...                                     Gen_group\n",
              "ข้อคำถาม            a1 เพศ  ...                                           NaN\n",
              "code ตัวเลข  1=ชาย  2=หญิง  ...  1 = Gen Z   2 = Gen Y  3 = Gen X   4 = Gen B\n",
              "\n",
              "[3 rows x 193 columns]"
            ]
          },
          "metadata": {},
          "execution_count": 32
        }
      ]
    },
    {
      "cell_type": "code",
      "metadata": {
        "colab": {
          "base_uri": "https://localhost:8080/",
          "height": 81
        },
        "id": "x4kqWapHx2h6",
        "outputId": "706978ef-e7b6-4379-a898-73263412b77a"
      },
      "source": [
        "DF_dict[:97 :107]"
      ],
      "execution_count": 33,
      "outputs": [
        {
          "output_type": "execute_result",
          "data": {
            "text/html": [
              "<div>\n",
              "<style scoped>\n",
              "    .dataframe tbody tr th:only-of-type {\n",
              "        vertical-align: middle;\n",
              "    }\n",
              "\n",
              "    .dataframe tbody tr th {\n",
              "        vertical-align: top;\n",
              "    }\n",
              "\n",
              "    .dataframe thead th {\n",
              "        text-align: right;\n",
              "    }\n",
              "</style>\n",
              "<table border=\"1\" class=\"dataframe\">\n",
              "  <thead>\n",
              "    <tr style=\"text-align: right;\">\n",
              "      <th></th>\n",
              "      <th>รหัส</th>\n",
              "      <th>ข้อคำถาม</th>\n",
              "      <th>code ตัวเลข</th>\n",
              "    </tr>\n",
              "  </thead>\n",
              "  <tbody>\n",
              "    <tr>\n",
              "      <th>0</th>\n",
              "      <td>a1</td>\n",
              "      <td>a1 เพศ</td>\n",
              "      <td>1=ชาย  2=หญิง</td>\n",
              "    </tr>\n",
              "  </tbody>\n",
              "</table>\n",
              "</div>"
            ],
            "text/plain": [
              "  รหัส ข้อคำถาม    code ตัวเลข\n",
              "0   a1   a1 เพศ  1=ชาย  2=หญิง"
            ]
          },
          "metadata": {},
          "execution_count": 33
        }
      ]
    },
    {
      "cell_type": "code",
      "metadata": {
        "colab": {
          "base_uri": "https://localhost:8080/"
        },
        "id": "ojwZiLaIb3oV",
        "outputId": "b310f87d-0583-464c-ebd9-d0332018e2cc"
      },
      "source": [
        "DF2.shape"
      ],
      "execution_count": 34,
      "outputs": [
        {
          "output_type": "execute_result",
          "data": {
            "text/plain": [
              "(2059, 200)"
            ]
          },
          "metadata": {},
          "execution_count": 34
        }
      ]
    },
    {
      "cell_type": "code",
      "metadata": {
        "colab": {
          "base_uri": "https://localhost:8080/"
        },
        "id": "MacVdpn9b3fY",
        "outputId": "c550bb79-0de9-46e3-d6c1-68b0fd042b57"
      },
      "source": [
        "DF_dict.shape"
      ],
      "execution_count": 35,
      "outputs": [
        {
          "output_type": "execute_result",
          "data": {
            "text/plain": [
              "(193, 3)"
            ]
          },
          "metadata": {},
          "execution_count": 35
        }
      ]
    },
    {
      "cell_type": "code",
      "metadata": {
        "colab": {
          "base_uri": "https://localhost:8080/"
        },
        "id": "jAIs247KcYRs",
        "outputId": "dbf7e1f9-6d6b-4c13-e5be-3a50216ad076"
      },
      "source": [
        "DF_dictT= DF_dict.copy().T\n",
        "DF_dictT.shape"
      ],
      "execution_count": 36,
      "outputs": [
        {
          "output_type": "execute_result",
          "data": {
            "text/plain": [
              "(3, 193)"
            ]
          },
          "metadata": {},
          "execution_count": 36
        }
      ]
    },
    {
      "cell_type": "code",
      "metadata": {
        "colab": {
          "base_uri": "https://localhost:8080/",
          "height": 434
        },
        "id": "E0cY1ce7fRdW",
        "outputId": "122d92be-3fde-4bd3-c74a-96c37a2260ee"
      },
      "source": [
        "#DF_dictT.reset_index(inplace=True)\n",
        "#DF_dictT.drop(columns = \"index\")\n",
        "DF_dictT.head()"
      ],
      "execution_count": 37,
      "outputs": [
        {
          "output_type": "execute_result",
          "data": {
            "text/html": [
              "<div>\n",
              "<style scoped>\n",
              "    .dataframe tbody tr th:only-of-type {\n",
              "        vertical-align: middle;\n",
              "    }\n",
              "\n",
              "    .dataframe tbody tr th {\n",
              "        vertical-align: top;\n",
              "    }\n",
              "\n",
              "    .dataframe thead th {\n",
              "        text-align: right;\n",
              "    }\n",
              "</style>\n",
              "<table border=\"1\" class=\"dataframe\">\n",
              "  <thead>\n",
              "    <tr style=\"text-align: right;\">\n",
              "      <th></th>\n",
              "      <th>0</th>\n",
              "      <th>1</th>\n",
              "      <th>2</th>\n",
              "      <th>3</th>\n",
              "      <th>4</th>\n",
              "      <th>5</th>\n",
              "      <th>6</th>\n",
              "      <th>7</th>\n",
              "      <th>8</th>\n",
              "      <th>9</th>\n",
              "      <th>10</th>\n",
              "      <th>11</th>\n",
              "      <th>12</th>\n",
              "      <th>13</th>\n",
              "      <th>14</th>\n",
              "      <th>15</th>\n",
              "      <th>16</th>\n",
              "      <th>17</th>\n",
              "      <th>18</th>\n",
              "      <th>19</th>\n",
              "      <th>20</th>\n",
              "      <th>21</th>\n",
              "      <th>22</th>\n",
              "      <th>23</th>\n",
              "      <th>24</th>\n",
              "      <th>25</th>\n",
              "      <th>26</th>\n",
              "      <th>27</th>\n",
              "      <th>28</th>\n",
              "      <th>29</th>\n",
              "      <th>30</th>\n",
              "      <th>31</th>\n",
              "      <th>32</th>\n",
              "      <th>33</th>\n",
              "      <th>34</th>\n",
              "      <th>35</th>\n",
              "      <th>36</th>\n",
              "      <th>37</th>\n",
              "      <th>38</th>\n",
              "      <th>39</th>\n",
              "      <th>...</th>\n",
              "      <th>153</th>\n",
              "      <th>154</th>\n",
              "      <th>155</th>\n",
              "      <th>156</th>\n",
              "      <th>157</th>\n",
              "      <th>158</th>\n",
              "      <th>159</th>\n",
              "      <th>160</th>\n",
              "      <th>161</th>\n",
              "      <th>162</th>\n",
              "      <th>163</th>\n",
              "      <th>164</th>\n",
              "      <th>165</th>\n",
              "      <th>166</th>\n",
              "      <th>167</th>\n",
              "      <th>168</th>\n",
              "      <th>169</th>\n",
              "      <th>170</th>\n",
              "      <th>171</th>\n",
              "      <th>172</th>\n",
              "      <th>173</th>\n",
              "      <th>174</th>\n",
              "      <th>175</th>\n",
              "      <th>176</th>\n",
              "      <th>177</th>\n",
              "      <th>178</th>\n",
              "      <th>179</th>\n",
              "      <th>180</th>\n",
              "      <th>181</th>\n",
              "      <th>182</th>\n",
              "      <th>183</th>\n",
              "      <th>184</th>\n",
              "      <th>185</th>\n",
              "      <th>186</th>\n",
              "      <th>187</th>\n",
              "      <th>188</th>\n",
              "      <th>189</th>\n",
              "      <th>190</th>\n",
              "      <th>191</th>\n",
              "      <th>192</th>\n",
              "    </tr>\n",
              "  </thead>\n",
              "  <tbody>\n",
              "    <tr>\n",
              "      <th>รหัส</th>\n",
              "      <td>a1</td>\n",
              "      <td>a2</td>\n",
              "      <td>a301</td>\n",
              "      <td>a302</td>\n",
              "      <td>a3021</td>\n",
              "      <td>a4</td>\n",
              "      <td>a5</td>\n",
              "      <td>a51</td>\n",
              "      <td>a52</td>\n",
              "      <td>a53</td>\n",
              "      <td>a54</td>\n",
              "      <td>a57</td>\n",
              "      <td>a58</td>\n",
              "      <td>a6</td>\n",
              "      <td>a7</td>\n",
              "      <td>a81</td>\n",
              "      <td>a82</td>\n",
              "      <td>a91</td>\n",
              "      <td>a92</td>\n",
              "      <td>k1</td>\n",
              "      <td>k2</td>\n",
              "      <td>k3</td>\n",
              "      <td>k4</td>\n",
              "      <td>k5</td>\n",
              "      <td>k6</td>\n",
              "      <td>k7</td>\n",
              "      <td>k8</td>\n",
              "      <td>k9</td>\n",
              "      <td>k10</td>\n",
              "      <td>l1</td>\n",
              "      <td>p1</td>\n",
              "      <td>p2</td>\n",
              "      <td>p3</td>\n",
              "      <td>p4</td>\n",
              "      <td>p5</td>\n",
              "      <td>p501</td>\n",
              "      <td>p6</td>\n",
              "      <td>q1</td>\n",
              "      <td>q2</td>\n",
              "      <td>q3</td>\n",
              "      <td>...</td>\n",
              "      <td>s12new</td>\n",
              "      <td>t12new</td>\n",
              "      <td>u12new</td>\n",
              "      <td>r13new</td>\n",
              "      <td>s13new</td>\n",
              "      <td>t13new</td>\n",
              "      <td>u13new</td>\n",
              "      <td>r14new</td>\n",
              "      <td>s14new</td>\n",
              "      <td>t14new</td>\n",
              "      <td>u14new</td>\n",
              "      <td>r15new</td>\n",
              "      <td>s15new</td>\n",
              "      <td>t15new</td>\n",
              "      <td>u15new</td>\n",
              "      <td>r16new</td>\n",
              "      <td>s16new</td>\n",
              "      <td>t16new</td>\n",
              "      <td>u16new</td>\n",
              "      <td>r17new</td>\n",
              "      <td>s17new</td>\n",
              "      <td>t17new</td>\n",
              "      <td>u17new</td>\n",
              "      <td>r18new</td>\n",
              "      <td>s18new</td>\n",
              "      <td>t18new</td>\n",
              "      <td>u18new</td>\n",
              "      <td>r19new</td>\n",
              "      <td>s19new</td>\n",
              "      <td>t19new</td>\n",
              "      <td>u19new</td>\n",
              "      <td>r20new</td>\n",
              "      <td>s20new</td>\n",
              "      <td>t20new</td>\n",
              "      <td>u20new</td>\n",
              "      <td>G_genZ</td>\n",
              "      <td>G_genY</td>\n",
              "      <td>G_genX</td>\n",
              "      <td>G_genB</td>\n",
              "      <td>Gen_group</td>\n",
              "    </tr>\n",
              "    <tr>\n",
              "      <th>ข้อคำถาม</th>\n",
              "      <td>a1 เพศ</td>\n",
              "      <td>a2 ปีเกิด (พ.ศ.)</td>\n",
              "      <td>a301 สถานะทางการศึกษา</td>\n",
              "      <td>a302 ระดับการศึกษา</td>\n",
              "      <td>a3021 อื่น ๆ ระบบ ได้แก่</td>\n",
              "      <td>a4ท่านเป็นบุคคลที่จบปริญญาตรีและเพิ่งเริ่มทำงา...</td>\n",
              "      <td>a5 อาชีพ</td>\n",
              "      <td>a51 รับราชการ/พนักงานของรัฐหรือรัฐวิสาหกิจ สัง...</td>\n",
              "      <td>a52 พนักงานเอกชน/ลูกจ้างบริษัท ทำงานด้าน …</td>\n",
              "      <td>a53 เจ้าของธุรกิจ  เกี่ยวกับ.……</td>\n",
              "      <td>a54 อาชีพอิสระ/ฟรีแลนซ์/รับจ้าง ทำงานด้าน ..</td>\n",
              "      <td>a57 เกษตรกร เช่น ทำไร่ ประมง ฯลฯ (ระบุ) ……</td>\n",
              "      <td>a58 อื่นๆ (ระบุ)………</td>\n",
              "      <td>a6 รายได้ของท่านเฉลี่ยต่อเดือน</td>\n",
              "      <td>a7ในกรณีที่เป็นนักเรียน/นักศึกษา.. ประมาณเท่าไ...</td>\n",
              "      <td>a81 สถานภาพส่วนตัว</td>\n",
              "      <td>a82 ลักษณะการอยู่อาศัย</td>\n",
              "      <td>a91 ภูมิภาคที่ท่านอาศัยอยู่ในปัจจุบัน</td>\n",
              "      <td>a92 ภูมิภาคและเขตพื้นที่ ที่ท่านอาศัยอยู่ในปัจ...</td>\n",
              "      <td>k1ติดตามข่าวในช่วงเช้าตรู่</td>\n",
              "      <td>k2ติดตามข่าวในช่วงเช้า</td>\n",
              "      <td>k3ติดตามข่าวในช่วงสาย</td>\n",
              "      <td>k4ติดตามข่าวในช่วงกลางวัน</td>\n",
              "      <td>k5ติดตามข่าวในช่วงบ่าย</td>\n",
              "      <td>k6ติดตามข่าวในช่วงเย็น</td>\n",
              "      <td>k7ติดตามข่าวในช่วงค่ำ</td>\n",
              "      <td>k8ติดตามข่าวในช่วงดึก</td>\n",
              "      <td>k9ติดตามข่าวในช่วงดึกจนล่วงเข้าวันใหม่</td>\n",
              "      <td>k10ติดตามข่าวในทุกช่วงเวลา</td>\n",
              "      <td>l11ท่านติดตามข่าวทางเครื่องรับโทรทัศน์ โดยรวมเ...</td>\n",
              "      <td>p1ท่านใช้อินเทอร์เน็ตในลักษณะใช้แพคเกจอินเทอร์...</td>\n",
              "      <td>p2ท่านใช้อินเทอร์เน็ตในลักษณะใช้แพคเกจอินเทอร์...</td>\n",
              "      <td>p3ท่านใช้อินเทอร์เน็ตในลักษณะใช้ Wi-Fi ที่บ้าน</td>\n",
              "      <td>p4ท่านใช้อินเทอร์เน็ตในลักษณะใช้ Free Wi-Fi ใน...</td>\n",
              "      <td>p5ท่านใช้อินเทอร์เน็ตในลักษณะใช้แบบอื่นๆ</td>\n",
              "      <td>p501ใช้แบบอื่นๆ (ระบุ) ……ได้แก่</td>\n",
              "      <td>p6ท่านใช้อินเทอร์เน็ตในลักษณะไม่ได้ใช้งานอินเท...</td>\n",
              "      <td>q1</td>\n",
              "      <td>q2สื่อออนไลน์ที่ท่านใช้งานเพื่อติดตามข่าว มีสื...</td>\n",
              "      <td>q3สื่อออนไลน์ที่ท่านใช้งานเพื่อติดตามข่าว มีสื...</td>\n",
              "      <td>...</td>\n",
              "      <td>s12new ทีมงานช่วยแนะนำ ข่าวเทคโนโลยี</td>\n",
              "      <td>t12new ติดตามไม่ติดตามทีวี</td>\n",
              "      <td>u12new ติดตามไม่ติดตามออนไลน์</td>\n",
              "      <td>r13new RD ระบุอันดับ ข่าวการศึกษา</td>\n",
              "      <td>s13new ทีมงานช่วยแนะนำ ข่าวการศึกษา</td>\n",
              "      <td>t13new ติดตามไม่ติดตามทีวี</td>\n",
              "      <td>u13new ติดตามไม่ติดตามออนไลน์</td>\n",
              "      <td>r14new RD ระบุอันดับ ข่าวสาธารณสุขการแพทย์</td>\n",
              "      <td>s14new ทีมงานช่วยแนะนำ ข่าวสาธารณสุขการแพทย์</td>\n",
              "      <td>t14new ติดตามไม่ติดตามทีวี</td>\n",
              "      <td>u14new ติดตามไม่ติดตามออนไลน์</td>\n",
              "      <td>r15new RD ระบุอันดับ ข่าวพยากรณ์อากาศ</td>\n",
              "      <td>s15new ทีมงานช่วยแนะนำ ข่าวพยากรณ์อากาศ</td>\n",
              "      <td>t15new ติดตามไม่ติดตามทีวี</td>\n",
              "      <td>u15new ติดตามไม่ติดตามออนไลน์</td>\n",
              "      <td>r16new RD ระบุอันดับ ข่าวจราจร</td>\n",
              "      <td>s16new ทีมงานช่วยแนะนำ ข่าวจราจร</td>\n",
              "      <td>t16neww  ติดตามไม่ติดตามทีวี</td>\n",
              "      <td>u16neww ติดตามไม่ติดตามออนไลน์</td>\n",
              "      <td>r17neww RD ระบุอันดับ ข่าวสิ่งแวดล้อม</td>\n",
              "      <td>s17neww ทีมงานช่วยแนะนำ ข่าวสิ่งแวดล้อม</td>\n",
              "      <td>t17neww ติดตามไม่ติดตามทีวี</td>\n",
              "      <td>u17neww ติดตามไม่ติดตามออนไลน์</td>\n",
              "      <td>r18neww RD ระบุอันดับ ข่าวร้องทุกข์ชาวบ้าน</td>\n",
              "      <td>s18neww ทีมงานช่วยแนะนำ ข่าวร้องทุกข์ชาวบ้าน</td>\n",
              "      <td>t18neww ติดตามไม่ติดตามทีวี</td>\n",
              "      <td>u18neww ติดตามไม่ติดตามออนไลน์</td>\n",
              "      <td>r19new  RD ระบุอันดับ ข่าวประชาชนรายงาน</td>\n",
              "      <td>s19new ทีมงานช่วยแนะนำ ข่าวประชาชนรายงาน</td>\n",
              "      <td>t19new ติดตามไม่ติดตามทีวี</td>\n",
              "      <td>u19new ติดตามไม่ติดตามออนไลน์</td>\n",
              "      <td>r20new RD ระบุอันดับ ข่าวอื่นๆระบุ</td>\n",
              "      <td>s20new ทีมงานช่วยแนะนำ ข่าวประชาชนรายงาน</td>\n",
              "      <td>t20new ติดตามไม่ติดตามทีวี</td>\n",
              "      <td>u20new ติดตามไม่ติดตามออนไลน์</td>\n",
              "      <td>อายุ 13 - 19 ปี</td>\n",
              "      <td>อายุ 20 - 37 ปี</td>\n",
              "      <td>อายุ 38 - 52 ปี</td>\n",
              "      <td>อายุ 53 - 72 ปี</td>\n",
              "      <td>NaN</td>\n",
              "    </tr>\n",
              "    <tr>\n",
              "      <th>code ตัวเลข</th>\n",
              "      <td>1=ชาย  2=หญิง</td>\n",
              "      <td>NaN</td>\n",
              "      <td>1=กำลังศึกษาอยู่  2=จบการศึกษาแล้ว</td>\n",
              "      <td>1=ประถมศึกษา  2=มัธยมศึกษาตอนต้น  3=มัธยมศึกษา...</td>\n",
              "      <td>NaN</td>\n",
              "      <td>1=ใช่ 2=ไม่ใช่</td>\n",
              "      <td>1= รับราชการ/พนักงานของรัฐหรือรัฐวิสาหกิจ สังก...</td>\n",
              "      <td>1=การไฟฟ้าภูมิภาค  2=สำนักงานเขต  3=TOT  4=กระ...</td>\n",
              "      <td>1=ผู้จัดการ  2=ธรุการ  3=รปภ  4=แม่บ้าน(ทำความ...</td>\n",
              "      <td>1=รับทำบัญชี  2=ขายอาหารตามสั่ง/ก๋วยเตี๋ยว  3=...</td>\n",
              "      <td>1=บริการร้านกาแฟ/ขายกาแฟ  2=รับจ้างทั่วไป  3=ช...</td>\n",
              "      <td>1=ทำนา 2=เลี้ยงสัตว์</td>\n",
              "      <td>NaN</td>\n",
              "      <td>1=ไม่เกิน 15,000 บาท 2=15,001 - 30,000 บาท  3=...</td>\n",
              "      <td>NaN</td>\n",
              "      <td>1=โสด (ไม่มีแฟน ไม่มีลูก)  2=มีแฟน/คนรัก  3=สา...</td>\n",
              "      <td>1=อยู่คนเดียว  2=อยู่กับครอบครัว  3=อยู่กับเพื...</td>\n",
              "      <td>1=กรุงเทพฯและปริมณฑล  2=ภาคเหนือ  3=ภาคตะวันออ...</td>\n",
              "      <td>1=ในเขตเทศบาล  2=นอกเขตเทศบาล</td>\n",
              "      <td>0=ไม่ใช่ 1=ใช่</td>\n",
              "      <td>0=ไม่ใช่ 1=ใช่</td>\n",
              "      <td>0=ไม่ใช่ 1=ใช่</td>\n",
              "      <td>0=ไม่ใช่ 1=ใช่</td>\n",
              "      <td>0=ไม่ใช่ 1=ใช่</td>\n",
              "      <td>0=ไม่ใช่ 1=ใช่</td>\n",
              "      <td>0=ไม่ใช่ 1=ใช่</td>\n",
              "      <td>0=ไม่ใช่ 1=ใช่</td>\n",
              "      <td>0=ไม่ใช่ 1=ใช่</td>\n",
              "      <td>0=ไม่ใช่ 1=ใช่</td>\n",
              "      <td>1=น้อยกว่า  10 นาที 2=10 - 30  นาที  3=30 นาที...</td>\n",
              "      <td>NaN</td>\n",
              "      <td>NaN</td>\n",
              "      <td>NaN</td>\n",
              "      <td>NaN</td>\n",
              "      <td>NaN</td>\n",
              "      <td>NaN</td>\n",
              "      <td>NaN</td>\n",
              "      <td>1=Facebook  2=Twitter  3=YouTube  4=Instagram ...</td>\n",
              "      <td>1=Facebook  2=Twitter  3=YouTube  4=Instagram ...</td>\n",
              "      <td>1=Facebook  2=Twitter  3=YouTube  4=Instagram ...</td>\n",
              "      <td>...</td>\n",
              "      <td>1=ติดตามอันดับที่1  2=ติดตามอันดับที่2  3=ติดต...</td>\n",
              "      <td>1=ติดตาม  2=ไม่ติดตาม</td>\n",
              "      <td>1=ติดตาม  2=ไม่ติดตาม</td>\n",
              "      <td>1=ติดตามอันดับที่1  2=ติดตามอันดับที่2  3=ติดต...</td>\n",
              "      <td>1=ติดตามอันดับที่1  2=ติดตามอันดับที่2  3=ติดต...</td>\n",
              "      <td>1=ติดตาม  2=ไม่ติดตาม</td>\n",
              "      <td>1=ติดตาม  2=ไม่ติดตาม</td>\n",
              "      <td>1=ติดตามอันดับที่1  2=ติดตามอันดับที่2  3=ติดต...</td>\n",
              "      <td>1=ติดตามอันดับที่1  2=ติดตามอันดับที่2  3=ติดต...</td>\n",
              "      <td>1=ติดตาม  2=ไม่ติดตาม</td>\n",
              "      <td>1=ติดตาม  2=ไม่ติดตาม</td>\n",
              "      <td>1=ติดตามอันดับที่1  2=ติดตามอันดับที่2  3=ติดต...</td>\n",
              "      <td>1=ติดตามอันดับที่1  2=ติดตามอันดับที่2  3=ติดต...</td>\n",
              "      <td>1=ติดตาม  2=ไม่ติดตาม</td>\n",
              "      <td>1=ติดตาม  2=ไม่ติดตาม</td>\n",
              "      <td>1=ติดตามอันดับที่1  2=ติดตามอันดับที่2  3=ติดต...</td>\n",
              "      <td>1=ติดตามอันดับที่1  2=ติดตามอันดับที่2  3=ติดต...</td>\n",
              "      <td>1=ติดตาม  2=ไม่ติดตาม</td>\n",
              "      <td>1=ติดตาม  2=ไม่ติดตาม</td>\n",
              "      <td>1=ติดตามอันดับที่1  2=ติดตามอันดับที่2  3=ติดต...</td>\n",
              "      <td>1=ติดตามอันดับที่1  2=ติดตามอันดับที่2  3=ติดต...</td>\n",
              "      <td>1=ติดตาม  2=ไม่ติดตาม</td>\n",
              "      <td>1=ติดตาม  2=ไม่ติดตาม</td>\n",
              "      <td>1=ติดตามอันดับที่1  2=ติดตามอันดับที่2  3=ติดต...</td>\n",
              "      <td>1=ติดตามอันดับที่1  2=ติดตามอันดับที่2  3=ติดต...</td>\n",
              "      <td>1=ติดตาม  2=ไม่ติดตาม</td>\n",
              "      <td>1=ติดตาม  2=ไม่ติดตาม</td>\n",
              "      <td>1=ติดตามอันดับที่1  2=ติดตามอันดับที่2  3=ติดต...</td>\n",
              "      <td>1=ติดตามอันดับที่1  2=ติดตามอันดับที่2  3=ติดต...</td>\n",
              "      <td>1=ติดตาม  2=ไม่ติดตาม</td>\n",
              "      <td>1=ติดตาม  2=ไม่ติดตาม</td>\n",
              "      <td>1=ติดตามอันดับที่1  2=ติดตามอันดับที่2  3=ติดต...</td>\n",
              "      <td>1=ติดตามอันดับที่1  2=ติดตามอันดับที่2  3=ติดต...</td>\n",
              "      <td>1=ติดตาม  2=ไม่ติดตาม</td>\n",
              "      <td>1=ติดตาม  2=ไม่ติดตาม</td>\n",
              "      <td>NaN</td>\n",
              "      <td>NaN</td>\n",
              "      <td>NaN</td>\n",
              "      <td>NaN</td>\n",
              "      <td>1 = Gen Z   2 = Gen Y  3 = Gen X   4 = Gen B</td>\n",
              "    </tr>\n",
              "  </tbody>\n",
              "</table>\n",
              "<p>3 rows × 193 columns</p>\n",
              "</div>"
            ],
            "text/plain": [
              "                       0    ...                                           192\n",
              "รหัส                    a1  ...                                     Gen_group\n",
              "ข้อคำถาม            a1 เพศ  ...                                           NaN\n",
              "code ตัวเลข  1=ชาย  2=หญิง  ...  1 = Gen Z   2 = Gen Y  3 = Gen X   4 = Gen B\n",
              "\n",
              "[3 rows x 193 columns]"
            ]
          },
          "metadata": {},
          "execution_count": 37
        }
      ]
    },
    {
      "cell_type": "code",
      "metadata": {
        "colab": {
          "base_uri": "https://localhost:8080/",
          "height": 35
        },
        "id": "TwvC_0v_7RXC",
        "outputId": "3e3b8591-f056-4bac-cefa-e07ca3255416"
      },
      "source": [
        "DF_dictT.iloc[1,160]"
      ],
      "execution_count": 38,
      "outputs": [
        {
          "output_type": "execute_result",
          "data": {
            "application/vnd.google.colaboratory.intrinsic+json": {
              "type": "string"
            },
            "text/plain": [
              "'r14new RD ระบุอันดับ ข่าวสาธารณสุขการแพทย์'"
            ]
          },
          "metadata": {},
          "execution_count": 38
        }
      ]
    },
    {
      "cell_type": "code",
      "metadata": {
        "id": "I95uO9TZtHQ8"
      },
      "source": [
        "#List1 = list(DF2.columns)\n",
        "#List2 = list(DF_dictT.loc[\"รหัส\"])\n",
        "#list(set(List1) - set(List2))"
      ],
      "execution_count": 39,
      "outputs": []
    },
    {
      "cell_type": "code",
      "metadata": {
        "colab": {
          "base_uri": "https://localhost:8080/",
          "height": 255
        },
        "id": "HUV9SxslL2JQ",
        "outputId": "7a8ac05b-e0f7-4674-a721-9a3aa5551721"
      },
      "source": [
        "DF2.head()"
      ],
      "execution_count": 40,
      "outputs": [
        {
          "output_type": "execute_result",
          "data": {
            "text/html": [
              "<div>\n",
              "<style scoped>\n",
              "    .dataframe tbody tr th:only-of-type {\n",
              "        vertical-align: middle;\n",
              "    }\n",
              "\n",
              "    .dataframe tbody tr th {\n",
              "        vertical-align: top;\n",
              "    }\n",
              "\n",
              "    .dataframe thead th {\n",
              "        text-align: right;\n",
              "    }\n",
              "</style>\n",
              "<table border=\"1\" class=\"dataframe\">\n",
              "  <thead>\n",
              "    <tr style=\"text-align: right;\">\n",
              "      <th></th>\n",
              "      <th>id</th>\n",
              "      <th>a1</th>\n",
              "      <th>a2</th>\n",
              "      <th>a301</th>\n",
              "      <th>a302</th>\n",
              "      <th>a3021</th>\n",
              "      <th>a4</th>\n",
              "      <th>a5</th>\n",
              "      <th>a51</th>\n",
              "      <th>a52</th>\n",
              "      <th>a53</th>\n",
              "      <th>a54</th>\n",
              "      <th>a57</th>\n",
              "      <th>a58</th>\n",
              "      <th>a6</th>\n",
              "      <th>a7</th>\n",
              "      <th>a81</th>\n",
              "      <th>a82</th>\n",
              "      <th>a91</th>\n",
              "      <th>a92</th>\n",
              "      <th>j1</th>\n",
              "      <th>j2</th>\n",
              "      <th>j3</th>\n",
              "      <th>j4</th>\n",
              "      <th>j5</th>\n",
              "      <th>k1</th>\n",
              "      <th>k2</th>\n",
              "      <th>k3</th>\n",
              "      <th>k4</th>\n",
              "      <th>k5</th>\n",
              "      <th>k6</th>\n",
              "      <th>k7</th>\n",
              "      <th>k8</th>\n",
              "      <th>k9</th>\n",
              "      <th>k10</th>\n",
              "      <th>l1</th>\n",
              "      <th>p1</th>\n",
              "      <th>p2</th>\n",
              "      <th>p3</th>\n",
              "      <th>p4</th>\n",
              "      <th>...</th>\n",
              "      <th>s12new</th>\n",
              "      <th>t12new</th>\n",
              "      <th>u12new</th>\n",
              "      <th>r13new</th>\n",
              "      <th>s13new</th>\n",
              "      <th>t13new</th>\n",
              "      <th>u13new</th>\n",
              "      <th>r14new</th>\n",
              "      <th>s14new</th>\n",
              "      <th>t14new</th>\n",
              "      <th>u14new</th>\n",
              "      <th>r15new</th>\n",
              "      <th>s15new</th>\n",
              "      <th>t15new</th>\n",
              "      <th>u15new</th>\n",
              "      <th>r16new</th>\n",
              "      <th>s16new</th>\n",
              "      <th>t16new</th>\n",
              "      <th>u16new</th>\n",
              "      <th>r17new</th>\n",
              "      <th>s17new</th>\n",
              "      <th>t17new</th>\n",
              "      <th>u17new</th>\n",
              "      <th>r18new</th>\n",
              "      <th>s18new</th>\n",
              "      <th>t18new</th>\n",
              "      <th>u18new</th>\n",
              "      <th>r19new</th>\n",
              "      <th>s19new</th>\n",
              "      <th>t19new</th>\n",
              "      <th>u19new</th>\n",
              "      <th>r20new</th>\n",
              "      <th>s20new</th>\n",
              "      <th>t20new</th>\n",
              "      <th>u20new</th>\n",
              "      <th>G_genZ</th>\n",
              "      <th>G_genY</th>\n",
              "      <th>G_genX</th>\n",
              "      <th>G_genB</th>\n",
              "      <th>Gen_group</th>\n",
              "    </tr>\n",
              "  </thead>\n",
              "  <tbody>\n",
              "    <tr>\n",
              "      <th>0</th>\n",
              "      <td>1</td>\n",
              "      <td>1</td>\n",
              "      <td>2530</td>\n",
              "      <td>2</td>\n",
              "      <td>6.0</td>\n",
              "      <td>NaN</td>\n",
              "      <td>2</td>\n",
              "      <td>7</td>\n",
              "      <td>NaN</td>\n",
              "      <td>NaN</td>\n",
              "      <td>NaN</td>\n",
              "      <td>NaN</td>\n",
              "      <td>1.0</td>\n",
              "      <td>NaN</td>\n",
              "      <td>9.0</td>\n",
              "      <td>NaN</td>\n",
              "      <td>1</td>\n",
              "      <td>2</td>\n",
              "      <td>5</td>\n",
              "      <td>2.0</td>\n",
              "      <td>3</td>\n",
              "      <td>4</td>\n",
              "      <td>5</td>\n",
              "      <td>9</td>\n",
              "      <td>9</td>\n",
              "      <td>0</td>\n",
              "      <td>1</td>\n",
              "      <td>0</td>\n",
              "      <td>0</td>\n",
              "      <td>0</td>\n",
              "      <td>1</td>\n",
              "      <td>0</td>\n",
              "      <td>0</td>\n",
              "      <td>0</td>\n",
              "      <td>0</td>\n",
              "      <td>6</td>\n",
              "      <td>1</td>\n",
              "      <td>1</td>\n",
              "      <td>1</td>\n",
              "      <td>0</td>\n",
              "      <td>...</td>\n",
              "      <td>0</td>\n",
              "      <td>0</td>\n",
              "      <td>0</td>\n",
              "      <td>0</td>\n",
              "      <td>0</td>\n",
              "      <td>0</td>\n",
              "      <td>0</td>\n",
              "      <td>0</td>\n",
              "      <td>0</td>\n",
              "      <td>0</td>\n",
              "      <td>0</td>\n",
              "      <td>2</td>\n",
              "      <td>0</td>\n",
              "      <td>1</td>\n",
              "      <td>1</td>\n",
              "      <td>0</td>\n",
              "      <td>0</td>\n",
              "      <td>0</td>\n",
              "      <td>0</td>\n",
              "      <td>0</td>\n",
              "      <td>0</td>\n",
              "      <td>0</td>\n",
              "      <td>0</td>\n",
              "      <td>0</td>\n",
              "      <td>0</td>\n",
              "      <td>0</td>\n",
              "      <td>0</td>\n",
              "      <td>0</td>\n",
              "      <td>0</td>\n",
              "      <td>0</td>\n",
              "      <td>0</td>\n",
              "      <td>0</td>\n",
              "      <td>0</td>\n",
              "      <td>0</td>\n",
              "      <td>0</td>\n",
              "      <td>NaN</td>\n",
              "      <td>2.0</td>\n",
              "      <td>NaN</td>\n",
              "      <td>NaN</td>\n",
              "      <td>2.0</td>\n",
              "    </tr>\n",
              "    <tr>\n",
              "      <th>1</th>\n",
              "      <td>2</td>\n",
              "      <td>2</td>\n",
              "      <td>2529</td>\n",
              "      <td>2</td>\n",
              "      <td>6.0</td>\n",
              "      <td>NaN</td>\n",
              "      <td>2</td>\n",
              "      <td>4</td>\n",
              "      <td>NaN</td>\n",
              "      <td>NaN</td>\n",
              "      <td>6.0</td>\n",
              "      <td>NaN</td>\n",
              "      <td>NaN</td>\n",
              "      <td>NaN</td>\n",
              "      <td>2.0</td>\n",
              "      <td>NaN</td>\n",
              "      <td>3</td>\n",
              "      <td>2</td>\n",
              "      <td>5</td>\n",
              "      <td>2.0</td>\n",
              "      <td>3</td>\n",
              "      <td>4</td>\n",
              "      <td>5</td>\n",
              "      <td>9</td>\n",
              "      <td>9</td>\n",
              "      <td>0</td>\n",
              "      <td>1</td>\n",
              "      <td>0</td>\n",
              "      <td>0</td>\n",
              "      <td>0</td>\n",
              "      <td>1</td>\n",
              "      <td>1</td>\n",
              "      <td>0</td>\n",
              "      <td>0</td>\n",
              "      <td>0</td>\n",
              "      <td>6</td>\n",
              "      <td>1</td>\n",
              "      <td>1</td>\n",
              "      <td>1</td>\n",
              "      <td>0</td>\n",
              "      <td>...</td>\n",
              "      <td>0</td>\n",
              "      <td>0</td>\n",
              "      <td>0</td>\n",
              "      <td>0</td>\n",
              "      <td>0</td>\n",
              "      <td>0</td>\n",
              "      <td>0</td>\n",
              "      <td>0</td>\n",
              "      <td>0</td>\n",
              "      <td>0</td>\n",
              "      <td>0</td>\n",
              "      <td>0</td>\n",
              "      <td>0</td>\n",
              "      <td>0</td>\n",
              "      <td>0</td>\n",
              "      <td>0</td>\n",
              "      <td>0</td>\n",
              "      <td>0</td>\n",
              "      <td>0</td>\n",
              "      <td>0</td>\n",
              "      <td>0</td>\n",
              "      <td>0</td>\n",
              "      <td>0</td>\n",
              "      <td>0</td>\n",
              "      <td>0</td>\n",
              "      <td>0</td>\n",
              "      <td>0</td>\n",
              "      <td>0</td>\n",
              "      <td>0</td>\n",
              "      <td>0</td>\n",
              "      <td>0</td>\n",
              "      <td>0</td>\n",
              "      <td>0</td>\n",
              "      <td>0</td>\n",
              "      <td>0</td>\n",
              "      <td>NaN</td>\n",
              "      <td>2.0</td>\n",
              "      <td>NaN</td>\n",
              "      <td>NaN</td>\n",
              "      <td>2.0</td>\n",
              "    </tr>\n",
              "    <tr>\n",
              "      <th>2</th>\n",
              "      <td>3</td>\n",
              "      <td>2</td>\n",
              "      <td>2531</td>\n",
              "      <td>2</td>\n",
              "      <td>6.0</td>\n",
              "      <td>NaN</td>\n",
              "      <td>2</td>\n",
              "      <td>4</td>\n",
              "      <td>NaN</td>\n",
              "      <td>NaN</td>\n",
              "      <td>NaN</td>\n",
              "      <td>2.0</td>\n",
              "      <td>NaN</td>\n",
              "      <td>NaN</td>\n",
              "      <td>2.0</td>\n",
              "      <td>NaN</td>\n",
              "      <td>1</td>\n",
              "      <td>2</td>\n",
              "      <td>5</td>\n",
              "      <td>2.0</td>\n",
              "      <td>3</td>\n",
              "      <td>4</td>\n",
              "      <td>5</td>\n",
              "      <td>9</td>\n",
              "      <td>9</td>\n",
              "      <td>0</td>\n",
              "      <td>1</td>\n",
              "      <td>0</td>\n",
              "      <td>0</td>\n",
              "      <td>0</td>\n",
              "      <td>1</td>\n",
              "      <td>1</td>\n",
              "      <td>0</td>\n",
              "      <td>0</td>\n",
              "      <td>0</td>\n",
              "      <td>6</td>\n",
              "      <td>1</td>\n",
              "      <td>1</td>\n",
              "      <td>1</td>\n",
              "      <td>0</td>\n",
              "      <td>...</td>\n",
              "      <td>0</td>\n",
              "      <td>0</td>\n",
              "      <td>0</td>\n",
              "      <td>0</td>\n",
              "      <td>0</td>\n",
              "      <td>0</td>\n",
              "      <td>0</td>\n",
              "      <td>0</td>\n",
              "      <td>0</td>\n",
              "      <td>0</td>\n",
              "      <td>0</td>\n",
              "      <td>0</td>\n",
              "      <td>0</td>\n",
              "      <td>0</td>\n",
              "      <td>0</td>\n",
              "      <td>0</td>\n",
              "      <td>0</td>\n",
              "      <td>0</td>\n",
              "      <td>0</td>\n",
              "      <td>0</td>\n",
              "      <td>0</td>\n",
              "      <td>0</td>\n",
              "      <td>0</td>\n",
              "      <td>0</td>\n",
              "      <td>0</td>\n",
              "      <td>0</td>\n",
              "      <td>0</td>\n",
              "      <td>0</td>\n",
              "      <td>0</td>\n",
              "      <td>0</td>\n",
              "      <td>0</td>\n",
              "      <td>0</td>\n",
              "      <td>0</td>\n",
              "      <td>0</td>\n",
              "      <td>0</td>\n",
              "      <td>NaN</td>\n",
              "      <td>2.0</td>\n",
              "      <td>NaN</td>\n",
              "      <td>NaN</td>\n",
              "      <td>2.0</td>\n",
              "    </tr>\n",
              "    <tr>\n",
              "      <th>3</th>\n",
              "      <td>4</td>\n",
              "      <td>2</td>\n",
              "      <td>2516</td>\n",
              "      <td>2</td>\n",
              "      <td>5.0</td>\n",
              "      <td>NaN</td>\n",
              "      <td>2</td>\n",
              "      <td>2</td>\n",
              "      <td>NaN</td>\n",
              "      <td>6.0</td>\n",
              "      <td>NaN</td>\n",
              "      <td>NaN</td>\n",
              "      <td>NaN</td>\n",
              "      <td>NaN</td>\n",
              "      <td>2.0</td>\n",
              "      <td>NaN</td>\n",
              "      <td>1</td>\n",
              "      <td>2</td>\n",
              "      <td>5</td>\n",
              "      <td>2.0</td>\n",
              "      <td>1</td>\n",
              "      <td>3</td>\n",
              "      <td>4</td>\n",
              "      <td>5</td>\n",
              "      <td>9</td>\n",
              "      <td>0</td>\n",
              "      <td>1</td>\n",
              "      <td>0</td>\n",
              "      <td>0</td>\n",
              "      <td>1</td>\n",
              "      <td>1</td>\n",
              "      <td>0</td>\n",
              "      <td>0</td>\n",
              "      <td>0</td>\n",
              "      <td>0</td>\n",
              "      <td>5</td>\n",
              "      <td>1</td>\n",
              "      <td>1</td>\n",
              "      <td>1</td>\n",
              "      <td>0</td>\n",
              "      <td>...</td>\n",
              "      <td>0</td>\n",
              "      <td>0</td>\n",
              "      <td>0</td>\n",
              "      <td>0</td>\n",
              "      <td>0</td>\n",
              "      <td>0</td>\n",
              "      <td>0</td>\n",
              "      <td>0</td>\n",
              "      <td>0</td>\n",
              "      <td>0</td>\n",
              "      <td>0</td>\n",
              "      <td>5</td>\n",
              "      <td>0</td>\n",
              "      <td>1</td>\n",
              "      <td>1</td>\n",
              "      <td>0</td>\n",
              "      <td>0</td>\n",
              "      <td>0</td>\n",
              "      <td>0</td>\n",
              "      <td>0</td>\n",
              "      <td>0</td>\n",
              "      <td>0</td>\n",
              "      <td>0</td>\n",
              "      <td>0</td>\n",
              "      <td>0</td>\n",
              "      <td>0</td>\n",
              "      <td>0</td>\n",
              "      <td>0</td>\n",
              "      <td>0</td>\n",
              "      <td>0</td>\n",
              "      <td>0</td>\n",
              "      <td>0</td>\n",
              "      <td>0</td>\n",
              "      <td>0</td>\n",
              "      <td>0</td>\n",
              "      <td>NaN</td>\n",
              "      <td>NaN</td>\n",
              "      <td>3.0</td>\n",
              "      <td>NaN</td>\n",
              "      <td>3.0</td>\n",
              "    </tr>\n",
              "    <tr>\n",
              "      <th>4</th>\n",
              "      <td>5</td>\n",
              "      <td>2</td>\n",
              "      <td>2508</td>\n",
              "      <td>2</td>\n",
              "      <td>1.0</td>\n",
              "      <td>NaN</td>\n",
              "      <td>2</td>\n",
              "      <td>6</td>\n",
              "      <td>NaN</td>\n",
              "      <td>NaN</td>\n",
              "      <td>NaN</td>\n",
              "      <td>NaN</td>\n",
              "      <td>1.0</td>\n",
              "      <td>NaN</td>\n",
              "      <td>1.0</td>\n",
              "      <td>NaN</td>\n",
              "      <td>4</td>\n",
              "      <td>2</td>\n",
              "      <td>5</td>\n",
              "      <td>2.0</td>\n",
              "      <td>1</td>\n",
              "      <td>3</td>\n",
              "      <td>5</td>\n",
              "      <td>9</td>\n",
              "      <td>9</td>\n",
              "      <td>0</td>\n",
              "      <td>1</td>\n",
              "      <td>0</td>\n",
              "      <td>1</td>\n",
              "      <td>0</td>\n",
              "      <td>1</td>\n",
              "      <td>1</td>\n",
              "      <td>0</td>\n",
              "      <td>0</td>\n",
              "      <td>0</td>\n",
              "      <td>6</td>\n",
              "      <td>1</td>\n",
              "      <td>1</td>\n",
              "      <td>1</td>\n",
              "      <td>0</td>\n",
              "      <td>...</td>\n",
              "      <td>0</td>\n",
              "      <td>0</td>\n",
              "      <td>0</td>\n",
              "      <td>0</td>\n",
              "      <td>0</td>\n",
              "      <td>0</td>\n",
              "      <td>0</td>\n",
              "      <td>0</td>\n",
              "      <td>0</td>\n",
              "      <td>0</td>\n",
              "      <td>0</td>\n",
              "      <td>5</td>\n",
              "      <td>0</td>\n",
              "      <td>1</td>\n",
              "      <td>1</td>\n",
              "      <td>0</td>\n",
              "      <td>0</td>\n",
              "      <td>0</td>\n",
              "      <td>0</td>\n",
              "      <td>0</td>\n",
              "      <td>0</td>\n",
              "      <td>0</td>\n",
              "      <td>0</td>\n",
              "      <td>0</td>\n",
              "      <td>0</td>\n",
              "      <td>0</td>\n",
              "      <td>0</td>\n",
              "      <td>0</td>\n",
              "      <td>0</td>\n",
              "      <td>0</td>\n",
              "      <td>0</td>\n",
              "      <td>0</td>\n",
              "      <td>0</td>\n",
              "      <td>0</td>\n",
              "      <td>0</td>\n",
              "      <td>NaN</td>\n",
              "      <td>NaN</td>\n",
              "      <td>NaN</td>\n",
              "      <td>4.0</td>\n",
              "      <td>4.0</td>\n",
              "    </tr>\n",
              "  </tbody>\n",
              "</table>\n",
              "<p>5 rows × 200 columns</p>\n",
              "</div>"
            ],
            "text/plain": [
              "   id  a1    a2  a301  a302  ...  G_genZ  G_genY  G_genX  G_genB  Gen_group\n",
              "0   1   1  2530     2   6.0  ...     NaN     2.0     NaN     NaN        2.0\n",
              "1   2   2  2529     2   6.0  ...     NaN     2.0     NaN     NaN        2.0\n",
              "2   3   2  2531     2   6.0  ...     NaN     2.0     NaN     NaN        2.0\n",
              "3   4   2  2516     2   5.0  ...     NaN     NaN     3.0     NaN        3.0\n",
              "4   5   2  2508     2   1.0  ...     NaN     NaN     NaN     4.0        4.0\n",
              "\n",
              "[5 rows x 200 columns]"
            ]
          },
          "metadata": {},
          "execution_count": 40
        }
      ]
    },
    {
      "cell_type": "code",
      "metadata": {
        "id": "SbydjChFtHJe"
      },
      "source": [
        "indexs = DF_dictT.loc[\"ข้อคำถาม\"]"
      ],
      "execution_count": 41,
      "outputs": []
    },
    {
      "cell_type": "code",
      "metadata": {
        "id": "1cEcPjJCtHGB"
      },
      "source": [
        "#DF_main = DF2.T.set_index(indexs)\n",
        "#DF_main = DF_main.T"
      ],
      "execution_count": 42,
      "outputs": []
    },
    {
      "cell_type": "code",
      "metadata": {
        "id": "4hD4VYQPzZH_"
      },
      "source": [
        "#DF_main.head()"
      ],
      "execution_count": 43,
      "outputs": []
    },
    {
      "cell_type": "code",
      "metadata": {
        "id": "93Xl7WT8ADkt"
      },
      "source": [
        ""
      ],
      "execution_count": 43,
      "outputs": []
    },
    {
      "cell_type": "markdown",
      "metadata": {
        "id": "MoUQuvFJlLKn"
      },
      "source": [
        "# Gen x Income"
      ]
    },
    {
      "cell_type": "code",
      "metadata": {
        "id": "9-wSMneJeWlQ",
        "colab": {
          "base_uri": "https://localhost:8080/"
        },
        "outputId": "31f5f4c0-e127-4db0-cb4b-4954961ad513"
      },
      "source": [
        "DF2['a6'].mode() #fill na with mode"
      ],
      "execution_count": 44,
      "outputs": [
        {
          "output_type": "execute_result",
          "data": {
            "text/plain": [
              "0    2.0\n",
              "dtype: float64"
            ]
          },
          "metadata": {},
          "execution_count": 44
        }
      ]
    },
    {
      "cell_type": "code",
      "metadata": {
        "id": "rnRWRVCEkrfb"
      },
      "source": [
        "DF2['a6'].mode() #fill na with mode\n",
        "DF2['a6'] = DF2['a6'].replace([9.0],2.0)"
      ],
      "execution_count": 45,
      "outputs": []
    },
    {
      "cell_type": "code",
      "metadata": {
        "id": "b3ncKle2gNiC"
      },
      "source": [
        "Gen1 = DF2[DF2[\"Gen_group\"]==1.0]\n",
        "Gen2 = DF2[DF2[\"Gen_group\"]==2.0]\n",
        "Gen3 = DF2[DF2[\"Gen_group\"]==3.0]\n",
        "Gen4 = DF2[DF2[\"Gen_group\"]==4.0]"
      ],
      "execution_count": 46,
      "outputs": []
    },
    {
      "cell_type": "code",
      "metadata": {
        "id": "Q04MEDdjSAGd"
      },
      "source": [
        "from matplotlib.pyplot import figure\n",
        "import matplotlib.pyplot as plt\n"
      ],
      "execution_count": 47,
      "outputs": []
    },
    {
      "cell_type": "code",
      "metadata": {
        "id": "PHVe5-QWhEVU",
        "colab": {
          "base_uri": "https://localhost:8080/",
          "height": 292
        },
        "outputId": "a39dff08-fe04-40c8-ce5e-6ea8484e8092"
      },
      "source": [
        "plt.figure(figsize=(3, 3))\n",
        "\n",
        "Gen1['a6'].value_counts().plot.bar()\n",
        "plt.title(\"GenZ - Income\")\n",
        "plt.xticks([0, 1, ], ['<15k','15k-30k'], rotation=20)  "
      ],
      "execution_count": 48,
      "outputs": [
        {
          "output_type": "execute_result",
          "data": {
            "text/plain": [
              "([<matplotlib.axis.XTick at 0x7fb6f9d045d0>,\n",
              "  <matplotlib.axis.XTick at 0x7fb6f9d04590>],\n",
              " [Text(0, 0, '<15k'), Text(0, 0, '15k-30k')])"
            ]
          },
          "metadata": {},
          "execution_count": 48
        },
        {
          "output_type": "display_data",
          "data": {
            "image/png": "[encoded data removed]",
            "text/plain": [
              "<Figure size 216x216 with 1 Axes>"
            ]
          },
          "metadata": {
            "needs_background": "light"
          }
        }
      ]
    },
    {
      "cell_type": "code",
      "metadata": {
        "id": "RpNSptWyhNWa",
        "colab": {
          "base_uri": "https://localhost:8080/",
          "height": 378
        },
        "outputId": "f8bdce81-73ab-48fb-d79c-864a1746d762"
      },
      "source": [
        "plt.figure(figsize=(3, 3))\n",
        "\n",
        "Gen2['a6'].value_counts().plot.bar()\n",
        "plt.title(\"GenY - Income\")\n",
        "plt.xticks([0, 1, 2, 3 ], ['<15k','15k-30k', '30k-50k','50k-80k' ], rotation=20)  "
      ],
      "execution_count": 49,
      "outputs": [
        {
          "output_type": "execute_result",
          "data": {
            "text/plain": [
              "([<matplotlib.axis.XTick at 0x7fb6f9da01d0>,\n",
              "  <matplotlib.axis.XTick at 0x7fb6f9da0190>,\n",
              "  <matplotlib.axis.XTick at 0x7fb6f9e0ab50>,\n",
              "  <matplotlib.axis.XTick at 0x7fb6f9d9be50>],\n",
              " [Text(0, 0, '<15k'),\n",
              "  Text(0, 0, '15k-30k'),\n",
              "  Text(0, 0, '30k-50k'),\n",
              "  Text(0, 0, '50k-80k')])"
            ]
          },
          "metadata": {},
          "execution_count": 49
        },
        {
          "output_type": "display_data",
          "data": {
            "image/png": "[encoded data removed]",
            "text/plain": [
              "<Figure size 216x216 with 1 Axes>"
            ]
          },
          "metadata": {
            "needs_background": "light"
          }
        }
      ]
    },
    {
      "cell_type": "code",
      "metadata": {
        "id": "S8907SH2hRP4",
        "colab": {
          "base_uri": "https://localhost:8080/",
          "height": 378
        },
        "outputId": "98c839fe-416d-4e0b-f9b9-d6dc551cb6ab"
      },
      "source": [
        "plt.figure(figsize=(3, 3))\n",
        "\n",
        "Gen3['a6'].value_counts().plot.bar()\n",
        "plt.title(\"GenX - Income\")\n",
        "plt.xticks([0, 1, 2, 3 ], ['<15k','15k-30k', '30k-50k','50k-80k' ], rotation=20)  "
      ],
      "execution_count": 50,
      "outputs": [
        {
          "output_type": "execute_result",
          "data": {
            "text/plain": [
              "([<matplotlib.axis.XTick at 0x7fb6f9d45e90>,\n",
              "  <matplotlib.axis.XTick at 0x7fb6f9d45e50>,\n",
              "  <matplotlib.axis.XTick at 0x7fb6f9d54d50>,\n",
              "  <matplotlib.axis.XTick at 0x7fb6f9ccba50>],\n",
              " [Text(0, 0, '<15k'),\n",
              "  Text(0, 0, '15k-30k'),\n",
              "  Text(0, 0, '30k-50k'),\n",
              "  Text(0, 0, '50k-80k')])"
            ]
          },
          "metadata": {},
          "execution_count": 50
        },
        {
          "output_type": "display_data",
          "data": {
            "image/png": "[encoded data removed]",
            "text/plain": [
              "<Figure size 216x216 with 1 Axes>"
            ]
          },
          "metadata": {
            "needs_background": "light"
          }
        }
      ]
    },
    {
      "cell_type": "code",
      "metadata": {
        "id": "EtzbLnoRhekS",
        "colab": {
          "base_uri": "https://localhost:8080/",
          "height": 378
        },
        "outputId": "832aa99c-80e4-495c-c1a0-15aa1563a1f9"
      },
      "source": [
        "plt.figure(figsize=(3, 3))\n",
        "\n",
        "Gen3['a6'].value_counts().plot.bar()\n",
        "plt.title(\"GenB - Income\")\n",
        "plt.xticks([0, 1, 2, 3 ], ['<15k','15k-30k', '30k-50k','50k-80k' ], rotation=20)  "
      ],
      "execution_count": 51,
      "outputs": [
        {
          "output_type": "execute_result",
          "data": {
            "text/plain": [
              "([<matplotlib.axis.XTick at 0x7fb6f9c8c450>,\n",
              "  <matplotlib.axis.XTick at 0x7fb6f9c8c410>,\n",
              "  <matplotlib.axis.XTick at 0x7fb6f9ccba10>,\n",
              "  <matplotlib.axis.XTick at 0x7fb6f9c51450>],\n",
              " [Text(0, 0, '<15k'),\n",
              "  Text(0, 0, '15k-30k'),\n",
              "  Text(0, 0, '30k-50k'),\n",
              "  Text(0, 0, '50k-80k')])"
            ]
          },
          "metadata": {},
          "execution_count": 51
        },
        {
          "output_type": "display_data",
          "data": {
            "image/png": "[encoded data removed]",
            "text/plain": [
              "<Figure size 216x216 with 1 Axes>"
            ]
          },
          "metadata": {
            "needs_background": "light"
          }
        }
      ]
    },
    {
      "cell_type": "code",
      "metadata": {
        "id": "Y90q7qhiisbV",
        "colab": {
          "base_uri": "https://localhost:8080/",
          "height": 233
        },
        "outputId": "498b82b5-6a74-4c31-bb79-8c28edcd558b"
      },
      "source": [
        "plt.figure(figsize=(3, 3))\n",
        "\n",
        "G1 = Gen1['a6'].mean()\n",
        "G2 = Gen2['a6'].mean()\n",
        "G3 = Gen3['a6'].mean()\n",
        "G4 = Gen4['a6'].mean()\n",
        "\n",
        "plt.bar( [\"GenZ\", \"GenY\",\"GenX\",\"GenB\"], [G1, G2, G3, G4])\n",
        "plt.yticks([0, 0.5, 1, 1.5, 2 ], [\"0\", '<15k','15k-30k', '30k-50k','50k-80k' ])\n",
        "plt.suptitle('mean incom / Gen')\n",
        "plt.show()"
      ],
      "execution_count": 52,
      "outputs": [
        {
          "output_type": "display_data",
          "data": {
            "image/png": "[encoded data removed]",
            "text/plain": [
              "<Figure size 216x216 with 1 Axes>"
            ]
          },
          "metadata": {
            "needs_background": "light"
          }
        }
      ]
    },
    {
      "cell_type": "code",
      "metadata": {
        "id": "yReyhEfaQhRA",
        "colab": {
          "base_uri": "https://localhost:8080/",
          "height": 308
        },
        "outputId": "37fad454-d890-45a3-a721-6459374b1953"
      },
      "source": [
        "plt.figure(figsize=(3, 3))\n",
        "\n",
        "Salary=[]\n",
        "GenG=[]\n",
        "for i in DF2['a6']:\n",
        "  if i==1:\n",
        "    Salary.append('<15k')\n",
        "  elif i==2:\n",
        "    Salary.append('15k-30k')\n",
        "  elif i==3:\n",
        "    Salary.append('30k-50k')\n",
        "  elif i==4:\n",
        "    Salary.append('50k-80k')\n",
        "  elif i==5:\n",
        "    Salary.append('80k+')\n",
        "  else:\n",
        "    Salary.append('NA')\n",
        "\n",
        "for k in DF2['Gen_group']:\n",
        "  if k==1:\n",
        "    GenG.append('GenZ')\n",
        "  elif k==2:\n",
        "    GenG.append('GenY')\n",
        "  elif k==3:\n",
        "    GenG.append('GenX')\n",
        "  else:\n",
        "    GenG.append('GenB')\n",
        "\n",
        "GenSalary=pd.DataFrame({'Salary':Salary,'Gen_Group':GenG})\n",
        "Gen_Salary = pd.DataFrame({\n",
        "                        '<15k': GenSalary[GenSalary['Salary']=='<15k']['Gen_Group'].value_counts(),\n",
        "                        '15k-30k': GenSalary[GenSalary['Salary']=='15k-30k']['Gen_Group'].value_counts(),\n",
        "                        '30k-50k': GenSalary[GenSalary['Salary']=='30k-50k']['Gen_Group'].value_counts(),\n",
        "                        '50k-80k': GenSalary[GenSalary['Salary']=='50k-80k']['Gen_Group'].value_counts(),\n",
        "                        '80k+': GenSalary[GenSalary['Salary']=='80k+']['Gen_Group'].value_counts(),\n",
        "\n",
        "})\n",
        "\n",
        "gen_order=['GenZ','GenY','GenX','GenB']\n",
        "Gen_Salary.loc[gen_order].plot(kind=\"bar\")\n",
        "plt.xticks(rotation=20) "
      ],
      "execution_count": 53,
      "outputs": [
        {
          "output_type": "execute_result",
          "data": {
            "text/plain": [
              "(array([0, 1, 2, 3]), <a list of 4 Text major ticklabel objects>)"
            ]
          },
          "metadata": {},
          "execution_count": 53
        },
        {
          "output_type": "display_data",
          "data": {
            "text/plain": [
              "<Figure size 216x216 with 0 Axes>"
            ]
          },
          "metadata": {}
        },
        {
          "output_type": "display_data",
          "data": {
            "image/png": "[encoded data removed]",
            "text/plain": [
              "<Figure size 432x288 with 1 Axes>"
            ]
          },
          "metadata": {
            "needs_background": "light"
          }
        }
      ]
    },
    {
      "cell_type": "markdown",
      "metadata": {
        "id": "led_ZizplTnN"
      },
      "source": [
        "# Edu x Income"
      ]
    },
    {
      "cell_type": "code",
      "metadata": {
        "id": "ZdcdJQApkt9U",
        "colab": {
          "base_uri": "https://localhost:8080/"
        },
        "outputId": "5e983769-1d4f-4a5b-fe4c-373d94eae32e"
      },
      "source": [
        "DF2['a302'].value_counts()"
      ],
      "execution_count": 54,
      "outputs": [
        {
          "output_type": "execute_result",
          "data": {
            "text/plain": [
              "6.0    600\n",
              "3.0    418\n",
              "2.0    330\n",
              "5.0    271\n",
              "1.0    257\n",
              "4.0    176\n",
              "8.0      2\n",
              "Name: a302, dtype: int64"
            ]
          },
          "metadata": {},
          "execution_count": 54
        }
      ]
    },
    {
      "cell_type": "code",
      "metadata": {
        "id": "8xrFEOyy_h4K",
        "colab": {
          "base_uri": "https://localhost:8080/"
        },
        "outputId": "b13b1154-444f-4c54-93e9-52f91e51f82e"
      },
      "source": [
        "DF2['a302'].value_counts()"
      ],
      "execution_count": 55,
      "outputs": [
        {
          "output_type": "execute_result",
          "data": {
            "text/plain": [
              "6.0    600\n",
              "3.0    418\n",
              "2.0    330\n",
              "5.0    271\n",
              "1.0    257\n",
              "4.0    176\n",
              "8.0      2\n",
              "Name: a302, dtype: int64"
            ]
          },
          "metadata": {},
          "execution_count": 55
        }
      ]
    },
    {
      "cell_type": "code",
      "metadata": {
        "id": "miE_cREzl1gc",
        "colab": {
          "base_uri": "https://localhost:8080/",
          "height": 473
        },
        "outputId": "bc0309b1-c461-416c-b930-3bcf522d4939"
      },
      "source": [
        "\n",
        "plt.figure(figsize=(6, 6))\n",
        "plt.title(\"Number of Educated\")\n",
        "DF2['a302'].value_counts().plot.bar()\n",
        "\n",
        "\n",
        "plt.xticks([0, 1, 2, 3, 4, 5, 6], ['Bach', 'High school', \"Lower Secondary School\",\n",
        "                             \"High Vocational Certificate\", \"Primary School\",\n",
        "                             \"Vocational Certificate\", \"not graduated\" ], rotation=30)  \n",
        "\n",
        "\n",
        "\n",
        "plt.show()\n",
        "\n",
        "\"\"\"\n",
        "1=ประถมศึกษา  2=มัธยมศึกษาตอนต้น  3=มัธยมศึกษาตอนปลาย  4=ปวช.  \n",
        "5=ปวส./ปวท./อนุปริญญา  6=ปริญญาตรี  7=สูงกว่าปริญญาตรี  8=อื่น ๆ  9=ไม่ได้ศึกษาในระบบใดเลย\n",
        "\"\"\""
      ],
      "execution_count": 56,
      "outputs": [
        {
          "output_type": "display_data",
          "data": {
            "image/png": "[encoded data removed]",
            "text/plain": [
              "<Figure size 432x432 with 1 Axes>"
            ]
          },
          "metadata": {
            "needs_background": "light"
          }
        },
        {
          "output_type": "execute_result",
          "data": {
            "application/vnd.google.colaboratory.intrinsic+json": {
              "type": "string"
            },
            "text/plain": [
              "'\\n1=ประถมศึกษา  2=มัธยมศึกษาตอนต้น  3=มัธยมศึกษาตอนปลาย  4=ปวช.  \\n5=ปวส./ปวท./อนุปริญญา  6=ปริญญาตรี  7=สูงกว่าปริญญาตรี  8=อื่น ๆ  9=ไม่ได้ศึกษาในระบบใดเลย\\n'"
            ]
          },
          "metadata": {},
          "execution_count": 56
        }
      ]
    },
    {
      "cell_type": "code",
      "metadata": {
        "id": "-IWb97A4nPaI"
      },
      "source": [
        "Edu1 = DF2[DF2[\"a302\"]==1.0] # คนจบประถม รายได้\n",
        "Edu2 = DF2[DF2[\"a302\"]==2.0] # จบ ม .ต้น\n",
        "Edu3 = DF2[DF2[\"a302\"]==3.0] # จบ ม. ปลาย\n",
        "Edu4 = DF2[DF2[\"a302\"]==4.0] # จบ ปวช\n",
        "Edu5 = DF2[DF2[\"a302\"]==5.0] # จบ ปวส\n",
        "Edu6 = DF2[DF2[\"a302\"]==6.0] # จบ ป.ตรี\n",
        "Edu7 = DF2[DF2[\"a302\"]==7.0] # จบ สูงกว่า ป. ตรี\n",
        "Edu8 = DF2[DF2[\"a302\"]==8.0] # จบ อื่น ๆ \n",
        "Edu9 = DF2[DF2[\"a302\"]==9.0] # ไม่ได้เรียน"
      ],
      "execution_count": 57,
      "outputs": []
    },
    {
      "cell_type": "code",
      "metadata": {
        "id": "__5jux0nno9P",
        "colab": {
          "base_uri": "https://localhost:8080/",
          "height": 378
        },
        "outputId": "81c563cb-c9e1-4e32-e30d-2ccbc5e5910e"
      },
      "source": [
        "plt.figure(figsize=(3, 3))\n",
        "\n",
        "plt.title(\"Primary School x income\")\n",
        "Edu1['a6'].value_counts().plot.bar()\n",
        "plt.xticks([0, 1, 2, 3 ], ['<15k','15k-30k', '30k-50k','50k-80k' ], rotation=20)  "
      ],
      "execution_count": 58,
      "outputs": [
        {
          "output_type": "execute_result",
          "data": {
            "text/plain": [
              "([<matplotlib.axis.XTick at 0x7fb6f9770190>,\n",
              "  <matplotlib.axis.XTick at 0x7fb6f9770050>,\n",
              "  <matplotlib.axis.XTick at 0x7fb6f973a310>,\n",
              "  <matplotlib.axis.XTick at 0x7fb6f9a90250>],\n",
              " [Text(0, 0, '<15k'),\n",
              "  Text(0, 0, '15k-30k'),\n",
              "  Text(0, 0, '30k-50k'),\n",
              "  Text(0, 0, '50k-80k')])"
            ]
          },
          "metadata": {},
          "execution_count": 58
        },
        {
          "output_type": "display_data",
          "data": {
            "image/png": "[encoded data removed]",
            "text/plain": [
              "<Figure size 216x216 with 1 Axes>"
            ]
          },
          "metadata": {
            "needs_background": "light"
          }
        }
      ]
    },
    {
      "cell_type": "code",
      "metadata": {
        "id": "HLfjMypyn7zZ",
        "colab": {
          "base_uri": "https://localhost:8080/",
          "height": 378
        },
        "outputId": "82cb339e-caa7-40c3-ca6c-9efd33fedbc4"
      },
      "source": [
        "plt.figure(figsize=(3, 3))\n",
        "\n",
        "plt.title(\"Lower Secondary School x income\")\n",
        "Edu2['a6'].value_counts().plot.bar()\n",
        "plt.xticks([0, 1, 2, 3 ], ['<15k','15k-30k', '30k-50k','50k-80k' ], rotation=20)  "
      ],
      "execution_count": 59,
      "outputs": [
        {
          "output_type": "execute_result",
          "data": {
            "text/plain": [
              "([<matplotlib.axis.XTick at 0x7fb6f9b71c10>,\n",
              "  <matplotlib.axis.XTick at 0x7fb6f9b71cd0>,\n",
              "  <matplotlib.axis.XTick at 0x7fb6f9b76a50>,\n",
              "  <matplotlib.axis.XTick at 0x7fb6fa4ef9d0>],\n",
              " [Text(0, 0, '<15k'),\n",
              "  Text(0, 0, '15k-30k'),\n",
              "  Text(0, 0, '30k-50k'),\n",
              "  Text(0, 0, '50k-80k')])"
            ]
          },
          "metadata": {},
          "execution_count": 59
        },
        {
          "output_type": "display_data",
          "data": {
            "image/png": "[encoded data removed]",
            "text/plain": [
              "<Figure size 216x216 with 1 Axes>"
            ]
          },
          "metadata": {
            "needs_background": "light"
          }
        }
      ]
    },
    {
      "cell_type": "code",
      "metadata": {
        "id": "16tMMHwTn_Zn",
        "colab": {
          "base_uri": "https://localhost:8080/",
          "height": 378
        },
        "outputId": "4549af91-fbb7-4c09-9de4-fbe96f612d7a"
      },
      "source": [
        "plt.figure(figsize=(3, 3))\n",
        "\n",
        "plt.title(\"Lower Secondary School x income\")\n",
        "Edu3['a6'].value_counts().plot.bar()\n",
        "plt.xticks([0, 1, 2, 3 ], ['<15k','15k-30k', '30k-50k','50k-80k' ], rotation=20)  "
      ],
      "execution_count": 60,
      "outputs": [
        {
          "output_type": "execute_result",
          "data": {
            "text/plain": [
              "([<matplotlib.axis.XTick at 0x7fb6fa26efd0>,\n",
              "  <matplotlib.axis.XTick at 0x7fb6fa26ef90>,\n",
              "  <matplotlib.axis.XTick at 0x7fb6fa25be50>,\n",
              "  <matplotlib.axis.XTick at 0x7fb6fa482a90>],\n",
              " [Text(0, 0, '<15k'),\n",
              "  Text(0, 0, '15k-30k'),\n",
              "  Text(0, 0, '30k-50k'),\n",
              "  Text(0, 0, '50k-80k')])"
            ]
          },
          "metadata": {},
          "execution_count": 60
        },
        {
          "output_type": "display_data",
          "data": {
            "image/png": "[encoded data removed]",
            "text/plain": [
              "<Figure size 216x216 with 1 Axes>"
            ]
          },
          "metadata": {
            "needs_background": "light"
          }
        }
      ]
    },
    {
      "cell_type": "code",
      "metadata": {
        "id": "G53cs0v3oE3d",
        "colab": {
          "base_uri": "https://localhost:8080/",
          "height": 378
        },
        "outputId": "b891c80c-d4f6-4148-a8ee-a3424c65b81e"
      },
      "source": [
        "plt.figure(figsize=(3, 3))\n",
        "\n",
        "plt.title(\"Vocational Certificate\")\n",
        "Edu4['a6'].value_counts().plot.bar()\n",
        "plt.xticks([0, 1, 2, 3 ], ['15k-30k', '<15k', '50k-80k', '30k-50k' ], rotation=20)  "
      ],
      "execution_count": 61,
      "outputs": [
        {
          "output_type": "execute_result",
          "data": {
            "text/plain": [
              "([<matplotlib.axis.XTick at 0x7fb6fa44fa10>,\n",
              "  <matplotlib.axis.XTick at 0x7fb6fa44f9d0>,\n",
              "  <matplotlib.axis.XTick at 0x7fb6fa45a990>,\n",
              "  <matplotlib.axis.XTick at 0x7fb6fa403b10>],\n",
              " [Text(0, 0, '15k-30k'),\n",
              "  Text(0, 0, '<15k'),\n",
              "  Text(0, 0, '50k-80k'),\n",
              "  Text(0, 0, '30k-50k')])"
            ]
          },
          "metadata": {},
          "execution_count": 61
        },
        {
          "output_type": "display_data",
          "data": {
            "image/png": "[encoded data removed]",
            "text/plain": [
              "<Figure size 216x216 with 1 Axes>"
            ]
          },
          "metadata": {
            "needs_background": "light"
          }
        }
      ]
    },
    {
      "cell_type": "code",
      "metadata": {
        "id": "z0REI2wdoI9X",
        "colab": {
          "base_uri": "https://localhost:8080/",
          "height": 378
        },
        "outputId": "8b4e4bb6-b2f7-4738-f602-87106583ebf4"
      },
      "source": [
        "plt.figure(figsize=(3, 3))\n",
        "\n",
        "plt.title(\"High Vocational Certificate\")\n",
        "Edu5['a6'].value_counts().plot.bar()\n",
        "plt.xticks([0, 1, 2, 3 ], ['15k-30k', '<15k', '50k-80k', '30k-50k' ], rotation=20)  "
      ],
      "execution_count": 62,
      "outputs": [
        {
          "output_type": "execute_result",
          "data": {
            "text/plain": [
              "([<matplotlib.axis.XTick at 0x7fb6fa3c3950>,\n",
              "  <matplotlib.axis.XTick at 0x7fb6fa3c3910>,\n",
              "  <matplotlib.axis.XTick at 0x7fb6fa3ccad0>,\n",
              "  <matplotlib.axis.XTick at 0x7fb6fa3f6990>],\n",
              " [Text(0, 0, '15k-30k'),\n",
              "  Text(0, 0, '<15k'),\n",
              "  Text(0, 0, '50k-80k'),\n",
              "  Text(0, 0, '30k-50k')])"
            ]
          },
          "metadata": {},
          "execution_count": 62
        },
        {
          "output_type": "display_data",
          "data": {
            "image/png": "[encoded data removed]",
            "text/plain": [
              "<Figure size 216x216 with 1 Axes>"
            ]
          },
          "metadata": {
            "needs_background": "light"
          }
        }
      ]
    },
    {
      "cell_type": "code",
      "metadata": {
        "id": "EYrMyYv_oMGZ",
        "colab": {
          "base_uri": "https://localhost:8080/",
          "height": 378
        },
        "outputId": "0741a7e1-e665-4eaf-8a46-e3fed57cfad3"
      },
      "source": [
        "plt.figure(figsize=(3, 3))\n",
        "\n",
        "plt.title(\"Bach\")\n",
        "Edu6['a6'].value_counts().plot.bar()\n",
        "plt.xticks([0, 1, 2, 3 ], ['15k-30k', '<15k', '50k-80k', '30k-50k' ], rotation=20)  "
      ],
      "execution_count": 63,
      "outputs": [
        {
          "output_type": "execute_result",
          "data": {
            "text/plain": [
              "([<matplotlib.axis.XTick at 0x7fb6fa3b35d0>,\n",
              "  <matplotlib.axis.XTick at 0x7fb6fa3b3590>,\n",
              "  <matplotlib.axis.XTick at 0x7fb6fa344fd0>,\n",
              "  <matplotlib.axis.XTick at 0x7fb6fa3685d0>],\n",
              " [Text(0, 0, '15k-30k'),\n",
              "  Text(0, 0, '<15k'),\n",
              "  Text(0, 0, '50k-80k'),\n",
              "  Text(0, 0, '30k-50k')])"
            ]
          },
          "metadata": {},
          "execution_count": 63
        },
        {
          "output_type": "display_data",
          "data": {
            "image/png": "[encoded data removed]",
            "text/plain": [
              "<Figure size 216x216 with 1 Axes>"
            ]
          },
          "metadata": {
            "needs_background": "light"
          }
        }
      ]
    },
    {
      "cell_type": "code",
      "metadata": {
        "id": "21asONnWoP35",
        "colab": {
          "base_uri": "https://localhost:8080/",
          "height": 255
        },
        "outputId": "e8b93ec9-1e7b-44eb-d604-4ed3d46849f4"
      },
      "source": [
        "plt.figure(figsize=(3, 3))\n",
        "\n",
        "plt.title(\"Others\")\n",
        "Edu8['a6'].value_counts().plot.bar()\n",
        "plt.xticks([0 ], ['<15k '], rotation=20)  "
      ],
      "execution_count": 64,
      "outputs": [
        {
          "output_type": "execute_result",
          "data": {
            "text/plain": [
              "([<matplotlib.axis.XTick at 0x7fb6fa31e6d0>], [Text(0, 0, '<15k ')])"
            ]
          },
          "metadata": {},
          "execution_count": 64
        },
        {
          "output_type": "display_data",
          "data": {
            "image/png": "[encoded data removed]",
            "text/plain": [
              "<Figure size 216x216 with 1 Axes>"
            ]
          },
          "metadata": {
            "needs_background": "light"
          }
        }
      ]
    },
    {
      "cell_type": "code",
      "metadata": {
        "id": "kwqTVGJXl1Vm",
        "colab": {
          "base_uri": "https://localhost:8080/",
          "height": 356
        },
        "outputId": "62d35130-6120-4e36-957b-884337d09825"
      },
      "source": [
        "Edin1 = Edu1['a6'].mean()\n",
        "Edin2  = Edu2['a6'].mean()\n",
        "Edin3 = Edu3['a6'].mean()\n",
        "Edin4 = Edu4['a6'].mean()\n",
        "Edin5 = Edu5['a6'].mean()\n",
        "Edin6 = Edu6['a6'].mean()\n",
        "Edin8 = Edu8['a6'].mean()\n",
        "\n",
        "plt.figure(figsize=(3, 3))\n",
        "\n",
        "plt.bar( [\"Primary School\", \"Lower Secondary School\",  \"High school\", \"Vocational Certificate\", \"High Vocational Certificate\", \"Bach\", \"None\" ] , \n",
        "            [Edin1, Edin2, Edin3, Edin4, Edin5, Edin6, Edin8] )\n",
        "plt.xticks(rotation='vertical')\n",
        "plt.yticks([0, 5], ['<15k', '15k-30k'])\n",
        "\n",
        "# plt.bar <<< show barchart\n",
        "plt.suptitle('Education / Income')\n",
        "\n",
        "plt.show()"
      ],
      "execution_count": 65,
      "outputs": [
        {
          "output_type": "display_data",
          "data": {
            "image/png": "[encoded data removed]",
            "text/plain": [
              "<Figure size 216x216 with 1 Axes>"
            ]
          },
          "metadata": {
            "needs_background": "light"
          }
        }
      ]
    },
    {
      "cell_type": "code",
      "metadata": {
        "id": "8Fn4Fd4Gl09V",
        "colab": {
          "base_uri": "https://localhost:8080/",
          "height": 35
        },
        "outputId": "d1ac1b0e-2083-4c66-8b0c-e3250760a218"
      },
      "source": [
        "\"\"\"\n",
        "ระดับการศึกษา\n",
        "1=ประถมศึกษา  2=มัธยมศึกษาตอนต้น  3=มัธยมศึกษาตอนปลาย  4=ปวช.  \n",
        "5=ปวส./ปวท./อนุปริญญา  6=ปริญญาตรี  7=สูงกว่าปริญญาตรี  8=อื่น ๆ  9=ไม่ได้ศึกษาในระบบใดเลย\n",
        "\"\"\"\n",
        "\"\"\"\n",
        "รายได้\n",
        "1=ไม่เกิน 15,000 บาท 2=15,001 - 30,000 บาท  3=30,001 – 50,000 บาท  4=50,001 – 80,000  5=80,001 ขึ้นไป\n",
        "\"\"\""
      ],
      "execution_count": 66,
      "outputs": [
        {
          "output_type": "execute_result",
          "data": {
            "application/vnd.google.colaboratory.intrinsic+json": {
              "type": "string"
            },
            "text/plain": [
              "'\\nรายได้\\n1=ไม่เกิน 15,000 บาท 2=15,001 - 30,000 บาท  3=30,001 – 50,000 บาท  4=50,001 – 80,000  5=80,001 ขึ้นไป\\n'"
            ]
          },
          "metadata": {},
          "execution_count": 66
        }
      ]
    },
    {
      "cell_type": "markdown",
      "metadata": {
        "id": "V-rIHfyQlpyF"
      },
      "source": [
        "# Career x Income"
      ]
    },
    {
      "cell_type": "code",
      "metadata": {
        "id": "Vs7hbDXqloc_",
        "colab": {
          "base_uri": "https://localhost:8080/",
          "height": 279
        },
        "outputId": "0e7ee0bf-098b-4b30-a897-7cd9f0fe4f42"
      },
      "source": [
        "DF2['a5'].value_counts().plot.bar()"
      ],
      "execution_count": 67,
      "outputs": [
        {
          "output_type": "execute_result",
          "data": {
            "text/plain": [
              "<matplotlib.axes._subplots.AxesSubplot at 0x7fb6fa2d0290>"
            ]
          },
          "metadata": {},
          "execution_count": 67
        },
        {
          "output_type": "display_data",
          "data": {
            "image/png": "[encoded data removed]",
            "text/plain": [
              "<Figure size 432x288 with 1 Axes>"
            ]
          },
          "metadata": {
            "needs_background": "light"
          }
        }
      ]
    },
    {
      "cell_type": "code",
      "metadata": {
        "id": "aRVILtyYeWKc",
        "colab": {
          "base_uri": "https://localhost:8080/",
          "height": 35
        },
        "outputId": "0cef0bf5-b66d-4b57-a94b-90f704eeda30"
      },
      "source": [
        "\"\"\"\n",
        "\\n1= รับราชการ/พนักงานของรัฐหรือรัฐวิสาหกิจ สังกัด  \\n2=พนักงานเอกชน/ลูกจ้างบริษัท 3=เจ้าของธุรกิจ  \n",
        "\\n4=อาชีพอิสระ/ฟรีแลนซ์/รับจ้าง 5= นักเรียน/นักศึกษา     \\n6= เกษียณอายุ/แม่บ้านพ่อบ้าน \n",
        "7= เกษตรกร เช่น ทำไร่ ประมง ฯลฯ  \\n8=อื่นๆ\\n\n",
        "\"\"\"\n",
        "\"\"\"\n",
        "รายได้\n",
        "1=ไม่เกิน 15,000 บาท 2=15,001 - 30,000 บาท  3=30,001 – 50,000 บาท  4=50,001 – 80,000  5=80,001 ขึ้นไป\n",
        "\"\"\""
      ],
      "execution_count": 68,
      "outputs": [
        {
          "output_type": "execute_result",
          "data": {
            "application/vnd.google.colaboratory.intrinsic+json": {
              "type": "string"
            },
            "text/plain": [
              "'\\nรายได้\\n1=ไม่เกิน 15,000 บาท 2=15,001 - 30,000 บาท  3=30,001 – 50,000 บาท  4=50,001 – 80,000  5=80,001 ขึ้นไป\\n'"
            ]
          },
          "metadata": {},
          "execution_count": 68
        }
      ]
    },
    {
      "cell_type": "code",
      "metadata": {
        "id": "E7HxzAsLk_pK"
      },
      "source": [
        "DF2['a5'] = DF2['a5'].replace(9,5) # fill na with 5"
      ],
      "execution_count": 69,
      "outputs": []
    },
    {
      "cell_type": "code",
      "metadata": {
        "id": "CL8AUfegk_Q-",
        "colab": {
          "base_uri": "https://localhost:8080/",
          "height": 294
        },
        "outputId": "f6ac016d-47f8-4acc-8de4-bc80d3f7f70f"
      },
      "source": [
        "Car1 = DF2[DF2[\"a5\"]==1]\n",
        "Car2 = DF2[DF2[\"a5\"]==2]\n",
        "Car3 = DF2[DF2[\"a5\"]==3]\n",
        "Car4 = DF2[DF2[\"a5\"]==4]\n",
        "Car5 = DF2[DF2[\"a5\"]==5]\n",
        "Car6 = DF2[DF2[\"a5\"]==6]\n",
        "Car7 = DF2[DF2[\"a5\"]==7]\n",
        "Car8 = DF2[DF2[\"a5\"]==8]\n",
        "\n",
        "Carin1 = Car1[\"a6\"].mean()\n",
        "Carin2 = Car2[\"a6\"].mean()\n",
        "Carin3 = Car3[\"a6\"].mean()\n",
        "Carin4 = Car4[\"a6\"].mean()\n",
        "Carin5 = Car5[\"a6\"].mean()\n",
        "Carin6 = Car6[\"a6\"].mean()\n",
        "Carin7 = Car7[\"a6\"].mean()\n",
        "Carin8 = Car8[\"a6\"].mean()\n",
        "\n",
        "plt.scatter( [\"Carin1\", \"Carin2\", \"Carin3\", \"Carin4\", \"Carin5\", \"Carin6\", \"Carin7\", \"Carin8\"], \n",
        "            [Carin1, Carin2, Carin3, Carin4, Carin5, Carin6, Carin7, Carin8])\n",
        "\n",
        "# plt.bar <<< show barchart\n",
        "plt.suptitle('Career / Income')\n",
        "\n",
        "plt.show()"
      ],
      "execution_count": 70,
      "outputs": [
        {
          "output_type": "display_data",
          "data": {
            "image/png": "[encoded data removed]",
            "text/plain": [
              "<Figure size 432x288 with 1 Axes>"
            ]
          },
          "metadata": {
            "needs_background": "light"
          }
        }
      ]
    },
    {
      "cell_type": "code",
      "metadata": {
        "id": "nntf6tfGzK1l",
        "colab": {
          "base_uri": "https://localhost:8080/",
          "height": 35
        },
        "outputId": "c2dd32dc-bbbe-4b37-dff2-ba0f8aae32e3"
      },
      "source": [
        "\"\"\"\n",
        "\\n1= รับราชการ/พนักงานของรัฐหรือรัฐวิสาหกิจ สังกัด  \\n2=พนักงานเอกชน/ลูกจ้างบริษัท 3=เจ้าของธุรกิจ  \n",
        "\\n4=อาชีพอิสระ/ฟรีแลนซ์/รับจ้าง 5= นักเรียน/นักศึกษา     \\n6= เกษียณอายุ/แม่บ้านพ่อบ้าน \n",
        "7= เกษตรกร เช่น ทำไร่ ประมง ฯลฯ  \\n8=อื่นๆ\\n\n",
        "\"\"\"\n",
        "\"\"\"\n",
        "รายได้\n",
        "1=ไม่เกิน 15,000 บาท 2=15,001 - 30,000 บาท  3=30,001 – 50,000 บาท  4=50,001 – 80,000  5=80,001 ขึ้นไป\n",
        "\"\"\""
      ],
      "execution_count": 71,
      "outputs": [
        {
          "output_type": "execute_result",
          "data": {
            "application/vnd.google.colaboratory.intrinsic+json": {
              "type": "string"
            },
            "text/plain": [
              "'\\nรายได้\\n1=ไม่เกิน 15,000 บาท 2=15,001 - 30,000 บาท  3=30,001 – 50,000 บาท  4=50,001 – 80,000  5=80,001 ขึ้นไป\\n'"
            ]
          },
          "metadata": {},
          "execution_count": 71
        }
      ]
    },
    {
      "cell_type": "code",
      "metadata": {
        "id": "yGi4zUJWk_L1",
        "colab": {
          "base_uri": "https://localhost:8080/",
          "height": 288
        },
        "outputId": "06be134e-c28e-4bb3-ee8e-d1be7d4ede23"
      },
      "source": [
        "Car1['a6'].value_counts().plot.bar()"
      ],
      "execution_count": 72,
      "outputs": [
        {
          "output_type": "execute_result",
          "data": {
            "text/plain": [
              "<matplotlib.axes._subplots.AxesSubplot at 0x7fb6f9a27cd0>"
            ]
          },
          "metadata": {},
          "execution_count": 72
        },
        {
          "output_type": "display_data",
          "data": {
            "image/png": "[encoded data removed]",
            "text/plain": [
              "<Figure size 432x288 with 1 Axes>"
            ]
          },
          "metadata": {
            "needs_background": "light"
          }
        }
      ]
    },
    {
      "cell_type": "code",
      "metadata": {
        "id": "qeT0oxINk_H2",
        "colab": {
          "base_uri": "https://localhost:8080/",
          "height": 288
        },
        "outputId": "1e5720ed-385b-4461-9741-84a5633edf7d"
      },
      "source": [
        "Car2['a6'].value_counts().plot.bar()"
      ],
      "execution_count": 73,
      "outputs": [
        {
          "output_type": "execute_result",
          "data": {
            "text/plain": [
              "<matplotlib.axes._subplots.AxesSubplot at 0x7fb6f9906950>"
            ]
          },
          "metadata": {},
          "execution_count": 73
        },
        {
          "output_type": "display_data",
          "data": {
            "image/png": "[encoded data removed]",
            "text/plain": [
              "<Figure size 432x288 with 1 Axes>"
            ]
          },
          "metadata": {
            "needs_background": "light"
          }
        }
      ]
    },
    {
      "cell_type": "code",
      "metadata": {
        "id": "8DAYY_9hk-57",
        "colab": {
          "base_uri": "https://localhost:8080/",
          "height": 288
        },
        "outputId": "cc0928c9-9621-489e-d9c0-a3421ffe5228"
      },
      "source": [
        "Car3['a6'].value_counts().plot.bar()"
      ],
      "execution_count": 74,
      "outputs": [
        {
          "output_type": "execute_result",
          "data": {
            "text/plain": [
              "<matplotlib.axes._subplots.AxesSubplot at 0x7fb6f9906a90>"
            ]
          },
          "metadata": {},
          "execution_count": 74
        },
        {
          "output_type": "display_data",
          "data": {
            "image/png": "[encoded data removed]",
            "text/plain": [
              "<Figure size 432x288 with 1 Axes>"
            ]
          },
          "metadata": {
            "needs_background": "light"
          }
        }
      ]
    },
    {
      "cell_type": "code",
      "metadata": {
        "id": "IiBypt0w_sMB"
      },
      "source": [
        ""
      ],
      "execution_count": 74,
      "outputs": []
    },
    {
      "cell_type": "code",
      "metadata": {
        "id": "nkN4dp8Wk-0u",
        "colab": {
          "base_uri": "https://localhost:8080/",
          "height": 288
        },
        "outputId": "59fcf551-e38e-4ee9-f446-3b6da53329d2"
      },
      "source": [
        "Car4['a6'].value_counts().plot.bar()"
      ],
      "execution_count": 75,
      "outputs": [
        {
          "output_type": "execute_result",
          "data": {
            "text/plain": [
              "<matplotlib.axes._subplots.AxesSubplot at 0x7fb6fa2e6590>"
            ]
          },
          "metadata": {},
          "execution_count": 75
        },
        {
          "output_type": "display_data",
          "data": {
            "image/png": "[encoded data removed]",
            "text/plain": [
              "<Figure size 432x288 with 1 Axes>"
            ]
          },
          "metadata": {
            "needs_background": "light"
          }
        }
      ]
    },
    {
      "cell_type": "code",
      "metadata": {
        "id": "FuCalb4Nk-vV",
        "colab": {
          "base_uri": "https://localhost:8080/",
          "height": 288
        },
        "outputId": "f7a3ed5d-9c73-45a0-9198-06db2bce5a73"
      },
      "source": [
        "Car5['a6'].value_counts().plot.bar()"
      ],
      "execution_count": 76,
      "outputs": [
        {
          "output_type": "execute_result",
          "data": {
            "text/plain": [
              "<matplotlib.axes._subplots.AxesSubplot at 0x7fb6f9b00350>"
            ]
          },
          "metadata": {},
          "execution_count": 76
        },
        {
          "output_type": "display_data",
          "data": {
            "image/png": "[encoded data removed]",
            "text/plain": [
              "<Figure size 432x288 with 1 Axes>"
            ]
          },
          "metadata": {
            "needs_background": "light"
          }
        }
      ]
    },
    {
      "cell_type": "code",
      "metadata": {
        "id": "r9-EZT47k-od",
        "colab": {
          "base_uri": "https://localhost:8080/",
          "height": 288
        },
        "outputId": "2c403afb-68da-44cf-ae32-d1d5eefa20ff"
      },
      "source": [
        "Car6['a6'].value_counts().plot.bar()"
      ],
      "execution_count": 77,
      "outputs": [
        {
          "output_type": "execute_result",
          "data": {
            "text/plain": [
              "<matplotlib.axes._subplots.AxesSubplot at 0x7fb6f9aa8850>"
            ]
          },
          "metadata": {},
          "execution_count": 77
        },
        {
          "output_type": "display_data",
          "data": {
            "image/png": "[encoded data removed]",
            "text/plain": [
              "<Figure size 432x288 with 1 Axes>"
            ]
          },
          "metadata": {
            "needs_background": "light"
          }
        }
      ]
    },
    {
      "cell_type": "code",
      "metadata": {
        "id": "qSMFP7d5k-h0",
        "colab": {
          "base_uri": "https://localhost:8080/",
          "height": 288
        },
        "outputId": "56bf0c62-a24b-43fa-efb4-2805d2c58ca7"
      },
      "source": [
        "Car7['a6'].value_counts().plot.bar()"
      ],
      "execution_count": 78,
      "outputs": [
        {
          "output_type": "execute_result",
          "data": {
            "text/plain": [
              "<matplotlib.axes._subplots.AxesSubplot at 0x7fb6fa3c32d0>"
            ]
          },
          "metadata": {},
          "execution_count": 78
        },
        {
          "output_type": "display_data",
          "data": {
            "image/png": "[encoded data removed]",
            "text/plain": [
              "<Figure size 432x288 with 1 Axes>"
            ]
          },
          "metadata": {
            "needs_background": "light"
          }
        }
      ]
    },
    {
      "cell_type": "code",
      "metadata": {
        "id": "sAmsa2ZPk-bX",
        "colab": {
          "base_uri": "https://localhost:8080/",
          "height": 288
        },
        "outputId": "b2d39e55-e67f-4437-fe23-1206ffac97fc"
      },
      "source": [
        "Car8['a6'].value_counts().plot.bar()"
      ],
      "execution_count": 79,
      "outputs": [
        {
          "output_type": "execute_result",
          "data": {
            "text/plain": [
              "<matplotlib.axes._subplots.AxesSubplot at 0x7fb6f97f3d10>"
            ]
          },
          "metadata": {},
          "execution_count": 79
        },
        {
          "output_type": "display_data",
          "data": {
            "image/png": "[encoded data removed]",
            "text/plain": [
              "<Figure size 432x288 with 1 Axes>"
            ]
          },
          "metadata": {
            "needs_background": "light"
          }
        }
      ]
    },
    {
      "cell_type": "markdown",
      "metadata": {
        "id": "lfpJGE480GCV"
      },
      "source": [
        "# TV"
      ]
    },
    {
      "cell_type": "code",
      "metadata": {
        "id": "9Tx6Uf0405Ac",
        "colab": {
          "base_uri": "https://localhost:8080/",
          "height": 313
        },
        "outputId": "ea20fee1-f95b-42d2-e591-d50294609953"
      },
      "source": [
        "plt.figure(figsize=(3, 3))\n",
        "\n",
        "plt.title(\"TV new 1\")\n",
        "\n",
        "DF2[\"t1new\"].value_counts().plot.bar()\n",
        "\n",
        "plt.xticks([0, 1, 2 ], ['yes', 'no answer', 'no'], rotation=20)  "
      ],
      "execution_count": 80,
      "outputs": [
        {
          "output_type": "execute_result",
          "data": {
            "text/plain": [
              "([<matplotlib.axis.XTick at 0x7fb6fa29ab50>,\n",
              "  <matplotlib.axis.XTick at 0x7fb6fa29ab10>,\n",
              "  <matplotlib.axis.XTick at 0x7fb6f902bc90>],\n",
              " [Text(0, 0, 'yes'), Text(0, 0, 'no answer'), Text(0, 0, 'no')])"
            ]
          },
          "metadata": {},
          "execution_count": 80
        },
        {
          "output_type": "display_data",
          "data": {
            "image/png": "[encoded data removed]",
            "text/plain": [
              "<Figure size 216x216 with 1 Axes>"
            ]
          },
          "metadata": {
            "needs_background": "light"
          }
        }
      ]
    },
    {
      "cell_type": "code",
      "metadata": {
        "id": "eF0tVcERxNuE",
        "colab": {
          "base_uri": "https://localhost:8080/"
        },
        "outputId": "99180251-6fd2-4cf6-f3f8-26dad824cd21"
      },
      "source": [
        "DF2[\"t1new\"].value_counts()"
      ],
      "execution_count": 81,
      "outputs": [
        {
          "output_type": "execute_result",
          "data": {
            "text/plain": [
              "1    1011\n",
              "0     874\n",
              "2     174\n",
              "Name: t1new, dtype: int64"
            ]
          },
          "metadata": {},
          "execution_count": 81
        }
      ]
    },
    {
      "cell_type": "code",
      "metadata": {
        "id": "Ab_Wv66S605P",
        "colab": {
          "base_uri": "https://localhost:8080/",
          "height": 240
        },
        "outputId": "7f1a4dbd-00c4-4c1f-fa05-323a6eede12b"
      },
      "source": [
        "plt.figure(figsize=(3, 3))\n",
        "\n",
        "plt.title(\"TV new 1\")\n",
        "\n",
        "DF2[\"t2new\"].value_counts().plot.bar()"
      ],
      "execution_count": 82,
      "outputs": [
        {
          "output_type": "execute_result",
          "data": {
            "text/plain": [
              "<matplotlib.axes._subplots.AxesSubplot at 0x7fb6f9000950>"
            ]
          },
          "metadata": {},
          "execution_count": 82
        },
        {
          "output_type": "display_data",
          "data": {
            "image/png": "[encoded data removed]",
            "text/plain": [
              "<Figure size 216x216 with 1 Axes>"
            ]
          },
          "metadata": {
            "needs_background": "light"
          }
        }
      ]
    },
    {
      "cell_type": "markdown",
      "metadata": {
        "id": "PAc5-AKq03tz"
      },
      "source": [
        "# Online"
      ]
    },
    {
      "cell_type": "code",
      "metadata": {
        "id": "b7jdj-vE2ZFS",
        "colab": {
          "base_uri": "https://localhost:8080/",
          "height": 313
        },
        "outputId": "ce70d2ad-b7fa-40e4-e687-1ed46d70f289"
      },
      "source": [
        "plt.figure(figsize=(3, 3))\n",
        "\n",
        "plt.title(\"Online new 1\")\n",
        "\n",
        "DF2[\"u1new\"].value_counts().plot.bar()\n",
        "\n",
        "plt.xticks([0, 1, 2 ], [ 'no answer', 'no', 'yes'], rotation=20)  "
      ],
      "execution_count": 83,
      "outputs": [
        {
          "output_type": "execute_result",
          "data": {
            "text/plain": [
              "([<matplotlib.axis.XTick at 0x7fb6f8f77090>,\n",
              "  <matplotlib.axis.XTick at 0x7fb6f8f77050>,\n",
              "  <matplotlib.axis.XTick at 0x7fb6f8f821d0>],\n",
              " [Text(0, 0, 'no answer'), Text(0, 0, 'no'), Text(0, 0, 'yes')])"
            ]
          },
          "metadata": {},
          "execution_count": 83
        },
        {
          "output_type": "display_data",
          "data": {
            "image/png": "[encoded data removed]",
            "text/plain": [
              "<Figure size 216x216 with 1 Axes>"
            ]
          },
          "metadata": {
            "needs_background": "light"
          }
        }
      ]
    },
    {
      "cell_type": "code",
      "metadata": {
        "id": "hZBw65N_3u75",
        "colab": {
          "base_uri": "https://localhost:8080/",
          "height": 35
        },
        "outputId": "6beaaf11-b604-4407-e627-2466556ac0fc"
      },
      "source": [
        "\"\"\"\n",
        "1=Facebook  2=Twitter  3=YouTube  4=Instagram  5=LINE TODAY  \n",
        "6=LINE TV  7=Podcast / วิทยุออนไลน์  8=Pantip  9=เว็บไซต์ / แอปพลิเคชั่น  10=อื่นๆ\n",
        "\"\"\""
      ],
      "execution_count": 84,
      "outputs": [
        {
          "output_type": "execute_result",
          "data": {
            "application/vnd.google.colaboratory.intrinsic+json": {
              "type": "string"
            },
            "text/plain": [
              "'\\n1=Facebook  2=Twitter  3=YouTube  4=Instagram  5=LINE TODAY  \\n6=LINE TV  7=Podcast / วิทยุออนไลน์  8=Pantip  9=เว็บไซต์ / แอปพลิเคชั่น  10=อื่นๆ\\n'"
            ]
          },
          "metadata": {},
          "execution_count": 84
        }
      ]
    },
    {
      "cell_type": "code",
      "metadata": {
        "id": "YOTO5YMV3MC8",
        "colab": {
          "base_uri": "https://localhost:8080/"
        },
        "outputId": "85e05ffe-d2e7-407f-c787-9d54ddb1a71c"
      },
      "source": [
        "DF2[\"q1new\"].value_counts()"
      ],
      "execution_count": 85,
      "outputs": [
        {
          "output_type": "execute_result",
          "data": {
            "text/plain": [
              "1    1197\n",
              "0     520\n",
              "2     242\n",
              "3      62\n",
              "5      24\n",
              "4      14\n",
              "Name: q1new, dtype: int64"
            ]
          },
          "metadata": {},
          "execution_count": 85
        }
      ]
    },
    {
      "cell_type": "code",
      "metadata": {
        "id": "UTgyRgMP3gzG",
        "colab": {
          "base_uri": "https://localhost:8080/"
        },
        "outputId": "411c436c-72b3-48bc-9954-b585a4935820"
      },
      "source": [
        "DF2[\"q2new\"].value_counts()"
      ],
      "execution_count": 86,
      "outputs": [
        {
          "output_type": "execute_result",
          "data": {
            "text/plain": [
              "0    1767\n",
              "2     140\n",
              "3      66\n",
              "4      40\n",
              "1      37\n",
              "5       9\n",
              "Name: q2new, dtype: int64"
            ]
          },
          "metadata": {},
          "execution_count": 86
        }
      ]
    },
    {
      "cell_type": "code",
      "metadata": {
        "id": "wMjnIbDE3gp2",
        "colab": {
          "base_uri": "https://localhost:8080/"
        },
        "outputId": "ade7eab5-36b7-47ca-880f-04ed0f85af7b"
      },
      "source": [
        "DF2[\"q3new\"].value_counts()"
      ],
      "execution_count": 87,
      "outputs": [
        {
          "output_type": "execute_result",
          "data": {
            "text/plain": [
              "0    777\n",
              "2    771\n",
              "1    245\n",
              "3    178\n",
              "4     68\n",
              "5     20\n",
              "Name: q3new, dtype: int64"
            ]
          },
          "metadata": {},
          "execution_count": 87
        }
      ]
    },
    {
      "cell_type": "code",
      "metadata": {
        "id": "4JMi4uRL3geb",
        "colab": {
          "base_uri": "https://localhost:8080/"
        },
        "outputId": "339d99c9-873d-42a9-f8d4-5d1d1e19db5a"
      },
      "source": [
        "DF2[\"q4new\"].value_counts()"
      ],
      "execution_count": 88,
      "outputs": [
        {
          "output_type": "execute_result",
          "data": {
            "text/plain": [
              "0    1668\n",
              "3     187\n",
              "4      81\n",
              "2      69\n",
              "1      37\n",
              "5      17\n",
              "Name: q4new, dtype: int64"
            ]
          },
          "metadata": {},
          "execution_count": 88
        }
      ]
    },
    {
      "cell_type": "code",
      "metadata": {
        "id": "yinogIl13fyX",
        "colab": {
          "base_uri": "https://localhost:8080/"
        },
        "outputId": "34a6db18-dc91-46f8-bf24-19ed266263d7"
      },
      "source": [
        "DF2[\"q5new\"].value_counts()"
      ],
      "execution_count": 89,
      "outputs": [
        {
          "output_type": "execute_result",
          "data": {
            "text/plain": [
              "0    1718\n",
              "3     158\n",
              "2      66\n",
              "4      55\n",
              "5      38\n",
              "1      24\n",
              "Name: q5new, dtype: int64"
            ]
          },
          "metadata": {},
          "execution_count": 89
        }
      ]
    },
    {
      "cell_type": "code",
      "metadata": {
        "id": "VK2ENi0I0WFL",
        "colab": {
          "base_uri": "https://localhost:8080/",
          "height": 295
        },
        "outputId": "c137abab-ab5f-4d41-9c8b-bc194f9109b3"
      },
      "source": [
        "DF2[\"u1\"].value_counts().plot.bar()"
      ],
      "execution_count": 90,
      "outputs": [
        {
          "output_type": "execute_result",
          "data": {
            "text/plain": [
              "<matplotlib.axes._subplots.AxesSubplot at 0x7fb6f8f41590>"
            ]
          },
          "metadata": {},
          "execution_count": 90
        },
        {
          "output_type": "display_data",
          "data": {
            "image/png": "[encoded data removed]",
            "text/plain": [
              "<Figure size 432x288 with 1 Axes>"
            ]
          },
          "metadata": {
            "needs_background": "light"
          }
        }
      ]
    },
    {
      "cell_type": "markdown",
      "metadata": {
        "id": "cvlhp2RQ07sM"
      },
      "source": [
        "# J1-J5, JOrder"
      ]
    },
    {
      "cell_type": "markdown",
      "metadata": {
        "id": "sK8mtg_N1VJZ"
      },
      "source": [
        ""
      ]
    },
    {
      "cell_type": "code",
      "metadata": {
        "id": "t65IXf191MXD",
        "colab": {
          "base_uri": "https://localhost:8080/",
          "height": 281
        },
        "outputId": "a648adff-14f6-428e-a117-ec02b0dfc204"
      },
      "source": [
        "DF2[\"J1new\"].value_counts().plot.bar()"
      ],
      "execution_count": 91,
      "outputs": [
        {
          "output_type": "execute_result",
          "data": {
            "text/plain": [
              "<matplotlib.axes._subplots.AxesSubplot at 0x7fb6f8ead6d0>"
            ]
          },
          "metadata": {},
          "execution_count": 91
        },
        {
          "output_type": "display_data",
          "data": {
            "image/png": "[encoded data removed]",
            "text/plain": [
              "<Figure size 432x288 with 1 Axes>"
            ]
          },
          "metadata": {
            "needs_background": "light"
          }
        }
      ]
    },
    {
      "cell_type": "code",
      "metadata": {
        "id": "y9fwh2mN1MLT",
        "colab": {
          "base_uri": "https://localhost:8080/",
          "height": 279
        },
        "outputId": "b41a51d9-0c45-49a4-f0fa-ce3af0a7c523"
      },
      "source": [
        "DF2[\"J2new\"].value_counts().plot.bar()"
      ],
      "execution_count": 92,
      "outputs": [
        {
          "output_type": "execute_result",
          "data": {
            "text/plain": [
              "<matplotlib.axes._subplots.AxesSubplot at 0x7fb6f8e132d0>"
            ]
          },
          "metadata": {},
          "execution_count": 92
        },
        {
          "output_type": "display_data",
          "data": {
            "image/png": "[encoded data removed]",
            "text/plain": [
              "<Figure size 432x288 with 1 Axes>"
            ]
          },
          "metadata": {
            "needs_background": "light"
          }
        }
      ]
    },
    {
      "cell_type": "code",
      "metadata": {
        "id": "qzWykmca1MBR",
        "colab": {
          "base_uri": "https://localhost:8080/",
          "height": 279
        },
        "outputId": "88b621ad-a06b-4b57-fb6b-827ae794a78a"
      },
      "source": [
        "DF2[\"J3new\"].value_counts().plot.bar()"
      ],
      "execution_count": 93,
      "outputs": [
        {
          "output_type": "execute_result",
          "data": {
            "text/plain": [
              "<matplotlib.axes._subplots.AxesSubplot at 0x7fb6f8d84510>"
            ]
          },
          "metadata": {},
          "execution_count": 93
        },
        {
          "output_type": "display_data",
          "data": {
            "image/png": "[encoded data removed]",
            "text/plain": [
              "<Figure size 432x288 with 1 Axes>"
            ]
          },
          "metadata": {
            "needs_background": "light"
          }
        }
      ]
    },
    {
      "cell_type": "code",
      "metadata": {
        "id": "ZudRzm2i1L3h",
        "colab": {
          "base_uri": "https://localhost:8080/",
          "height": 279
        },
        "outputId": "1db72cfe-b729-47eb-e1ba-78f98f028c62"
      },
      "source": [
        "DF2[\"J4new\"].value_counts().plot.bar()"
      ],
      "execution_count": 94,
      "outputs": [
        {
          "output_type": "execute_result",
          "data": {
            "text/plain": [
              "<matplotlib.axes._subplots.AxesSubplot at 0x7fb6f8d10190>"
            ]
          },
          "metadata": {},
          "execution_count": 94
        },
        {
          "output_type": "display_data",
          "data": {
            "image/png": "[encoded data removed]",
            "text/plain": [
              "<Figure size 432x288 with 1 Axes>"
            ]
          },
          "metadata": {
            "needs_background": "light"
          }
        }
      ]
    },
    {
      "cell_type": "code",
      "metadata": {
        "id": "FZqbqWTE1T-f",
        "colab": {
          "base_uri": "https://localhost:8080/",
          "height": 279
        },
        "outputId": "f2ab317b-a16b-4ff8-890a-3048b0d816e9"
      },
      "source": [
        "DF2[\"J5new\"].value_counts().plot.bar()"
      ],
      "execution_count": 95,
      "outputs": [
        {
          "output_type": "execute_result",
          "data": {
            "text/plain": [
              "<matplotlib.axes._subplots.AxesSubplot at 0x7fb6f9091490>"
            ]
          },
          "metadata": {},
          "execution_count": 95
        },
        {
          "output_type": "display_data",
          "data": {
            "image/png": "[encoded data removed]",
            "text/plain": [
              "<Figure size 432x288 with 1 Axes>"
            ]
          },
          "metadata": {
            "needs_background": "light"
          }
        }
      ]
    },
    {
      "cell_type": "code",
      "metadata": {
        "id": "t-5WfhsX1DC9",
        "colab": {
          "base_uri": "https://localhost:8080/",
          "height": 275
        },
        "outputId": "989e349d-9587-4c4c-aac1-dea45e249ce5"
      },
      "source": [
        "DF2[\"JOrder\"].value_counts().plot.bar()"
      ],
      "execution_count": 96,
      "outputs": [
        {
          "output_type": "execute_result",
          "data": {
            "text/plain": [
              "<matplotlib.axes._subplots.AxesSubplot at 0x7fb6f8e773d0>"
            ]
          },
          "metadata": {},
          "execution_count": 96
        },
        {
          "output_type": "display_data",
          "data": {
            "image/png": "[encoded data removed]",
            "text/plain": [
              "<Figure size 432x288 with 1 Axes>"
            ]
          },
          "metadata": {
            "needs_background": "light"
          }
        }
      ]
    },
    {
      "cell_type": "markdown",
      "metadata": {
        "id": "qqXGu3z508HH"
      },
      "source": [
        "# New Section"
      ]
    },
    {
      "cell_type": "markdown",
      "metadata": {
        "id": "q6fpLPPF2gAu"
      },
      "source": [
        "# Heat map"
      ]
    },
    {
      "cell_type": "code",
      "metadata": {
        "id": "TlZg9DCG0ami"
      },
      "source": [
        "import seaborn as sns; sns.set_theme()\n",
        "sns.set(rc={'figure.figsize':(11.7,8.27)})"
      ],
      "execution_count": 97,
      "outputs": []
    },
    {
      "cell_type": "code",
      "metadata": {
        "id": "6SRXIbet2rAN"
      },
      "source": [
        "DF_merge =  DF2.loc[:,\"k1\":\"k10\"]\n",
        "DF_merge[\"t1\"] = DF2[\"t1\"]"
      ],
      "execution_count": 98,
      "outputs": []
    },
    {
      "cell_type": "code",
      "metadata": {
        "id": "nYtwLDcZ5dxR"
      },
      "source": [
        "grouped = DF_merge.groupby(\"t1\").sum()"
      ],
      "execution_count": 99,
      "outputs": []
    },
    {
      "cell_type": "code",
      "metadata": {
        "id": "F44yN1us5tGP",
        "colab": {
          "base_uri": "https://localhost:8080/",
          "height": 236
        },
        "outputId": "961f40fc-4e04-4cc7-9286-1351dc38e4cc"
      },
      "source": [
        "grouped.head()"
      ],
      "execution_count": 100,
      "outputs": [
        {
          "output_type": "execute_result",
          "data": {
            "text/html": [
              "<div>\n",
              "<style scoped>\n",
              "    .dataframe tbody tr th:only-of-type {\n",
              "        vertical-align: middle;\n",
              "    }\n",
              "\n",
              "    .dataframe tbody tr th {\n",
              "        vertical-align: top;\n",
              "    }\n",
              "\n",
              "    .dataframe thead th {\n",
              "        text-align: right;\n",
              "    }\n",
              "</style>\n",
              "<table border=\"1\" class=\"dataframe\">\n",
              "  <thead>\n",
              "    <tr style=\"text-align: right;\">\n",
              "      <th></th>\n",
              "      <th>k1</th>\n",
              "      <th>k2</th>\n",
              "      <th>k3</th>\n",
              "      <th>k4</th>\n",
              "      <th>k5</th>\n",
              "      <th>k6</th>\n",
              "      <th>k7</th>\n",
              "      <th>k8</th>\n",
              "      <th>k9</th>\n",
              "      <th>k10</th>\n",
              "    </tr>\n",
              "    <tr>\n",
              "      <th>t1</th>\n",
              "      <th></th>\n",
              "      <th></th>\n",
              "      <th></th>\n",
              "      <th></th>\n",
              "      <th></th>\n",
              "      <th></th>\n",
              "      <th></th>\n",
              "      <th></th>\n",
              "      <th></th>\n",
              "      <th></th>\n",
              "    </tr>\n",
              "  </thead>\n",
              "  <tbody>\n",
              "    <tr>\n",
              "      <th>1.0</th>\n",
              "      <td>51</td>\n",
              "      <td>281</td>\n",
              "      <td>56</td>\n",
              "      <td>144</td>\n",
              "      <td>88</td>\n",
              "      <td>170</td>\n",
              "      <td>415</td>\n",
              "      <td>190</td>\n",
              "      <td>5</td>\n",
              "      <td>133</td>\n",
              "    </tr>\n",
              "    <tr>\n",
              "      <th>2.0</th>\n",
              "      <td>13</td>\n",
              "      <td>68</td>\n",
              "      <td>36</td>\n",
              "      <td>34</td>\n",
              "      <td>65</td>\n",
              "      <td>75</td>\n",
              "      <td>170</td>\n",
              "      <td>64</td>\n",
              "      <td>1</td>\n",
              "      <td>24</td>\n",
              "    </tr>\n",
              "    <tr>\n",
              "      <th>3.0</th>\n",
              "      <td>5</td>\n",
              "      <td>89</td>\n",
              "      <td>24</td>\n",
              "      <td>49</td>\n",
              "      <td>49</td>\n",
              "      <td>41</td>\n",
              "      <td>124</td>\n",
              "      <td>58</td>\n",
              "      <td>2</td>\n",
              "      <td>20</td>\n",
              "    </tr>\n",
              "    <tr>\n",
              "      <th>4.0</th>\n",
              "      <td>3</td>\n",
              "      <td>7</td>\n",
              "      <td>7</td>\n",
              "      <td>7</td>\n",
              "      <td>6</td>\n",
              "      <td>3</td>\n",
              "      <td>18</td>\n",
              "      <td>8</td>\n",
              "      <td>0</td>\n",
              "      <td>3</td>\n",
              "    </tr>\n",
              "    <tr>\n",
              "      <th>5.0</th>\n",
              "      <td>2</td>\n",
              "      <td>3</td>\n",
              "      <td>1</td>\n",
              "      <td>4</td>\n",
              "      <td>1</td>\n",
              "      <td>2</td>\n",
              "      <td>9</td>\n",
              "      <td>1</td>\n",
              "      <td>0</td>\n",
              "      <td>3</td>\n",
              "    </tr>\n",
              "  </tbody>\n",
              "</table>\n",
              "</div>"
            ],
            "text/plain": [
              "     k1   k2  k3   k4  k5   k6   k7   k8  k9  k10\n",
              "t1                                               \n",
              "1.0  51  281  56  144  88  170  415  190   5  133\n",
              "2.0  13   68  36   34  65   75  170   64   1   24\n",
              "3.0   5   89  24   49  49   41  124   58   2   20\n",
              "4.0   3    7   7    7   6    3   18    8   0    3\n",
              "5.0   2    3   1    4   1    2    9    1   0    3"
            ]
          },
          "metadata": {},
          "execution_count": 100
        }
      ]
    },
    {
      "cell_type": "code",
      "metadata": {
        "id": "kSbpXgRg2_IQ",
        "colab": {
          "base_uri": "https://localhost:8080/",
          "height": 500
        },
        "outputId": "f585549e-cee9-49d7-bf70-d214378ec257"
      },
      "source": [
        "ax = sns.heatmap(grouped , cmap=\"YlGnBu\")"
      ],
      "execution_count": 101,
      "outputs": [
        {
          "output_type": "display_data",
          "data": {
            "image/png": "[encoded data removed]",
            "text/plain": [
              "<Figure size 842.4x595.44 with 2 Axes>"
            ]
          },
          "metadata": {}
        }
      ]
    },
    {
      "cell_type": "markdown",
      "metadata": {
        "id": "zBjjvIYHGRY_"
      },
      "source": [
        "## optional"
      ]
    },
    {
      "cell_type": "code",
      "metadata": {
        "id": "eo90QiWvFkPk",
        "colab": {
          "base_uri": "https://localhost:8080/"
        },
        "outputId": "cf4b16bc-65ba-431d-9e85-b40a1e3d54c5"
      },
      "source": [
        "DF2['Gen_group'].value_counts() #3==GenX  จากกราฟ income genX มีเงินเฉลี่ยเยอะสุด"
      ],
      "execution_count": 102,
      "outputs": [
        {
          "output_type": "execute_result",
          "data": {
            "text/plain": [
              "3.0    541\n",
              "2.0    534\n",
              "4.0    502\n",
              "1.0    482\n",
              "Name: Gen_group, dtype: int64"
            ]
          },
          "metadata": {},
          "execution_count": 102
        }
      ]
    },
    {
      "cell_type": "code",
      "metadata": {
        "id": "vsQNwZKuHLwC",
        "colab": {
          "base_uri": "https://localhost:8080/",
          "height": 35
        },
        "outputId": "7c332807-3716-458c-a5a8-8800bed1f892"
      },
      "source": [
        "DF_dictT.iloc[2,17] #a91"
      ],
      "execution_count": 103,
      "outputs": [
        {
          "output_type": "execute_result",
          "data": {
            "application/vnd.google.colaboratory.intrinsic+json": {
              "type": "string"
            },
            "text/plain": [
              "'1=กรุงเทพฯและปริมณฑล  2=ภาคเหนือ  3=ภาคตะวันออกเฉียงเหนือ  4=ภาคกลาง  5=ภาคใต้'"
            ]
          },
          "metadata": {},
          "execution_count": 103
        }
      ]
    },
    {
      "cell_type": "code",
      "metadata": {
        "id": "z-a3-b13HVIt",
        "colab": {
          "base_uri": "https://localhost:8080/",
          "height": 35
        },
        "outputId": "d21ad17a-fda6-4420-e270-ab76dd17a165"
      },
      "source": [
        "DF_dictT.iloc[2,17] #a91"
      ],
      "execution_count": 104,
      "outputs": [
        {
          "output_type": "execute_result",
          "data": {
            "application/vnd.google.colaboratory.intrinsic+json": {
              "type": "string"
            },
            "text/plain": [
              "'1=กรุงเทพฯและปริมณฑล  2=ภาคเหนือ  3=ภาคตะวันออกเฉียงเหนือ  4=ภาคกลาง  5=ภาคใต้'"
            ]
          },
          "metadata": {},
          "execution_count": 104
        }
      ]
    },
    {
      "cell_type": "code",
      "metadata": {
        "id": "vBuCJIPmJAWe",
        "colab": {
          "base_uri": "https://localhost:8080/",
          "height": 515
        },
        "outputId": "6126d3e9-28a3-462b-9290-46ec8d7370e9"
      },
      "source": [
        "DF2[DF2['Gen_group']==3]['a91'].value_counts().plot.bar()\n",
        "#1=กรุงเทพฯและปริมณฑล  2=ภาคเหนือ  3=ภาคตะวันออกเฉียงเหนือ  4=ภาคกลาง  5=ภาคใต้"
      ],
      "execution_count": 105,
      "outputs": [
        {
          "output_type": "execute_result",
          "data": {
            "text/plain": [
              "<matplotlib.axes._subplots.AxesSubplot at 0x7fb6e18b0950>"
            ]
          },
          "metadata": {},
          "execution_count": 105
        },
        {
          "output_type": "display_data",
          "data": {
            "image/png": "[encoded data removed]",
            "text/plain": [
              "<Figure size 842.4x595.44 with 1 Axes>"
            ]
          },
          "metadata": {}
        }
      ]
    },
    {
      "cell_type": "code",
      "metadata": {
        "id": "_NmkKGYVKSbI",
        "colab": {
          "base_uri": "https://localhost:8080/",
          "height": 35
        },
        "outputId": "87c9222d-0e65-4258-c181-1f935860e1e9"
      },
      "source": [
        "DF_dictT.iloc[2,13] #a6new"
      ],
      "execution_count": 106,
      "outputs": [
        {
          "output_type": "execute_result",
          "data": {
            "application/vnd.google.colaboratory.intrinsic+json": {
              "type": "string"
            },
            "text/plain": [
              "'1=ไม่เกิน 15,000 บาท 2=15,001 - 30,000 บาท  3=30,001 – 50,000 บาท  4=50,001 – 80,000  5=80,001 ขึ้นไป'"
            ]
          },
          "metadata": {},
          "execution_count": 106
        }
      ]
    },
    {
      "cell_type": "code",
      "metadata": {
        "id": "k78BPYVmEXkl",
        "colab": {
          "base_uri": "https://localhost:8080/"
        },
        "outputId": "dd0031ec-0612-4b93-a9c9-25a09c509d9a"
      },
      "source": [
        "DF2[DF2['Gen_group']==3][['a91','a6']].value_counts()\n",
        "#1=ไม่เกิน 15,000 บาท 2=15,001 - 30,000 บาท  3=30,001 – 50,000 บาท  4=50,001 – 80,000  5=80,001 ขึ้นไป"
      ],
      "execution_count": 107,
      "outputs": [
        {
          "output_type": "execute_result",
          "data": {
            "text/plain": [
              "a91  a6 \n",
              "1    2.0    93\n",
              "3    2.0    76\n",
              "1    1.0    60\n",
              "3    1.0    58\n",
              "4    2.0    38\n",
              "1    3.0    37\n",
              "2    1.0    32\n",
              "     2.0    25\n",
              "5    2.0    24\n",
              "4    3.0    20\n",
              "3    3.0    19\n",
              "5    1.0    15\n",
              "2    3.0    10\n",
              "4    4.0     9\n",
              "     1.0     7\n",
              "5    3.0     7\n",
              "1    4.0     5\n",
              "2    4.0     4\n",
              "3    4.0     2\n",
              "dtype: int64"
            ]
          },
          "metadata": {},
          "execution_count": 107
        }
      ]
    },
    {
      "cell_type": "code",
      "metadata": {
        "id": "XO-_wAH_TjJI",
        "colab": {
          "base_uri": "https://localhost:8080/",
          "height": 35
        },
        "outputId": "021f55be-d3c5-4358-e4cf-aad39f342137"
      },
      "source": [
        "DF_dictT.iloc[2,13] #a6new"
      ],
      "execution_count": 108,
      "outputs": [
        {
          "output_type": "execute_result",
          "data": {
            "application/vnd.google.colaboratory.intrinsic+json": {
              "type": "string"
            },
            "text/plain": [
              "'1=ไม่เกิน 15,000 บาท 2=15,001 - 30,000 บาท  3=30,001 – 50,000 บาท  4=50,001 – 80,000  5=80,001 ขึ้นไป'"
            ]
          },
          "metadata": {},
          "execution_count": 108
        }
      ]
    },
    {
      "cell_type": "code",
      "metadata": {
        "id": "5kYXhya9Tw1r",
        "colab": {
          "base_uri": "https://localhost:8080/"
        },
        "outputId": "f3e6b882-ce46-4e0d-a469-435ee5b7a5b8"
      },
      "source": [
        "DF2['q1new'].value_counts()\n",
        "#1=Facebook  2=Twitter  3=YouTube  4=Instagram  5=LINE TODAY  "
      ],
      "execution_count": 109,
      "outputs": [
        {
          "output_type": "execute_result",
          "data": {
            "text/plain": [
              "1    1197\n",
              "0     520\n",
              "2     242\n",
              "3      62\n",
              "5      24\n",
              "4      14\n",
              "Name: q1new, dtype: int64"
            ]
          },
          "metadata": {},
          "execution_count": 109
        }
      ]
    },
    {
      "cell_type": "markdown",
      "metadata": {
        "id": "W6kB2-YAXgEV"
      },
      "source": [
        "# Gen x Online Channel"
      ]
    },
    {
      "cell_type": "code",
      "metadata": {
        "id": "vaRPQEj-TZdW",
        "colab": {
          "base_uri": "https://localhost:8080/",
          "height": 648
        },
        "outputId": "2a9dd6b4-9628-4cd1-a7b2-5ffb860b6487"
      },
      "source": [
        "OnlineGen = pd.DataFrame({\n",
        "                        'Facebook': DF2[DF2['q1new']==1]['Gen_group'].value_counts(),\n",
        "                        'Twitter': DF2[DF2['q1new']==2]['Gen_group'].value_counts(),\n",
        "                        'Youtube': DF2[DF2['q1new']==3]['Gen_group'].value_counts(),\n",
        "                        'Instagram': DF2[DF2['q1new']==4]['Gen_group'].value_counts(),\n",
        "                        'LINE TODAY': DF2[DF2['q1new']==5]['Gen_group'].value_counts(),\n",
        "\n",
        "})\n",
        "gen_order=[1,2,3,4]\n",
        "OnlineGen.loc[gen_order].plot(kind=\"bar\")\n",
        "plt.xticks([0,1,2,3], ['GenZ', 'GenY', 'GenX','GenB'], rotation=20) "
      ],
      "execution_count": 110,
      "outputs": [
        {
          "output_type": "execute_result",
          "data": {
            "text/plain": [
              "([<matplotlib.axis.XTick at 0x7fb6e1850150>,\n",
              "  <matplotlib.axis.XTick at 0x7fb6e1850110>,\n",
              "  <matplotlib.axis.XTick at 0x7fb6e179ab10>,\n",
              "  <matplotlib.axis.XTick at 0x7fb6e17bb9d0>],\n",
              " [Text(0, 0, 'GenZ'),\n",
              "  Text(0, 0, 'GenY'),\n",
              "  Text(0, 0, 'GenX'),\n",
              "  Text(0, 0, 'GenB')])"
            ]
          },
          "metadata": {},
          "execution_count": 110
        },
        {
          "output_type": "display_data",
          "data": {
            "image/png": "[encoded data removed]",
            "text/plain": [
              "<Figure size 842.4x595.44 with 1 Axes>"
            ]
          },
          "metadata": {}
        }
      ]
    },
    {
      "cell_type": "code",
      "metadata": {
        "id": "oafIgNXRXRyw",
        "colab": {
          "base_uri": "https://localhost:8080/",
          "height": 521
        },
        "outputId": "cdebf92e-b31f-46ce-85ac-b1ec0257726d"
      },
      "source": [
        "DF2['r1'].value_counts().plot.bar()\n",
        "#1=ข่าวการเมือง  2=ข่าวเศรษฐกิจ  3=ข่าวในกระแสความสนใจ  4=ข่าวพระราชสำนัก  5=ข่าวต่างประเทศ  6=ข่าวอาชญากรรม  7=ข่าวอุบัติเหตุ  8=ข่าวความเคลื่อนไหวในวงการบันเทิง  9=ข่าวศิลปวัฒนธรรม  10=ข่าวกีฬา  11=ข่าวเกษตร  12=ข่าวเทคโนโลยี  13=ข่าวการศึกษา 14=ข่าวสาธารณสุขการแพทย์  15=ข่าวพยากรณ์อากาศ  16=ข่าวจราจร  17=ข่าวสิ่งแวดล้อม  18=ข่าวร้องทุกข์/ช่วยเหลือชาวบ้าน  19=ข่าวที่ประชาชนรายงานหรือสื่อสารด้วยตนเอง  20=อื่นๆ ระบุ"
      ],
      "execution_count": 111,
      "outputs": [
        {
          "output_type": "execute_result",
          "data": {
            "text/plain": [
              "<matplotlib.axes._subplots.AxesSubplot at 0x7fb6e1831410>"
            ]
          },
          "metadata": {},
          "execution_count": 111
        },
        {
          "output_type": "display_data",
          "data": {
            "image/png": "[encoded data removed]",
            "text/plain": [
              "<Figure size 842.4x595.44 with 1 Axes>"
            ]
          },
          "metadata": {}
        }
      ]
    },
    {
      "cell_type": "markdown",
      "metadata": {
        "id": "5X4mHg8ccWwP"
      },
      "source": [
        "## NEWS x Gen"
      ]
    },
    {
      "cell_type": "code",
      "metadata": {
        "id": "FJGOpeiUaG_I",
        "colab": {
          "base_uri": "https://localhost:8080/",
          "height": 648
        },
        "outputId": "2479f567-d232-4a01-db8f-aced6a55b9a8"
      },
      "source": [
        "OnlineGen = pd.DataFrame({\n",
        "                        'Politics': DF2[DF2['r1']==1]['Gen_group'].value_counts(),\n",
        "                        'Economics': DF2[DF2['r1']==2]['Gen_group'].value_counts(),\n",
        "                        'In-trend': DF2[DF2['r1']==3]['Gen_group'].value_counts(),\n",
        "                        'Entertainment industry': DF2[DF2['r1']==8]['Gen_group'].value_counts(),\n",
        "                        'Accident': DF2[DF2['r1']==7]['Gen_group'].value_counts(),\n",
        "\n",
        "})\n",
        "gen_order=[1,2,3,4]\n",
        "OnlineGen.loc[gen_order].plot(kind=\"bar\")\n",
        "plt.xticks([0,1,2,3], ['GenZ', 'GenY', 'GenX','GenB'], rotation=20)"
      ],
      "execution_count": 112,
      "outputs": [
        {
          "output_type": "execute_result",
          "data": {
            "text/plain": [
              "([<matplotlib.axis.XTick at 0x7fb6e18bd910>,\n",
              "  <matplotlib.axis.XTick at 0x7fb6e18bdb10>,\n",
              "  <matplotlib.axis.XTick at 0x7fb6e17d4050>,\n",
              "  <matplotlib.axis.XTick at 0x7fb6e1788890>],\n",
              " [Text(0, 0, 'GenZ'),\n",
              "  Text(0, 0, 'GenY'),\n",
              "  Text(0, 0, 'GenX'),\n",
              "  Text(0, 0, 'GenB')])"
            ]
          },
          "metadata": {},
          "execution_count": 112
        },
        {
          "output_type": "display_data",
          "data": {
            "image/png": "[encoded data removed]",
            "text/plain": [
              "<Figure size 842.4x595.44 with 1 Axes>"
            ]
          },
          "metadata": {}
        }
      ]
    },
    {
      "cell_type": "markdown",
      "metadata": {
        "id": "F2jxbeDvdHNK"
      },
      "source": [
        "# Gen X, Y vs ที่พักอาศัย\n"
      ]
    },
    {
      "cell_type": "markdown",
      "metadata": {
        "id": "6-pgFIyP0E17"
      },
      "source": [
        "# GENX-ที่พัก-รายได้"
      ]
    },
    {
      "cell_type": "code",
      "metadata": {
        "id": "EAHgIdqojTK1",
        "colab": {
          "base_uri": "https://localhost:8080/",
          "height": 825
        },
        "outputId": "625067ff-b832-4ff4-a6fa-58a4c8310f96"
      },
      "source": [
        "# GenX\n",
        "Gen3[['a91','a92']].value_counts().plot.bar()\n",
        "\"\"\"\n",
        "1=กรุงเทพฯและปริมณฑล  2=ภาคเหนือ  3=ภาคตะวันออกเฉียงเหนือ  4=ภาคกลาง  5=ภาคใต้\n",
        "1=CR 2=N 3=NE 4=C 5=S\n",
        "1=ในเขตเทศบาล 2=นอกเขตเทศบาล\n",
        "1 =  Inside municipal area 2 =  outside municipal area\n",
        "1 = IMA , 2 =OMA\n",
        "\"\"\"\n",
        "plt.title(\"GenX - Resident\")\n",
        "plt.xticks([0, 1, 2, 3, 4, 5, 6, 7 ], ['NE-IMA', 'NE-OMA', 'N-OMA', 'C-OMA', 'S-OMA', 'C-IMA', 'S-IMA', 'N-IMA'], rotation=20)  "
      ],
      "execution_count": 113,
      "outputs": [
        {
          "output_type": "execute_result",
          "data": {
            "text/plain": [
              "([<matplotlib.axis.XTick at 0x7fb6e1651350>,\n",
              "  <matplotlib.axis.XTick at 0x7fb6e1651310>,\n",
              "  <matplotlib.axis.XTick at 0x7fb6ea1cbe50>,\n",
              "  <matplotlib.axis.XTick at 0x7fb6e1598550>,\n",
              "  <matplotlib.axis.XTick at 0x7fb6e1598a50>,\n",
              "  <matplotlib.axis.XTick at 0x7fb6e1598910>,\n",
              "  <matplotlib.axis.XTick at 0x7fb6e15a0550>,\n",
              "  <matplotlib.axis.XTick at 0x7fb6e15a0a90>],\n",
              " [Text(0, 0, 'NE-IMA'),\n",
              "  Text(0, 0, 'NE-OMA'),\n",
              "  Text(0, 0, 'N-OMA'),\n",
              "  Text(0, 0, 'C-OMA'),\n",
              "  Text(0, 0, 'S-OMA'),\n",
              "  Text(0, 0, 'C-IMA'),\n",
              "  Text(0, 0, 'S-IMA'),\n",
              "  Text(0, 0, 'N-IMA')])"
            ]
          },
          "metadata": {},
          "execution_count": 113
        },
        {
          "output_type": "display_data",
          "data": {
            "image/png": "[encoded data removed]",
            "text/plain": [
              "<Figure size 842.4x595.44 with 1 Axes>"
            ]
          },
          "metadata": {}
        }
      ]
    },
    {
      "cell_type": "code",
      "metadata": {
        "id": "ieW6QOJcpYtl",
        "colab": {
          "base_uri": "https://localhost:8080/",
          "height": 632
        },
        "outputId": "65acd27b-4088-40e4-fea7-9897ca330d3c"
      },
      "source": [
        "GX_R = DF2[DF2['Gen_group']==3][['a91','a92','a6']]\n",
        "GX_R.head()\n",
        "\"\"\"\n",
        "1=กรุงเทพฯและปริมณฑล  2=ภาคเหนือ  3=ภาคตะวันออกเฉียงเหนือ  4=ภาคกลาง  5=ภาคใต้\n",
        "\"\"\"\n",
        "GX_R1 = []\n",
        "for i, j in enumerate(GX_R['a91']):\n",
        "    if j == 1:\n",
        "      GX_R1.append(\"CR\")\n",
        "    elif j == 2:\n",
        "      GX_R1.append(\"N\")\n",
        "    elif j == 3:\n",
        "      GX_R1.append(\"NE\")\n",
        "    elif j == 4:\n",
        "      GX_R1.append(\"C\")\n",
        "    elif j == 5:\n",
        "      GX_R1.append(\"S\")\n",
        "\n",
        "GX_R2 = []\n",
        "for i, j in enumerate(GX_R['a92']):\n",
        "    if j == 1:\n",
        "      GX_R2.append(\"IMA\")\n",
        "    elif j == 2:\n",
        "      GX_R2.append(\"OMA\")\n",
        "\n",
        "GX_R3 = []\n",
        "for i, j in enumerate(GX_R['a6']):\n",
        "    if j == 1:\n",
        "      GX_R3.append('<15k')\n",
        "    elif j == 2:\n",
        "      GX_R3.append('15k-30k')\n",
        "    elif j == 3:\n",
        "      GX_R3.append('30k-50k')\n",
        "    elif j == 4:\n",
        "      GX_R3.append('50k-80k')\n",
        "    elif j == 5:\n",
        "      GX_R3.append('80k+')\n",
        "\n",
        "\n",
        "GX_R[\"b1\"]=pd.DataFrame(GX_R1)\n",
        "GX_R[\"b2\"]=pd.DataFrame(GX_R2)\n",
        "GX_R[\"b3\"]=pd.DataFrame(GX_R3)\n",
        "\n",
        "GX_R[['b1','b2','b3']].value_counts().plot.bar(color = ['black', 'red', 'green', 'blue', 'cyan'])"
      ],
      "execution_count": 114,
      "outputs": [
        {
          "output_type": "execute_result",
          "data": {
            "text/plain": [
              "<matplotlib.axes._subplots.AxesSubplot at 0x7fb6e156c310>"
            ]
          },
          "metadata": {},
          "execution_count": 114
        },
        {
          "output_type": "display_data",
          "data": {
            "image/png": "[encoded data removed]",
            "text/plain": [
              "<Figure size 842.4x595.44 with 1 Axes>"
            ]
          },
          "metadata": {}
        }
      ]
    },
    {
      "cell_type": "markdown",
      "metadata": {
        "id": "Jm4_4IZt0wlU"
      },
      "source": [
        "# GENY - ที่พัก - รายได้"
      ]
    },
    {
      "cell_type": "code",
      "metadata": {
        "id": "BL_rmYcIjTjN",
        "colab": {
          "base_uri": "https://localhost:8080/",
          "height": 825
        },
        "outputId": "9252e106-e8a1-46b5-d93d-c8848a1bdc02"
      },
      "source": [
        "# GenY\n",
        "Gen2[['a91','a92']].value_counts().plot.bar()\n",
        "\n",
        "\"\"\"\n",
        "1=กรุงเทพฯและปริมณฑล  2=ภาคเหนือ  3=ภาคตะวันออกเฉียงเหนือ  4=ภาคกลาง  5=ภาคใต้\n",
        "1=CR 2=N 3=NE 4=C 5=S\n",
        "1=ในเขตเทศบาล 2=นอกเขตเทศบาล\n",
        "1 =  Inside municipal area 2 =  outside municipal area\n",
        "1 = IMA , 2 =OMA\n",
        "\"\"\"\n",
        "plt.title(\"GenY - Resident\")\n",
        "plt.xticks([0, 1, 2, 3, 4, 5, 6, 7 ], ['NE-IMA', 'N-OMA', 'NE-OMA', 'C-OMA', 'S-OMA', 'C-IMA', 'S-IMA', 'N-IMA'], rotation=20)"
      ],
      "execution_count": 115,
      "outputs": [
        {
          "output_type": "execute_result",
          "data": {
            "text/plain": [
              "([<matplotlib.axis.XTick at 0x7fb6e15b6a10>,\n",
              "  <matplotlib.axis.XTick at 0x7fb6e15b6810>,\n",
              "  <matplotlib.axis.XTick at 0x7fb6e14749d0>,\n",
              "  <matplotlib.axis.XTick at 0x7fb6e147fd50>,\n",
              "  <matplotlib.axis.XTick at 0x7fb6e1488310>,\n",
              "  <matplotlib.axis.XTick at 0x7fb6e14887d0>,\n",
              "  <matplotlib.axis.XTick at 0x7fb6e1488d50>,\n",
              "  <matplotlib.axis.XTick at 0x7fb6e148f350>],\n",
              " [Text(0, 0, 'NE-IMA'),\n",
              "  Text(0, 0, 'N-OMA'),\n",
              "  Text(0, 0, 'NE-OMA'),\n",
              "  Text(0, 0, 'C-OMA'),\n",
              "  Text(0, 0, 'S-OMA'),\n",
              "  Text(0, 0, 'C-IMA'),\n",
              "  Text(0, 0, 'S-IMA'),\n",
              "  Text(0, 0, 'N-IMA')])"
            ]
          },
          "metadata": {},
          "execution_count": 115
        },
        {
          "output_type": "display_data",
          "data": {
            "image/png": "[encoded data removed]",
            "text/plain": [
              "<Figure size 842.4x595.44 with 1 Axes>"
            ]
          },
          "metadata": {}
        }
      ]
    },
    {
      "cell_type": "code",
      "metadata": {
        "cellView": "code",
        "id": "KF9daIjgo2Kk",
        "colab": {
          "base_uri": "https://localhost:8080/",
          "height": 632
        },
        "outputId": "a33c27c2-2a3a-4c1c-a2d9-b47fc2fe0969"
      },
      "source": [
        "#@title Default title text\n",
        "GY_R = DF2[DF2['Gen_group']==2][['a91','a92','a6']]\n",
        "GY_R.head()\n",
        "\"\"\"\n",
        "1=กรุงเทพฯและปริมณฑล  2=ภาคเหนือ  3=ภาคตะวันออกเฉียงเหนือ  4=ภาคกลาง  5=ภาคใต้\n",
        "\"\"\"\n",
        "GY_R1 = []\n",
        "for i, j in enumerate(GY_R['a91']):\n",
        "    if j == 1:\n",
        "      GY_R1.append(\"CR\")\n",
        "    elif j == 2:\n",
        "      GY_R1.append(\"N\")\n",
        "    elif j == 3:\n",
        "      GY_R1.append(\"NE\")\n",
        "    elif j == 4:\n",
        "      GY_R1.append(\"C\")\n",
        "    elif j == 5:\n",
        "      GY_R1.append(\"S\")\n",
        "\n",
        "GY_R2 = []\n",
        "for i, j in enumerate(GY_R['a92']):\n",
        "    if j == 1:\n",
        "      GY_R2.append(\"IMA\")\n",
        "    elif j == 2:\n",
        "      GY_R2.append(\"OMA\")\n",
        "\n",
        "GY_R3 = []\n",
        "for i, j in enumerate(GY_R['a6']):\n",
        "    if j == 1:\n",
        "      GY_R3.append('<15k')\n",
        "    elif j == 2:\n",
        "      GY_R3.append('15k-30k')\n",
        "    elif j == 3:\n",
        "      GY_R3.append('30k-50k')\n",
        "    elif j == 4:\n",
        "      GY_R3.append('50k-80k')\n",
        "    elif j == 5:\n",
        "      GY_R3.append('80k+')\n",
        "\n",
        "\n",
        "GY_R[\"b1\"]=pd.DataFrame(GY_R1)\n",
        "GY_R[\"b2\"]=pd.DataFrame(GY_R2)\n",
        "GY_R[\"b3\"]=pd.DataFrame(GY_R3)\n",
        "\n",
        "GY_R[['b1','b2','b3']].value_counts().plot.bar(color=[ 'red', 'yellow', 'green'])"
      ],
      "execution_count": 116,
      "outputs": [
        {
          "output_type": "execute_result",
          "data": {
            "text/plain": [
              "<matplotlib.axes._subplots.AxesSubplot at 0x7fb6e1454f90>"
            ]
          },
          "metadata": {},
          "execution_count": 116
        },
        {
          "output_type": "display_data",
          "data": {
            "image/png": "[encoded data removed]",
            "text/plain": [
              "<Figure size 842.4x595.44 with 1 Axes>"
            ]
          },
          "metadata": {}
        }
      ]
    },
    {
      "cell_type": "code",
      "metadata": {
        "id": "eqrd4O98-PMv"
      },
      "source": [
        ""
      ],
      "execution_count": 116,
      "outputs": []
    }
  ]
}